{
 "cells": [
  {
   "cell_type": "markdown",
   "metadata": {},
   "source": [
    "**Problem Statement**\n",
    "\n",
    "**`A retail company \"ABC Private Limited\" wants to understand the customer purchase behaviour (specifically, purchase amount) against various products of different categories. They have shared purchase summary of various customers for selected high volume products from last month. The dataset also contains customer demographics (age, gender, marital status, city_type, stay_in_current_city), product details (product_id and product category) and Total purchase_amount from last month.`**\n",
    "\n",
    "**Objective**\n",
    "\n",
    "**`To build a model to predict the purchase amount of customers against various products which will help them to create personlised offer for customers against different products`**\n",
    "\n",
    "**Evaluation Metric:** **`Root mean Squard score (RMSE)`**"
   ]
  },
  {
   "cell_type": "markdown",
   "metadata": {},
   "source": [
    "**Variable Definitions**\n",
    "\n",
    "                        1.  User_ID                             User ID\n",
    "                        2.  Product_ID                          Product_ID\n",
    "                        3.  Gender                              Sex of User\n",
    "                        4.  Age                                 Age in Bins\n",
    "                        5.  Occupation                          Occupation(Masked)\n",
    "                        6.  City_category                       Category of the city (A,B,C)\n",
    "                        7.  Stay_in_current_city_years          Number of years stayed in current city\n",
    "                        8.  Marital_Status                      Marital Status\n",
    "                        9.  Product_Category_1                  Product Category (Masked)\n",
    "                        10. Product_Category_2                  Product may belong to other Category (Masked)\n",
    "                        11. Product_Category_3                  Product may belong to other Category (Masked)\n",
    "                        12. Purchase                            Purchase Amount (Target Variable)"
   ]
  },
  {
   "cell_type": "code",
   "execution_count": 1,
   "metadata": {},
   "outputs": [],
   "source": [
    "path = \"C:/Machine_learning_datafiles/AnalyticsVidya/Black Friday sales\""
   ]
  },
  {
   "cell_type": "code",
   "execution_count": 2,
   "metadata": {},
   "outputs": [],
   "source": [
    "import os, gc, warnings\n",
    "warnings.filterwarnings('ignore')"
   ]
  },
  {
   "cell_type": "code",
   "execution_count": 3,
   "metadata": {},
   "outputs": [],
   "source": [
    "import pandas as pd\n",
    "import matplotlib.pyplot as plt\n",
    "import numpy as np\n",
    "import seaborn as sns\n",
    "import scipy.stats as stats\n",
    "import missingno as msno"
   ]
  },
  {
   "cell_type": "code",
   "execution_count": 232,
   "metadata": {},
   "outputs": [],
   "source": [
    "from sklearn.metrics import mean_squared_error\n",
    "from sklearn.model_selection import train_test_split, KFold, cross_val_score\n",
    "import catboost as cat\n",
    "import lightgbm as lgb\n",
    "from sklearn.preprocessing import LabelEncoder\n",
    "from sklearn.linear_model import LinearRegression"
   ]
  },
  {
   "cell_type": "code",
   "execution_count": 5,
   "metadata": {},
   "outputs": [],
   "source": [
    "plt.style.use('ggplot')\n",
    "pd.set_option('display.max_columns', 100)\n",
    "%matplotlib inline"
   ]
  },
  {
   "cell_type": "code",
   "execution_count": 6,
   "metadata": {},
   "outputs": [],
   "source": [
    "#for reproducibility\n",
    "import random\n",
    "seed= 42\n",
    "random.seed(seed)\n",
    "np.random.seed(seed)"
   ]
  },
  {
   "cell_type": "code",
   "execution_count": 90,
   "metadata": {},
   "outputs": [],
   "source": [
    "#importing data\n",
    "train = pd.read_csv(path+'/Train.csv')\n",
    "test = pd.read_csv(path+'/Test.csv')\n",
    "subfile = pd.read_csv(path+'/Sample_Submission.csv')"
   ]
  },
  {
   "cell_type": "code",
   "execution_count": 8,
   "metadata": {},
   "outputs": [
    {
     "data": {
      "text/plain": [
       "((550068, 12), (233599, 11))"
      ]
     },
     "execution_count": 8,
     "metadata": {},
     "output_type": "execute_result"
    }
   ],
   "source": [
    "train.shape, test.shape"
   ]
  },
  {
   "cell_type": "code",
   "execution_count": 9,
   "metadata": {},
   "outputs": [
    {
     "data": {
      "text/html": [
       "<div>\n",
       "<style scoped>\n",
       "    .dataframe tbody tr th:only-of-type {\n",
       "        vertical-align: middle;\n",
       "    }\n",
       "\n",
       "    .dataframe tbody tr th {\n",
       "        vertical-align: top;\n",
       "    }\n",
       "\n",
       "    .dataframe thead th {\n",
       "        text-align: right;\n",
       "    }\n",
       "</style>\n",
       "<table border=\"1\" class=\"dataframe\">\n",
       "  <thead>\n",
       "    <tr style=\"text-align: right;\">\n",
       "      <th></th>\n",
       "      <th>User_ID</th>\n",
       "      <th>Product_ID</th>\n",
       "      <th>Gender</th>\n",
       "      <th>Age</th>\n",
       "      <th>Occupation</th>\n",
       "      <th>City_Category</th>\n",
       "      <th>Stay_In_Current_City_Years</th>\n",
       "      <th>Marital_Status</th>\n",
       "      <th>Product_Category_1</th>\n",
       "      <th>Product_Category_2</th>\n",
       "      <th>Product_Category_3</th>\n",
       "      <th>Purchase</th>\n",
       "    </tr>\n",
       "  </thead>\n",
       "  <tbody>\n",
       "    <tr>\n",
       "      <th>0</th>\n",
       "      <td>1000001</td>\n",
       "      <td>P00069042</td>\n",
       "      <td>F</td>\n",
       "      <td>0-17</td>\n",
       "      <td>10</td>\n",
       "      <td>A</td>\n",
       "      <td>2</td>\n",
       "      <td>0</td>\n",
       "      <td>3</td>\n",
       "      <td>NaN</td>\n",
       "      <td>NaN</td>\n",
       "      <td>8370</td>\n",
       "    </tr>\n",
       "    <tr>\n",
       "      <th>1</th>\n",
       "      <td>1000001</td>\n",
       "      <td>P00248942</td>\n",
       "      <td>F</td>\n",
       "      <td>0-17</td>\n",
       "      <td>10</td>\n",
       "      <td>A</td>\n",
       "      <td>2</td>\n",
       "      <td>0</td>\n",
       "      <td>1</td>\n",
       "      <td>6.0</td>\n",
       "      <td>14.0</td>\n",
       "      <td>15200</td>\n",
       "    </tr>\n",
       "    <tr>\n",
       "      <th>2</th>\n",
       "      <td>1000001</td>\n",
       "      <td>P00087842</td>\n",
       "      <td>F</td>\n",
       "      <td>0-17</td>\n",
       "      <td>10</td>\n",
       "      <td>A</td>\n",
       "      <td>2</td>\n",
       "      <td>0</td>\n",
       "      <td>12</td>\n",
       "      <td>NaN</td>\n",
       "      <td>NaN</td>\n",
       "      <td>1422</td>\n",
       "    </tr>\n",
       "    <tr>\n",
       "      <th>3</th>\n",
       "      <td>1000001</td>\n",
       "      <td>P00085442</td>\n",
       "      <td>F</td>\n",
       "      <td>0-17</td>\n",
       "      <td>10</td>\n",
       "      <td>A</td>\n",
       "      <td>2</td>\n",
       "      <td>0</td>\n",
       "      <td>12</td>\n",
       "      <td>14.0</td>\n",
       "      <td>NaN</td>\n",
       "      <td>1057</td>\n",
       "    </tr>\n",
       "    <tr>\n",
       "      <th>4</th>\n",
       "      <td>1000002</td>\n",
       "      <td>P00285442</td>\n",
       "      <td>M</td>\n",
       "      <td>55+</td>\n",
       "      <td>16</td>\n",
       "      <td>C</td>\n",
       "      <td>4+</td>\n",
       "      <td>0</td>\n",
       "      <td>8</td>\n",
       "      <td>NaN</td>\n",
       "      <td>NaN</td>\n",
       "      <td>7969</td>\n",
       "    </tr>\n",
       "  </tbody>\n",
       "</table>\n",
       "</div>"
      ],
      "text/plain": [
       "   User_ID Product_ID Gender   Age  Occupation City_Category  \\\n",
       "0  1000001  P00069042      F  0-17          10             A   \n",
       "1  1000001  P00248942      F  0-17          10             A   \n",
       "2  1000001  P00087842      F  0-17          10             A   \n",
       "3  1000001  P00085442      F  0-17          10             A   \n",
       "4  1000002  P00285442      M   55+          16             C   \n",
       "\n",
       "  Stay_In_Current_City_Years  Marital_Status  Product_Category_1  \\\n",
       "0                          2               0                   3   \n",
       "1                          2               0                   1   \n",
       "2                          2               0                  12   \n",
       "3                          2               0                  12   \n",
       "4                         4+               0                   8   \n",
       "\n",
       "   Product_Category_2  Product_Category_3  Purchase  \n",
       "0                 NaN                 NaN      8370  \n",
       "1                 6.0                14.0     15200  \n",
       "2                 NaN                 NaN      1422  \n",
       "3                14.0                 NaN      1057  \n",
       "4                 NaN                 NaN      7969  "
      ]
     },
     "execution_count": 9,
     "metadata": {},
     "output_type": "execute_result"
    }
   ],
   "source": [
    "train.head()"
   ]
  },
  {
   "cell_type": "code",
   "execution_count": 10,
   "metadata": {},
   "outputs": [
    {
     "data": {
      "text/html": [
       "<div>\n",
       "<style scoped>\n",
       "    .dataframe tbody tr th:only-of-type {\n",
       "        vertical-align: middle;\n",
       "    }\n",
       "\n",
       "    .dataframe tbody tr th {\n",
       "        vertical-align: top;\n",
       "    }\n",
       "\n",
       "    .dataframe thead th {\n",
       "        text-align: right;\n",
       "    }\n",
       "</style>\n",
       "<table border=\"1\" class=\"dataframe\">\n",
       "  <thead>\n",
       "    <tr style=\"text-align: right;\">\n",
       "      <th></th>\n",
       "      <th>User_ID</th>\n",
       "      <th>Product_ID</th>\n",
       "      <th>Gender</th>\n",
       "      <th>Age</th>\n",
       "      <th>Occupation</th>\n",
       "      <th>City_Category</th>\n",
       "      <th>Stay_In_Current_City_Years</th>\n",
       "      <th>Marital_Status</th>\n",
       "      <th>Product_Category_1</th>\n",
       "      <th>Product_Category_2</th>\n",
       "      <th>Product_Category_3</th>\n",
       "    </tr>\n",
       "  </thead>\n",
       "  <tbody>\n",
       "    <tr>\n",
       "      <th>0</th>\n",
       "      <td>1000004</td>\n",
       "      <td>P00128942</td>\n",
       "      <td>M</td>\n",
       "      <td>46-50</td>\n",
       "      <td>7</td>\n",
       "      <td>B</td>\n",
       "      <td>2</td>\n",
       "      <td>1</td>\n",
       "      <td>1</td>\n",
       "      <td>11.0</td>\n",
       "      <td>NaN</td>\n",
       "    </tr>\n",
       "    <tr>\n",
       "      <th>1</th>\n",
       "      <td>1000009</td>\n",
       "      <td>P00113442</td>\n",
       "      <td>M</td>\n",
       "      <td>26-35</td>\n",
       "      <td>17</td>\n",
       "      <td>C</td>\n",
       "      <td>0</td>\n",
       "      <td>0</td>\n",
       "      <td>3</td>\n",
       "      <td>5.0</td>\n",
       "      <td>NaN</td>\n",
       "    </tr>\n",
       "    <tr>\n",
       "      <th>2</th>\n",
       "      <td>1000010</td>\n",
       "      <td>P00288442</td>\n",
       "      <td>F</td>\n",
       "      <td>36-45</td>\n",
       "      <td>1</td>\n",
       "      <td>B</td>\n",
       "      <td>4+</td>\n",
       "      <td>1</td>\n",
       "      <td>5</td>\n",
       "      <td>14.0</td>\n",
       "      <td>NaN</td>\n",
       "    </tr>\n",
       "  </tbody>\n",
       "</table>\n",
       "</div>"
      ],
      "text/plain": [
       "   User_ID Product_ID Gender    Age  Occupation City_Category  \\\n",
       "0  1000004  P00128942      M  46-50           7             B   \n",
       "1  1000009  P00113442      M  26-35          17             C   \n",
       "2  1000010  P00288442      F  36-45           1             B   \n",
       "\n",
       "  Stay_In_Current_City_Years  Marital_Status  Product_Category_1  \\\n",
       "0                          2               1                   1   \n",
       "1                          0               0                   3   \n",
       "2                         4+               1                   5   \n",
       "\n",
       "   Product_Category_2  Product_Category_3  \n",
       "0                11.0                 NaN  \n",
       "1                 5.0                 NaN  \n",
       "2                14.0                 NaN  "
      ]
     },
     "execution_count": 10,
     "metadata": {},
     "output_type": "execute_result"
    }
   ],
   "source": [
    "test.head(3)"
   ]
  },
  {
   "cell_type": "code",
   "execution_count": 11,
   "metadata": {},
   "outputs": [
    {
     "data": {
      "text/html": [
       "<div>\n",
       "<style scoped>\n",
       "    .dataframe tbody tr th:only-of-type {\n",
       "        vertical-align: middle;\n",
       "    }\n",
       "\n",
       "    .dataframe tbody tr th {\n",
       "        vertical-align: top;\n",
       "    }\n",
       "\n",
       "    .dataframe thead th {\n",
       "        text-align: right;\n",
       "    }\n",
       "</style>\n",
       "<table border=\"1\" class=\"dataframe\">\n",
       "  <thead>\n",
       "    <tr style=\"text-align: right;\">\n",
       "      <th></th>\n",
       "      <th>User_ID</th>\n",
       "      <th>Occupation</th>\n",
       "      <th>Marital_Status</th>\n",
       "      <th>Product_Category_1</th>\n",
       "      <th>Product_Category_2</th>\n",
       "      <th>Product_Category_3</th>\n",
       "      <th>Purchase</th>\n",
       "    </tr>\n",
       "  </thead>\n",
       "  <tbody>\n",
       "    <tr>\n",
       "      <th>count</th>\n",
       "      <td>5.500680e+05</td>\n",
       "      <td>550068.000000</td>\n",
       "      <td>550068.000000</td>\n",
       "      <td>550068.000000</td>\n",
       "      <td>376430.000000</td>\n",
       "      <td>166821.000000</td>\n",
       "      <td>550068.000000</td>\n",
       "    </tr>\n",
       "    <tr>\n",
       "      <th>mean</th>\n",
       "      <td>1.003029e+06</td>\n",
       "      <td>8.076707</td>\n",
       "      <td>0.409653</td>\n",
       "      <td>5.404270</td>\n",
       "      <td>9.842329</td>\n",
       "      <td>12.668243</td>\n",
       "      <td>9263.968713</td>\n",
       "    </tr>\n",
       "    <tr>\n",
       "      <th>std</th>\n",
       "      <td>1.727592e+03</td>\n",
       "      <td>6.522660</td>\n",
       "      <td>0.491770</td>\n",
       "      <td>3.936211</td>\n",
       "      <td>5.086590</td>\n",
       "      <td>4.125338</td>\n",
       "      <td>5023.065394</td>\n",
       "    </tr>\n",
       "    <tr>\n",
       "      <th>min</th>\n",
       "      <td>1.000001e+06</td>\n",
       "      <td>0.000000</td>\n",
       "      <td>0.000000</td>\n",
       "      <td>1.000000</td>\n",
       "      <td>2.000000</td>\n",
       "      <td>3.000000</td>\n",
       "      <td>12.000000</td>\n",
       "    </tr>\n",
       "    <tr>\n",
       "      <th>25%</th>\n",
       "      <td>1.001516e+06</td>\n",
       "      <td>2.000000</td>\n",
       "      <td>0.000000</td>\n",
       "      <td>1.000000</td>\n",
       "      <td>5.000000</td>\n",
       "      <td>9.000000</td>\n",
       "      <td>5823.000000</td>\n",
       "    </tr>\n",
       "    <tr>\n",
       "      <th>50%</th>\n",
       "      <td>1.003077e+06</td>\n",
       "      <td>7.000000</td>\n",
       "      <td>0.000000</td>\n",
       "      <td>5.000000</td>\n",
       "      <td>9.000000</td>\n",
       "      <td>14.000000</td>\n",
       "      <td>8047.000000</td>\n",
       "    </tr>\n",
       "    <tr>\n",
       "      <th>75%</th>\n",
       "      <td>1.004478e+06</td>\n",
       "      <td>14.000000</td>\n",
       "      <td>1.000000</td>\n",
       "      <td>8.000000</td>\n",
       "      <td>15.000000</td>\n",
       "      <td>16.000000</td>\n",
       "      <td>12054.000000</td>\n",
       "    </tr>\n",
       "    <tr>\n",
       "      <th>max</th>\n",
       "      <td>1.006040e+06</td>\n",
       "      <td>20.000000</td>\n",
       "      <td>1.000000</td>\n",
       "      <td>20.000000</td>\n",
       "      <td>18.000000</td>\n",
       "      <td>18.000000</td>\n",
       "      <td>23961.000000</td>\n",
       "    </tr>\n",
       "  </tbody>\n",
       "</table>\n",
       "</div>"
      ],
      "text/plain": [
       "            User_ID     Occupation  Marital_Status  Product_Category_1  \\\n",
       "count  5.500680e+05  550068.000000   550068.000000       550068.000000   \n",
       "mean   1.003029e+06       8.076707        0.409653            5.404270   \n",
       "std    1.727592e+03       6.522660        0.491770            3.936211   \n",
       "min    1.000001e+06       0.000000        0.000000            1.000000   \n",
       "25%    1.001516e+06       2.000000        0.000000            1.000000   \n",
       "50%    1.003077e+06       7.000000        0.000000            5.000000   \n",
       "75%    1.004478e+06      14.000000        1.000000            8.000000   \n",
       "max    1.006040e+06      20.000000        1.000000           20.000000   \n",
       "\n",
       "       Product_Category_2  Product_Category_3       Purchase  \n",
       "count       376430.000000       166821.000000  550068.000000  \n",
       "mean             9.842329           12.668243    9263.968713  \n",
       "std              5.086590            4.125338    5023.065394  \n",
       "min              2.000000            3.000000      12.000000  \n",
       "25%              5.000000            9.000000    5823.000000  \n",
       "50%              9.000000           14.000000    8047.000000  \n",
       "75%             15.000000           16.000000   12054.000000  \n",
       "max             18.000000           18.000000   23961.000000  "
      ]
     },
     "execution_count": 11,
     "metadata": {},
     "output_type": "execute_result"
    }
   ],
   "source": [
    "train.describe()"
   ]
  },
  {
   "cell_type": "code",
   "execution_count": 12,
   "metadata": {},
   "outputs": [
    {
     "data": {
      "text/html": [
       "<div>\n",
       "<style scoped>\n",
       "    .dataframe tbody tr th:only-of-type {\n",
       "        vertical-align: middle;\n",
       "    }\n",
       "\n",
       "    .dataframe tbody tr th {\n",
       "        vertical-align: top;\n",
       "    }\n",
       "\n",
       "    .dataframe thead th {\n",
       "        text-align: right;\n",
       "    }\n",
       "</style>\n",
       "<table border=\"1\" class=\"dataframe\">\n",
       "  <thead>\n",
       "    <tr style=\"text-align: right;\">\n",
       "      <th></th>\n",
       "      <th>User_ID</th>\n",
       "      <th>Occupation</th>\n",
       "      <th>Marital_Status</th>\n",
       "      <th>Product_Category_1</th>\n",
       "      <th>Product_Category_2</th>\n",
       "      <th>Product_Category_3</th>\n",
       "    </tr>\n",
       "  </thead>\n",
       "  <tbody>\n",
       "    <tr>\n",
       "      <th>count</th>\n",
       "      <td>2.335990e+05</td>\n",
       "      <td>233599.000000</td>\n",
       "      <td>233599.000000</td>\n",
       "      <td>233599.000000</td>\n",
       "      <td>161255.000000</td>\n",
       "      <td>71037.000000</td>\n",
       "    </tr>\n",
       "    <tr>\n",
       "      <th>mean</th>\n",
       "      <td>1.003029e+06</td>\n",
       "      <td>8.085407</td>\n",
       "      <td>0.410070</td>\n",
       "      <td>5.276542</td>\n",
       "      <td>9.849586</td>\n",
       "      <td>12.669454</td>\n",
       "    </tr>\n",
       "    <tr>\n",
       "      <th>std</th>\n",
       "      <td>1.726505e+03</td>\n",
       "      <td>6.521146</td>\n",
       "      <td>0.491847</td>\n",
       "      <td>3.736380</td>\n",
       "      <td>5.094943</td>\n",
       "      <td>4.125944</td>\n",
       "    </tr>\n",
       "    <tr>\n",
       "      <th>min</th>\n",
       "      <td>1.000001e+06</td>\n",
       "      <td>0.000000</td>\n",
       "      <td>0.000000</td>\n",
       "      <td>1.000000</td>\n",
       "      <td>2.000000</td>\n",
       "      <td>3.000000</td>\n",
       "    </tr>\n",
       "    <tr>\n",
       "      <th>25%</th>\n",
       "      <td>1.001527e+06</td>\n",
       "      <td>2.000000</td>\n",
       "      <td>0.000000</td>\n",
       "      <td>1.000000</td>\n",
       "      <td>5.000000</td>\n",
       "      <td>9.000000</td>\n",
       "    </tr>\n",
       "    <tr>\n",
       "      <th>50%</th>\n",
       "      <td>1.003070e+06</td>\n",
       "      <td>7.000000</td>\n",
       "      <td>0.000000</td>\n",
       "      <td>5.000000</td>\n",
       "      <td>9.000000</td>\n",
       "      <td>14.000000</td>\n",
       "    </tr>\n",
       "    <tr>\n",
       "      <th>75%</th>\n",
       "      <td>1.004477e+06</td>\n",
       "      <td>14.000000</td>\n",
       "      <td>1.000000</td>\n",
       "      <td>8.000000</td>\n",
       "      <td>15.000000</td>\n",
       "      <td>16.000000</td>\n",
       "    </tr>\n",
       "    <tr>\n",
       "      <th>max</th>\n",
       "      <td>1.006040e+06</td>\n",
       "      <td>20.000000</td>\n",
       "      <td>1.000000</td>\n",
       "      <td>18.000000</td>\n",
       "      <td>18.000000</td>\n",
       "      <td>18.000000</td>\n",
       "    </tr>\n",
       "  </tbody>\n",
       "</table>\n",
       "</div>"
      ],
      "text/plain": [
       "            User_ID     Occupation  Marital_Status  Product_Category_1  \\\n",
       "count  2.335990e+05  233599.000000   233599.000000       233599.000000   \n",
       "mean   1.003029e+06       8.085407        0.410070            5.276542   \n",
       "std    1.726505e+03       6.521146        0.491847            3.736380   \n",
       "min    1.000001e+06       0.000000        0.000000            1.000000   \n",
       "25%    1.001527e+06       2.000000        0.000000            1.000000   \n",
       "50%    1.003070e+06       7.000000        0.000000            5.000000   \n",
       "75%    1.004477e+06      14.000000        1.000000            8.000000   \n",
       "max    1.006040e+06      20.000000        1.000000           18.000000   \n",
       "\n",
       "       Product_Category_2  Product_Category_3  \n",
       "count       161255.000000        71037.000000  \n",
       "mean             9.849586           12.669454  \n",
       "std              5.094943            4.125944  \n",
       "min              2.000000            3.000000  \n",
       "25%              5.000000            9.000000  \n",
       "50%              9.000000           14.000000  \n",
       "75%             15.000000           16.000000  \n",
       "max             18.000000           18.000000  "
      ]
     },
     "execution_count": 12,
     "metadata": {},
     "output_type": "execute_result"
    }
   ],
   "source": [
    "test.describe()"
   ]
  },
  {
   "cell_type": "code",
   "execution_count": 13,
   "metadata": {},
   "outputs": [
    {
     "data": {
      "text/plain": [
       "User_ID                         int64\n",
       "Product_ID                     object\n",
       "Gender                         object\n",
       "Age                            object\n",
       "Occupation                      int64\n",
       "City_Category                  object\n",
       "Stay_In_Current_City_Years     object\n",
       "Marital_Status                  int64\n",
       "Product_Category_1              int64\n",
       "Product_Category_2            float64\n",
       "Product_Category_3            float64\n",
       "Purchase                        int64\n",
       "dtype: object"
      ]
     },
     "execution_count": 13,
     "metadata": {},
     "output_type": "execute_result"
    }
   ],
   "source": [
    "train.dtypes"
   ]
  },
  {
   "cell_type": "markdown",
   "metadata": {},
   "source": [
    "`In filling in missing values we will replace null values with -1, signifying None (No subcategories)`"
   ]
  },
  {
   "cell_type": "code",
   "execution_count": 189,
   "metadata": {},
   "outputs": [],
   "source": [
    "train.fillna(-1, inplace=True)\n",
    "test.fillna(-1, inplace=True)"
   ]
  },
  {
   "cell_type": "code",
   "execution_count": 15,
   "metadata": {},
   "outputs": [
    {
     "data": {
      "text/plain": [
       "(array(['0-17', '55+', '26-35', '46-50', '51-55', '36-45', '18-25'],\n",
       "       dtype=object),\n",
       " array(['2', '4+', '3', '1', '0'], dtype=object))"
      ]
     },
     "execution_count": 15,
     "metadata": {},
     "output_type": "execute_result"
    }
   ],
   "source": [
    "train.Age.unique(), train.Stay_In_Current_City_Years.unique()"
   ]
  },
  {
   "cell_type": "code",
   "execution_count": 91,
   "metadata": {},
   "outputs": [],
   "source": [
    "age_map = {\n",
    "    '0-17' : 1, '18-25' : 2, '26-35' : 3, '36-45' : 4, '46-50' : 5, '51-55' : 6, '55+' : 7\n",
    "}\n",
    "\n",
    "residency_map = {\n",
    "    '0' : 1, '1' : 2, '2' : 3, '3' : 4, '4+' : 5\n",
    "}"
   ]
  },
  {
   "cell_type": "code",
   "execution_count": 92,
   "metadata": {},
   "outputs": [],
   "source": [
    "train.Age = train.Age.map(age_map)\n",
    "test.Age = test.Age.map(age_map)\n",
    "train.Stay_In_Current_City_Years = train.Stay_In_Current_City_Years.map(residency_map)\n",
    "test.Stay_In_Current_City_Years = test.Stay_In_Current_City_Years.map(residency_map)"
   ]
  },
  {
   "cell_type": "raw",
   "metadata": {},
   "source": [
    "train['ProductID_Category'] = train.Product_ID + '__' + train.Product_Category_1.astype(str)\n",
    "test['ProductID_Category'] = test.Product_ID + '__' + test.Product_Category_1.astype(str)"
   ]
  },
  {
   "cell_type": "code",
   "execution_count": 95,
   "metadata": {},
   "outputs": [],
   "source": [
    "lb_enc = LabelEncoder()"
   ]
  },
  {
   "cell_type": "code",
   "execution_count": 96,
   "metadata": {},
   "outputs": [
    {
     "data": {
      "text/plain": [
       "Index(['Product_ID', 'Gender', 'City_Category', 'ProductID_Category'], dtype='object')"
      ]
     },
     "execution_count": 96,
     "metadata": {},
     "output_type": "execute_result"
    }
   ],
   "source": [
    "train.dtypes[train.dtypes == 'object'].index"
   ]
  },
  {
   "cell_type": "code",
   "execution_count": 97,
   "metadata": {},
   "outputs": [],
   "source": [
    "for col in ['Product_ID', 'Gender', 'City_Category', 'User_ID']:\n",
    "    df = train.append(test)[col]\n",
    "    lb_enc.fit(df)\n",
    "    train[col] = lb_enc.transform(train[col])\n",
    "    test[col] = lb_enc.transform(test[col])"
   ]
  },
  {
   "cell_type": "code",
   "execution_count": 200,
   "metadata": {},
   "outputs": [],
   "source": [
    "X = train.drop('Purchase', axis=1).astype('float32')\n",
    "y= train.Purchase\n",
    "\n",
    "test_c = test.copy()"
   ]
  },
  {
   "cell_type": "code",
   "execution_count": 201,
   "metadata": {},
   "outputs": [],
   "source": [
    "xtrainval, xtest, ytrainval, ytest = train_test_split(X, y, test_size=0.15, random_state=seed, stratify=X.User_ID)"
   ]
  },
  {
   "cell_type": "code",
   "execution_count": 202,
   "metadata": {},
   "outputs": [],
   "source": [
    "xtrain, xval, ytrain, yval = train_test_split(xtrainval, ytrainval, test_size=0.25, random_state=seed, \n",
    "                                              stratify=xtrainval.User_ID)"
   ]
  },
  {
   "cell_type": "code",
   "execution_count": 203,
   "metadata": {},
   "outputs": [
    {
     "data": {
      "text/plain": [
       "((350667, 12), (116890, 12), (82511, 12))"
      ]
     },
     "execution_count": 203,
     "metadata": {},
     "output_type": "execute_result"
    }
   ],
   "source": [
    "xtrain.shape, xval.shape, xtest.shape"
   ]
  },
  {
   "cell_type": "code",
   "execution_count": 182,
   "metadata": {},
   "outputs": [],
   "source": [
    "def modeleval(model, x, y)->float:\n",
    "    return mean_squared_error(y, np.clip(model.predict(x),0,None), squared=False)#clipping -ve values to zero"
   ]
  },
  {
   "cell_type": "code",
   "execution_count": 79,
   "metadata": {},
   "outputs": [],
   "source": [
    "def trainModel(model):\n",
    "    model.fit(xtrain, ytrain, eval_set= [(xtrain, ytrain), (xval, yval)], \n",
    "              early_stopping_rounds=300, verbose=500)\n",
    "    return model"
   ]
  },
  {
   "cell_type": "code",
   "execution_count": 60,
   "metadata": {},
   "outputs": [],
   "source": [
    "def kfoldScores(model, cv=5):\n",
    "    cvs = np.sqrt(-cross_val_score(model, xtrainval, ytrainval, scoring='neg_mean_squared_error', cv=cv))\n",
    "    cvs_mean = round(np.mean(cvs), 3)\n",
    "    cvs_std = round(np.std(cvs), 3)\n",
    "    return str(cvs_mean)+' +- '+str(cvs_std)"
   ]
  },
  {
   "cell_type": "code",
   "execution_count": 186,
   "metadata": {},
   "outputs": [],
   "source": [
    "def Predictions(model, X, y):\n",
    "    tr_avg, val_avg = 0,0\n",
    "    tr_preds = np.zeros(len(X))\n",
    "    test_predictions= []\n",
    "    \n",
    "    for fold_, (tr_, val_) in enumerate(kfold.split(X,y), start=1):\n",
    "        xtrain, ytrain = X.iloc[tr_], y.iloc[tr_]\n",
    "        xval, yval = X.iloc[val_] , y.iloc[val_]\n",
    "        model.fit(xtrain, ytrain, eval_set=[(xval, yval)], \n",
    "                  early_stopping_rounds=300, verbose=False)\n",
    "        tr_rmse = modeleval(model, xtrain, ytrain)\n",
    "        val_rmse = modeleval(model, xval, yval)\n",
    "        print('Train RMSE: {:.4f}, Val RMSE: {:.4f}'.format(tr_rmse, val_rmse))\n",
    "        \n",
    "        #rmse\n",
    "        tr_avg+=tr_rmse\n",
    "        val_avg+=val_rmse\n",
    "        \n",
    "        tr_preds[val_] = np.clip(model.predict(xval), 0, None)\n",
    "        test_pred = np.clip(model.predict(test_c), 0, None)\n",
    "        test_predictions.append(test_pred)\n",
    "    print('AVG Train RMSE: {:.4f} AVG Val RMSE: {:.4f}'.format(tr_avg/fold_, val_avg/fold_))\n",
    "    return np.mean(test_predictions, 0).astype('float32'), tr_preds.astype('float32')"
   ]
  },
  {
   "cell_type": "code",
   "execution_count": 233,
   "metadata": {},
   "outputs": [],
   "source": [
    "def StackModels(meta_etimator, train_stack, test_stack, target):\n",
    "    pred = meta_etimator.fit(train_stack, target).predict(test_stack)\n",
    "    pred = np.clip(pred, 0, None)\n",
    "    return pred"
   ]
  },
  {
   "cell_type": "code",
   "execution_count": 86,
   "metadata": {},
   "outputs": [],
   "source": [
    "def plotImportance(model):\n",
    "    return pd.Series(model.feature_importances_, index=features).sort_values().plot.barh(\n",
    "        title=model.__class__.__name__)"
   ]
  },
  {
   "cell_type": "code",
   "execution_count": 59,
   "metadata": {},
   "outputs": [],
   "source": [
    "kfold = KFold(n_splits=5, shuffle=True, random_state=seed)"
   ]
  },
  {
   "cell_type": "code",
   "execution_count": 216,
   "metadata": {},
   "outputs": [],
   "source": [
    "features = xtrain.columns"
   ]
  },
  {
   "cell_type": "markdown",
   "metadata": {},
   "source": [
    "**`Cross Validation Score`**"
   ]
  },
  {
   "cell_type": "code",
   "execution_count": 206,
   "metadata": {},
   "outputs": [
    {
     "data": {
      "text/plain": [
       "'2597.458 +- 2.05'"
      ]
     },
     "execution_count": 206,
     "metadata": {},
     "output_type": "execute_result"
    }
   ],
   "source": [
    "kfoldScores(lgb.LGBMRegressor(n_estimators=250, metrics='rmse', learning_rate=0.3))"
   ]
  },
  {
   "cell_type": "code",
   "execution_count": 207,
   "metadata": {},
   "outputs": [
    {
     "data": {
      "text/plain": [
       "'2658.6 +- 1.479'"
      ]
     },
     "execution_count": 207,
     "metadata": {},
     "output_type": "execute_result"
    }
   ],
   "source": [
    "kfoldScores(cat.CatBoostRegressor(n_estimators=250, eval_metric='RMSE', silent=True, learning_rate=0.4))"
   ]
  },
  {
   "cell_type": "markdown",
   "metadata": {},
   "source": [
    "**`Training`**"
   ]
  },
  {
   "cell_type": "code",
   "execution_count": 212,
   "metadata": {},
   "outputs": [],
   "source": [
    "lgbm = lgb.LGBMRegressor(random_state=seed, metrics='rmse', num_leaves=40, min_child_weight=3, n_estimators=6000,\n",
    "                        learning_rate=0.08, subsample=0.7, colsample_bytree=0.7, reg_lambda=3, importance_type='gain')\n",
    "\n",
    "catm = cat.CatBoostRegressor(random_seed=seed, eval_metric='RMSE', rsm=0.7, n_estimators=7000, learning_rate=0.2,\n",
    "                             subsample=0.7, silent=True)"
   ]
  },
  {
   "cell_type": "code",
   "execution_count": 213,
   "metadata": {},
   "outputs": [
    {
     "name": "stdout",
     "output_type": "stream",
     "text": [
      "Training until validation scores don't improve for 300 rounds\n",
      "[500]\ttraining's rmse: 2582.02\tvalid_1's rmse: 2617.35\n",
      "[1000]\ttraining's rmse: 2494.24\tvalid_1's rmse: 2575.71\n",
      "[1500]\ttraining's rmse: 2434.8\tvalid_1's rmse: 2557.7\n",
      "[2000]\ttraining's rmse: 2387.07\tvalid_1's rmse: 2546.5\n",
      "[2500]\ttraining's rmse: 2348\tvalid_1's rmse: 2540.32\n",
      "[3000]\ttraining's rmse: 2312.01\tvalid_1's rmse: 2536.65\n",
      "[3500]\ttraining's rmse: 2279.04\tvalid_1's rmse: 2533.83\n",
      "[4000]\ttraining's rmse: 2250.34\tvalid_1's rmse: 2532.73\n",
      "[4500]\ttraining's rmse: 2221.22\tvalid_1's rmse: 2531.47\n",
      "[5000]\ttraining's rmse: 2193.52\tvalid_1's rmse: 2530.7\n",
      "[5500]\ttraining's rmse: 2167.52\tvalid_1's rmse: 2530.38\n",
      "Early stopping, best iteration is:\n",
      "[5475]\ttraining's rmse: 2168.39\tvalid_1's rmse: 2530.28\n"
     ]
    }
   ],
   "source": [
    "trainModel(lgbm);"
   ]
  },
  {
   "cell_type": "code",
   "execution_count": 214,
   "metadata": {},
   "outputs": [
    {
     "name": "stdout",
     "output_type": "stream",
     "text": [
      "0:\tlearn: 4577.0997697\ttest: 4577.0997697\ttest1: 4566.8664207\tbest: 4566.8664207 (0)\ttotal: 72.1ms\tremaining: 8m 24s\n",
      "500:\tlearn: 2643.8726810\ttest: 2643.8726810\ttest1: 2654.1098121\tbest: 2654.1098121 (500)\ttotal: 35.1s\tremaining: 7m 35s\n",
      "1000:\tlearn: 2564.9043658\ttest: 2564.9043658\ttest1: 2598.7986570\tbest: 2598.7986570 (1000)\ttotal: 1m 9s\tremaining: 6m 57s\n",
      "1500:\tlearn: 2516.5743772\ttest: 2516.5743772\ttest1: 2575.3715044\tbest: 2575.3715044 (1500)\ttotal: 1m 44s\tremaining: 6m 23s\n",
      "2000:\tlearn: 2477.7838510\ttest: 2477.7838510\ttest1: 2560.7386186\tbest: 2560.7374573 (1997)\ttotal: 2m 19s\tremaining: 5m 47s\n",
      "2500:\tlearn: 2447.3591867\ttest: 2447.3591867\ttest1: 2551.8868395\tbest: 2551.8868395 (2500)\ttotal: 2m 53s\tremaining: 5m 12s\n",
      "3000:\tlearn: 2421.0661875\ttest: 2421.0661875\ttest1: 2548.0503604\tbest: 2548.0332580 (2996)\ttotal: 3m 28s\tremaining: 4m 37s\n",
      "3500:\tlearn: 2398.1662923\ttest: 2398.1662923\ttest1: 2544.1208517\tbest: 2544.1143615 (3494)\ttotal: 4m 2s\tremaining: 4m 2s\n",
      "4000:\tlearn: 2377.5247052\ttest: 2377.5247052\ttest1: 2542.1496568\tbest: 2542.0330947 (3969)\ttotal: 4m 37s\tremaining: 3m 28s\n",
      "4500:\tlearn: 2358.1632286\ttest: 2358.1632286\ttest1: 2540.8518428\tbest: 2540.8516838 (4499)\ttotal: 5m 12s\tremaining: 2m 53s\n",
      "5000:\tlearn: 2340.3843712\ttest: 2340.3843712\ttest1: 2539.9422754\tbest: 2539.7099742 (4930)\ttotal: 5m 46s\tremaining: 2m 18s\n",
      "Stopped by overfitting detector  (300 iterations wait)\n",
      "\n",
      "bestTest = 2539.324887\n",
      "bestIteration = 5151\n",
      "\n",
      "Shrink model to first 5152 iterations.\n"
     ]
    }
   ],
   "source": [
    "trainModel(catm);"
   ]
  },
  {
   "cell_type": "markdown",
   "metadata": {},
   "source": [
    "**`Diagnostics`**"
   ]
  },
  {
   "cell_type": "code",
   "execution_count": 217,
   "metadata": {},
   "outputs": [
    {
     "data": {
      "image/png": "[encoded data removed]",
      "text/plain": [
       "<Figure size 864x288 with 2 Axes>"
      ]
     },
     "metadata": {
      "needs_background": "light"
     },
     "output_type": "display_data"
    }
   ],
   "source": [
    "plt.figure(figsize=(12,4))\n",
    "plt.subplot(121)\n",
    "plotImportance(lgbm)\n",
    "plt.subplot(122)\n",
    "plotImportance(catm)\n",
    "plt.tight_layout(pad=1.);"
   ]
  },
  {
   "cell_type": "markdown",
   "metadata": {},
   "source": [
    "`Test`"
   ]
  },
  {
   "cell_type": "code",
   "execution_count": 218,
   "metadata": {},
   "outputs": [
    {
     "data": {
      "text/plain": [
       "2544.949216987677"
      ]
     },
     "execution_count": 218,
     "metadata": {},
     "output_type": "execute_result"
    }
   ],
   "source": [
    "modeleval(lgbm, xtest, ytest)"
   ]
  },
  {
   "cell_type": "code",
   "execution_count": 219,
   "metadata": {},
   "outputs": [
    {
     "data": {
      "text/plain": [
       "2555.950356648561"
      ]
     },
     "execution_count": 219,
     "metadata": {},
     "output_type": "execute_result"
    }
   ],
   "source": [
    "modeleval(catm, xtest, ytest)"
   ]
  },
  {
   "cell_type": "markdown",
   "metadata": {},
   "source": [
    "**`Predictions`**"
   ]
  },
  {
   "cell_type": "code",
   "execution_count": 220,
   "metadata": {},
   "outputs": [],
   "source": [
    "lgbm = lgb.LGBMRegressor(random_state=seed, metrics='rmse', num_leaves=40, min_child_weight=3, n_estimators=6000,\n",
    "                        learning_rate=0.07, subsample=0.65, colsample_bytree=0.7, reg_lambda=3, importance_type='gain')\n",
    "\n",
    "catm = cat.CatBoostRegressor(random_seed=seed, eval_metric='RMSE', rsm=0.7, n_estimators=7000, learning_rate=0.12,\n",
    "                             silent=True, max_depth=6, bootstrap_type='Bernoulli')"
   ]
  },
  {
   "cell_type": "code",
   "execution_count": 221,
   "metadata": {},
   "outputs": [],
   "source": [
    "kfold.n_splits = 3"
   ]
  },
  {
   "cell_type": "code",
   "execution_count": 222,
   "metadata": {},
   "outputs": [
    {
     "name": "stdout",
     "output_type": "stream",
     "text": [
      "Train RMSE: 2215.7225, Val RMSE: 2550.7244\n",
      "Train RMSE: 2191.0764, Val RMSE: 2532.3733\n",
      "Train RMSE: 2192.0083, Val RMSE: 2530.6949\n",
      "AVG Train RMSE: 2199.6024 AVG Val RMSE: 2537.9309\n"
     ]
    }
   ],
   "source": [
    "lgb_pred, lgb_tr = Predictions(lgbm, X, y)"
   ]
  },
  {
   "cell_type": "code",
   "execution_count": 228,
   "metadata": {},
   "outputs": [
    {
     "data": {
      "text/plain": [
       "10920"
      ]
     },
     "execution_count": 228,
     "metadata": {},
     "output_type": "execute_result"
    }
   ],
   "source": [
    "gc.collect()"
   ]
  },
  {
   "cell_type": "code",
   "execution_count": 230,
   "metadata": {},
   "outputs": [
    {
     "name": "stdout",
     "output_type": "stream",
     "text": [
      "Train RMSE: 2382.2607, Val RMSE: 2571.8798\n",
      "Train RMSE: 2392.8756, Val RMSE: 2557.5444\n",
      "Train RMSE: 2393.0357, Val RMSE: 2557.5987\n",
      "AVG Train RMSE: 2389.3907 AVG Val RMSE: 2562.3410\n"
     ]
    }
   ],
   "source": [
    "cat_pred, cat_tr = Predictions(catm, X, y)"
   ]
  },
  {
   "cell_type": "code",
   "execution_count": 235,
   "metadata": {},
   "outputs": [],
   "source": [
    "train_stack = np.c_[cat_tr, lgb_tr]\n",
    "test_stack = np.c_[cat_pred, lgb_pred]"
   ]
  },
  {
   "cell_type": "code",
   "execution_count": 237,
   "metadata": {},
   "outputs": [],
   "source": [
    "linreg = LinearRegression()"
   ]
  },
  {
   "cell_type": "code",
   "execution_count": 238,
   "metadata": {},
   "outputs": [],
   "source": [
    "stack_pred = StackModels(linreg, train_stack, test_stack, y)"
   ]
  },
  {
   "cell_type": "code",
   "execution_count": 242,
   "metadata": {},
   "outputs": [],
   "source": [
    "blend = 0.6 *lgb_pred + 0.4 * cat_pred"
   ]
  },
  {
   "cell_type": "markdown",
   "metadata": {},
   "source": [
    "**Submission**"
   ]
  },
  {
   "cell_type": "code",
   "execution_count": 241,
   "metadata": {},
   "outputs": [],
   "source": [
    "cat_df = subfile.copy()\n",
    "cat_df['Purchase'] = cat_pred"
   ]
  },
  {
   "cell_type": "code",
   "execution_count": 243,
   "metadata": {},
   "outputs": [],
   "source": [
    "lgb_df = subfile.copy()\n",
    "lgb_df['Purchase'] = lgb_pred"
   ]
  },
  {
   "cell_type": "code",
   "execution_count": 244,
   "metadata": {},
   "outputs": [],
   "source": [
    "blend_df = subfile.copy()\n",
    "blend_df['Purchase'] = blend"
   ]
  },
  {
   "cell_type": "code",
   "execution_count": 245,
   "metadata": {},
   "outputs": [],
   "source": [
    "stack_df = subfile.copy()\n",
    "stack_df['Purchase'] = stack_pred"
   ]
  },
  {
   "cell_type": "code",
   "execution_count": 249,
   "metadata": {},
   "outputs": [],
   "source": [
    "scores = pd.DataFrame(np.c_[stack_pred, blend, lgb_pred, cat_pred], \n",
    "                     columns=['Stack', 'Blend', 'LGB', 'CAT'])"
   ]
  },
  {
   "cell_type": "code",
   "execution_count": 250,
   "metadata": {},
   "outputs": [
    {
     "data": {
      "text/html": [
       "<div>\n",
       "<style scoped>\n",
       "    .dataframe tbody tr th:only-of-type {\n",
       "        vertical-align: middle;\n",
       "    }\n",
       "\n",
       "    .dataframe tbody tr th {\n",
       "        vertical-align: top;\n",
       "    }\n",
       "\n",
       "    .dataframe thead th {\n",
       "        text-align: right;\n",
       "    }\n",
       "</style>\n",
       "<table border=\"1\" class=\"dataframe\">\n",
       "  <thead>\n",
       "    <tr style=\"text-align: right;\">\n",
       "      <th></th>\n",
       "      <th>Stack</th>\n",
       "      <th>Blend</th>\n",
       "      <th>LGB</th>\n",
       "      <th>CAT</th>\n",
       "    </tr>\n",
       "  </thead>\n",
       "  <tbody>\n",
       "    <tr>\n",
       "      <th>0</th>\n",
       "      <td>15094.827148</td>\n",
       "      <td>15212.556641</td>\n",
       "      <td>14768.948242</td>\n",
       "      <td>15877.969727</td>\n",
       "    </tr>\n",
       "    <tr>\n",
       "      <th>1</th>\n",
       "      <td>10807.837891</td>\n",
       "      <td>10945.371094</td>\n",
       "      <td>10536.764648</td>\n",
       "      <td>11558.280273</td>\n",
       "    </tr>\n",
       "    <tr>\n",
       "      <th>2</th>\n",
       "      <td>7583.129883</td>\n",
       "      <td>7648.467773</td>\n",
       "      <td>7507.316406</td>\n",
       "      <td>7860.193848</td>\n",
       "    </tr>\n",
       "    <tr>\n",
       "      <th>3</th>\n",
       "      <td>2821.737549</td>\n",
       "      <td>3027.387451</td>\n",
       "      <td>2597.534180</td>\n",
       "      <td>3672.166992</td>\n",
       "    </tr>\n",
       "    <tr>\n",
       "      <th>4</th>\n",
       "      <td>2092.423828</td>\n",
       "      <td>2138.014648</td>\n",
       "      <td>2166.589111</td>\n",
       "      <td>2095.152588</td>\n",
       "    </tr>\n",
       "    <tr>\n",
       "      <th>...</th>\n",
       "      <td>...</td>\n",
       "      <td>...</td>\n",
       "      <td>...</td>\n",
       "      <td>...</td>\n",
       "    </tr>\n",
       "    <tr>\n",
       "      <th>233594</th>\n",
       "      <td>7679.370117</td>\n",
       "      <td>7689.002930</td>\n",
       "      <td>7700.061523</td>\n",
       "      <td>7672.413574</td>\n",
       "    </tr>\n",
       "    <tr>\n",
       "      <th>233595</th>\n",
       "      <td>5624.756836</td>\n",
       "      <td>5666.633301</td>\n",
       "      <td>5631.474121</td>\n",
       "      <td>5719.371582</td>\n",
       "    </tr>\n",
       "    <tr>\n",
       "      <th>233596</th>\n",
       "      <td>10046.234375</td>\n",
       "      <td>9938.140625</td>\n",
       "      <td>10225.543945</td>\n",
       "      <td>9507.036133</td>\n",
       "    </tr>\n",
       "    <tr>\n",
       "      <th>233597</th>\n",
       "      <td>18552.074219</td>\n",
       "      <td>18517.558594</td>\n",
       "      <td>18423.015625</td>\n",
       "      <td>18659.375000</td>\n",
       "    </tr>\n",
       "    <tr>\n",
       "      <th>233598</th>\n",
       "      <td>2425.067383</td>\n",
       "      <td>2510.312744</td>\n",
       "      <td>2422.127930</td>\n",
       "      <td>2642.589600</td>\n",
       "    </tr>\n",
       "  </tbody>\n",
       "</table>\n",
       "<p>233599 rows × 4 columns</p>\n",
       "</div>"
      ],
      "text/plain": [
       "               Stack         Blend           LGB           CAT\n",
       "0       15094.827148  15212.556641  14768.948242  15877.969727\n",
       "1       10807.837891  10945.371094  10536.764648  11558.280273\n",
       "2        7583.129883   7648.467773   7507.316406   7860.193848\n",
       "3        2821.737549   3027.387451   2597.534180   3672.166992\n",
       "4        2092.423828   2138.014648   2166.589111   2095.152588\n",
       "...              ...           ...           ...           ...\n",
       "233594   7679.370117   7689.002930   7700.061523   7672.413574\n",
       "233595   5624.756836   5666.633301   5631.474121   5719.371582\n",
       "233596  10046.234375   9938.140625  10225.543945   9507.036133\n",
       "233597  18552.074219  18517.558594  18423.015625  18659.375000\n",
       "233598   2425.067383   2510.312744   2422.127930   2642.589600\n",
       "\n",
       "[233599 rows x 4 columns]"
      ]
     },
     "execution_count": 250,
     "metadata": {},
     "output_type": "execute_result"
    }
   ],
   "source": [
    "scores"
   ]
  },
  {
   "cell_type": "code",
   "execution_count": 253,
   "metadata": {},
   "outputs": [
    {
     "data": {
      "image/png": "[encoded data removed]",
      "text/plain": [
       "<Figure size 432x288 with 2 Axes>"
      ]
     },
     "metadata": {
      "needs_background": "light"
     },
     "output_type": "display_data"
    }
   ],
   "source": [
    "sns.heatmap(scores.corr(), annot=True, fmt='.3f');"
   ]
  },
  {
   "cell_type": "raw",
   "metadata": {},
   "source": [
    "os.mkdir(path+'/submissionfolder')"
   ]
  },
  {
   "cell_type": "code",
   "execution_count": 259,
   "metadata": {},
   "outputs": [],
   "source": [
    "cat_df.to_csv(os.path.join(path, './submissionfolder/cat_bl.csv'), index=False)\n",
    "lgb_df.to_csv(os.path.join(path, './submissionfolder/lgb_bl.csv'), index=False)\n",
    "blend_df.to_csv(os.path.join(path, './submissionfolder/blend_bl.csv'), index=False)\n",
    "stack_df.to_csv(os.path.join(path, './submissionfolder/stack_bl.csv'), index=False)"
   ]
  },
  {
   "cell_type": "markdown",
   "metadata": {},
   "source": [
    "**`LB Scores`**\n",
    "                    \n",
    "*                   `Stack               ~2524.19`  \n",
    "*                   `Blend               ~2527.95`\n",
    "*                   `Lgb                 ~2521.395`\n",
    "*                   `Cat                 ~2553.679`"
   ]
  }
 ],
 "metadata": {
  "kernelspec": {
   "display_name": "Python 3",
   "language": "python",
   "name": "python3"
  },
  "language_info": {
   "codemirror_mode": {
    "name": "ipython",
    "version": 3
   },
   "file_extension": ".py",
   "mimetype": "text/x-python",
   "name": "python",
   "nbconvert_exporter": "python",
   "pygments_lexer": "ipython3",
   "version": "3.7.4"
  }
 },
 "nbformat": 4,
 "nbformat_minor": 2
}
