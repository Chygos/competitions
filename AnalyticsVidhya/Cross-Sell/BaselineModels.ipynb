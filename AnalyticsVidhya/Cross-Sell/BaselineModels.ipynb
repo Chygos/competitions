{
 "cells": [
  {
   "cell_type": "markdown",
   "metadata": {},
   "source": [
    "<h4>Problem Statement</h4>\n",
    "\n",
    "Your client is an Insurance company that has provided Health Insurance to its customers now they need your help in building a model to <strong>predict whether the policyholders (customers) from past year will also be interested in Vehicle Insurance provided by the company.</strong>\n",
    "\n",
    "An insurance policy is an arrangement by which a company undertakes to provide a guarantee of compensation for specified loss, damage, illness, or death in return for the payment of a specified premium. A premium is a sum of money that the customer needs to pay regularly to an insurance company for this guarantee.\n",
    "\n",
    "For example, you may pay a premium of Rs. 5000 each year for a health insurance cover of Rs. 200,000/- so that if, God forbid, you fall ill and need to be hospitalised in that year, the insurance provider company will bear the cost of hospitalisation etc. for upto Rs. 200,000. Now if you are wondering how can company bear such high hospitalisation cost when it charges a premium of only Rs. 5000/-, that is where the concept of probabilities comes in picture. For example, like you, there may be 100 customers who would be paying a premium of Rs. 5000 every year, but only a few of them (say 2-3) would get hospitalised that year and not everyone. This way everyone shares the risk of everyone else.\n",
    "\n",
    "Just like medical insurance, there is vehicle insurance where every year customer needs to pay a premium of certain amount to insurance provider company so that in case of unfortunate accident by the vehicle, the insurance provider company will provide a compensation (called ‘sum assured’) to the customer.\n",
    "\n",
    "Building a model to predict whether a customer would be interested in Vehicle Insurance is extremely helpful for the company because it can then accordingly plan its communication strategy to reach out to those customers and optimise its business model and revenue. \n",
    "\n",
    "Now, in order to predict, whether the customer would be interested in Vehicle insurance, you have information about demographics (gender, age, region code type), Vehicles (Vehicle Age, Damage), Policy (Premium, sourcing channel) etc."
   ]
  },
  {
   "cell_type": "markdown",
   "metadata": {},
   "source": [
    "<strong>Evaluation Metric:</strong> ROC AUC score"
   ]
  },
  {
   "cell_type": "markdown",
   "metadata": {},
   "source": [
    "<h4>Variable Definition</h4>\n",
    "\n",
    "1. id==>\tUnique ID for the customer\n",
    "2. Gender ==>\tGender of the customer\n",
    "\n",
    "3. Age ==> Age of the customer\n",
    "\n",
    "4. Driving_License ==>\t0 : Customer does not have DL, 1 : Customer already has DL\n",
    "\n",
    "5. Region_Code ==>\tUnique code for the region of the customer\n",
    "\n",
    "6. Previously_Insured ==>\t1 : Customer already has Vehicle Insurance, 0 : Customer doesn't have Vehicle Insurance\n",
    "\n",
    "7. Vehicle_Age ==>\tAge of the Vehicle \n",
    "\n",
    "8. Vehicle_Damage ==> 1 : Customer got his/her vehicle damaged in the past. 0 : Customer didn't get his/her vehicle damaged in the past.\n",
    "\n",
    "9. Annual_Premium ==> The amount customer needs to pay as premium in the year\n",
    "\n",
    "10. Policy_Sales_Channel ==> Anonymised Code for the channel of outreaching to the customer ie. Different Agents, Over Mail, Over Phone, In Person, etc.\n",
    "\n",
    "11. Vintage ==> Number of Days, Customer has been associated with the company\n",
    "\n",
    "12. Response (Target) ==>\t1 :  Customer is interested, 0 : Customer is not interested"
   ]
  },
  {
   "cell_type": "code",
   "execution_count": 1,
   "metadata": {},
   "outputs": [],
   "source": [
    "path = \"C:/Machine_learning_datafiles/AnalyticsVidya/CrossSell\""
   ]
  },
  {
   "cell_type": "code",
   "execution_count": 2,
   "metadata": {},
   "outputs": [],
   "source": [
    "import os, gc, warnings\n",
    "warnings.filterwarnings('ignore')\n",
    "os.chdir(path)"
   ]
  },
  {
   "cell_type": "code",
   "execution_count": 3,
   "metadata": {},
   "outputs": [],
   "source": [
    "import pandas as pd\n",
    "import seaborn as sns\n",
    "import numpy as np\n",
    "import matplotlib.pyplot as plt\n",
    "import scipy as sc\n",
    "import missingno as msno\n",
    "import random"
   ]
  },
  {
   "cell_type": "code",
   "execution_count": 350,
   "metadata": {},
   "outputs": [],
   "source": [
    "from sklearn.ensemble import ExtraTreesClassifier, RandomForestClassifier, GradientBoostingClassifier\n",
    "from sklearn.metrics import roc_auc_score, plot_confusion_matrix, plot_roc_curve\n",
    "from sklearn.metrics import balanced_accuracy_score, plot_precision_recall_curve\n",
    "from sklearn.linear_model import LogisticRegression, LinearRegression\n",
    "from sklearn.preprocessing import StandardScaler, MinMaxScaler\n",
    "from sklearn.compose import ColumnTransformer\n",
    "from sklearn.pipeline import Pipeline\n",
    "from sklearn.model_selection import StratifiedKFold, train_test_split\n",
    "import catboost as cat\n",
    "import lightgbm as lgb\n",
    "from rgf.sklearn import RGFClassifier"
   ]
  },
  {
   "cell_type": "code",
   "execution_count": 19,
   "metadata": {},
   "outputs": [],
   "source": [
    "seed = 42\n",
    "random.seed(seed)\n",
    "np.random.seed(seed)"
   ]
  },
  {
   "cell_type": "code",
   "execution_count": 20,
   "metadata": {},
   "outputs": [],
   "source": [
    "pd.set_option('display.max_columns', 100)\n",
    "plt.style.use('seaborn-dark')\n",
    "%matplotlib inline"
   ]
  },
  {
   "cell_type": "code",
   "execution_count": 124,
   "metadata": {},
   "outputs": [],
   "source": [
    "def modelMetric(model, xtrain, xval):\n",
    "    tr_auc = roc_auc_score(ytrain, model.predict_proba(xtrain)[:,1])\n",
    "    val_auc = roc_auc_score(yval, model.predict_proba(xval)[:,1])\n",
    "    tr_bas = balanced_accuracy_score(ytrain, model.predict(xtrain))\n",
    "    val_bas = balanced_accuracy_score(yval, model.predict(xval))\n",
    "    print(f'Train AUC: {tr_auc.round(5)} Train Bal. Acc : {tr_bas.round(5)}')\n",
    "    print(f'Val AUC: {val_auc.round(5)} Val Bal. Acc : {val_bas.round(5)}')"
   ]
  },
  {
   "cell_type": "code",
   "execution_count": 260,
   "metadata": {},
   "outputs": [],
   "source": [
    "def figurePlotting(model):\n",
    "    fig, ax= plt.subplots(1,3,figsize=(12,3.5))\n",
    "    plot_confusion_matrix(model, xval, yval, ax=ax[0], display_labels=['No', 'Yes'])\n",
    "    plot_roc_curve(model, xval, yval, ax=ax[1])\n",
    "    plot_precision_recall_curve(model, xval, yval, ax=ax[2])\n",
    "    ax[0].set_title('Confusion Matrix')\n",
    "    ax[1].set_title('ROC Curve')\n",
    "    ax[2].set_title('PR-Curve')\n",
    "    for i in range(3):\n",
    "        ax[i].grid(False)\n",
    "    plt.tight_layout(pad=1.)"
   ]
  },
  {
   "cell_type": "code",
   "execution_count": 196,
   "metadata": {},
   "outputs": [],
   "source": [
    "def TrainModel(model, xtrain, xval):\n",
    "    if model.__class__.__name__ in ['CatBoostClassifier', 'LGBMClassifier']:\n",
    "        model.fit(xtrain, ytrain, eval_set=[(xval, yval)],\n",
    "                 early_stopping_rounds=250, verbose=False)\n",
    "    else:\n",
    "        model.fit(xtrain, ytrain)\n",
    "    modelMetric(model, xtrain, xval)\n",
    "    return model"
   ]
  },
  {
   "cell_type": "code",
   "execution_count": 288,
   "metadata": {},
   "outputs": [],
   "source": [
    "def skfoldPred(model, X, testset):\n",
    "    avg_auc, avg_bas = 0,0\n",
    "    test_preds = []\n",
    "    for fold, (tr_idx, val_idx) in enumerate(skfold.split(X, y), start=1):\n",
    "        x_train, y_train = X.iloc[tr_idx], y.iloc[tr_idx]\n",
    "        x_val, y_val = X.iloc[val_idx], y.iloc[val_idx]\n",
    "        \n",
    "        if model.__class__.__name__ in ['CatBoostClassifier', 'LGBMClassifier']:\n",
    "            model.fit(x_train, y_train, eval_set=[(x_val, y_val)], \n",
    "                      early_stopping_rounds=250, verbose=False)\n",
    "        else:\n",
    "            model.fit(x_train, y_train)\n",
    "        val_auc = roc_auc_score(y_val, model.predict_proba(x_val)[:,1])\n",
    "        val_bas = balanced_accuracy_score(y_val, model.predict(x_val))\n",
    "        print(f'Fold {fold} ===> Val AUC: {val_auc.round(5)} Val BAS:{val_bas.round(5)}')\n",
    "        avg_auc += val_auc\n",
    "        avg_bas += val_bas\n",
    "        \n",
    "        y_pred = model.predict_proba(testset)[:,1]\n",
    "        test_preds.append(y_pred)\n",
    "    print(f'AVG AUC: {avg_auc/fold} AVG Bal. ACC: {avg_bas/fold}')\n",
    "    return np.mean(test_preds, 0).astype('float32')"
   ]
  },
  {
   "cell_type": "code",
   "execution_count": 11,
   "metadata": {},
   "outputs": [],
   "source": [
    "def read_files(filename): return pd.read_csv(filename)"
   ]
  },
  {
   "cell_type": "code",
   "execution_count": 198,
   "metadata": {},
   "outputs": [],
   "source": [
    "train = read_files('Train.csv')\n",
    "test = read_files('Test.csv')\n",
    "subfile = read_files('sample_submission.csv')"
   ]
  },
  {
   "cell_type": "code",
   "execution_count": 199,
   "metadata": {},
   "outputs": [
    {
     "data": {
      "text/plain": [
       "((381109, 12), (127037, 11))"
      ]
     },
     "execution_count": 199,
     "metadata": {},
     "output_type": "execute_result"
    }
   ],
   "source": [
    "#Shape of Data\n",
    "train.shape, test.shape"
   ]
  },
  {
   "cell_type": "code",
   "execution_count": 200,
   "metadata": {},
   "outputs": [
    {
     "data": {
      "text/html": [
       "<div>\n",
       "<style scoped>\n",
       "    .dataframe tbody tr th:only-of-type {\n",
       "        vertical-align: middle;\n",
       "    }\n",
       "\n",
       "    .dataframe tbody tr th {\n",
       "        vertical-align: top;\n",
       "    }\n",
       "\n",
       "    .dataframe thead th {\n",
       "        text-align: right;\n",
       "    }\n",
       "</style>\n",
       "<table border=\"1\" class=\"dataframe\">\n",
       "  <thead>\n",
       "    <tr style=\"text-align: right;\">\n",
       "      <th></th>\n",
       "      <th>id</th>\n",
       "      <th>Gender</th>\n",
       "      <th>Age</th>\n",
       "      <th>Driving_License</th>\n",
       "      <th>Region_Code</th>\n",
       "      <th>Previously_Insured</th>\n",
       "      <th>Vehicle_Age</th>\n",
       "      <th>Vehicle_Damage</th>\n",
       "      <th>Annual_Premium</th>\n",
       "      <th>Policy_Sales_Channel</th>\n",
       "      <th>Vintage</th>\n",
       "      <th>Response</th>\n",
       "    </tr>\n",
       "  </thead>\n",
       "  <tbody>\n",
       "    <tr>\n",
       "      <th>0</th>\n",
       "      <td>1</td>\n",
       "      <td>Male</td>\n",
       "      <td>44</td>\n",
       "      <td>1</td>\n",
       "      <td>28.0</td>\n",
       "      <td>0</td>\n",
       "      <td>&gt; 2 Years</td>\n",
       "      <td>Yes</td>\n",
       "      <td>40454.0</td>\n",
       "      <td>26.0</td>\n",
       "      <td>217</td>\n",
       "      <td>1</td>\n",
       "    </tr>\n",
       "    <tr>\n",
       "      <th>1</th>\n",
       "      <td>2</td>\n",
       "      <td>Male</td>\n",
       "      <td>76</td>\n",
       "      <td>1</td>\n",
       "      <td>3.0</td>\n",
       "      <td>0</td>\n",
       "      <td>1-2 Year</td>\n",
       "      <td>No</td>\n",
       "      <td>33536.0</td>\n",
       "      <td>26.0</td>\n",
       "      <td>183</td>\n",
       "      <td>0</td>\n",
       "    </tr>\n",
       "    <tr>\n",
       "      <th>2</th>\n",
       "      <td>3</td>\n",
       "      <td>Male</td>\n",
       "      <td>47</td>\n",
       "      <td>1</td>\n",
       "      <td>28.0</td>\n",
       "      <td>0</td>\n",
       "      <td>&gt; 2 Years</td>\n",
       "      <td>Yes</td>\n",
       "      <td>38294.0</td>\n",
       "      <td>26.0</td>\n",
       "      <td>27</td>\n",
       "      <td>1</td>\n",
       "    </tr>\n",
       "    <tr>\n",
       "      <th>3</th>\n",
       "      <td>4</td>\n",
       "      <td>Male</td>\n",
       "      <td>21</td>\n",
       "      <td>1</td>\n",
       "      <td>11.0</td>\n",
       "      <td>1</td>\n",
       "      <td>&lt; 1 Year</td>\n",
       "      <td>No</td>\n",
       "      <td>28619.0</td>\n",
       "      <td>152.0</td>\n",
       "      <td>203</td>\n",
       "      <td>0</td>\n",
       "    </tr>\n",
       "  </tbody>\n",
       "</table>\n",
       "</div>"
      ],
      "text/plain": [
       "   id Gender  Age  Driving_License  Region_Code  Previously_Insured  \\\n",
       "0   1   Male   44                1         28.0                   0   \n",
       "1   2   Male   76                1          3.0                   0   \n",
       "2   3   Male   47                1         28.0                   0   \n",
       "3   4   Male   21                1         11.0                   1   \n",
       "\n",
       "  Vehicle_Age Vehicle_Damage  Annual_Premium  Policy_Sales_Channel  Vintage  \\\n",
       "0   > 2 Years            Yes         40454.0                  26.0      217   \n",
       "1    1-2 Year             No         33536.0                  26.0      183   \n",
       "2   > 2 Years            Yes         38294.0                  26.0       27   \n",
       "3    < 1 Year             No         28619.0                 152.0      203   \n",
       "\n",
       "   Response  \n",
       "0         1  \n",
       "1         0  \n",
       "2         1  \n",
       "3         0  "
      ]
     },
     "execution_count": 200,
     "metadata": {},
     "output_type": "execute_result"
    }
   ],
   "source": [
    "train.head(4)"
   ]
  },
  {
   "cell_type": "code",
   "execution_count": 201,
   "metadata": {},
   "outputs": [
    {
     "data": {
      "text/html": [
       "<div>\n",
       "<style scoped>\n",
       "    .dataframe tbody tr th:only-of-type {\n",
       "        vertical-align: middle;\n",
       "    }\n",
       "\n",
       "    .dataframe tbody tr th {\n",
       "        vertical-align: top;\n",
       "    }\n",
       "\n",
       "    .dataframe thead th {\n",
       "        text-align: right;\n",
       "    }\n",
       "</style>\n",
       "<table border=\"1\" class=\"dataframe\">\n",
       "  <thead>\n",
       "    <tr style=\"text-align: right;\">\n",
       "      <th></th>\n",
       "      <th>id</th>\n",
       "      <th>Gender</th>\n",
       "      <th>Age</th>\n",
       "      <th>Driving_License</th>\n",
       "      <th>Region_Code</th>\n",
       "      <th>Previously_Insured</th>\n",
       "      <th>Vehicle_Age</th>\n",
       "      <th>Vehicle_Damage</th>\n",
       "      <th>Annual_Premium</th>\n",
       "      <th>Policy_Sales_Channel</th>\n",
       "      <th>Vintage</th>\n",
       "    </tr>\n",
       "  </thead>\n",
       "  <tbody>\n",
       "    <tr>\n",
       "      <th>0</th>\n",
       "      <td>381110</td>\n",
       "      <td>Male</td>\n",
       "      <td>25</td>\n",
       "      <td>1</td>\n",
       "      <td>11.0</td>\n",
       "      <td>1</td>\n",
       "      <td>&lt; 1 Year</td>\n",
       "      <td>No</td>\n",
       "      <td>35786.0</td>\n",
       "      <td>152.0</td>\n",
       "      <td>53</td>\n",
       "    </tr>\n",
       "    <tr>\n",
       "      <th>1</th>\n",
       "      <td>381111</td>\n",
       "      <td>Male</td>\n",
       "      <td>40</td>\n",
       "      <td>1</td>\n",
       "      <td>28.0</td>\n",
       "      <td>0</td>\n",
       "      <td>1-2 Year</td>\n",
       "      <td>Yes</td>\n",
       "      <td>33762.0</td>\n",
       "      <td>7.0</td>\n",
       "      <td>111</td>\n",
       "    </tr>\n",
       "    <tr>\n",
       "      <th>2</th>\n",
       "      <td>381112</td>\n",
       "      <td>Male</td>\n",
       "      <td>47</td>\n",
       "      <td>1</td>\n",
       "      <td>28.0</td>\n",
       "      <td>0</td>\n",
       "      <td>1-2 Year</td>\n",
       "      <td>Yes</td>\n",
       "      <td>40050.0</td>\n",
       "      <td>124.0</td>\n",
       "      <td>199</td>\n",
       "    </tr>\n",
       "  </tbody>\n",
       "</table>\n",
       "</div>"
      ],
      "text/plain": [
       "       id Gender  Age  Driving_License  Region_Code  Previously_Insured  \\\n",
       "0  381110   Male   25                1         11.0                   1   \n",
       "1  381111   Male   40                1         28.0                   0   \n",
       "2  381112   Male   47                1         28.0                   0   \n",
       "\n",
       "  Vehicle_Age Vehicle_Damage  Annual_Premium  Policy_Sales_Channel  Vintage  \n",
       "0    < 1 Year             No         35786.0                 152.0       53  \n",
       "1    1-2 Year            Yes         33762.0                   7.0      111  \n",
       "2    1-2 Year            Yes         40050.0                 124.0      199  "
      ]
     },
     "execution_count": 201,
     "metadata": {},
     "output_type": "execute_result"
    }
   ],
   "source": [
    "test.head(3)"
   ]
  },
  {
   "cell_type": "code",
   "execution_count": 202,
   "metadata": {},
   "outputs": [
    {
     "data": {
      "text/plain": [
       "(0, 0)"
      ]
     },
     "execution_count": 202,
     "metadata": {},
     "output_type": "execute_result"
    }
   ],
   "source": [
    "train.isna().any().sum(), test.isna().any().sum()"
   ]
  },
  {
   "cell_type": "markdown",
   "metadata": {},
   "source": [
    "#### No Missing values in both train and test sets"
   ]
  },
  {
   "cell_type": "code",
   "execution_count": 17,
   "metadata": {},
   "outputs": [
    {
     "data": {
      "text/plain": [
       "(381109,)"
      ]
     },
     "execution_count": 17,
     "metadata": {},
     "output_type": "execute_result"
    }
   ],
   "source": [
    "#checking duplicate data in train\n",
    "train.duplicated().shape"
   ]
  },
  {
   "cell_type": "markdown",
   "metadata": {},
   "source": [
    "#### No duplicated rows in training data"
   ]
  },
  {
   "cell_type": "code",
   "execution_count": 18,
   "metadata": {},
   "outputs": [
    {
     "data": {
      "text/plain": [
       "Index(['id', 'Gender', 'Age', 'Driving_License', 'Region_Code',\n",
       "       'Previously_Insured', 'Vehicle_Age', 'Vehicle_Damage', 'Annual_Premium',\n",
       "       'Policy_Sales_Channel', 'Vintage', 'Response'],\n",
       "      dtype='object')"
      ]
     },
     "execution_count": 18,
     "metadata": {},
     "output_type": "execute_result"
    }
   ],
   "source": [
    "train.columns"
   ]
  },
  {
   "cell_type": "code",
   "execution_count": 72,
   "metadata": {},
   "outputs": [
    {
     "data": {
      "text/html": [
       "<div>\n",
       "<style scoped>\n",
       "    .dataframe tbody tr th:only-of-type {\n",
       "        vertical-align: middle;\n",
       "    }\n",
       "\n",
       "    .dataframe tbody tr th {\n",
       "        vertical-align: top;\n",
       "    }\n",
       "\n",
       "    .dataframe thead th {\n",
       "        text-align: right;\n",
       "    }\n",
       "</style>\n",
       "<table border=\"1\" class=\"dataframe\">\n",
       "  <thead>\n",
       "    <tr style=\"text-align: right;\">\n",
       "      <th></th>\n",
       "      <th>id</th>\n",
       "      <th>Age</th>\n",
       "      <th>Driving_License</th>\n",
       "      <th>Region_Code</th>\n",
       "      <th>Previously_Insured</th>\n",
       "      <th>Vehicle_Age</th>\n",
       "      <th>Annual_Premium</th>\n",
       "      <th>Policy_Sales_Channel</th>\n",
       "      <th>Vintage</th>\n",
       "      <th>Response</th>\n",
       "    </tr>\n",
       "  </thead>\n",
       "  <tbody>\n",
       "    <tr>\n",
       "      <th>count</th>\n",
       "      <td>381109.000000</td>\n",
       "      <td>381109.000000</td>\n",
       "      <td>381109.000000</td>\n",
       "      <td>381109.000000</td>\n",
       "      <td>381109.000000</td>\n",
       "      <td>381109.000000</td>\n",
       "      <td>381109.000000</td>\n",
       "      <td>381109.000000</td>\n",
       "      <td>381109.000000</td>\n",
       "      <td>381109.000000</td>\n",
       "    </tr>\n",
       "    <tr>\n",
       "      <th>mean</th>\n",
       "      <td>190555.000000</td>\n",
       "      <td>38.822584</td>\n",
       "      <td>0.997869</td>\n",
       "      <td>26.388807</td>\n",
       "      <td>0.458210</td>\n",
       "      <td>0.609616</td>\n",
       "      <td>30564.389581</td>\n",
       "      <td>112.034295</td>\n",
       "      <td>154.347397</td>\n",
       "      <td>0.122563</td>\n",
       "    </tr>\n",
       "    <tr>\n",
       "      <th>std</th>\n",
       "      <td>110016.836208</td>\n",
       "      <td>15.511611</td>\n",
       "      <td>0.046110</td>\n",
       "      <td>13.229888</td>\n",
       "      <td>0.498251</td>\n",
       "      <td>0.567439</td>\n",
       "      <td>17213.155057</td>\n",
       "      <td>54.203995</td>\n",
       "      <td>83.671304</td>\n",
       "      <td>0.327936</td>\n",
       "    </tr>\n",
       "    <tr>\n",
       "      <th>min</th>\n",
       "      <td>1.000000</td>\n",
       "      <td>20.000000</td>\n",
       "      <td>0.000000</td>\n",
       "      <td>0.000000</td>\n",
       "      <td>0.000000</td>\n",
       "      <td>0.000000</td>\n",
       "      <td>2630.000000</td>\n",
       "      <td>1.000000</td>\n",
       "      <td>10.000000</td>\n",
       "      <td>0.000000</td>\n",
       "    </tr>\n",
       "    <tr>\n",
       "      <th>25%</th>\n",
       "      <td>95278.000000</td>\n",
       "      <td>25.000000</td>\n",
       "      <td>1.000000</td>\n",
       "      <td>15.000000</td>\n",
       "      <td>0.000000</td>\n",
       "      <td>0.000000</td>\n",
       "      <td>24405.000000</td>\n",
       "      <td>29.000000</td>\n",
       "      <td>82.000000</td>\n",
       "      <td>0.000000</td>\n",
       "    </tr>\n",
       "    <tr>\n",
       "      <th>50%</th>\n",
       "      <td>190555.000000</td>\n",
       "      <td>36.000000</td>\n",
       "      <td>1.000000</td>\n",
       "      <td>28.000000</td>\n",
       "      <td>0.000000</td>\n",
       "      <td>1.000000</td>\n",
       "      <td>31669.000000</td>\n",
       "      <td>133.000000</td>\n",
       "      <td>154.000000</td>\n",
       "      <td>0.000000</td>\n",
       "    </tr>\n",
       "    <tr>\n",
       "      <th>75%</th>\n",
       "      <td>285832.000000</td>\n",
       "      <td>49.000000</td>\n",
       "      <td>1.000000</td>\n",
       "      <td>35.000000</td>\n",
       "      <td>1.000000</td>\n",
       "      <td>1.000000</td>\n",
       "      <td>39400.000000</td>\n",
       "      <td>152.000000</td>\n",
       "      <td>227.000000</td>\n",
       "      <td>0.000000</td>\n",
       "    </tr>\n",
       "    <tr>\n",
       "      <th>max</th>\n",
       "      <td>381109.000000</td>\n",
       "      <td>85.000000</td>\n",
       "      <td>1.000000</td>\n",
       "      <td>52.000000</td>\n",
       "      <td>1.000000</td>\n",
       "      <td>2.000000</td>\n",
       "      <td>540165.000000</td>\n",
       "      <td>163.000000</td>\n",
       "      <td>299.000000</td>\n",
       "      <td>1.000000</td>\n",
       "    </tr>\n",
       "  </tbody>\n",
       "</table>\n",
       "</div>"
      ],
      "text/plain": [
       "                  id            Age  Driving_License    Region_Code  \\\n",
       "count  381109.000000  381109.000000    381109.000000  381109.000000   \n",
       "mean   190555.000000      38.822584         0.997869      26.388807   \n",
       "std    110016.836208      15.511611         0.046110      13.229888   \n",
       "min         1.000000      20.000000         0.000000       0.000000   \n",
       "25%     95278.000000      25.000000         1.000000      15.000000   \n",
       "50%    190555.000000      36.000000         1.000000      28.000000   \n",
       "75%    285832.000000      49.000000         1.000000      35.000000   \n",
       "max    381109.000000      85.000000         1.000000      52.000000   \n",
       "\n",
       "       Previously_Insured    Vehicle_Age  Annual_Premium  \\\n",
       "count       381109.000000  381109.000000   381109.000000   \n",
       "mean             0.458210       0.609616    30564.389581   \n",
       "std              0.498251       0.567439    17213.155057   \n",
       "min              0.000000       0.000000     2630.000000   \n",
       "25%              0.000000       0.000000    24405.000000   \n",
       "50%              0.000000       1.000000    31669.000000   \n",
       "75%              1.000000       1.000000    39400.000000   \n",
       "max              1.000000       2.000000   540165.000000   \n",
       "\n",
       "       Policy_Sales_Channel        Vintage       Response  \n",
       "count         381109.000000  381109.000000  381109.000000  \n",
       "mean             112.034295     154.347397       0.122563  \n",
       "std               54.203995      83.671304       0.327936  \n",
       "min                1.000000      10.000000       0.000000  \n",
       "25%               29.000000      82.000000       0.000000  \n",
       "50%              133.000000     154.000000       0.000000  \n",
       "75%              152.000000     227.000000       0.000000  \n",
       "max              163.000000     299.000000       1.000000  "
      ]
     },
     "execution_count": 72,
     "metadata": {},
     "output_type": "execute_result"
    }
   ],
   "source": [
    "train.describe()"
   ]
  },
  {
   "cell_type": "code",
   "execution_count": 73,
   "metadata": {},
   "outputs": [
    {
     "data": {
      "text/html": [
       "<div>\n",
       "<style scoped>\n",
       "    .dataframe tbody tr th:only-of-type {\n",
       "        vertical-align: middle;\n",
       "    }\n",
       "\n",
       "    .dataframe tbody tr th {\n",
       "        vertical-align: top;\n",
       "    }\n",
       "\n",
       "    .dataframe thead th {\n",
       "        text-align: right;\n",
       "    }\n",
       "</style>\n",
       "<table border=\"1\" class=\"dataframe\">\n",
       "  <thead>\n",
       "    <tr style=\"text-align: right;\">\n",
       "      <th></th>\n",
       "      <th>id</th>\n",
       "      <th>Age</th>\n",
       "      <th>Driving_License</th>\n",
       "      <th>Region_Code</th>\n",
       "      <th>Previously_Insured</th>\n",
       "      <th>Vehicle_Age</th>\n",
       "      <th>Annual_Premium</th>\n",
       "      <th>Policy_Sales_Channel</th>\n",
       "      <th>Vintage</th>\n",
       "    </tr>\n",
       "  </thead>\n",
       "  <tbody>\n",
       "    <tr>\n",
       "      <th>count</th>\n",
       "      <td>127037.000000</td>\n",
       "      <td>127037.000000</td>\n",
       "      <td>127037.000000</td>\n",
       "      <td>127037.000000</td>\n",
       "      <td>127037.000000</td>\n",
       "      <td>127037.000000</td>\n",
       "      <td>127037.000000</td>\n",
       "      <td>127037.000000</td>\n",
       "      <td>127037.000000</td>\n",
       "    </tr>\n",
       "    <tr>\n",
       "      <th>mean</th>\n",
       "      <td>444628.000000</td>\n",
       "      <td>38.765903</td>\n",
       "      <td>0.998134</td>\n",
       "      <td>26.459866</td>\n",
       "      <td>0.460039</td>\n",
       "      <td>0.608775</td>\n",
       "      <td>30524.643576</td>\n",
       "      <td>111.800468</td>\n",
       "      <td>154.318301</td>\n",
       "    </tr>\n",
       "    <tr>\n",
       "      <th>std</th>\n",
       "      <td>36672.567411</td>\n",
       "      <td>15.465814</td>\n",
       "      <td>0.043152</td>\n",
       "      <td>13.209916</td>\n",
       "      <td>0.498403</td>\n",
       "      <td>0.567371</td>\n",
       "      <td>16945.297103</td>\n",
       "      <td>54.371765</td>\n",
       "      <td>83.661588</td>\n",
       "    </tr>\n",
       "    <tr>\n",
       "      <th>min</th>\n",
       "      <td>381110.000000</td>\n",
       "      <td>20.000000</td>\n",
       "      <td>0.000000</td>\n",
       "      <td>0.000000</td>\n",
       "      <td>0.000000</td>\n",
       "      <td>0.000000</td>\n",
       "      <td>2630.000000</td>\n",
       "      <td>1.000000</td>\n",
       "      <td>10.000000</td>\n",
       "    </tr>\n",
       "    <tr>\n",
       "      <th>25%</th>\n",
       "      <td>412869.000000</td>\n",
       "      <td>25.000000</td>\n",
       "      <td>1.000000</td>\n",
       "      <td>15.000000</td>\n",
       "      <td>0.000000</td>\n",
       "      <td>0.000000</td>\n",
       "      <td>24325.000000</td>\n",
       "      <td>26.000000</td>\n",
       "      <td>82.000000</td>\n",
       "    </tr>\n",
       "    <tr>\n",
       "      <th>50%</th>\n",
       "      <td>444628.000000</td>\n",
       "      <td>36.000000</td>\n",
       "      <td>1.000000</td>\n",
       "      <td>28.000000</td>\n",
       "      <td>0.000000</td>\n",
       "      <td>1.000000</td>\n",
       "      <td>31642.000000</td>\n",
       "      <td>135.000000</td>\n",
       "      <td>154.000000</td>\n",
       "    </tr>\n",
       "    <tr>\n",
       "      <th>75%</th>\n",
       "      <td>476387.000000</td>\n",
       "      <td>49.000000</td>\n",
       "      <td>1.000000</td>\n",
       "      <td>35.000000</td>\n",
       "      <td>1.000000</td>\n",
       "      <td>1.000000</td>\n",
       "      <td>39408.000000</td>\n",
       "      <td>152.000000</td>\n",
       "      <td>227.000000</td>\n",
       "    </tr>\n",
       "    <tr>\n",
       "      <th>max</th>\n",
       "      <td>508146.000000</td>\n",
       "      <td>85.000000</td>\n",
       "      <td>1.000000</td>\n",
       "      <td>52.000000</td>\n",
       "      <td>1.000000</td>\n",
       "      <td>2.000000</td>\n",
       "      <td>472042.000000</td>\n",
       "      <td>163.000000</td>\n",
       "      <td>299.000000</td>\n",
       "    </tr>\n",
       "  </tbody>\n",
       "</table>\n",
       "</div>"
      ],
      "text/plain": [
       "                  id            Age  Driving_License    Region_Code  \\\n",
       "count  127037.000000  127037.000000    127037.000000  127037.000000   \n",
       "mean   444628.000000      38.765903         0.998134      26.459866   \n",
       "std     36672.567411      15.465814         0.043152      13.209916   \n",
       "min    381110.000000      20.000000         0.000000       0.000000   \n",
       "25%    412869.000000      25.000000         1.000000      15.000000   \n",
       "50%    444628.000000      36.000000         1.000000      28.000000   \n",
       "75%    476387.000000      49.000000         1.000000      35.000000   \n",
       "max    508146.000000      85.000000         1.000000      52.000000   \n",
       "\n",
       "       Previously_Insured    Vehicle_Age  Annual_Premium  \\\n",
       "count       127037.000000  127037.000000   127037.000000   \n",
       "mean             0.460039       0.608775    30524.643576   \n",
       "std              0.498403       0.567371    16945.297103   \n",
       "min              0.000000       0.000000     2630.000000   \n",
       "25%              0.000000       0.000000    24325.000000   \n",
       "50%              0.000000       1.000000    31642.000000   \n",
       "75%              1.000000       1.000000    39408.000000   \n",
       "max              1.000000       2.000000   472042.000000   \n",
       "\n",
       "       Policy_Sales_Channel        Vintage  \n",
       "count         127037.000000  127037.000000  \n",
       "mean             111.800468     154.318301  \n",
       "std               54.371765      83.661588  \n",
       "min                1.000000      10.000000  \n",
       "25%               26.000000      82.000000  \n",
       "50%              135.000000     154.000000  \n",
       "75%              152.000000     227.000000  \n",
       "max              163.000000     299.000000  "
      ]
     },
     "execution_count": 73,
     "metadata": {},
     "output_type": "execute_result"
    }
   ],
   "source": [
    "test.describe()"
   ]
  },
  {
   "cell_type": "markdown",
   "metadata": {},
   "source": [
    "#### Target Distribution"
   ]
  },
  {
   "cell_type": "code",
   "execution_count": 38,
   "metadata": {},
   "outputs": [
    {
     "data": {
      "image/png": "[encoded data removed]",
      "text/plain": [
       "<Figure size 432x288 with 1 Axes>"
      ]
     },
     "metadata": {
      "needs_background": "light"
     },
     "output_type": "display_data"
    }
   ],
   "source": [
    "ax = sns.countplot('Response', data=train)\n",
    "plt.title('Target Distribution', fontweight='bold')\n",
    "for i in ax.patches:\n",
    "    plt.text(x=i.get_x()+0.25, y=i.get_height()+0.3, \n",
    "             s=str(round(i.get_height()/train.shape[0] * 100, 2))+'%', \n",
    "             fontsize=12, fontweight='bold')"
   ]
  },
  {
   "cell_type": "markdown",
   "metadata": {},
   "source": [
    "#### As we can see the target distribution is highly unbalanced. We will deal with this problem later"
   ]
  },
  {
   "cell_type": "code",
   "execution_count": 22,
   "metadata": {},
   "outputs": [
    {
     "data": {
      "text/plain": [
       "array(['Male', 'Female'], dtype=object)"
      ]
     },
     "execution_count": 22,
     "metadata": {},
     "output_type": "execute_result"
    }
   ],
   "source": [
    "train.Gender.unique()"
   ]
  },
  {
   "cell_type": "code",
   "execution_count": 39,
   "metadata": {},
   "outputs": [
    {
     "data": {
      "text/plain": [
       "id                      381109\n",
       "Gender                       2\n",
       "Age                         66\n",
       "Driving_License              2\n",
       "Region_Code                 53\n",
       "Previously_Insured           2\n",
       "Vehicle_Age                  3\n",
       "Vehicle_Damage               2\n",
       "Annual_Premium           48838\n",
       "Policy_Sales_Channel       155\n",
       "Vintage                    290\n",
       "Response                     2\n",
       "dtype: int64"
      ]
     },
     "execution_count": 39,
     "metadata": {},
     "output_type": "execute_result"
    }
   ],
   "source": [
    "train.nunique()"
   ]
  },
  {
   "cell_type": "code",
   "execution_count": 203,
   "metadata": {},
   "outputs": [],
   "source": [
    "cat_cols = ['Gender', 'Driving_License', 'Region_Code', 'Previously_Insured', 'Vehicle_Damage']\n",
    "num_cols = [col for col in test.columns if col not in cat_cols and col != 'id']"
   ]
  },
  {
   "cell_type": "code",
   "execution_count": 50,
   "metadata": {},
   "outputs": [
    {
     "data": {
      "text/plain": [
       "10"
      ]
     },
     "execution_count": 50,
     "metadata": {},
     "output_type": "execute_result"
    }
   ],
   "source": [
    "len(num_cols)+len(cat_cols)"
   ]
  },
  {
   "cell_type": "code",
   "execution_count": 58,
   "metadata": {},
   "outputs": [
    {
     "data": {
      "text/plain": [
       "array(['> 2 Years', '1-2 Year', '< 1 Year'], dtype=object)"
      ]
     },
     "execution_count": 58,
     "metadata": {},
     "output_type": "execute_result"
    }
   ],
   "source": [
    "train.Vehicle_Age.unique()"
   ]
  },
  {
   "cell_type": "code",
   "execution_count": 204,
   "metadata": {},
   "outputs": [],
   "source": [
    "train.Vehicle_Age = train.Vehicle_Age.replace({'< 1 Year' : 1, '1-2 Year' : 2, '> 2 Years' : 3})\n",
    "\n",
    "test.Vehicle_Age = test.Vehicle_Age.replace({'< 1 Year' : 1, '1-2 Year' : 2, '> 2 Years' : 3})"
   ]
  },
  {
   "cell_type": "code",
   "execution_count": 205,
   "metadata": {},
   "outputs": [],
   "source": [
    "def linearData():\n",
    "    train_lin = pd.get_dummies(train, columns=cat_cols, drop_first=True)\n",
    "    test_lin = pd.get_dummies(test, columns=cat_cols, drop_first=True)\n",
    "    return train_lin, test_lin"
   ]
  },
  {
   "cell_type": "code",
   "execution_count": 65,
   "metadata": {},
   "outputs": [
    {
     "data": {
      "image/png": "[encoded data removed]",
      "text/plain": [
       "<Figure size 720x360 with 4 Axes>"
      ]
     },
     "metadata": {
      "needs_background": "light"
     },
     "output_type": "display_data"
    }
   ],
   "source": [
    "fig, ax = plt.subplots(2,2, figsize=(10,5))\n",
    "sns.distplot(train.Age, ax=ax[0,0])\n",
    "sns.distplot(train.Annual_Premium, ax=ax[0,1])\n",
    "sns.distplot(train.Policy_Sales_Channel, ax=ax[1,0])\n",
    "sns.distplot(train.Vintage, ax=ax[1,1])\n",
    "sns.despine();"
   ]
  },
  {
   "cell_type": "markdown",
   "metadata": {},
   "source": [
    "#### The Annual Premium contains some outliers, so we will use the sqrt function to transform the data distribution"
   ]
  },
  {
   "cell_type": "code",
   "execution_count": 76,
   "metadata": {},
   "outputs": [
    {
     "data": {
      "image/png": "[encoded data removed]",
      "text/plain": [
       "<Figure size 720x216 with 2 Axes>"
      ]
     },
     "metadata": {
      "needs_background": "light"
     },
     "output_type": "display_data"
    }
   ],
   "source": [
    "fig, ax = plt.subplots(1,2, figsize=(10,3))\n",
    "sns.boxplot(y=train.Age, ax=ax[0])\n",
    "sns.boxplot(y=train.Annual_Premium, ax=ax[1]);"
   ]
  },
  {
   "cell_type": "code",
   "execution_count": 206,
   "metadata": {},
   "outputs": [],
   "source": [
    "#Transforming Annual Premium distribution\n",
    "train.Annual_Premium = np.sqrt(train.Annual_Premium)\n",
    "test.Annual_Premium = np.sqrt(test.Annual_Premium)"
   ]
  },
  {
   "cell_type": "code",
   "execution_count": 207,
   "metadata": {},
   "outputs": [],
   "source": [
    "#data for linear model\n",
    "train_lin, test_lin = linearData()"
   ]
  },
  {
   "cell_type": "code",
   "execution_count": 208,
   "metadata": {},
   "outputs": [
    {
     "data": {
      "text/plain": [
       "((381109, 63), (127037, 62))"
      ]
     },
     "execution_count": 208,
     "metadata": {},
     "output_type": "execute_result"
    }
   ],
   "source": [
    "train_lin.shape, test_lin.shape"
   ]
  },
  {
   "cell_type": "code",
   "execution_count": 209,
   "metadata": {},
   "outputs": [],
   "source": [
    "train.Vehicle_Damage = train.Vehicle_Damage.replace({'No' : 0, 'Yes' : 1})\n",
    "test.Vehicle_Damage = test.Vehicle_Damage.replace({'No' : 0, 'Yes' : 1})\n",
    "\n",
    "train.Gender = train.Gender.replace({'Female': 0, 'Male' : 1})\n",
    "test.Gender = test.Gender.replace({'Female': 0, 'Male' : 1})"
   ]
  },
  {
   "cell_type": "markdown",
   "metadata": {},
   "source": [
    "#### Modelling"
   ]
  },
  {
   "cell_type": "code",
   "execution_count": 210,
   "metadata": {},
   "outputs": [],
   "source": [
    "def TrainTestData(train, test): \n",
    "    X = train.drop(['id', 'Response'], axis=1)\n",
    "    test_c = test.drop('id', axis=1)\n",
    "    return X, test_c"
   ]
  },
  {
   "cell_type": "code",
   "execution_count": 216,
   "metadata": {},
   "outputs": [],
   "source": [
    "def data_split(X,y):\n",
    "    xtrain, xval, ytrain, yval = train_test_split(X, y, random_state=seed, \n",
    "                                                  test_size=0.3, stratify=y)\n",
    "    return xtrain, xval, ytrain, yval"
   ]
  },
  {
   "cell_type": "code",
   "execution_count": 212,
   "metadata": {},
   "outputs": [],
   "source": [
    "X, test_c = TrainTestData(train, test)\n",
    "y= train.Response"
   ]
  },
  {
   "cell_type": "code",
   "execution_count": 289,
   "metadata": {},
   "outputs": [],
   "source": [
    "X_lin, test_ln = TrainTestData(train_lin, test_lin)"
   ]
  },
  {
   "cell_type": "code",
   "execution_count": 217,
   "metadata": {},
   "outputs": [],
   "source": [
    "xtrain_lin, xval_lin, ytrain, yval = data_split(X_lin, y)\n",
    "xtrain, xval, ytrain, yval = data_split(X, y)"
   ]
  },
  {
   "cell_type": "code",
   "execution_count": 218,
   "metadata": {},
   "outputs": [
    {
     "data": {
      "text/plain": [
       "((266776, 10), (266776, 61), (114333, 10), (114333, 61))"
      ]
     },
     "execution_count": 218,
     "metadata": {},
     "output_type": "execute_result"
    }
   ],
   "source": [
    "xtrain.shape, xtrain_lin.shape, xval.shape, xval_lin.shape"
   ]
  },
  {
   "cell_type": "code",
   "execution_count": 308,
   "metadata": {},
   "outputs": [],
   "source": [
    "scaler= StandardScaler()\n",
    "col_transformer = ColumnTransformer(transformers=[('numcols', scaler, num_cols)], \n",
    "                                    remainder='passthrough', n_jobs=-1)"
   ]
  },
  {
   "cell_type": "code",
   "execution_count": 227,
   "metadata": {},
   "outputs": [],
   "source": [
    "logreg = LogisticRegression(random_state=seed, n_jobs=-1, max_iter=250, C=5)\n",
    "\n",
    "rf_gf = RGFClassifier()\n",
    "\n",
    "rf = RandomForestClassifier(random_state=seed, min_samples_leaf=10, min_samples_split=10, criterion='entropy',\n",
    "                            max_samples=0.85, n_estimators=600, n_jobs=-1, warm_start=True)\n",
    "\n",
    "catm = cat.CatBoostClassifier(random_seed=seed, early_stopping_rounds=250, silent=True, n_estimators=1000,\n",
    "                              learning_rate=0.07)\n",
    "\n",
    "lgbm = lgb.LGBMClassifier(random_state=seed, n_estimators=1000, learning_rate=0.04,\n",
    "                         subsample=0.8, colsample_bytree=0.8, num_leaves=40)\n",
    "\n",
    "gb = GradientBoostingClassifier(random_state=seed, learning_rate=0.08, n_estimators=700, n_iter_no_change=200,\n",
    "                                subsample=0.8, min_samples_leaf=5, min_samples_split=10, warm_start=True, \n",
    "                                validation_fraction=0.2)\n",
    "\n",
    "ext = ExtraTreesClassifier(random_state=seed, min_samples_leaf=7, min_samples_split=10, n_jobs=-1, n_estimators=600,\n",
    "                           max_samples=0.8, criterion='entropy')"
   ]
  },
  {
   "cell_type": "code",
   "execution_count": 310,
   "metadata": {},
   "outputs": [],
   "source": [
    "logreg_pl = Pipeline([('coltrans', col_transformer), ('logreg', logreg)])"
   ]
  },
  {
   "cell_type": "markdown",
   "metadata": {},
   "source": [
    "#### Training"
   ]
  },
  {
   "cell_type": "code",
   "execution_count": 229,
   "metadata": {},
   "outputs": [],
   "source": [
    "def plotImportance(model, title=None, ax=None):\n",
    "    imp = pd.Series(model.feature_importances_, index=xtrain.columns).sort_values()\n",
    "    imp.plot.barh(title=title)\n",
    "    if ax:\n",
    "        imp.plot.barh(ax=ax, title=title)"
   ]
  },
  {
   "cell_type": "code",
   "execution_count": 230,
   "metadata": {},
   "outputs": [
    {
     "name": "stdout",
     "output_type": "stream",
     "text": [
      "Train AUC: 0.83803 Train Bal. Acc : 0.50156\n",
      "Val AUC: 0.84037 Val Bal. Acc : 0.50204\n"
     ]
    }
   ],
   "source": [
    "TrainModel(logreg_pl, xtrain_lin, xval_lin);"
   ]
  },
  {
   "cell_type": "code",
   "execution_count": 231,
   "metadata": {},
   "outputs": [
    {
     "name": "stdout",
     "output_type": "stream",
     "text": [
      "Train AUC: 0.8907 Train Bal. Acc : 0.5004\n",
      "Val AUC: 0.85586 Val Bal. Acc : 0.50014\n"
     ]
    }
   ],
   "source": [
    "TrainModel(ext, xtrain, xval);"
   ]
  },
  {
   "cell_type": "code",
   "execution_count": 232,
   "metadata": {},
   "outputs": [
    {
     "name": "stdout",
     "output_type": "stream",
     "text": [
      "Train AUC: 0.9244 Train Bal. Acc : 0.52157\n",
      "Val AUC: 0.85463 Val Bal. Acc : 0.50583\n"
     ]
    }
   ],
   "source": [
    "TrainModel(rf, xtrain, xval);"
   ]
  },
  {
   "cell_type": "code",
   "execution_count": 234,
   "metadata": {},
   "outputs": [
    {
     "name": "stdout",
     "output_type": "stream",
     "text": [
      "Train AUC: 0.85339 Train Bal. Acc : 0.5\n",
      "Val AUC: 0.85505 Val Bal. Acc : 0.5\n"
     ]
    }
   ],
   "source": [
    "TrainModel(rf_gf, xtrain, xval);"
   ]
  },
  {
   "cell_type": "code",
   "execution_count": 235,
   "metadata": {},
   "outputs": [
    {
     "name": "stdout",
     "output_type": "stream",
     "text": [
      "Train AUC: 0.86356 Train Bal. Acc : 0.50947\n",
      "Val AUC: 0.85889 Val Bal. Acc : 0.50674\n"
     ]
    }
   ],
   "source": [
    "TrainModel(gb, xtrain, xval);"
   ]
  },
  {
   "cell_type": "code",
   "execution_count": 236,
   "metadata": {},
   "outputs": [
    {
     "name": "stdout",
     "output_type": "stream",
     "text": [
      "Train AUC: 0.8693 Train Bal. Acc : 0.50518\n",
      "Val AUC: 0.85936 Val Bal. Acc : 0.50346\n"
     ]
    }
   ],
   "source": [
    "TrainModel(lgbm, xtrain, xval);"
   ]
  },
  {
   "cell_type": "code",
   "execution_count": 238,
   "metadata": {},
   "outputs": [
    {
     "name": "stdout",
     "output_type": "stream",
     "text": [
      "Train AUC: 0.86601 Train Bal. Acc : 0.50989\n",
      "Val AUC: 0.85939 Val Bal. Acc : 0.50534\n"
     ]
    }
   ],
   "source": [
    "TrainModel(catm, xtrain, xval);"
   ]
  },
  {
   "cell_type": "code",
   "execution_count": 240,
   "metadata": {},
   "outputs": [
    {
     "data": {
      "image/png": "[encoded data removed]",
      "text/plain": [
       "<Figure size 864x360 with 6 Axes>"
      ]
     },
     "metadata": {
      "needs_background": "light"
     },
     "output_type": "display_data"
    }
   ],
   "source": [
    "fig,(ax,ax1) = plt.subplots(2,3,figsize=(12,5))\n",
    "plotImportance(rf_gf, title='Greedy Rf', ax=ax[0])\n",
    "plotImportance(rf, title='RF', ax=ax[1])\n",
    "plotImportance(ext, title='ExTrees', ax=ax[2])\n",
    "plotImportance(gb, title='GB', ax=ax1[0])\n",
    "plotImportance(lgbm, title='LGBM', ax=ax1[1])\n",
    "plotImportance(catm, title='CAT', ax=ax1[2])\n",
    "plt.tight_layout(pad=1.)"
   ]
  },
  {
   "cell_type": "code",
   "execution_count": 263,
   "metadata": {},
   "outputs": [
    {
     "data": {
      "image/png": "[encoded data removed]",
      "text/plain": [
       "<Figure size 864x252 with 4 Axes>"
      ]
     },
     "metadata": {
      "needs_background": "light"
     },
     "output_type": "display_data"
    }
   ],
   "source": [
    "figurePlotting(rf_gf)"
   ]
  },
  {
   "cell_type": "code",
   "execution_count": 264,
   "metadata": {},
   "outputs": [
    {
     "data": {
      "image/png": "[encoded data removed]",
      "text/plain": [
       "<Figure size 864x252 with 4 Axes>"
      ]
     },
     "metadata": {
      "needs_background": "light"
     },
     "output_type": "display_data"
    }
   ],
   "source": [
    "figurePlotting(rf)"
   ]
  },
  {
   "cell_type": "code",
   "execution_count": 265,
   "metadata": {},
   "outputs": [
    {
     "data": {
      "image/png": "[encoded data removed]",
      "text/plain": [
       "<Figure size 864x252 with 4 Axes>"
      ]
     },
     "metadata": {
      "needs_background": "light"
     },
     "output_type": "display_data"
    }
   ],
   "source": [
    "figurePlotting(ext)"
   ]
  },
  {
   "cell_type": "code",
   "execution_count": 266,
   "metadata": {},
   "outputs": [
    {
     "data": {
      "image/png": "[encoded data removed]",
      "text/plain": [
       "<Figure size 864x252 with 4 Axes>"
      ]
     },
     "metadata": {
      "needs_background": "light"
     },
     "output_type": "display_data"
    }
   ],
   "source": [
    "figurePlotting(gb)"
   ]
  },
  {
   "cell_type": "code",
   "execution_count": 267,
   "metadata": {},
   "outputs": [
    {
     "data": {
      "image/png": "[encoded data removed]",
      "text/plain": [
       "<Figure size 864x252 with 4 Axes>"
      ]
     },
     "metadata": {
      "needs_background": "light"
     },
     "output_type": "display_data"
    }
   ],
   "source": [
    "figurePlotting(lgbm)"
   ]
  },
  {
   "cell_type": "code",
   "execution_count": 268,
   "metadata": {},
   "outputs": [
    {
     "data": {
      "image/png": "[encoded data removed]",
      "text/plain": [
       "<Figure size 864x252 with 4 Axes>"
      ]
     },
     "metadata": {
      "needs_background": "light"
     },
     "output_type": "display_data"
    }
   ],
   "source": [
    "figurePlotting(catm)"
   ]
  },
  {
   "cell_type": "markdown",
   "metadata": {},
   "source": [
    "#### Predictions"
   ]
  },
  {
   "cell_type": "code",
   "execution_count": 277,
   "metadata": {},
   "outputs": [],
   "source": [
    "skfold= StratifiedKFold(random_state=seed, shuffle=True)"
   ]
  },
  {
   "cell_type": "code",
   "execution_count": 311,
   "metadata": {},
   "outputs": [
    {
     "name": "stdout",
     "output_type": "stream",
     "text": [
      "Fold 1 ===> Val AUC: 0.83706 Val BAS:0.50287\n",
      "Fold 2 ===> Val AUC: 0.83719 Val BAS:0.50186\n",
      "Fold 3 ===> Val AUC: 0.83834 Val BAS:0.50164\n",
      "Fold 4 ===> Val AUC: 0.83856 Val BAS:0.50207\n",
      "Fold 5 ===> Val AUC: 0.84045 Val BAS:0.50153\n",
      "AVG AUC: 0.8383212078628046 AVG Bal. ACC: 0.5019921944225192\n"
     ]
    }
   ],
   "source": [
    "log_pred = skfoldPred(logreg_pl, X_lin, test_ln)"
   ]
  },
  {
   "cell_type": "code",
   "execution_count": 314,
   "metadata": {},
   "outputs": [
    {
     "name": "stdout",
     "output_type": "stream",
     "text": [
      "Fold 1 ===> Val AUC: 0.85262 Val BAS:0.5\n",
      "Fold 2 ===> Val AUC: 0.85146 Val BAS:0.5\n",
      "Fold 3 ===> Val AUC: 0.85313 Val BAS:0.5\n",
      "Fold 4 ===> Val AUC: 0.85561 Val BAS:0.5\n",
      "Fold 5 ===> Val AUC: 0.85498 Val BAS:0.5\n",
      "AVG AUC: 0.8535597351201151 AVG Bal. ACC: 0.5\n"
     ]
    }
   ],
   "source": [
    "rf_gf_pred = skfoldPred(rf_gf, X, test_c)"
   ]
  },
  {
   "cell_type": "code",
   "execution_count": 318,
   "metadata": {},
   "outputs": [
    {
     "name": "stdout",
     "output_type": "stream",
     "text": [
      "Fold 1 ===> Val AUC: 0.90385 Val BAS:0.51737\n",
      "Fold 2 ===> Val AUC: 0.90241 Val BAS:0.51632\n",
      "Fold 3 ===> Val AUC: 0.90345 Val BAS:0.51613\n",
      "Fold 4 ===> Val AUC: 0.90472 Val BAS:0.51738\n",
      "Fold 5 ===> Val AUC: 0.90503 Val BAS:0.51705\n",
      "AVG AUC: 0.9038924559311331 AVG Bal. ACC: 0.5168498949602776\n"
     ]
    }
   ],
   "source": [
    "rf_pred = skfoldPred(rf, X, test_c)"
   ]
  },
  {
   "cell_type": "code",
   "execution_count": 324,
   "metadata": {},
   "outputs": [
    {
     "name": "stdout",
     "output_type": "stream",
     "text": [
      "Fold 1 ===> Val AUC: 0.85403 Val BAS:0.50015\n",
      "Fold 2 ===> Val AUC: 0.85327 Val BAS:0.50021\n",
      "Fold 3 ===> Val AUC: 0.85422 Val BAS:0.50012\n",
      "Fold 4 ===> Val AUC: 0.85624 Val BAS:0.50011\n",
      "Fold 5 ===> Val AUC: 0.85662 Val BAS:0.50011\n",
      "AVG AUC: 0.8548765019833355 AVG Bal. ACC: 0.5001393943363255\n"
     ]
    }
   ],
   "source": [
    "ext_pred = skfoldPred(ext, X, test_c)"
   ]
  },
  {
   "cell_type": "code",
   "execution_count": 323,
   "metadata": {},
   "outputs": [
    {
     "name": "stdout",
     "output_type": "stream",
     "text": [
      "Fold 1 ===> Val AUC: 0.86111 Val BAS:0.51131\n",
      "Fold 2 ===> Val AUC: 0.86169 Val BAS:0.50955\n",
      "Fold 3 ===> Val AUC: 0.86308 Val BAS:0.50969\n",
      "Fold 4 ===> Val AUC: 0.8645 Val BAS:0.51021\n",
      "Fold 5 ===> Val AUC: 0.86562 Val BAS:0.50937\n",
      "AVG AUC: 0.8632018653566138 AVG Bal. ACC: 0.5100258877761404\n"
     ]
    }
   ],
   "source": [
    "gb_pred = skfoldPred(gb, X, test_c)"
   ]
  },
  {
   "cell_type": "code",
   "execution_count": 327,
   "metadata": {},
   "outputs": [
    {
     "name": "stdout",
     "output_type": "stream",
     "text": [
      "Fold 1 ===> Val AUC: 0.85768 Val BAS:0.50297\n",
      "Fold 2 ===> Val AUC: 0.85629 Val BAS:0.50314\n",
      "Fold 3 ===> Val AUC: 0.85829 Val BAS:0.50316\n",
      "Fold 4 ===> Val AUC: 0.85947 Val BAS:0.5017\n",
      "Fold 5 ===> Val AUC: 0.86042 Val BAS:0.50321\n",
      "AVG AUC: 0.8584311481580194 AVG Bal. ACC: 0.5028372608484496\n"
     ]
    }
   ],
   "source": [
    "lgb_pred = skfoldPred(lgbm, X, test_c)"
   ]
  },
  {
   "cell_type": "code",
   "execution_count": 329,
   "metadata": {
    "scrolled": true
   },
   "outputs": [
    {
     "name": "stdout",
     "output_type": "stream",
     "text": [
      "Fold 1 ===> Val AUC: 0.85748 Val BAS:0.50885\n",
      "Fold 2 ===> Val AUC: 0.85625 Val BAS:0.5088\n",
      "Fold 3 ===> Val AUC: 0.85852 Val BAS:0.50891\n",
      "Fold 4 ===> Val AUC: 0.85939 Val BAS:0.50398\n",
      "Fold 5 ===> Val AUC: 0.8605 Val BAS:0.50773\n",
      "AVG AUC: 0.8584286014736755 AVG Bal. ACC: 0.5076530216334731\n"
     ]
    }
   ],
   "source": [
    "cat_pred = skfoldPred(catm, X, test_c)"
   ]
  },
  {
   "cell_type": "code",
   "execution_count": 373,
   "metadata": {},
   "outputs": [],
   "source": [
    "blend = 0.05*log_pred + 0.075*rf_pred + 0.1*rf_gf_pred + 0.125*ext_pred + 0.15*gb_pred + 0.25*cat_pred + 0.25*lgb_pred"
   ]
  },
  {
   "cell_type": "markdown",
   "metadata": {},
   "source": [
    "#### Submission"
   ]
  },
  {
   "cell_type": "code",
   "execution_count": 336,
   "metadata": {},
   "outputs": [],
   "source": [
    "log_df = subfile.copy()\n",
    "log_df['Response'] = log_pred"
   ]
  },
  {
   "cell_type": "code",
   "execution_count": 338,
   "metadata": {},
   "outputs": [],
   "source": [
    "lgb_df = subfile.copy()\n",
    "lgb_df['Response'] = lgb_pred"
   ]
  },
  {
   "cell_type": "code",
   "execution_count": 339,
   "metadata": {},
   "outputs": [],
   "source": [
    "ext_df = subfile.copy()\n",
    "ext_df['Response'] = ext_pred"
   ]
  },
  {
   "cell_type": "code",
   "execution_count": 340,
   "metadata": {},
   "outputs": [],
   "source": [
    "rf_df = subfile.copy()\n",
    "rf_df['Response'] = rf_pred"
   ]
  },
  {
   "cell_type": "code",
   "execution_count": 341,
   "metadata": {},
   "outputs": [],
   "source": [
    "rgf_df = subfile.copy()\n",
    "rgf_df['Response'] = rf_gf_pred"
   ]
  },
  {
   "cell_type": "code",
   "execution_count": 342,
   "metadata": {},
   "outputs": [],
   "source": [
    "gb_df = subfile.copy()\n",
    "gb_df['Response'] = gb_pred"
   ]
  },
  {
   "cell_type": "code",
   "execution_count": 343,
   "metadata": {},
   "outputs": [],
   "source": [
    "cat_df = subfile.copy()\n",
    "cat_df['Response'] = cat_pred"
   ]
  },
  {
   "cell_type": "code",
   "execution_count": 376,
   "metadata": {},
   "outputs": [],
   "source": [
    "blend_df = subfile.copy()\n",
    "blend_df['Response'] = blend"
   ]
  },
  {
   "cell_type": "code",
   "execution_count": 377,
   "metadata": {},
   "outputs": [
    {
     "data": {
      "text/html": [
       "<div>\n",
       "<style scoped>\n",
       "    .dataframe tbody tr th:only-of-type {\n",
       "        vertical-align: middle;\n",
       "    }\n",
       "\n",
       "    .dataframe tbody tr th {\n",
       "        vertical-align: top;\n",
       "    }\n",
       "\n",
       "    .dataframe thead th {\n",
       "        text-align: right;\n",
       "    }\n",
       "</style>\n",
       "<table border=\"1\" class=\"dataframe\">\n",
       "  <thead>\n",
       "    <tr style=\"text-align: right;\">\n",
       "      <th></th>\n",
       "      <th>LogReg</th>\n",
       "      <th>RF</th>\n",
       "      <th>RGF</th>\n",
       "      <th>ExTrees</th>\n",
       "      <th>GB</th>\n",
       "      <th>LGB</th>\n",
       "      <th>CAT</th>\n",
       "      <th>Blend</th>\n",
       "    </tr>\n",
       "  </thead>\n",
       "  <tbody>\n",
       "    <tr>\n",
       "      <th>LogReg</th>\n",
       "      <td>1.000000</td>\n",
       "      <td>0.906910</td>\n",
       "      <td>0.938940</td>\n",
       "      <td>0.940169</td>\n",
       "      <td>0.914026</td>\n",
       "      <td>0.920806</td>\n",
       "      <td>0.917766</td>\n",
       "      <td>0.933816</td>\n",
       "    </tr>\n",
       "    <tr>\n",
       "      <th>RF</th>\n",
       "      <td>0.906910</td>\n",
       "      <td>1.000000</td>\n",
       "      <td>0.969027</td>\n",
       "      <td>0.982665</td>\n",
       "      <td>0.975409</td>\n",
       "      <td>0.981685</td>\n",
       "      <td>0.980555</td>\n",
       "      <td>0.985717</td>\n",
       "    </tr>\n",
       "    <tr>\n",
       "      <th>RGF</th>\n",
       "      <td>0.938940</td>\n",
       "      <td>0.969027</td>\n",
       "      <td>1.000000</td>\n",
       "      <td>0.986453</td>\n",
       "      <td>0.974654</td>\n",
       "      <td>0.981668</td>\n",
       "      <td>0.978307</td>\n",
       "      <td>0.987599</td>\n",
       "    </tr>\n",
       "    <tr>\n",
       "      <th>ExTrees</th>\n",
       "      <td>0.940169</td>\n",
       "      <td>0.982665</td>\n",
       "      <td>0.986453</td>\n",
       "      <td>1.000000</td>\n",
       "      <td>0.976334</td>\n",
       "      <td>0.984350</td>\n",
       "      <td>0.983485</td>\n",
       "      <td>0.991325</td>\n",
       "    </tr>\n",
       "    <tr>\n",
       "      <th>GB</th>\n",
       "      <td>0.914026</td>\n",
       "      <td>0.975409</td>\n",
       "      <td>0.974654</td>\n",
       "      <td>0.976334</td>\n",
       "      <td>1.000000</td>\n",
       "      <td>0.992305</td>\n",
       "      <td>0.993595</td>\n",
       "      <td>0.993819</td>\n",
       "    </tr>\n",
       "    <tr>\n",
       "      <th>LGB</th>\n",
       "      <td>0.920806</td>\n",
       "      <td>0.981685</td>\n",
       "      <td>0.981668</td>\n",
       "      <td>0.984350</td>\n",
       "      <td>0.992305</td>\n",
       "      <td>1.000000</td>\n",
       "      <td>0.996413</td>\n",
       "      <td>0.997761</td>\n",
       "    </tr>\n",
       "    <tr>\n",
       "      <th>CAT</th>\n",
       "      <td>0.917766</td>\n",
       "      <td>0.980555</td>\n",
       "      <td>0.978307</td>\n",
       "      <td>0.983485</td>\n",
       "      <td>0.993595</td>\n",
       "      <td>0.996413</td>\n",
       "      <td>1.000000</td>\n",
       "      <td>0.997308</td>\n",
       "    </tr>\n",
       "    <tr>\n",
       "      <th>Blend</th>\n",
       "      <td>0.933816</td>\n",
       "      <td>0.985717</td>\n",
       "      <td>0.987599</td>\n",
       "      <td>0.991325</td>\n",
       "      <td>0.993819</td>\n",
       "      <td>0.997761</td>\n",
       "      <td>0.997308</td>\n",
       "      <td>1.000000</td>\n",
       "    </tr>\n",
       "  </tbody>\n",
       "</table>\n",
       "</div>"
      ],
      "text/plain": [
       "           LogReg        RF       RGF   ExTrees        GB       LGB       CAT  \\\n",
       "LogReg   1.000000  0.906910  0.938940  0.940169  0.914026  0.920806  0.917766   \n",
       "RF       0.906910  1.000000  0.969027  0.982665  0.975409  0.981685  0.980555   \n",
       "RGF      0.938940  0.969027  1.000000  0.986453  0.974654  0.981668  0.978307   \n",
       "ExTrees  0.940169  0.982665  0.986453  1.000000  0.976334  0.984350  0.983485   \n",
       "GB       0.914026  0.975409  0.974654  0.976334  1.000000  0.992305  0.993595   \n",
       "LGB      0.920806  0.981685  0.981668  0.984350  0.992305  1.000000  0.996413   \n",
       "CAT      0.917766  0.980555  0.978307  0.983485  0.993595  0.996413  1.000000   \n",
       "Blend    0.933816  0.985717  0.987599  0.991325  0.993819  0.997761  0.997308   \n",
       "\n",
       "            Blend  \n",
       "LogReg   0.933816  \n",
       "RF       0.985717  \n",
       "RGF      0.987599  \n",
       "ExTrees  0.991325  \n",
       "GB       0.993819  \n",
       "LGB      0.997761  \n",
       "CAT      0.997308  \n",
       "Blend    1.000000  "
      ]
     },
     "execution_count": 377,
     "metadata": {},
     "output_type": "execute_result"
    }
   ],
   "source": [
    "pd.DataFrame(np.c_[log_pred, rf_pred, rf_gf_pred, ext_pred, gb_pred, lgb_pred, cat_pred,blend],\n",
    "            columns=['LogReg', 'RF', 'RGF', 'ExTrees', 'GB', 'LGB', 'CAT', 'Blend']).corr()"
   ]
  },
  {
   "cell_type": "code",
   "execution_count": 378,
   "metadata": {},
   "outputs": [
    {
     "data": {
      "text/html": [
       "<div>\n",
       "<style scoped>\n",
       "    .dataframe tbody tr th:only-of-type {\n",
       "        vertical-align: middle;\n",
       "    }\n",
       "\n",
       "    .dataframe tbody tr th {\n",
       "        vertical-align: top;\n",
       "    }\n",
       "\n",
       "    .dataframe thead th {\n",
       "        text-align: right;\n",
       "    }\n",
       "</style>\n",
       "<table border=\"1\" class=\"dataframe\">\n",
       "  <thead>\n",
       "    <tr style=\"text-align: right;\">\n",
       "      <th></th>\n",
       "      <th>LogReg</th>\n",
       "      <th>RF</th>\n",
       "      <th>RGF</th>\n",
       "      <th>ExTrees</th>\n",
       "      <th>GB</th>\n",
       "      <th>LGB</th>\n",
       "      <th>CAT</th>\n",
       "      <th>Blend</th>\n",
       "    </tr>\n",
       "  </thead>\n",
       "  <tbody>\n",
       "    <tr>\n",
       "      <th>0</th>\n",
       "      <td>0.000874</td>\n",
       "      <td>0.000076</td>\n",
       "      <td>0.002260</td>\n",
       "      <td>0.000329</td>\n",
       "      <td>0.000833</td>\n",
       "      <td>0.000404</td>\n",
       "      <td>0.000629</td>\n",
       "      <td>0.000700</td>\n",
       "    </tr>\n",
       "    <tr>\n",
       "      <th>1</th>\n",
       "      <td>0.372747</td>\n",
       "      <td>0.325232</td>\n",
       "      <td>0.319443</td>\n",
       "      <td>0.326207</td>\n",
       "      <td>0.296812</td>\n",
       "      <td>0.312345</td>\n",
       "      <td>0.309039</td>\n",
       "      <td>0.315618</td>\n",
       "    </tr>\n",
       "    <tr>\n",
       "      <th>2</th>\n",
       "      <td>0.268362</td>\n",
       "      <td>0.261629</td>\n",
       "      <td>0.308071</td>\n",
       "      <td>0.282566</td>\n",
       "      <td>0.306161</td>\n",
       "      <td>0.298379</td>\n",
       "      <td>0.296494</td>\n",
       "      <td>0.293811</td>\n",
       "    </tr>\n",
       "    <tr>\n",
       "      <th>3</th>\n",
       "      <td>0.002912</td>\n",
       "      <td>0.012586</td>\n",
       "      <td>0.010105</td>\n",
       "      <td>0.012680</td>\n",
       "      <td>0.006244</td>\n",
       "      <td>0.008358</td>\n",
       "      <td>0.010632</td>\n",
       "      <td>0.009369</td>\n",
       "    </tr>\n",
       "    <tr>\n",
       "      <th>4</th>\n",
       "      <td>0.000631</td>\n",
       "      <td>0.001630</td>\n",
       "      <td>0.002416</td>\n",
       "      <td>0.000571</td>\n",
       "      <td>0.000426</td>\n",
       "      <td>0.000354</td>\n",
       "      <td>0.000357</td>\n",
       "      <td>0.000708</td>\n",
       "    </tr>\n",
       "    <tr>\n",
       "      <th>...</th>\n",
       "      <td>...</td>\n",
       "      <td>...</td>\n",
       "      <td>...</td>\n",
       "      <td>...</td>\n",
       "      <td>...</td>\n",
       "      <td>...</td>\n",
       "      <td>...</td>\n",
       "      <td>...</td>\n",
       "    </tr>\n",
       "    <tr>\n",
       "      <th>127032</th>\n",
       "      <td>0.000352</td>\n",
       "      <td>0.000006</td>\n",
       "      <td>0.002137</td>\n",
       "      <td>0.001618</td>\n",
       "      <td>0.000693</td>\n",
       "      <td>0.000286</td>\n",
       "      <td>0.000350</td>\n",
       "      <td>0.000697</td>\n",
       "    </tr>\n",
       "    <tr>\n",
       "      <th>127033</th>\n",
       "      <td>0.286053</td>\n",
       "      <td>0.372380</td>\n",
       "      <td>0.345109</td>\n",
       "      <td>0.348370</td>\n",
       "      <td>0.361298</td>\n",
       "      <td>0.362366</td>\n",
       "      <td>0.364720</td>\n",
       "      <td>0.356254</td>\n",
       "    </tr>\n",
       "    <tr>\n",
       "      <th>127034</th>\n",
       "      <td>0.000606</td>\n",
       "      <td>0.000008</td>\n",
       "      <td>0.002259</td>\n",
       "      <td>0.000269</td>\n",
       "      <td>0.000679</td>\n",
       "      <td>0.000207</td>\n",
       "      <td>0.000255</td>\n",
       "      <td>0.000508</td>\n",
       "    </tr>\n",
       "    <tr>\n",
       "      <th>127035</th>\n",
       "      <td>0.000686</td>\n",
       "      <td>0.000318</td>\n",
       "      <td>0.003588</td>\n",
       "      <td>0.000180</td>\n",
       "      <td>0.000529</td>\n",
       "      <td>0.000200</td>\n",
       "      <td>0.000061</td>\n",
       "      <td>0.000584</td>\n",
       "    </tr>\n",
       "    <tr>\n",
       "      <th>127036</th>\n",
       "      <td>0.001286</td>\n",
       "      <td>0.000344</td>\n",
       "      <td>0.003942</td>\n",
       "      <td>0.000785</td>\n",
       "      <td>0.000657</td>\n",
       "      <td>0.000753</td>\n",
       "      <td>0.001093</td>\n",
       "      <td>0.001142</td>\n",
       "    </tr>\n",
       "  </tbody>\n",
       "</table>\n",
       "<p>127037 rows × 8 columns</p>\n",
       "</div>"
      ],
      "text/plain": [
       "          LogReg        RF       RGF   ExTrees        GB       LGB       CAT  \\\n",
       "0       0.000874  0.000076  0.002260  0.000329  0.000833  0.000404  0.000629   \n",
       "1       0.372747  0.325232  0.319443  0.326207  0.296812  0.312345  0.309039   \n",
       "2       0.268362  0.261629  0.308071  0.282566  0.306161  0.298379  0.296494   \n",
       "3       0.002912  0.012586  0.010105  0.012680  0.006244  0.008358  0.010632   \n",
       "4       0.000631  0.001630  0.002416  0.000571  0.000426  0.000354  0.000357   \n",
       "...          ...       ...       ...       ...       ...       ...       ...   \n",
       "127032  0.000352  0.000006  0.002137  0.001618  0.000693  0.000286  0.000350   \n",
       "127033  0.286053  0.372380  0.345109  0.348370  0.361298  0.362366  0.364720   \n",
       "127034  0.000606  0.000008  0.002259  0.000269  0.000679  0.000207  0.000255   \n",
       "127035  0.000686  0.000318  0.003588  0.000180  0.000529  0.000200  0.000061   \n",
       "127036  0.001286  0.000344  0.003942  0.000785  0.000657  0.000753  0.001093   \n",
       "\n",
       "           Blend  \n",
       "0       0.000700  \n",
       "1       0.315618  \n",
       "2       0.293811  \n",
       "3       0.009369  \n",
       "4       0.000708  \n",
       "...          ...  \n",
       "127032  0.000697  \n",
       "127033  0.356254  \n",
       "127034  0.000508  \n",
       "127035  0.000584  \n",
       "127036  0.001142  \n",
       "\n",
       "[127037 rows x 8 columns]"
      ]
     },
     "execution_count": 378,
     "metadata": {},
     "output_type": "execute_result"
    }
   ],
   "source": [
    "pd.DataFrame(np.c_[log_pred, rf_pred, rf_gf_pred, ext_pred, gb_pred, lgb_pred, cat_pred, blend],\n",
    "            columns=['LogReg', 'RF', 'RGF', 'ExTrees', 'GB', 'LGB', 'CAT', 'Blend'])"
   ]
  },
  {
   "cell_type": "code",
   "execution_count": 346,
   "metadata": {},
   "outputs": [],
   "source": [
    "os.mkdir('predictions')"
   ]
  },
  {
   "cell_type": "code",
   "execution_count": 379,
   "metadata": {},
   "outputs": [],
   "source": [
    "log_df.to_csv('predictions/logreg_bl.csv', index=False)\n",
    "rf_df.to_csv('predictions/rf_bl.csv', index=False)\n",
    "rgf_df.to_csv('predictions/rgf_bl.csv', index=False)\n",
    "ext_df.to_csv('predictions/extrees_bl.csv', index=False)\n",
    "gb_df.to_csv('predictions/gb_bl.csv', index=False)\n",
    "lgb_df.to_csv('predictions/lgb_bl.csv', index=False)\n",
    "cat_df.to_csv('predictions/cat_bl.csv', index=False)\n",
    "blend_df.to_csv('predictions/blend_bl.csv', index=False)"
   ]
  },
  {
   "cell_type": "raw",
   "metadata": {},
   "source": [
    "LB Scores\n",
    "              \n",
    "Logreg ==> Public (0.837918761591812), Private(0.843227567581081)\n",
    "RGf ==> Public (0.852479523327741), Private(0.858106460518743)\n",
    "exTrees ==> Public(0.853444566205107), Private (0.858958912306531)\n",
    "Rf ==> Public(0.852887044772815), Private(0.857779251293088)\n",
    "gb ==> Public(0.856734765101064), Public(0.861764261621746)\n",
    "lgb ==> Public(0.857771025042588), Private(0.862807653262987)\n",
    "cat ==> Public(0.857266068755288), Private(0.862526833267015)\n",
    "Blend ==> Public(0.857353001574693), Private(0.862592961270682)"
   ]
  },
  {
   "cell_type": "code",
   "execution_count": 380,
   "metadata": {},
   "outputs": [
    {
     "data": {
      "text/plain": [
       "13893"
      ]
     },
     "execution_count": 380,
     "metadata": {},
     "output_type": "execute_result"
    }
   ],
   "source": [
    "gc.collect()"
   ]
  }
 ],
 "metadata": {
  "kernelspec": {
   "display_name": "Python 3",
   "language": "python",
   "name": "python3"
  },
  "language_info": {
   "codemirror_mode": {
    "name": "ipython",
    "version": 3
   },
   "file_extension": ".py",
   "mimetype": "text/x-python",
   "name": "python",
   "nbconvert_exporter": "python",
   "pygments_lexer": "ipython3",
   "version": "3.7.4"
  }
 },
 "nbformat": 4,
 "nbformat_minor": 2
}
