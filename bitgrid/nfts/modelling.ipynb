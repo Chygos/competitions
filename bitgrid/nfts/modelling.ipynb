{
  "nbformat": 4,
  "nbformat_minor": 0,
  "metadata": {
    "colab": {
      "provenance": [],
      "authorship_tag": "ABX9TyMbmYc31wzLSJ6RF92BS7Kk",
      "include_colab_link": true
    },
    "kernelspec": {
      "name": "python3",
      "display_name": "Python 3"
    },
    "language_info": {
      "name": "python"
    },
    "accelerator": "GPU",
    "gpuClass": "standard"
  },
  "cells": [
    {
      "cell_type": "markdown",
      "metadata": {
        "id": "view-in-github",
        "colab_type": "text"
      },
      "source": [
        "<a href=\"https://colab.research.google.com/github/Chygos/competitions/blob/main/nfts/modelling.ipynb\" target=\"_parent\"><img src=\"https://colab.research.google.com/assets/colab-badge.svg\" alt=\"Open In Colab\"/></a>"
      ]
    },
    {
      "cell_type": "code",
      "source": [
        "!pip install lightgbm catboost xgboost scikit-learn --upgrade --q"
      ],
      "metadata": {
        "colab": {
          "base_uri": "https://localhost:8080/"
        },
        "id": "BUFduVXhKrzD",
        "outputId": "b3581fd5-44e2-45df-9683-72579a5dc876"
      },
      "execution_count": null,
      "outputs": [
        {
          "output_type": "stream",
          "name": "stdout",
          "text": [
            "\u001b[2K     \u001b[90m━━━━━━━━━━━━━━━━━━━━━━━━━━━━━━━━━━━━━━━━\u001b[0m \u001b[32m2.0/2.0 MB\u001b[0m \u001b[31m64.6 MB/s\u001b[0m eta \u001b[36m0:00:00\u001b[0m\n",
            "\u001b[2K     \u001b[90m━━━━━━━━━━━━━━━━━━━━━━━━━━━━━━━━━━━━━━━━\u001b[0m \u001b[32m76.6/76.6 MB\u001b[0m \u001b[31m12.4 MB/s\u001b[0m eta \u001b[36m0:00:00\u001b[0m\n",
            "\u001b[2K     \u001b[90m━━━━━━━━━━━━━━━━━━━━━━━━━━━━━━━━━━━━━━━\u001b[0m \u001b[32m193.6/193.6 MB\u001b[0m \u001b[31m6.0 MB/s\u001b[0m eta \u001b[36m0:00:00\u001b[0m\n",
            "\u001b[2K     \u001b[90m━━━━━━━━━━━━━━━━━━━━━━━━━━━━━━━━━━━━━━━━\u001b[0m \u001b[32m9.7/9.7 MB\u001b[0m \u001b[31m55.1 MB/s\u001b[0m eta \u001b[36m0:00:00\u001b[0m\n",
            "\u001b[?25h"
          ]
        }
      ]
    },
    {
      "cell_type": "code",
      "execution_count": null,
      "metadata": {
        "colab": {
          "base_uri": "https://localhost:8080/"
        },
        "id": "C0Bwji5EJjyY",
        "outputId": "1edf949e-7375-45b4-d255-76230f6965de"
      },
      "outputs": [
        {
          "output_type": "stream",
          "name": "stdout",
          "text": [
            "Mounted at /content/gdrive\n"
          ]
        }
      ],
      "source": [
        "from google.colab import drive\n",
        "drive.mount('/content/gdrive')"
      ]
    },
    {
      "cell_type": "code",
      "source": [
        "# changing directory\n",
        "import os\n",
        "os.chdir(\"./gdrive/My Drive/bitgrid competitions/NFT_price_prediction/\")"
      ],
      "metadata": {
        "id": "Vrq2fHEFJ8tF"
      },
      "execution_count": null,
      "outputs": []
    },
    {
      "cell_type": "code",
      "source": [
        "import pandas as pd\n",
        "import numpy as np\n",
        "import matplotlib.pyplot as plt\n",
        "import seaborn as sns"
      ],
      "metadata": {
        "id": "mFSvG9d5KK7Q"
      },
      "execution_count": null,
      "outputs": []
    },
    {
      "cell_type": "code",
      "source": [
        "from sklearn.metrics import mean_squared_error, mean_absolute_error, make_scorer\n",
        "from sklearn.model_selection import train_test_split, KFold\n",
        "import xgboost as xgb\n",
        "import catboost as cat\n",
        "import lightgbm as lgb\n",
        "import sklearn"
      ],
      "metadata": {
        "id": "0Ull1Kj6K6OG"
      },
      "execution_count": null,
      "outputs": []
    },
    {
      "cell_type": "code",
      "source": [
        "xgb.__version__, lgb.__version__, cat.__version__, sklearn.__version__"
      ],
      "metadata": {
        "colab": {
          "base_uri": "https://localhost:8080/"
        },
        "id": "kJwKdcj1RjlW",
        "outputId": "e6104385-79e8-45a9-d9f4-c41135019320"
      },
      "execution_count": null,
      "outputs": [
        {
          "output_type": "execute_result",
          "data": {
            "text/plain": [
              "('1.7.3', '3.3.4', '1.1.1', '1.2.0')"
            ]
          },
          "metadata": {},
          "execution_count": 8
        }
      ]
    },
    {
      "cell_type": "code",
      "source": [
        "pd.set_option('display.max_columns', 70)"
      ],
      "metadata": {
        "id": "AhQQGEVwKcYH"
      },
      "execution_count": null,
      "outputs": []
    },
    {
      "cell_type": "code",
      "source": [
        "train = pd.read_parquet('data/train_cleaned.parquet')\n",
        "test = pd.read_parquet('data/test_cleaned.parquet')"
      ],
      "metadata": {
        "id": "svDnR0hXKPzG"
      },
      "execution_count": null,
      "outputs": []
    },
    {
      "cell_type": "code",
      "source": [
        "train.head()"
      ],
      "metadata": {
        "colab": {
          "base_uri": "https://localhost:8080/",
          "height": 270
        },
        "id": "fWNrjQRPMBOm",
        "outputId": "b3802a52-bcaa-45f9-b839-1356814ff9a6"
      },
      "execution_count": null,
      "outputs": [
        {
          "output_type": "execute_result",
          "data": {
            "text/plain": [
              "   global_index  nft_id  collection_id  rarity_score  openrarity_score  \\\n",
              "0         21928       0             49      2.000000               NaN   \n",
              "1         32621       0             45     97.077216               NaN   \n",
              "2         32622       1             45    139.453086               NaN   \n",
              "3         32623       2             45    127.753445               NaN   \n",
              "4         32624       3             45    112.315719               NaN   \n",
              "\n",
              "   openrarity_rank  openrarity_max_rank last_sale_date  last_sale_price  \\\n",
              "0              NaN                  NaN     2022-11-01         1.266732   \n",
              "1              NaN                  NaN     2021-08-01         1.200357   \n",
              "2              NaN                  NaN     2022-08-01         3.180572   \n",
              "3              NaN                  NaN     2021-08-01         3.502910   \n",
              "4              NaN                  NaN     2022-09-01         4.009567   \n",
              "\n",
              "   total_supply creation_date  verification_status  n_of_traits  \\\n",
              "0             1    2022-04-01                    1            2   \n",
              "1          8888    2021-07-01                    1            5   \n",
              "2          8888    2021-07-01                    1            5   \n",
              "3          8888    2021-07-01                    1            5   \n",
              "4          8888    2021-07-01                    1            5   \n",
              "\n",
              "   contract_type  seller_fees  openrarity_enabled  has_discord  has_medium  \\\n",
              "0              1       1000.0                   0            1           0   \n",
              "1              1        500.0                   0            1           0   \n",
              "2              1        500.0                   0            1           0   \n",
              "3              1        500.0                   0            1           0   \n",
              "4              1        500.0                   0            1           0   \n",
              "\n",
              "         age  n_tweets_in_range   avg_likes  avg_replies  avg_retweets  \\\n",
              "0   9.002238                 31  187.967742     8.290323     60.935484   \n",
              "1  18.004476                 11  133.181818    13.454545     55.181818   \n",
              "2  18.004476                 11  133.181818    13.454545     55.181818   \n",
              "3  18.004476                 11  133.181818    13.454545     55.181818   \n",
              "4  18.004476                 11  133.181818    13.454545     55.181818   \n",
              "\n",
              "   min_likes  min_replies  min_retweets  max_likes  max_replies  max_retweets  \\\n",
              "0          0            0             2        591           28           380   \n",
              "1          0            0             7        402           47           239   \n",
              "2          0            0             7        402           47           239   \n",
              "3          0            0             7        402           47           239   \n",
              "4          0            0             7        402           47           239   \n",
              "\n",
              "   col_age_at_sale  sale_month  sale_quarter  sale_year  coll_targ_min  \\\n",
              "0         7.030945          11             4       2022       1.266732   \n",
              "1         1.018501           8             3       2021       0.000037   \n",
              "2        13.010534           8             3       2022       0.000037   \n",
              "3         1.018501           8             3       2021       0.000037   \n",
              "4        14.029036           9             3       2022       0.000037   \n",
              "\n",
              "   coll_targ_mean  coll_targ_max  coll_targ_std  n_nft_in_sdate  \\\n",
              "0        1.266732       1.266732            NaN               1   \n",
              "1        2.559610     400.001379       5.344588            3143   \n",
              "2        2.559610     400.001379       5.344588             750   \n",
              "3        2.559610     400.001379       5.344588            3143   \n",
              "4        2.559610     400.001379       5.344588             276   \n",
              "\n",
              "   col_min_last_sale_price  col_mean_last_sale_price  col_max_last_sale_price  \\\n",
              "0                 1.266732                  1.266732                 1.266732   \n",
              "1                 0.000182                  2.662060               130.005079   \n",
              "2                 0.000064                  4.059408               400.001379   \n",
              "3                 0.000182                  2.662060               130.005079   \n",
              "4                 0.000441                  3.782424                24.005621   \n",
              "\n",
              "   col_std_last_sale_price  c_labels_1  c_labels_2  c_labels_3  targ_proba  \n",
              "0                      NaN           1           0           0    0.968786  \n",
              "1                 4.641399           1           0           0    0.982246  \n",
              "2                14.646178           1           0           0    0.987769  \n",
              "3                 4.641399           1           0           0    0.978075  \n",
              "4                 1.869985           1           0           0    0.971822  "
            ],
            "text/html": [
              "\n",
              "  <div id=\"df-9ece4bcd-699d-4dc1-9e86-6280b6096cb3\">\n",
              "    <div class=\"colab-df-container\">\n",
              "      <div>\n",
              "<style scoped>\n",
              "    .dataframe tbody tr th:only-of-type {\n",
              "        vertical-align: middle;\n",
              "    }\n",
              "\n",
              "    .dataframe tbody tr th {\n",
              "        vertical-align: top;\n",
              "    }\n",
              "\n",
              "    .dataframe thead th {\n",
              "        text-align: right;\n",
              "    }\n",
              "</style>\n",
              "<table border=\"1\" class=\"dataframe\">\n",
              "  <thead>\n",
              "    <tr style=\"text-align: right;\">\n",
              "      <th></th>\n",
              "      <th>global_index</th>\n",
              "      <th>nft_id</th>\n",
              "      <th>collection_id</th>\n",
              "      <th>rarity_score</th>\n",
              "      <th>openrarity_score</th>\n",
              "      <th>openrarity_rank</th>\n",
              "      <th>openrarity_max_rank</th>\n",
              "      <th>last_sale_date</th>\n",
              "      <th>last_sale_price</th>\n",
              "      <th>total_supply</th>\n",
              "      <th>creation_date</th>\n",
              "      <th>verification_status</th>\n",
              "      <th>n_of_traits</th>\n",
              "      <th>contract_type</th>\n",
              "      <th>seller_fees</th>\n",
              "      <th>openrarity_enabled</th>\n",
              "      <th>has_discord</th>\n",
              "      <th>has_medium</th>\n",
              "      <th>age</th>\n",
              "      <th>n_tweets_in_range</th>\n",
              "      <th>avg_likes</th>\n",
              "      <th>avg_replies</th>\n",
              "      <th>avg_retweets</th>\n",
              "      <th>min_likes</th>\n",
              "      <th>min_replies</th>\n",
              "      <th>min_retweets</th>\n",
              "      <th>max_likes</th>\n",
              "      <th>max_replies</th>\n",
              "      <th>max_retweets</th>\n",
              "      <th>col_age_at_sale</th>\n",
              "      <th>sale_month</th>\n",
              "      <th>sale_quarter</th>\n",
              "      <th>sale_year</th>\n",
              "      <th>coll_targ_min</th>\n",
              "      <th>coll_targ_mean</th>\n",
              "      <th>coll_targ_max</th>\n",
              "      <th>coll_targ_std</th>\n",
              "      <th>n_nft_in_sdate</th>\n",
              "      <th>col_min_last_sale_price</th>\n",
              "      <th>col_mean_last_sale_price</th>\n",
              "      <th>col_max_last_sale_price</th>\n",
              "      <th>col_std_last_sale_price</th>\n",
              "      <th>c_labels_1</th>\n",
              "      <th>c_labels_2</th>\n",
              "      <th>c_labels_3</th>\n",
              "      <th>targ_proba</th>\n",
              "    </tr>\n",
              "  </thead>\n",
              "  <tbody>\n",
              "    <tr>\n",
              "      <th>0</th>\n",
              "      <td>21928</td>\n",
              "      <td>0</td>\n",
              "      <td>49</td>\n",
              "      <td>2.000000</td>\n",
              "      <td>NaN</td>\n",
              "      <td>NaN</td>\n",
              "      <td>NaN</td>\n",
              "      <td>2022-11-01</td>\n",
              "      <td>1.266732</td>\n",
              "      <td>1</td>\n",
              "      <td>2022-04-01</td>\n",
              "      <td>1</td>\n",
              "      <td>2</td>\n",
              "      <td>1</td>\n",
              "      <td>1000.0</td>\n",
              "      <td>0</td>\n",
              "      <td>1</td>\n",
              "      <td>0</td>\n",
              "      <td>9.002238</td>\n",
              "      <td>31</td>\n",
              "      <td>187.967742</td>\n",
              "      <td>8.290323</td>\n",
              "      <td>60.935484</td>\n",
              "      <td>0</td>\n",
              "      <td>0</td>\n",
              "      <td>2</td>\n",
              "      <td>591</td>\n",
              "      <td>28</td>\n",
              "      <td>380</td>\n",
              "      <td>7.030945</td>\n",
              "      <td>11</td>\n",
              "      <td>4</td>\n",
              "      <td>2022</td>\n",
              "      <td>1.266732</td>\n",
              "      <td>1.266732</td>\n",
              "      <td>1.266732</td>\n",
              "      <td>NaN</td>\n",
              "      <td>1</td>\n",
              "      <td>1.266732</td>\n",
              "      <td>1.266732</td>\n",
              "      <td>1.266732</td>\n",
              "      <td>NaN</td>\n",
              "      <td>1</td>\n",
              "      <td>0</td>\n",
              "      <td>0</td>\n",
              "      <td>0.968786</td>\n",
              "    </tr>\n",
              "    <tr>\n",
              "      <th>1</th>\n",
              "      <td>32621</td>\n",
              "      <td>0</td>\n",
              "      <td>45</td>\n",
              "      <td>97.077216</td>\n",
              "      <td>NaN</td>\n",
              "      <td>NaN</td>\n",
              "      <td>NaN</td>\n",
              "      <td>2021-08-01</td>\n",
              "      <td>1.200357</td>\n",
              "      <td>8888</td>\n",
              "      <td>2021-07-01</td>\n",
              "      <td>1</td>\n",
              "      <td>5</td>\n",
              "      <td>1</td>\n",
              "      <td>500.0</td>\n",
              "      <td>0</td>\n",
              "      <td>1</td>\n",
              "      <td>0</td>\n",
              "      <td>18.004476</td>\n",
              "      <td>11</td>\n",
              "      <td>133.181818</td>\n",
              "      <td>13.454545</td>\n",
              "      <td>55.181818</td>\n",
              "      <td>0</td>\n",
              "      <td>0</td>\n",
              "      <td>7</td>\n",
              "      <td>402</td>\n",
              "      <td>47</td>\n",
              "      <td>239</td>\n",
              "      <td>1.018501</td>\n",
              "      <td>8</td>\n",
              "      <td>3</td>\n",
              "      <td>2021</td>\n",
              "      <td>0.000037</td>\n",
              "      <td>2.559610</td>\n",
              "      <td>400.001379</td>\n",
              "      <td>5.344588</td>\n",
              "      <td>3143</td>\n",
              "      <td>0.000182</td>\n",
              "      <td>2.662060</td>\n",
              "      <td>130.005079</td>\n",
              "      <td>4.641399</td>\n",
              "      <td>1</td>\n",
              "      <td>0</td>\n",
              "      <td>0</td>\n",
              "      <td>0.982246</td>\n",
              "    </tr>\n",
              "    <tr>\n",
              "      <th>2</th>\n",
              "      <td>32622</td>\n",
              "      <td>1</td>\n",
              "      <td>45</td>\n",
              "      <td>139.453086</td>\n",
              "      <td>NaN</td>\n",
              "      <td>NaN</td>\n",
              "      <td>NaN</td>\n",
              "      <td>2022-08-01</td>\n",
              "      <td>3.180572</td>\n",
              "      <td>8888</td>\n",
              "      <td>2021-07-01</td>\n",
              "      <td>1</td>\n",
              "      <td>5</td>\n",
              "      <td>1</td>\n",
              "      <td>500.0</td>\n",
              "      <td>0</td>\n",
              "      <td>1</td>\n",
              "      <td>0</td>\n",
              "      <td>18.004476</td>\n",
              "      <td>11</td>\n",
              "      <td>133.181818</td>\n",
              "      <td>13.454545</td>\n",
              "      <td>55.181818</td>\n",
              "      <td>0</td>\n",
              "      <td>0</td>\n",
              "      <td>7</td>\n",
              "      <td>402</td>\n",
              "      <td>47</td>\n",
              "      <td>239</td>\n",
              "      <td>13.010534</td>\n",
              "      <td>8</td>\n",
              "      <td>3</td>\n",
              "      <td>2022</td>\n",
              "      <td>0.000037</td>\n",
              "      <td>2.559610</td>\n",
              "      <td>400.001379</td>\n",
              "      <td>5.344588</td>\n",
              "      <td>750</td>\n",
              "      <td>0.000064</td>\n",
              "      <td>4.059408</td>\n",
              "      <td>400.001379</td>\n",
              "      <td>14.646178</td>\n",
              "      <td>1</td>\n",
              "      <td>0</td>\n",
              "      <td>0</td>\n",
              "      <td>0.987769</td>\n",
              "    </tr>\n",
              "    <tr>\n",
              "      <th>3</th>\n",
              "      <td>32623</td>\n",
              "      <td>2</td>\n",
              "      <td>45</td>\n",
              "      <td>127.753445</td>\n",
              "      <td>NaN</td>\n",
              "      <td>NaN</td>\n",
              "      <td>NaN</td>\n",
              "      <td>2021-08-01</td>\n",
              "      <td>3.502910</td>\n",
              "      <td>8888</td>\n",
              "      <td>2021-07-01</td>\n",
              "      <td>1</td>\n",
              "      <td>5</td>\n",
              "      <td>1</td>\n",
              "      <td>500.0</td>\n",
              "      <td>0</td>\n",
              "      <td>1</td>\n",
              "      <td>0</td>\n",
              "      <td>18.004476</td>\n",
              "      <td>11</td>\n",
              "      <td>133.181818</td>\n",
              "      <td>13.454545</td>\n",
              "      <td>55.181818</td>\n",
              "      <td>0</td>\n",
              "      <td>0</td>\n",
              "      <td>7</td>\n",
              "      <td>402</td>\n",
              "      <td>47</td>\n",
              "      <td>239</td>\n",
              "      <td>1.018501</td>\n",
              "      <td>8</td>\n",
              "      <td>3</td>\n",
              "      <td>2021</td>\n",
              "      <td>0.000037</td>\n",
              "      <td>2.559610</td>\n",
              "      <td>400.001379</td>\n",
              "      <td>5.344588</td>\n",
              "      <td>3143</td>\n",
              "      <td>0.000182</td>\n",
              "      <td>2.662060</td>\n",
              "      <td>130.005079</td>\n",
              "      <td>4.641399</td>\n",
              "      <td>1</td>\n",
              "      <td>0</td>\n",
              "      <td>0</td>\n",
              "      <td>0.978075</td>\n",
              "    </tr>\n",
              "    <tr>\n",
              "      <th>4</th>\n",
              "      <td>32624</td>\n",
              "      <td>3</td>\n",
              "      <td>45</td>\n",
              "      <td>112.315719</td>\n",
              "      <td>NaN</td>\n",
              "      <td>NaN</td>\n",
              "      <td>NaN</td>\n",
              "      <td>2022-09-01</td>\n",
              "      <td>4.009567</td>\n",
              "      <td>8888</td>\n",
              "      <td>2021-07-01</td>\n",
              "      <td>1</td>\n",
              "      <td>5</td>\n",
              "      <td>1</td>\n",
              "      <td>500.0</td>\n",
              "      <td>0</td>\n",
              "      <td>1</td>\n",
              "      <td>0</td>\n",
              "      <td>18.004476</td>\n",
              "      <td>11</td>\n",
              "      <td>133.181818</td>\n",
              "      <td>13.454545</td>\n",
              "      <td>55.181818</td>\n",
              "      <td>0</td>\n",
              "      <td>0</td>\n",
              "      <td>7</td>\n",
              "      <td>402</td>\n",
              "      <td>47</td>\n",
              "      <td>239</td>\n",
              "      <td>14.029036</td>\n",
              "      <td>9</td>\n",
              "      <td>3</td>\n",
              "      <td>2022</td>\n",
              "      <td>0.000037</td>\n",
              "      <td>2.559610</td>\n",
              "      <td>400.001379</td>\n",
              "      <td>5.344588</td>\n",
              "      <td>276</td>\n",
              "      <td>0.000441</td>\n",
              "      <td>3.782424</td>\n",
              "      <td>24.005621</td>\n",
              "      <td>1.869985</td>\n",
              "      <td>1</td>\n",
              "      <td>0</td>\n",
              "      <td>0</td>\n",
              "      <td>0.971822</td>\n",
              "    </tr>\n",
              "  </tbody>\n",
              "</table>\n",
              "</div>\n",
              "      <button class=\"colab-df-convert\" onclick=\"convertToInteractive('df-9ece4bcd-699d-4dc1-9e86-6280b6096cb3')\"\n",
              "              title=\"Convert this dataframe to an interactive table.\"\n",
              "              style=\"display:none;\">\n",
              "        \n",
              "  <svg xmlns=\"http://www.w3.org/2000/svg\" height=\"24px\"viewBox=\"0 0 24 24\"\n",
              "       width=\"24px\">\n",
              "    <path d=\"M0 0h24v24H0V0z\" fill=\"none\"/>\n",
              "    <path d=\"M18.56 5.44l.94 2.06.94-2.06 2.06-.94-2.06-.94-.94-2.06-.94 2.06-2.06.94zm-11 1L8.5 8.5l.94-2.06 2.06-.94-2.06-.94L8.5 2.5l-.94 2.06-2.06.94zm10 10l.94 2.06.94-2.06 2.06-.94-2.06-.94-.94-2.06-.94 2.06-2.06.94z\"/><path d=\"M17.41 7.96l-1.37-1.37c-.4-.4-.92-.59-1.43-.59-.52 0-1.04.2-1.43.59L10.3 9.45l-7.72 7.72c-.78.78-.78 2.05 0 2.83L4 21.41c.39.39.9.59 1.41.59.51 0 1.02-.2 1.41-.59l7.78-7.78 2.81-2.81c.8-.78.8-2.07 0-2.86zM5.41 20L4 18.59l7.72-7.72 1.47 1.35L5.41 20z\"/>\n",
              "  </svg>\n",
              "      </button>\n",
              "      \n",
              "  <style>\n",
              "    .colab-df-container {\n",
              "      display:flex;\n",
              "      flex-wrap:wrap;\n",
              "      gap: 12px;\n",
              "    }\n",
              "\n",
              "    .colab-df-convert {\n",
              "      background-color: #E8F0FE;\n",
              "      border: none;\n",
              "      border-radius: 50%;\n",
              "      cursor: pointer;\n",
              "      display: none;\n",
              "      fill: #1967D2;\n",
              "      height: 32px;\n",
              "      padding: 0 0 0 0;\n",
              "      width: 32px;\n",
              "    }\n",
              "\n",
              "    .colab-df-convert:hover {\n",
              "      background-color: #E2EBFA;\n",
              "      box-shadow: 0px 1px 2px rgba(60, 64, 67, 0.3), 0px 1px 3px 1px rgba(60, 64, 67, 0.15);\n",
              "      fill: #174EA6;\n",
              "    }\n",
              "\n",
              "    [theme=dark] .colab-df-convert {\n",
              "      background-color: #3B4455;\n",
              "      fill: #D2E3FC;\n",
              "    }\n",
              "\n",
              "    [theme=dark] .colab-df-convert:hover {\n",
              "      background-color: #434B5C;\n",
              "      box-shadow: 0px 1px 3px 1px rgba(0, 0, 0, 0.15);\n",
              "      filter: drop-shadow(0px 1px 2px rgba(0, 0, 0, 0.3));\n",
              "      fill: #FFFFFF;\n",
              "    }\n",
              "  </style>\n",
              "\n",
              "      <script>\n",
              "        const buttonEl =\n",
              "          document.querySelector('#df-9ece4bcd-699d-4dc1-9e86-6280b6096cb3 button.colab-df-convert');\n",
              "        buttonEl.style.display =\n",
              "          google.colab.kernel.accessAllowed ? 'block' : 'none';\n",
              "\n",
              "        async function convertToInteractive(key) {\n",
              "          const element = document.querySelector('#df-9ece4bcd-699d-4dc1-9e86-6280b6096cb3');\n",
              "          const dataTable =\n",
              "            await google.colab.kernel.invokeFunction('convertToInteractive',\n",
              "                                                     [key], {});\n",
              "          if (!dataTable) return;\n",
              "\n",
              "          const docLinkHtml = 'Like what you see? Visit the ' +\n",
              "            '<a target=\"_blank\" href=https://colab.research.google.com/notebooks/data_table.ipynb>data table notebook</a>'\n",
              "            + ' to learn more about interactive tables.';\n",
              "          element.innerHTML = '';\n",
              "          dataTable['output_type'] = 'display_data';\n",
              "          await google.colab.output.renderOutput(dataTable, element);\n",
              "          const docLink = document.createElement('div');\n",
              "          docLink.innerHTML = docLinkHtml;\n",
              "          element.appendChild(docLink);\n",
              "        }\n",
              "      </script>\n",
              "    </div>\n",
              "  </div>\n",
              "  "
            ]
          },
          "metadata": {},
          "execution_count": 11
        }
      ]
    },
    {
      "cell_type": "code",
      "source": [
        "train.dtypes"
      ],
      "metadata": {
        "colab": {
          "base_uri": "https://localhost:8080/"
        },
        "id": "umORLJOFKo5B",
        "outputId": "9e9e4e1e-8797-41f4-d723-c0f06175785a"
      },
      "execution_count": null,
      "outputs": [
        {
          "output_type": "execute_result",
          "data": {
            "text/plain": [
              "global_index                         int64\n",
              "nft_id                               int64\n",
              "collection_id                        int64\n",
              "rarity_score                       float64\n",
              "openrarity_score                   float64\n",
              "openrarity_rank                    float64\n",
              "openrarity_max_rank                float64\n",
              "last_sale_date              datetime64[ns]\n",
              "last_sale_price                    float64\n",
              "total_supply                         int64\n",
              "creation_date               datetime64[ns]\n",
              "verification_status                  int64\n",
              "n_of_traits                          int64\n",
              "contract_type                        int64\n",
              "seller_fees                        float64\n",
              "openrarity_enabled                   int64\n",
              "has_discord                          int64\n",
              "has_medium                           int64\n",
              "age                                float64\n",
              "n_tweets_in_range                    int64\n",
              "avg_likes                          float64\n",
              "avg_replies                        float64\n",
              "avg_retweets                       float64\n",
              "min_likes                            int64\n",
              "min_replies                          int64\n",
              "min_retweets                         int64\n",
              "max_likes                            int64\n",
              "max_replies                          int64\n",
              "max_retweets                         int64\n",
              "col_age_at_sale                    float64\n",
              "sale_month                           int64\n",
              "sale_quarter                         int64\n",
              "sale_year                            int64\n",
              "coll_targ_min                      float64\n",
              "coll_targ_mean                     float64\n",
              "coll_targ_max                      float64\n",
              "coll_targ_std                      float64\n",
              "n_nft_in_sdate                       int64\n",
              "col_min_last_sale_price            float64\n",
              "col_mean_last_sale_price           float64\n",
              "col_max_last_sale_price            float64\n",
              "col_std_last_sale_price            float64\n",
              "c_labels_1                           uint8\n",
              "c_labels_2                           uint8\n",
              "c_labels_3                           uint8\n",
              "targ_proba                         float64\n",
              "dtype: object"
            ]
          },
          "metadata": {},
          "execution_count": 12
        }
      ]
    },
    {
      "cell_type": "code",
      "source": [
        "train[['c_labels_1', 'c_labels_2', 'c_labels_3']] = train.filter(like='c_la').astype(int)\n",
        "test[['c_labels_1', 'c_labels_2', 'c_labels_3']] = test.filter(like='c_la').astype(int)"
      ],
      "metadata": {
        "id": "q_UyGUX-OXVU"
      },
      "execution_count": null,
      "outputs": []
    },
    {
      "cell_type": "code",
      "source": [
        "test_ids = test.global_index.tolist()"
      ],
      "metadata": {
        "id": "lwAMEy60Mm9u"
      },
      "execution_count": null,
      "outputs": []
    },
    {
      "cell_type": "code",
      "source": [
        "def scorer(ytrue, ypred):\n",
        "  rmse = mean_squared_error(ytrue, ypred, squared=False)\n",
        "  rmse_norm = np.exp(-rmse/10)\n",
        "  return rmse_norm\n",
        "\n",
        "rmse_norm = make_scorer(scorer, greater_is_better=False)"
      ],
      "metadata": {
        "id": "1cI9XmJFMsnp"
      },
      "execution_count": null,
      "outputs": []
    },
    {
      "cell_type": "code",
      "source": [
        "TARGET = 'last_sale_price'"
      ],
      "metadata": {
        "id": "ZeaLKGg7NzOT"
      },
      "execution_count": null,
      "outputs": []
    },
    {
      "cell_type": "code",
      "source": [
        "DROP_COLS = ['last_sale_date', 'creation_date', 'collection_id', 'nft_id', 'global_index']"
      ],
      "metadata": {
        "id": "HRWPDzu2N8wP"
      },
      "execution_count": null,
      "outputs": []
    },
    {
      "cell_type": "code",
      "source": [
        "tweet_cols = train.filter(regex='likes|tweets|replies').columns.tolist()\n",
        "collection_cols = train.filter(like='col').columns.tolist()[1:]"
      ],
      "metadata": {
        "id": "iWbiiTpPbcrL"
      },
      "execution_count": null,
      "outputs": []
    },
    {
      "cell_type": "code",
      "source": [
        "# reshuffles train\n",
        "train = train.sample(frac=1, random_state=40)"
      ],
      "metadata": {
        "id": "QboOXv6SXlLj"
      },
      "execution_count": null,
      "outputs": []
    },
    {
      "cell_type": "code",
      "source": [
        "X = train.drop([TARGET]+DROP_COLS, axis=1)[]\n",
        "y = np.sqrt(train[TARGET])"
      ],
      "metadata": {
        "id": "q5uKqp6NNdzc"
      },
      "execution_count": null,
      "outputs": []
    },
    {
      "cell_type": "code",
      "source": [
        "SEED = 42"
      ],
      "metadata": {
        "id": "b8s9QGW8QzXh"
      },
      "execution_count": null,
      "outputs": []
    },
    {
      "cell_type": "code",
      "source": [
        "plt.boxplot(y, labels=[TARGET]);"
      ],
      "metadata": {
        "colab": {
          "base_uri": "https://localhost:8080/",
          "height": 266
        },
        "id": "-0rYTs8KCV3t",
        "outputId": "f868fe4b-39ca-4dc2-90fd-4bf64fbbadcd"
      },
      "execution_count": null,
      "outputs": [
        {
          "output_type": "display_data",
          "data": {
            "text/plain": [
              "<Figure size 432x288 with 1 Axes>"
            ],
            "image/png": "[encoded data removed]"
          },
          "metadata": {
            "needs_background": "light"
          }
        }
      ]
    },
    {
      "cell_type": "code",
      "source": [
        "# splitting data into 3: train, validation, and pseudo_test datasets\n",
        "xtrain, xval, ytrain, yval = train_test_split(X, y, test_size=0.25, random_state=SEED)"
      ],
      "metadata": {
        "id": "1Yx9LHXHOrcz"
      },
      "execution_count": null,
      "outputs": []
    },
    {
      "cell_type": "code",
      "source": [
        "fig, ax = plt.subplots(1,2, figsize=(6,4))\n",
        "ax[0].boxplot(ytrain, labels=['ytrain'])\n",
        "ax[1].boxplot(yval, labels=['yval'])\n",
        "plt.tight_layout();"
      ],
      "metadata": {
        "colab": {
          "base_uri": "https://localhost:8080/",
          "height": 297
        },
        "id": "WDAcvP1pKZKz",
        "outputId": "efe2d772-7f82-447c-9279-ab0a5b856816"
      },
      "execution_count": null,
      "outputs": [
        {
          "output_type": "display_data",
          "data": {
            "text/plain": [
              "<Figure size 432x288 with 2 Axes>"
            ],
            "image/png": "[encoded data removed]"
          },
          "metadata": {
            "needs_background": "light"
          }
        }
      ]
    },
    {
      "cell_type": "code",
      "source": [
        "xtest = test.drop(DROP_COLS, axis=1)"
      ],
      "metadata": {
        "id": "TWoW_snLOVhx"
      },
      "execution_count": null,
      "outputs": []
    },
    {
      "cell_type": "code",
      "source": [
        "xtrain.shape, xval.shape, xtest.shape"
      ],
      "metadata": {
        "colab": {
          "base_uri": "https://localhost:8080/"
        },
        "id": "7NqSbaLUPhzc",
        "outputId": "bb842bd4-6fd4-43bc-ba63-a1ee9fa3380a"
      },
      "execution_count": null,
      "outputs": [
        {
          "output_type": "execute_result",
          "data": {
            "text/plain": [
              "((232432, 40), (77478, 40), (181214, 40))"
            ]
          },
          "metadata": {},
          "execution_count": 160
        }
      ]
    },
    {
      "cell_type": "code",
      "source": [
        "def train_model(reg):\n",
        "  reg.fit(xtrain, ytrain)\n",
        "\n",
        "def eval_metric(reg, x, y):\n",
        "  ypreds = np.square(reg.predict(x))\n",
        "  rmse = mean_squared_error(np.square(y), ypreds, squared=False)\n",
        "  mae = mean_absolute_error(np.square(y), ypreds)\n",
        "  rmse_norm = np.exp(-rmse/10)\n",
        "  print(f'RMSE_NORM: {rmse_norm:.4f}\\tRMSE: {rmse:.4f}\\tMAE: {mae:.4f}')"
      ],
      "metadata": {
        "id": "Dmg66qwKP1hj"
      },
      "execution_count": null,
      "outputs": []
    },
    {
      "cell_type": "markdown",
      "source": [
        "### Instantiating Models"
      ],
      "metadata": {
        "id": "gs3IGJJhQqho"
      }
    },
    {
      "cell_type": "code",
      "source": [
        "xgbm = xgb.XGBRegressor(n_estimators=5000, colsample_bytree=0.3, subsample=0.8, n_jobs=-1, max_depth=7, \n",
        "                        reg_lambda=1, gamma=1, tree_method='hist', random_state=SEED, \n",
        "                        learning_rate=0.008, importance_type='weight') #hist\n",
        "\n",
        "lgbm = lgb.LGBMRegressor(n_estimators=5000, colsample_bytree=0.3, subsample=0.8, importance_type='gain',\n",
        "                         reg_lambda=1, random_state=SEED, learning_rate=0.008, max_depth=7, \n",
        "                         num_leaves=35, min_child_samples=10)\n",
        "\n",
        "catm = cat.CatBoostRegressor(n_estimators=5000, task_type='CPU', devices='0:3', silent=True,bootstrap_type='Bernoulli',\n",
        "                             random_state=SEED, subsample=0.8, learning_rate=0.01, max_depth=8, \n",
        "                             l2_leaf_reg=1, colsample_bylevel=0.3, grow_policy='Depthwise')"
      ],
      "metadata": {
        "id": "efWG5AP6Qnlt"
      },
      "execution_count": null,
      "outputs": []
    },
    {
      "cell_type": "markdown",
      "source": [
        "## Training Model"
      ],
      "metadata": {
        "id": "DA617_hHS6dV"
      }
    },
    {
      "cell_type": "code",
      "source": [
        "def feature_importance(reg, top_n=10):\n",
        "  imp = pd.Series(reg.feature_importances_, index=xtrain.columns).sort_values()\n",
        "  imp = imp/imp.sum()\n",
        "  imp[-top_n:].plot.barh(figsize=(9,6))"
      ],
      "metadata": {
        "id": "KTqGMpoATu8I"
      },
      "execution_count": null,
      "outputs": []
    },
    {
      "cell_type": "markdown",
      "source": [
        "__XGBoost__"
      ],
      "metadata": {
        "id": "LkGRqc6dXoP0"
      }
    },
    {
      "cell_type": "code",
      "source": [
        "train_model(xgbm)"
      ],
      "metadata": {
        "id": "jQIrr_oYS5fA"
      },
      "execution_count": null,
      "outputs": []
    },
    {
      "cell_type": "code",
      "source": [
        "eval_metric(xgbm, xtrain, ytrain)"
      ],
      "metadata": {
        "colab": {
          "base_uri": "https://localhost:8080/"
        },
        "id": "Ii5u90cgKRf3",
        "outputId": "6e05ed4d-a46a-4dc2-d6b5-e777a4077305"
      },
      "execution_count": null,
      "outputs": [
        {
          "output_type": "stream",
          "name": "stdout",
          "text": [
            "RMSE_NORM: 0.5496\tRMSE: 5.9855\tMAE: 1.0163\n"
          ]
        }
      ]
    },
    {
      "cell_type": "code",
      "source": [
        "eval_metric(xgbm, xval, yval)"
      ],
      "metadata": {
        "colab": {
          "base_uri": "https://localhost:8080/"
        },
        "id": "qV7dnNakKe3R",
        "outputId": "213ee066-87df-4bbd-8fd3-d4e5fc0dd8f7"
      },
      "execution_count": null,
      "outputs": [
        {
          "output_type": "stream",
          "name": "stdout",
          "text": [
            "RMSE_NORM: 0.4638\tRMSE: 7.6841\tMAE: 1.1805\n"
          ]
        }
      ]
    },
    {
      "cell_type": "code",
      "source": [
        "feature_importance(xgbm)\n",
        "plt.title('XGBoost');"
      ],
      "metadata": {
        "colab": {
          "base_uri": "https://localhost:8080/",
          "height": 390
        },
        "id": "pvsvICWXULRQ",
        "outputId": "d24fa66e-8b7d-4898-ef61-ca982c3b9526"
      },
      "execution_count": null,
      "outputs": [
        {
          "output_type": "display_data",
          "data": {
            "text/plain": [
              "<Figure size 648x432 with 1 Axes>"
            ],
            "image/png": "[encoded data removed]"
          },
          "metadata": {
            "needs_background": "light"
          }
        }
      ]
    },
    {
      "cell_type": "markdown",
      "source": [
        "__LightGBM__"
      ],
      "metadata": {
        "id": "hK1hFGJB0_1C"
      }
    },
    {
      "cell_type": "code",
      "source": [
        "train_model(lgbm)"
      ],
      "metadata": {
        "id": "bf9woC130_1i"
      },
      "execution_count": null,
      "outputs": []
    },
    {
      "cell_type": "code",
      "source": [
        "eval_metric(lgbm, xtrain, ytrain)"
      ],
      "metadata": {
        "colab": {
          "base_uri": "https://localhost:8080/"
        },
        "outputId": "77f1305a-79ca-403b-abcf-6c4edb926068",
        "id": "dJz8oS2W0_1j"
      },
      "execution_count": null,
      "outputs": [
        {
          "output_type": "stream",
          "name": "stdout",
          "text": [
            "RMSE_NORM: 0.5106\tRMSE: 6.7226\tMAE: 1.0702\n"
          ]
        }
      ]
    },
    {
      "cell_type": "code",
      "source": [
        "eval_metric(lgbm, xval, yval)"
      ],
      "metadata": {
        "colab": {
          "base_uri": "https://localhost:8080/"
        },
        "outputId": "fb204e89-f4cb-4acd-c20e-44324669067c",
        "id": "E9tbSYxw0_1k"
      },
      "execution_count": null,
      "outputs": [
        {
          "output_type": "stream",
          "name": "stdout",
          "text": [
            "RMSE_NORM: 0.4771\tRMSE: 7.3999\tMAE: 1.1559\n"
          ]
        }
      ]
    },
    {
      "cell_type": "code",
      "source": [
        "feature_importance(lgbm)\n",
        "plt.title('LightGBM');"
      ],
      "metadata": {
        "colab": {
          "base_uri": "https://localhost:8080/",
          "height": 390
        },
        "outputId": "846d631b-0783-4c4f-ffa5-194480df5dac",
        "id": "i0c3pFeI0_1k"
      },
      "execution_count": null,
      "outputs": [
        {
          "output_type": "display_data",
          "data": {
            "text/plain": [
              "<Figure size 648x432 with 1 Axes>"
            ],
            "image/png": "[encoded data removed]"
          },
          "metadata": {
            "needs_background": "light"
          }
        }
      ]
    },
    {
      "cell_type": "markdown",
      "source": [
        "__CatBoost__"
      ],
      "metadata": {
        "id": "mrGvGkWC9hJN"
      }
    },
    {
      "cell_type": "code",
      "source": [
        "train_model(catm)"
      ],
      "metadata": {
        "id": "Aw0QYCDp9hJp"
      },
      "execution_count": null,
      "outputs": []
    },
    {
      "cell_type": "code",
      "source": [
        "eval_metric(catm, xtrain, ytrain)"
      ],
      "metadata": {
        "colab": {
          "base_uri": "https://localhost:8080/"
        },
        "outputId": "03015121-508a-4ff1-c8d3-74b579dc3175",
        "id": "4YUGm0K89hJq"
      },
      "execution_count": null,
      "outputs": [
        {
          "output_type": "stream",
          "name": "stdout",
          "text": [
            "RMSE_NORM: 0.5748\tRMSE: 5.5375\tMAE: 0.9581\n"
          ]
        }
      ]
    },
    {
      "cell_type": "code",
      "source": [
        "eval_metric(catm, xval, yval)"
      ],
      "metadata": {
        "colab": {
          "base_uri": "https://localhost:8080/"
        },
        "outputId": "dd40b469-30f3-4bb8-fac8-7e556e3efa3f",
        "id": "8D1H883p9hJq"
      },
      "execution_count": null,
      "outputs": [
        {
          "output_type": "stream",
          "name": "stdout",
          "text": [
            "RMSE_NORM: 0.4509\tRMSE: 7.9649\tMAE: 1.1937\n"
          ]
        }
      ]
    },
    {
      "cell_type": "code",
      "source": [
        "feature_importance(catm)\n",
        "plt.title('CatBoost');"
      ],
      "metadata": {
        "colab": {
          "base_uri": "https://localhost:8080/",
          "height": 390
        },
        "outputId": "bfe10980-98a5-4c2e-e88a-8497326428e8",
        "id": "Lzebt5JV9hJr"
      },
      "execution_count": null,
      "outputs": [
        {
          "output_type": "display_data",
          "data": {
            "text/plain": [
              "<Figure size 648x432 with 1 Axes>"
            ],
            "image/png": "[encoded data removed]"
          },
          "metadata": {
            "needs_background": "light"
          }
        }
      ]
    },
    {
      "cell_type": "markdown",
      "source": [
        "# Evaluating on held-out test set"
      ],
      "metadata": {
        "id": "gNGLdqUq_A15"
      }
    },
    {
      "cell_type": "code",
      "source": [
        "# eval_metric(xgbm, xtest1, ytest1)"
      ],
      "metadata": {
        "colab": {
          "base_uri": "https://localhost:8080/"
        },
        "id": "PoS9yOg9-D3i",
        "outputId": "ec03f239-bd89-4f60-9e2f-126b9f8905de"
      },
      "execution_count": null,
      "outputs": [
        {
          "output_type": "stream",
          "name": "stdout",
          "text": [
            "RMSE_NORM: 0.4268\tRMSE: 8.5149\tMAE: 1.2112\n"
          ]
        }
      ]
    },
    {
      "cell_type": "code",
      "source": [
        "# eval_metric(lgbm, xtest1, ytest1)"
      ],
      "metadata": {
        "colab": {
          "base_uri": "https://localhost:8080/"
        },
        "id": "CseaRVi4_MaO",
        "outputId": "0660c02f-9fe2-42ca-916e-327a91677568"
      },
      "execution_count": null,
      "outputs": [
        {
          "output_type": "stream",
          "name": "stdout",
          "text": [
            "RMSE_NORM: 0.4414\tRMSE: 8.1791\tMAE: 1.1895\n"
          ]
        }
      ]
    },
    {
      "cell_type": "code",
      "source": [
        "# eval_metric(catm, xtest1, ytest1)"
      ],
      "metadata": {
        "colab": {
          "base_uri": "https://localhost:8080/"
        },
        "id": "pQLFJBcO_QZH",
        "outputId": "24f1d055-f454-42e8-b6bb-86b65e954669"
      },
      "execution_count": null,
      "outputs": [
        {
          "output_type": "stream",
          "name": "stdout",
          "text": [
            "RMSE_NORM: 0.4445\tRMSE: 8.1091\tMAE: 1.1694\n"
          ]
        }
      ]
    },
    {
      "cell_type": "markdown",
      "source": [
        "## Fitting on all data and predicting on test set"
      ],
      "metadata": {
        "id": "ZatQo9cc_fz6"
      }
    },
    {
      "cell_type": "code",
      "source": [
        "xgbm.fit(X, y);"
      ],
      "metadata": {
        "id": "bJ9puJFk_a17"
      },
      "execution_count": null,
      "outputs": []
    },
    {
      "cell_type": "code",
      "source": [
        "lgbm.fit(X, y);"
      ],
      "metadata": {
        "id": "ikQOU8CA_qrV"
      },
      "execution_count": null,
      "outputs": []
    },
    {
      "cell_type": "code",
      "source": [
        "catm.fit(X, y);"
      ],
      "metadata": {
        "id": "5qyqVtCp_r9i"
      },
      "execution_count": null,
      "outputs": []
    },
    {
      "cell_type": "markdown",
      "source": [
        "# Predictions"
      ],
      "metadata": {
        "id": "dPa9hmaW_uvs"
      }
    },
    {
      "cell_type": "code",
      "source": [
        "def predict(reg, x):\n",
        "  preds = np.square(reg.predict(x))\n",
        "  return preds"
      ],
      "metadata": {
        "id": "wx8KV4U1_5sb"
      },
      "execution_count": null,
      "outputs": []
    },
    {
      "cell_type": "code",
      "source": [
        "xgb_preds = predict(xgbm, xtest)\n",
        "lgb_preds = predict(lgbm, xtest)\n",
        "cat_preds = predict(catm, xtest)"
      ],
      "metadata": {
        "id": "ZXBgLVlM_4YT"
      },
      "execution_count": null,
      "outputs": []
    },
    {
      "cell_type": "code",
      "source": [
        "#!mkdir preds"
      ],
      "metadata": {
        "id": "cGjQb_JSkAV_"
      },
      "execution_count": null,
      "outputs": []
    },
    {
      "cell_type": "code",
      "source": [
        "plt.boxplot(np.c_[xgb_preds, lgb_preds, cat_preds], labels=['xgb', 'lgb', 'cat'])\n",
        "plt.title('Model Prediction Distribution')\n",
        "plt.show()"
      ],
      "metadata": {
        "colab": {
          "base_uri": "https://localhost:8080/",
          "height": 281
        },
        "id": "Ye9WMM1PAx4D",
        "outputId": "d418c5cc-6ddb-4936-9d31-6f5e4b1ee32c"
      },
      "execution_count": null,
      "outputs": [
        {
          "output_type": "display_data",
          "data": {
            "text/plain": [
              "<Figure size 432x288 with 1 Axes>"
            ],
            "image/png": "[encoded data removed]"
          },
          "metadata": {
            "needs_background": "light"
          }
        }
      ]
    },
    {
      "cell_type": "code",
      "source": [
        "def save_file(preds, name=None):\n",
        "  df = pd.DataFrame(np.c_[test_ids, preds], columns=['global_index', TARGET])\n",
        "  df.global_index = df.global_index.astype(int)\n",
        "  df.to_csv(f'preds/{name}.csv', index=False)"
      ],
      "metadata": {
        "id": "sxzYImejkRIv"
      },
      "execution_count": null,
      "outputs": []
    },
    {
      "cell_type": "code",
      "source": [
        "save_file(xgb_preds, 'xgb_1')\n",
        "save_file(lgb_preds, 'lgb_1')\n",
        "save_file(cat_preds, 'cat_1')"
      ],
      "metadata": {
        "id": "xdVuRGYppFPv"
      },
      "execution_count": null,
      "outputs": []
    }
  ]
}