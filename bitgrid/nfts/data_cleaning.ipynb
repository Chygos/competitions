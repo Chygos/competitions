{
  "cells": [
    {
      "cell_type": "markdown",
      "metadata": {
        "id": "view-in-github",
        "colab_type": "text"
      },
      "source": [
        "<a href=\"https://colab.research.google.com/github/Chygos/competitions/blob/main/nfts/data_cleaning.ipynb\" target=\"_parent\"><img src=\"https://colab.research.google.com/assets/colab-badge.svg\" alt=\"Open In Colab\"/></a>"
      ]
    },
    {
      "cell_type": "markdown",
      "source": [
        "# __Description__\n",
        "\n",
        "Non-Fungible Tokens (NFTs) have become not only one of the most popular ways for creators to sell their artistic content worldwide, but also a common investment vehicle in general. A prestigious brokerage for modern and contemporary art wants to move deeper into the digital space, and believes that NFT investments will become even more popular as the number of them proliferates in the market, despite the economic headwind likely to emerge in the near future. \n",
        "\n",
        "That said, it's a common notion that NFT pricing is largely driven by speculation rather than an underlying value such as earnings or future cashflow in traditional investments (e.g. stocks, real estate). This unique characteristic is one of the challenges for the art brokerage in choosing the right NFTs to feature in their auctions, leading to the question of whether the fluctuations in price follow some sort of pattern or not (think about the technical analysis on cryptocurrencies). The company would like some kind of tool to evaluate the NFTs that pique their interest. \n",
        "\n",
        "The goal of this competition is to build a model that predicts __the price of NFTs__ based on a select group of their attributes that are publicly accessible and also based on their social media activity.\n"
      ],
      "metadata": {
        "id": "oTRa1m2RpupS"
      },
      "id": "oTRa1m2RpupS"
    },
    {
      "cell_type": "markdown",
      "source": [
        "## Approach\n",
        "\n",
        "### Data Preprocessing\n",
        "Here, we will perform some data manipulation and preprocessing to prepare data for modelling. Preprocessing steps will be to check for missing values, duplicate rows, inconsistencies in the data and then preprocess them to their appropriate state.\n",
        "\n",
        "### Feature Engineering\n",
        "Here we will create features that may be important at helping us predicting the price of an NFT. Features include\n",
        "- The number of nfts in each collection at a particular month of sale\n",
        "- The month and quarter of sale of that NFT\n",
        "- The age of collection ID. Here we will create the age of collection when the NFT was sold and the overall age of the collection ID since creation date\n",
        "- Average rate of change of average price per month\n",
        "- Cluster the twitter data and attributes of collection ID\n",
        "- The summary statistics (min, max, mean, std) of last sale price for each collection ID. Before this will be calculated, new collection IDs will be assigned the values for the cluster they are assigned to.\n",
        "- Fit a classification model to predict the probability that a particular NFT, based on information about it and the colleciton it belongs to, will be sold at a price above the mean value of NFT sales. The probability will be used as a feature to predict the price it will be sold.\n"
      ],
      "metadata": {
        "id": "Lmpn0b6XqYWL"
      },
      "id": "Lmpn0b6XqYWL"
    },
    {
      "cell_type": "code",
      "source": [
        "from google.colab import drive\n",
        "drive.mount('/content/gdrive', force_remount=True)"
      ],
      "metadata": {
        "colab": {
          "base_uri": "https://localhost:8080/"
        },
        "id": "uKZbUO-lLoUs",
        "outputId": "9615e109-fefc-4370-a51a-85c7a5938095"
      },
      "id": "uKZbUO-lLoUs",
      "execution_count": null,
      "outputs": [
        {
          "output_type": "stream",
          "name": "stdout",
          "text": [
            "Mounted at /content/gdrive\n"
          ]
        }
      ]
    },
    {
      "cell_type": "code",
      "execution_count": null,
      "id": "f14e9224",
      "metadata": {
        "id": "f14e9224"
      },
      "outputs": [],
      "source": [
        "# changing directory\n",
        "import os\n",
        "os.chdir(\"./gdrive/My Drive/bitgrid competitions/NFT_price_prediction/\")"
      ]
    },
    {
      "cell_type": "code",
      "source": [
        "!pip install scikit-learn lightgbm -U --q"
      ],
      "metadata": {
        "id": "pXO9i2JM9VpJ"
      },
      "id": "pXO9i2JM9VpJ",
      "execution_count": null,
      "outputs": []
    },
    {
      "cell_type": "code",
      "execution_count": null,
      "id": "9bd45b3f",
      "metadata": {
        "scrolled": true,
        "id": "9bd45b3f"
      },
      "outputs": [],
      "source": [
        "import pandas as pd\n",
        "import numpy as np\n",
        "import matplotlib.pyplot as plt\n",
        "import seaborn as sns"
      ]
    },
    {
      "cell_type": "code",
      "source": [
        "import sklearn\n",
        "from sklearn.metrics import accuracy_score, roc_auc_score, confusion_matrix\n",
        "from sklearn.model_selection import train_test_split\n",
        "import lightgbm as lgb\n",
        "from sklearn.cluster import KMeans\n",
        "from sklearn.preprocessing import MinMaxScaler, StandardScaler"
      ],
      "metadata": {
        "id": "-16cnqRxyLih"
      },
      "id": "-16cnqRxyLih",
      "execution_count": null,
      "outputs": []
    },
    {
      "cell_type": "code",
      "source": [
        "sklearn.__version__, lgb.__version__"
      ],
      "metadata": {
        "colab": {
          "base_uri": "https://localhost:8080/"
        },
        "id": "2WHF5O4X9qTl",
        "outputId": "62bb65bb-41dc-46d3-b72c-8c97357741c4"
      },
      "id": "2WHF5O4X9qTl",
      "execution_count": null,
      "outputs": [
        {
          "output_type": "execute_result",
          "data": {
            "text/plain": [
              "('1.2.0', '3.3.4')"
            ]
          },
          "metadata": {},
          "execution_count": 6
        }
      ]
    },
    {
      "cell_type": "code",
      "execution_count": null,
      "id": "43796c29",
      "metadata": {
        "id": "43796c29"
      },
      "outputs": [],
      "source": [
        "train = pd.read_csv('data/nfts_train.csv', parse_dates=['last_sale_date'])\n",
        "test = pd.read_csv('data/nfts_predict.csv', parse_dates=['last_sale_date'])\n",
        "collections = pd.read_csv('data/collections.csv', parse_dates=['creation_date'], index_col=0)\n",
        "collections_tweet = pd.read_csv('data/collections_twitter_stats.csv', index_col=0)"
      ]
    },
    {
      "cell_type": "code",
      "execution_count": null,
      "id": "2eaabdd9",
      "metadata": {
        "id": "2eaabdd9"
      },
      "outputs": [],
      "source": [
        "pd.set_option('display.max_columns', 140)"
      ]
    },
    {
      "cell_type": "code",
      "execution_count": null,
      "id": "d3ae9c63",
      "metadata": {
        "colab": {
          "base_uri": "https://localhost:8080/",
          "height": 206
        },
        "id": "d3ae9c63",
        "outputId": "620df269-29de-47e6-ce8a-0e1197accbe5"
      },
      "outputs": [
        {
          "output_type": "execute_result",
          "data": {
            "text/plain": [
              "   global_index  nft_id  collection_id  rarity_score  openrarity_score  \\\n",
              "0         21928       0             49      2.000000               NaN   \n",
              "1         32621       0             45     97.077216               NaN   \n",
              "2         32622       1             45    139.453086               NaN   \n",
              "3         32623       2             45    127.753445               NaN   \n",
              "4         32624       3             45    112.315719               NaN   \n",
              "\n",
              "   openrarity_rank  openrarity_max_rank last_sale_date  last_sale_price  \n",
              "0              NaN                  NaN     2022-11-01         1.266732  \n",
              "1              NaN                  NaN     2021-08-01         1.200357  \n",
              "2              NaN                  NaN     2022-08-01         3.180572  \n",
              "3              NaN                  NaN     2021-08-01         3.502910  \n",
              "4              NaN                  NaN     2022-09-01         4.009567  "
            ],
            "text/html": [
              "\n",
              "  <div id=\"df-83efc428-d1b6-4a26-8fdf-d2fc6e691554\">\n",
              "    <div class=\"colab-df-container\">\n",
              "      <div>\n",
              "<style scoped>\n",
              "    .dataframe tbody tr th:only-of-type {\n",
              "        vertical-align: middle;\n",
              "    }\n",
              "\n",
              "    .dataframe tbody tr th {\n",
              "        vertical-align: top;\n",
              "    }\n",
              "\n",
              "    .dataframe thead th {\n",
              "        text-align: right;\n",
              "    }\n",
              "</style>\n",
              "<table border=\"1\" class=\"dataframe\">\n",
              "  <thead>\n",
              "    <tr style=\"text-align: right;\">\n",
              "      <th></th>\n",
              "      <th>global_index</th>\n",
              "      <th>nft_id</th>\n",
              "      <th>collection_id</th>\n",
              "      <th>rarity_score</th>\n",
              "      <th>openrarity_score</th>\n",
              "      <th>openrarity_rank</th>\n",
              "      <th>openrarity_max_rank</th>\n",
              "      <th>last_sale_date</th>\n",
              "      <th>last_sale_price</th>\n",
              "    </tr>\n",
              "  </thead>\n",
              "  <tbody>\n",
              "    <tr>\n",
              "      <th>0</th>\n",
              "      <td>21928</td>\n",
              "      <td>0</td>\n",
              "      <td>49</td>\n",
              "      <td>2.000000</td>\n",
              "      <td>NaN</td>\n",
              "      <td>NaN</td>\n",
              "      <td>NaN</td>\n",
              "      <td>2022-11-01</td>\n",
              "      <td>1.266732</td>\n",
              "    </tr>\n",
              "    <tr>\n",
              "      <th>1</th>\n",
              "      <td>32621</td>\n",
              "      <td>0</td>\n",
              "      <td>45</td>\n",
              "      <td>97.077216</td>\n",
              "      <td>NaN</td>\n",
              "      <td>NaN</td>\n",
              "      <td>NaN</td>\n",
              "      <td>2021-08-01</td>\n",
              "      <td>1.200357</td>\n",
              "    </tr>\n",
              "    <tr>\n",
              "      <th>2</th>\n",
              "      <td>32622</td>\n",
              "      <td>1</td>\n",
              "      <td>45</td>\n",
              "      <td>139.453086</td>\n",
              "      <td>NaN</td>\n",
              "      <td>NaN</td>\n",
              "      <td>NaN</td>\n",
              "      <td>2022-08-01</td>\n",
              "      <td>3.180572</td>\n",
              "    </tr>\n",
              "    <tr>\n",
              "      <th>3</th>\n",
              "      <td>32623</td>\n",
              "      <td>2</td>\n",
              "      <td>45</td>\n",
              "      <td>127.753445</td>\n",
              "      <td>NaN</td>\n",
              "      <td>NaN</td>\n",
              "      <td>NaN</td>\n",
              "      <td>2021-08-01</td>\n",
              "      <td>3.502910</td>\n",
              "    </tr>\n",
              "    <tr>\n",
              "      <th>4</th>\n",
              "      <td>32624</td>\n",
              "      <td>3</td>\n",
              "      <td>45</td>\n",
              "      <td>112.315719</td>\n",
              "      <td>NaN</td>\n",
              "      <td>NaN</td>\n",
              "      <td>NaN</td>\n",
              "      <td>2022-09-01</td>\n",
              "      <td>4.009567</td>\n",
              "    </tr>\n",
              "  </tbody>\n",
              "</table>\n",
              "</div>\n",
              "      <button class=\"colab-df-convert\" onclick=\"convertToInteractive('df-83efc428-d1b6-4a26-8fdf-d2fc6e691554')\"\n",
              "              title=\"Convert this dataframe to an interactive table.\"\n",
              "              style=\"display:none;\">\n",
              "        \n",
              "  <svg xmlns=\"http://www.w3.org/2000/svg\" height=\"24px\"viewBox=\"0 0 24 24\"\n",
              "       width=\"24px\">\n",
              "    <path d=\"M0 0h24v24H0V0z\" fill=\"none\"/>\n",
              "    <path d=\"M18.56 5.44l.94 2.06.94-2.06 2.06-.94-2.06-.94-.94-2.06-.94 2.06-2.06.94zm-11 1L8.5 8.5l.94-2.06 2.06-.94-2.06-.94L8.5 2.5l-.94 2.06-2.06.94zm10 10l.94 2.06.94-2.06 2.06-.94-2.06-.94-.94-2.06-.94 2.06-2.06.94z\"/><path d=\"M17.41 7.96l-1.37-1.37c-.4-.4-.92-.59-1.43-.59-.52 0-1.04.2-1.43.59L10.3 9.45l-7.72 7.72c-.78.78-.78 2.05 0 2.83L4 21.41c.39.39.9.59 1.41.59.51 0 1.02-.2 1.41-.59l7.78-7.78 2.81-2.81c.8-.78.8-2.07 0-2.86zM5.41 20L4 18.59l7.72-7.72 1.47 1.35L5.41 20z\"/>\n",
              "  </svg>\n",
              "      </button>\n",
              "      \n",
              "  <style>\n",
              "    .colab-df-container {\n",
              "      display:flex;\n",
              "      flex-wrap:wrap;\n",
              "      gap: 12px;\n",
              "    }\n",
              "\n",
              "    .colab-df-convert {\n",
              "      background-color: #E8F0FE;\n",
              "      border: none;\n",
              "      border-radius: 50%;\n",
              "      cursor: pointer;\n",
              "      display: none;\n",
              "      fill: #1967D2;\n",
              "      height: 32px;\n",
              "      padding: 0 0 0 0;\n",
              "      width: 32px;\n",
              "    }\n",
              "\n",
              "    .colab-df-convert:hover {\n",
              "      background-color: #E2EBFA;\n",
              "      box-shadow: 0px 1px 2px rgba(60, 64, 67, 0.3), 0px 1px 3px 1px rgba(60, 64, 67, 0.15);\n",
              "      fill: #174EA6;\n",
              "    }\n",
              "\n",
              "    [theme=dark] .colab-df-convert {\n",
              "      background-color: #3B4455;\n",
              "      fill: #D2E3FC;\n",
              "    }\n",
              "\n",
              "    [theme=dark] .colab-df-convert:hover {\n",
              "      background-color: #434B5C;\n",
              "      box-shadow: 0px 1px 3px 1px rgba(0, 0, 0, 0.15);\n",
              "      filter: drop-shadow(0px 1px 2px rgba(0, 0, 0, 0.3));\n",
              "      fill: #FFFFFF;\n",
              "    }\n",
              "  </style>\n",
              "\n",
              "      <script>\n",
              "        const buttonEl =\n",
              "          document.querySelector('#df-83efc428-d1b6-4a26-8fdf-d2fc6e691554 button.colab-df-convert');\n",
              "        buttonEl.style.display =\n",
              "          google.colab.kernel.accessAllowed ? 'block' : 'none';\n",
              "\n",
              "        async function convertToInteractive(key) {\n",
              "          const element = document.querySelector('#df-83efc428-d1b6-4a26-8fdf-d2fc6e691554');\n",
              "          const dataTable =\n",
              "            await google.colab.kernel.invokeFunction('convertToInteractive',\n",
              "                                                     [key], {});\n",
              "          if (!dataTable) return;\n",
              "\n",
              "          const docLinkHtml = 'Like what you see? Visit the ' +\n",
              "            '<a target=\"_blank\" href=https://colab.research.google.com/notebooks/data_table.ipynb>data table notebook</a>'\n",
              "            + ' to learn more about interactive tables.';\n",
              "          element.innerHTML = '';\n",
              "          dataTable['output_type'] = 'display_data';\n",
              "          await google.colab.output.renderOutput(dataTable, element);\n",
              "          const docLink = document.createElement('div');\n",
              "          docLink.innerHTML = docLinkHtml;\n",
              "          element.appendChild(docLink);\n",
              "        }\n",
              "      </script>\n",
              "    </div>\n",
              "  </div>\n",
              "  "
            ]
          },
          "metadata": {},
          "execution_count": 9
        }
      ],
      "source": [
        "train.head()"
      ]
    },
    {
      "cell_type": "code",
      "execution_count": null,
      "id": "a8c7550e",
      "metadata": {
        "colab": {
          "base_uri": "https://localhost:8080/",
          "height": 206
        },
        "id": "a8c7550e",
        "outputId": "f748de8a-82f7-4691-9500-75e633f067d2"
      },
      "outputs": [
        {
          "output_type": "execute_result",
          "data": {
            "text/plain": [
              "   global_index  nft_id  collection_id  rarity_score  openrarity_score  \\\n",
              "0             0       0             29    176.364208               NaN   \n",
              "1             1       1             29    207.209228               NaN   \n",
              "2             2       2             29    157.293414               NaN   \n",
              "3             3       3             29    173.372185               NaN   \n",
              "4             4       4             29    190.077584               NaN   \n",
              "\n",
              "   openrarity_rank  openrarity_max_rank last_sale_date  \n",
              "0              NaN                  NaN     2022-06-01  \n",
              "1              NaN                  NaN     2022-05-01  \n",
              "2              NaN                  NaN     2022-10-01  \n",
              "3              NaN                  NaN     2022-06-01  \n",
              "4              NaN                  NaN     2022-06-01  "
            ],
            "text/html": [
              "\n",
              "  <div id=\"df-dacfba28-986d-4d0c-b447-2a373c9fb43a\">\n",
              "    <div class=\"colab-df-container\">\n",
              "      <div>\n",
              "<style scoped>\n",
              "    .dataframe tbody tr th:only-of-type {\n",
              "        vertical-align: middle;\n",
              "    }\n",
              "\n",
              "    .dataframe tbody tr th {\n",
              "        vertical-align: top;\n",
              "    }\n",
              "\n",
              "    .dataframe thead th {\n",
              "        text-align: right;\n",
              "    }\n",
              "</style>\n",
              "<table border=\"1\" class=\"dataframe\">\n",
              "  <thead>\n",
              "    <tr style=\"text-align: right;\">\n",
              "      <th></th>\n",
              "      <th>global_index</th>\n",
              "      <th>nft_id</th>\n",
              "      <th>collection_id</th>\n",
              "      <th>rarity_score</th>\n",
              "      <th>openrarity_score</th>\n",
              "      <th>openrarity_rank</th>\n",
              "      <th>openrarity_max_rank</th>\n",
              "      <th>last_sale_date</th>\n",
              "    </tr>\n",
              "  </thead>\n",
              "  <tbody>\n",
              "    <tr>\n",
              "      <th>0</th>\n",
              "      <td>0</td>\n",
              "      <td>0</td>\n",
              "      <td>29</td>\n",
              "      <td>176.364208</td>\n",
              "      <td>NaN</td>\n",
              "      <td>NaN</td>\n",
              "      <td>NaN</td>\n",
              "      <td>2022-06-01</td>\n",
              "    </tr>\n",
              "    <tr>\n",
              "      <th>1</th>\n",
              "      <td>1</td>\n",
              "      <td>1</td>\n",
              "      <td>29</td>\n",
              "      <td>207.209228</td>\n",
              "      <td>NaN</td>\n",
              "      <td>NaN</td>\n",
              "      <td>NaN</td>\n",
              "      <td>2022-05-01</td>\n",
              "    </tr>\n",
              "    <tr>\n",
              "      <th>2</th>\n",
              "      <td>2</td>\n",
              "      <td>2</td>\n",
              "      <td>29</td>\n",
              "      <td>157.293414</td>\n",
              "      <td>NaN</td>\n",
              "      <td>NaN</td>\n",
              "      <td>NaN</td>\n",
              "      <td>2022-10-01</td>\n",
              "    </tr>\n",
              "    <tr>\n",
              "      <th>3</th>\n",
              "      <td>3</td>\n",
              "      <td>3</td>\n",
              "      <td>29</td>\n",
              "      <td>173.372185</td>\n",
              "      <td>NaN</td>\n",
              "      <td>NaN</td>\n",
              "      <td>NaN</td>\n",
              "      <td>2022-06-01</td>\n",
              "    </tr>\n",
              "    <tr>\n",
              "      <th>4</th>\n",
              "      <td>4</td>\n",
              "      <td>4</td>\n",
              "      <td>29</td>\n",
              "      <td>190.077584</td>\n",
              "      <td>NaN</td>\n",
              "      <td>NaN</td>\n",
              "      <td>NaN</td>\n",
              "      <td>2022-06-01</td>\n",
              "    </tr>\n",
              "  </tbody>\n",
              "</table>\n",
              "</div>\n",
              "      <button class=\"colab-df-convert\" onclick=\"convertToInteractive('df-dacfba28-986d-4d0c-b447-2a373c9fb43a')\"\n",
              "              title=\"Convert this dataframe to an interactive table.\"\n",
              "              style=\"display:none;\">\n",
              "        \n",
              "  <svg xmlns=\"http://www.w3.org/2000/svg\" height=\"24px\"viewBox=\"0 0 24 24\"\n",
              "       width=\"24px\">\n",
              "    <path d=\"M0 0h24v24H0V0z\" fill=\"none\"/>\n",
              "    <path d=\"M18.56 5.44l.94 2.06.94-2.06 2.06-.94-2.06-.94-.94-2.06-.94 2.06-2.06.94zm-11 1L8.5 8.5l.94-2.06 2.06-.94-2.06-.94L8.5 2.5l-.94 2.06-2.06.94zm10 10l.94 2.06.94-2.06 2.06-.94-2.06-.94-.94-2.06-.94 2.06-2.06.94z\"/><path d=\"M17.41 7.96l-1.37-1.37c-.4-.4-.92-.59-1.43-.59-.52 0-1.04.2-1.43.59L10.3 9.45l-7.72 7.72c-.78.78-.78 2.05 0 2.83L4 21.41c.39.39.9.59 1.41.59.51 0 1.02-.2 1.41-.59l7.78-7.78 2.81-2.81c.8-.78.8-2.07 0-2.86zM5.41 20L4 18.59l7.72-7.72 1.47 1.35L5.41 20z\"/>\n",
              "  </svg>\n",
              "      </button>\n",
              "      \n",
              "  <style>\n",
              "    .colab-df-container {\n",
              "      display:flex;\n",
              "      flex-wrap:wrap;\n",
              "      gap: 12px;\n",
              "    }\n",
              "\n",
              "    .colab-df-convert {\n",
              "      background-color: #E8F0FE;\n",
              "      border: none;\n",
              "      border-radius: 50%;\n",
              "      cursor: pointer;\n",
              "      display: none;\n",
              "      fill: #1967D2;\n",
              "      height: 32px;\n",
              "      padding: 0 0 0 0;\n",
              "      width: 32px;\n",
              "    }\n",
              "\n",
              "    .colab-df-convert:hover {\n",
              "      background-color: #E2EBFA;\n",
              "      box-shadow: 0px 1px 2px rgba(60, 64, 67, 0.3), 0px 1px 3px 1px rgba(60, 64, 67, 0.15);\n",
              "      fill: #174EA6;\n",
              "    }\n",
              "\n",
              "    [theme=dark] .colab-df-convert {\n",
              "      background-color: #3B4455;\n",
              "      fill: #D2E3FC;\n",
              "    }\n",
              "\n",
              "    [theme=dark] .colab-df-convert:hover {\n",
              "      background-color: #434B5C;\n",
              "      box-shadow: 0px 1px 3px 1px rgba(0, 0, 0, 0.15);\n",
              "      filter: drop-shadow(0px 1px 2px rgba(0, 0, 0, 0.3));\n",
              "      fill: #FFFFFF;\n",
              "    }\n",
              "  </style>\n",
              "\n",
              "      <script>\n",
              "        const buttonEl =\n",
              "          document.querySelector('#df-dacfba28-986d-4d0c-b447-2a373c9fb43a button.colab-df-convert');\n",
              "        buttonEl.style.display =\n",
              "          google.colab.kernel.accessAllowed ? 'block' : 'none';\n",
              "\n",
              "        async function convertToInteractive(key) {\n",
              "          const element = document.querySelector('#df-dacfba28-986d-4d0c-b447-2a373c9fb43a');\n",
              "          const dataTable =\n",
              "            await google.colab.kernel.invokeFunction('convertToInteractive',\n",
              "                                                     [key], {});\n",
              "          if (!dataTable) return;\n",
              "\n",
              "          const docLinkHtml = 'Like what you see? Visit the ' +\n",
              "            '<a target=\"_blank\" href=https://colab.research.google.com/notebooks/data_table.ipynb>data table notebook</a>'\n",
              "            + ' to learn more about interactive tables.';\n",
              "          element.innerHTML = '';\n",
              "          dataTable['output_type'] = 'display_data';\n",
              "          await google.colab.output.renderOutput(dataTable, element);\n",
              "          const docLink = document.createElement('div');\n",
              "          docLink.innerHTML = docLinkHtml;\n",
              "          element.appendChild(docLink);\n",
              "        }\n",
              "      </script>\n",
              "    </div>\n",
              "  </div>\n",
              "  "
            ]
          },
          "metadata": {},
          "execution_count": 10
        }
      ],
      "source": [
        "test.head()"
      ]
    },
    {
      "cell_type": "code",
      "execution_count": null,
      "id": "e739e59d",
      "metadata": {
        "colab": {
          "base_uri": "https://localhost:8080/",
          "height": 270
        },
        "id": "e739e59d",
        "outputId": "fb764e4f-7a6e-4b2a-e911-8dc5bfee5a07"
      },
      "outputs": [
        {
          "output_type": "execute_result",
          "data": {
            "text/plain": [
              "   collection_id  total_supply creation_date verification_status  n_of_traits  \\\n",
              "0             19          1000    2021-04-01            verified            4   \n",
              "1             45          8888    2021-07-01            verified            5   \n",
              "2             44         10000    2022-04-01            verified            8   \n",
              "3             53          9999    2022-07-01            verified            9   \n",
              "4              6          9602    2021-06-01            verified            8   \n",
              "\n",
              "  contract_type  seller_fees  platform_fees  openrarity_enabled  has_website  \\\n",
              "0           own        500.0            250               False        False   \n",
              "1           own        500.0            250               False        False   \n",
              "2           own        500.0            250                True        False   \n",
              "3           own        900.0            250               False        False   \n",
              "4           own          NaN            250               False        False   \n",
              "\n",
              "   has_own_twitter  has_discord  has_medium  \n",
              "0             True         True        True  \n",
              "1             True         True       False  \n",
              "2             True         True       False  \n",
              "3             True         True       False  \n",
              "4             True         True       False  "
            ],
            "text/html": [
              "\n",
              "  <div id=\"df-c343bc6e-c405-40fc-a85a-25c52a19d24e\">\n",
              "    <div class=\"colab-df-container\">\n",
              "      <div>\n",
              "<style scoped>\n",
              "    .dataframe tbody tr th:only-of-type {\n",
              "        vertical-align: middle;\n",
              "    }\n",
              "\n",
              "    .dataframe tbody tr th {\n",
              "        vertical-align: top;\n",
              "    }\n",
              "\n",
              "    .dataframe thead th {\n",
              "        text-align: right;\n",
              "    }\n",
              "</style>\n",
              "<table border=\"1\" class=\"dataframe\">\n",
              "  <thead>\n",
              "    <tr style=\"text-align: right;\">\n",
              "      <th></th>\n",
              "      <th>collection_id</th>\n",
              "      <th>total_supply</th>\n",
              "      <th>creation_date</th>\n",
              "      <th>verification_status</th>\n",
              "      <th>n_of_traits</th>\n",
              "      <th>contract_type</th>\n",
              "      <th>seller_fees</th>\n",
              "      <th>platform_fees</th>\n",
              "      <th>openrarity_enabled</th>\n",
              "      <th>has_website</th>\n",
              "      <th>has_own_twitter</th>\n",
              "      <th>has_discord</th>\n",
              "      <th>has_medium</th>\n",
              "    </tr>\n",
              "  </thead>\n",
              "  <tbody>\n",
              "    <tr>\n",
              "      <th>0</th>\n",
              "      <td>19</td>\n",
              "      <td>1000</td>\n",
              "      <td>2021-04-01</td>\n",
              "      <td>verified</td>\n",
              "      <td>4</td>\n",
              "      <td>own</td>\n",
              "      <td>500.0</td>\n",
              "      <td>250</td>\n",
              "      <td>False</td>\n",
              "      <td>False</td>\n",
              "      <td>True</td>\n",
              "      <td>True</td>\n",
              "      <td>True</td>\n",
              "    </tr>\n",
              "    <tr>\n",
              "      <th>1</th>\n",
              "      <td>45</td>\n",
              "      <td>8888</td>\n",
              "      <td>2021-07-01</td>\n",
              "      <td>verified</td>\n",
              "      <td>5</td>\n",
              "      <td>own</td>\n",
              "      <td>500.0</td>\n",
              "      <td>250</td>\n",
              "      <td>False</td>\n",
              "      <td>False</td>\n",
              "      <td>True</td>\n",
              "      <td>True</td>\n",
              "      <td>False</td>\n",
              "    </tr>\n",
              "    <tr>\n",
              "      <th>2</th>\n",
              "      <td>44</td>\n",
              "      <td>10000</td>\n",
              "      <td>2022-04-01</td>\n",
              "      <td>verified</td>\n",
              "      <td>8</td>\n",
              "      <td>own</td>\n",
              "      <td>500.0</td>\n",
              "      <td>250</td>\n",
              "      <td>True</td>\n",
              "      <td>False</td>\n",
              "      <td>True</td>\n",
              "      <td>True</td>\n",
              "      <td>False</td>\n",
              "    </tr>\n",
              "    <tr>\n",
              "      <th>3</th>\n",
              "      <td>53</td>\n",
              "      <td>9999</td>\n",
              "      <td>2022-07-01</td>\n",
              "      <td>verified</td>\n",
              "      <td>9</td>\n",
              "      <td>own</td>\n",
              "      <td>900.0</td>\n",
              "      <td>250</td>\n",
              "      <td>False</td>\n",
              "      <td>False</td>\n",
              "      <td>True</td>\n",
              "      <td>True</td>\n",
              "      <td>False</td>\n",
              "    </tr>\n",
              "    <tr>\n",
              "      <th>4</th>\n",
              "      <td>6</td>\n",
              "      <td>9602</td>\n",
              "      <td>2021-06-01</td>\n",
              "      <td>verified</td>\n",
              "      <td>8</td>\n",
              "      <td>own</td>\n",
              "      <td>NaN</td>\n",
              "      <td>250</td>\n",
              "      <td>False</td>\n",
              "      <td>False</td>\n",
              "      <td>True</td>\n",
              "      <td>True</td>\n",
              "      <td>False</td>\n",
              "    </tr>\n",
              "  </tbody>\n",
              "</table>\n",
              "</div>\n",
              "      <button class=\"colab-df-convert\" onclick=\"convertToInteractive('df-c343bc6e-c405-40fc-a85a-25c52a19d24e')\"\n",
              "              title=\"Convert this dataframe to an interactive table.\"\n",
              "              style=\"display:none;\">\n",
              "        \n",
              "  <svg xmlns=\"http://www.w3.org/2000/svg\" height=\"24px\"viewBox=\"0 0 24 24\"\n",
              "       width=\"24px\">\n",
              "    <path d=\"M0 0h24v24H0V0z\" fill=\"none\"/>\n",
              "    <path d=\"M18.56 5.44l.94 2.06.94-2.06 2.06-.94-2.06-.94-.94-2.06-.94 2.06-2.06.94zm-11 1L8.5 8.5l.94-2.06 2.06-.94-2.06-.94L8.5 2.5l-.94 2.06-2.06.94zm10 10l.94 2.06.94-2.06 2.06-.94-2.06-.94-.94-2.06-.94 2.06-2.06.94z\"/><path d=\"M17.41 7.96l-1.37-1.37c-.4-.4-.92-.59-1.43-.59-.52 0-1.04.2-1.43.59L10.3 9.45l-7.72 7.72c-.78.78-.78 2.05 0 2.83L4 21.41c.39.39.9.59 1.41.59.51 0 1.02-.2 1.41-.59l7.78-7.78 2.81-2.81c.8-.78.8-2.07 0-2.86zM5.41 20L4 18.59l7.72-7.72 1.47 1.35L5.41 20z\"/>\n",
              "  </svg>\n",
              "      </button>\n",
              "      \n",
              "  <style>\n",
              "    .colab-df-container {\n",
              "      display:flex;\n",
              "      flex-wrap:wrap;\n",
              "      gap: 12px;\n",
              "    }\n",
              "\n",
              "    .colab-df-convert {\n",
              "      background-color: #E8F0FE;\n",
              "      border: none;\n",
              "      border-radius: 50%;\n",
              "      cursor: pointer;\n",
              "      display: none;\n",
              "      fill: #1967D2;\n",
              "      height: 32px;\n",
              "      padding: 0 0 0 0;\n",
              "      width: 32px;\n",
              "    }\n",
              "\n",
              "    .colab-df-convert:hover {\n",
              "      background-color: #E2EBFA;\n",
              "      box-shadow: 0px 1px 2px rgba(60, 64, 67, 0.3), 0px 1px 3px 1px rgba(60, 64, 67, 0.15);\n",
              "      fill: #174EA6;\n",
              "    }\n",
              "\n",
              "    [theme=dark] .colab-df-convert {\n",
              "      background-color: #3B4455;\n",
              "      fill: #D2E3FC;\n",
              "    }\n",
              "\n",
              "    [theme=dark] .colab-df-convert:hover {\n",
              "      background-color: #434B5C;\n",
              "      box-shadow: 0px 1px 3px 1px rgba(0, 0, 0, 0.15);\n",
              "      filter: drop-shadow(0px 1px 2px rgba(0, 0, 0, 0.3));\n",
              "      fill: #FFFFFF;\n",
              "    }\n",
              "  </style>\n",
              "\n",
              "      <script>\n",
              "        const buttonEl =\n",
              "          document.querySelector('#df-c343bc6e-c405-40fc-a85a-25c52a19d24e button.colab-df-convert');\n",
              "        buttonEl.style.display =\n",
              "          google.colab.kernel.accessAllowed ? 'block' : 'none';\n",
              "\n",
              "        async function convertToInteractive(key) {\n",
              "          const element = document.querySelector('#df-c343bc6e-c405-40fc-a85a-25c52a19d24e');\n",
              "          const dataTable =\n",
              "            await google.colab.kernel.invokeFunction('convertToInteractive',\n",
              "                                                     [key], {});\n",
              "          if (!dataTable) return;\n",
              "\n",
              "          const docLinkHtml = 'Like what you see? Visit the ' +\n",
              "            '<a target=\"_blank\" href=https://colab.research.google.com/notebooks/data_table.ipynb>data table notebook</a>'\n",
              "            + ' to learn more about interactive tables.';\n",
              "          element.innerHTML = '';\n",
              "          dataTable['output_type'] = 'display_data';\n",
              "          await google.colab.output.renderOutput(dataTable, element);\n",
              "          const docLink = document.createElement('div');\n",
              "          docLink.innerHTML = docLinkHtml;\n",
              "          element.appendChild(docLink);\n",
              "        }\n",
              "      </script>\n",
              "    </div>\n",
              "  </div>\n",
              "  "
            ]
          },
          "metadata": {},
          "execution_count": 11
        }
      ],
      "source": [
        "collections.head()"
      ]
    },
    {
      "cell_type": "code",
      "execution_count": null,
      "id": "0a35b81a",
      "metadata": {
        "colab": {
          "base_uri": "https://localhost:8080/",
          "height": 206
        },
        "id": "0a35b81a",
        "outputId": "e3c55da1-d620-4d07-905a-325b206e8adb"
      },
      "outputs": [
        {
          "output_type": "execute_result",
          "data": {
            "text/plain": [
              "   collection_id  n_tweets_in_range   avg_likes  avg_replies  avg_retweets  \\\n",
              "0              0                  2  183.000000     8.500000     41.000000   \n",
              "1              1                 16   36.375000     3.562500     13.937500   \n",
              "2              2                  1   15.000000     9.000000      1.000000   \n",
              "3              3                526    1.178707     0.306084      2.655894   \n",
              "4              4                 26    8.153846     0.884615      1.153846   \n",
              "\n",
              "   min_likes  min_replies  min_retweets  max_likes  max_replies  max_retweets  \n",
              "0        123            3             6        243           14            76  \n",
              "1          0            0             0        125           21            34  \n",
              "2         15            9             1         15            9             1  \n",
              "3          0            0             0         21            8            13  \n",
              "4          0            0             0         30            6            12  "
            ],
            "text/html": [
              "\n",
              "  <div id=\"df-3f91e57f-e586-481f-9703-2df7b630cf9a\">\n",
              "    <div class=\"colab-df-container\">\n",
              "      <div>\n",
              "<style scoped>\n",
              "    .dataframe tbody tr th:only-of-type {\n",
              "        vertical-align: middle;\n",
              "    }\n",
              "\n",
              "    .dataframe tbody tr th {\n",
              "        vertical-align: top;\n",
              "    }\n",
              "\n",
              "    .dataframe thead th {\n",
              "        text-align: right;\n",
              "    }\n",
              "</style>\n",
              "<table border=\"1\" class=\"dataframe\">\n",
              "  <thead>\n",
              "    <tr style=\"text-align: right;\">\n",
              "      <th></th>\n",
              "      <th>collection_id</th>\n",
              "      <th>n_tweets_in_range</th>\n",
              "      <th>avg_likes</th>\n",
              "      <th>avg_replies</th>\n",
              "      <th>avg_retweets</th>\n",
              "      <th>min_likes</th>\n",
              "      <th>min_replies</th>\n",
              "      <th>min_retweets</th>\n",
              "      <th>max_likes</th>\n",
              "      <th>max_replies</th>\n",
              "      <th>max_retweets</th>\n",
              "    </tr>\n",
              "  </thead>\n",
              "  <tbody>\n",
              "    <tr>\n",
              "      <th>0</th>\n",
              "      <td>0</td>\n",
              "      <td>2</td>\n",
              "      <td>183.000000</td>\n",
              "      <td>8.500000</td>\n",
              "      <td>41.000000</td>\n",
              "      <td>123</td>\n",
              "      <td>3</td>\n",
              "      <td>6</td>\n",
              "      <td>243</td>\n",
              "      <td>14</td>\n",
              "      <td>76</td>\n",
              "    </tr>\n",
              "    <tr>\n",
              "      <th>1</th>\n",
              "      <td>1</td>\n",
              "      <td>16</td>\n",
              "      <td>36.375000</td>\n",
              "      <td>3.562500</td>\n",
              "      <td>13.937500</td>\n",
              "      <td>0</td>\n",
              "      <td>0</td>\n",
              "      <td>0</td>\n",
              "      <td>125</td>\n",
              "      <td>21</td>\n",
              "      <td>34</td>\n",
              "    </tr>\n",
              "    <tr>\n",
              "      <th>2</th>\n",
              "      <td>2</td>\n",
              "      <td>1</td>\n",
              "      <td>15.000000</td>\n",
              "      <td>9.000000</td>\n",
              "      <td>1.000000</td>\n",
              "      <td>15</td>\n",
              "      <td>9</td>\n",
              "      <td>1</td>\n",
              "      <td>15</td>\n",
              "      <td>9</td>\n",
              "      <td>1</td>\n",
              "    </tr>\n",
              "    <tr>\n",
              "      <th>3</th>\n",
              "      <td>3</td>\n",
              "      <td>526</td>\n",
              "      <td>1.178707</td>\n",
              "      <td>0.306084</td>\n",
              "      <td>2.655894</td>\n",
              "      <td>0</td>\n",
              "      <td>0</td>\n",
              "      <td>0</td>\n",
              "      <td>21</td>\n",
              "      <td>8</td>\n",
              "      <td>13</td>\n",
              "    </tr>\n",
              "    <tr>\n",
              "      <th>4</th>\n",
              "      <td>4</td>\n",
              "      <td>26</td>\n",
              "      <td>8.153846</td>\n",
              "      <td>0.884615</td>\n",
              "      <td>1.153846</td>\n",
              "      <td>0</td>\n",
              "      <td>0</td>\n",
              "      <td>0</td>\n",
              "      <td>30</td>\n",
              "      <td>6</td>\n",
              "      <td>12</td>\n",
              "    </tr>\n",
              "  </tbody>\n",
              "</table>\n",
              "</div>\n",
              "      <button class=\"colab-df-convert\" onclick=\"convertToInteractive('df-3f91e57f-e586-481f-9703-2df7b630cf9a')\"\n",
              "              title=\"Convert this dataframe to an interactive table.\"\n",
              "              style=\"display:none;\">\n",
              "        \n",
              "  <svg xmlns=\"http://www.w3.org/2000/svg\" height=\"24px\"viewBox=\"0 0 24 24\"\n",
              "       width=\"24px\">\n",
              "    <path d=\"M0 0h24v24H0V0z\" fill=\"none\"/>\n",
              "    <path d=\"M18.56 5.44l.94 2.06.94-2.06 2.06-.94-2.06-.94-.94-2.06-.94 2.06-2.06.94zm-11 1L8.5 8.5l.94-2.06 2.06-.94-2.06-.94L8.5 2.5l-.94 2.06-2.06.94zm10 10l.94 2.06.94-2.06 2.06-.94-2.06-.94-.94-2.06-.94 2.06-2.06.94z\"/><path d=\"M17.41 7.96l-1.37-1.37c-.4-.4-.92-.59-1.43-.59-.52 0-1.04.2-1.43.59L10.3 9.45l-7.72 7.72c-.78.78-.78 2.05 0 2.83L4 21.41c.39.39.9.59 1.41.59.51 0 1.02-.2 1.41-.59l7.78-7.78 2.81-2.81c.8-.78.8-2.07 0-2.86zM5.41 20L4 18.59l7.72-7.72 1.47 1.35L5.41 20z\"/>\n",
              "  </svg>\n",
              "      </button>\n",
              "      \n",
              "  <style>\n",
              "    .colab-df-container {\n",
              "      display:flex;\n",
              "      flex-wrap:wrap;\n",
              "      gap: 12px;\n",
              "    }\n",
              "\n",
              "    .colab-df-convert {\n",
              "      background-color: #E8F0FE;\n",
              "      border: none;\n",
              "      border-radius: 50%;\n",
              "      cursor: pointer;\n",
              "      display: none;\n",
              "      fill: #1967D2;\n",
              "      height: 32px;\n",
              "      padding: 0 0 0 0;\n",
              "      width: 32px;\n",
              "    }\n",
              "\n",
              "    .colab-df-convert:hover {\n",
              "      background-color: #E2EBFA;\n",
              "      box-shadow: 0px 1px 2px rgba(60, 64, 67, 0.3), 0px 1px 3px 1px rgba(60, 64, 67, 0.15);\n",
              "      fill: #174EA6;\n",
              "    }\n",
              "\n",
              "    [theme=dark] .colab-df-convert {\n",
              "      background-color: #3B4455;\n",
              "      fill: #D2E3FC;\n",
              "    }\n",
              "\n",
              "    [theme=dark] .colab-df-convert:hover {\n",
              "      background-color: #434B5C;\n",
              "      box-shadow: 0px 1px 3px 1px rgba(0, 0, 0, 0.15);\n",
              "      filter: drop-shadow(0px 1px 2px rgba(0, 0, 0, 0.3));\n",
              "      fill: #FFFFFF;\n",
              "    }\n",
              "  </style>\n",
              "\n",
              "      <script>\n",
              "        const buttonEl =\n",
              "          document.querySelector('#df-3f91e57f-e586-481f-9703-2df7b630cf9a button.colab-df-convert');\n",
              "        buttonEl.style.display =\n",
              "          google.colab.kernel.accessAllowed ? 'block' : 'none';\n",
              "\n",
              "        async function convertToInteractive(key) {\n",
              "          const element = document.querySelector('#df-3f91e57f-e586-481f-9703-2df7b630cf9a');\n",
              "          const dataTable =\n",
              "            await google.colab.kernel.invokeFunction('convertToInteractive',\n",
              "                                                     [key], {});\n",
              "          if (!dataTable) return;\n",
              "\n",
              "          const docLinkHtml = 'Like what you see? Visit the ' +\n",
              "            '<a target=\"_blank\" href=https://colab.research.google.com/notebooks/data_table.ipynb>data table notebook</a>'\n",
              "            + ' to learn more about interactive tables.';\n",
              "          element.innerHTML = '';\n",
              "          dataTable['output_type'] = 'display_data';\n",
              "          await google.colab.output.renderOutput(dataTable, element);\n",
              "          const docLink = document.createElement('div');\n",
              "          docLink.innerHTML = docLinkHtml;\n",
              "          element.appendChild(docLink);\n",
              "        }\n",
              "      </script>\n",
              "    </div>\n",
              "  </div>\n",
              "  "
            ]
          },
          "metadata": {},
          "execution_count": 12
        }
      ],
      "source": [
        "collections_tweet.head()"
      ]
    },
    {
      "cell_type": "markdown",
      "source": [
        "### Data Manipulation and Preprocessing"
      ],
      "metadata": {
        "id": "hB2jg3CbzFrC"
      },
      "id": "hB2jg3CbzFrC"
    },
    {
      "cell_type": "code",
      "source": [
        "collections.shape, collections_tweet.shape, train.shape, test.shape"
      ],
      "metadata": {
        "colab": {
          "base_uri": "https://localhost:8080/"
        },
        "id": "u7JoGqWAzS8a",
        "outputId": "b8e30e96-0127-42e6-b97d-a7c672becb98"
      },
      "id": "u7JoGqWAzS8a",
      "execution_count": null,
      "outputs": [
        {
          "output_type": "execute_result",
          "data": {
            "text/plain": [
              "((48, 13), (48, 11), (309910, 9), (181214, 8))"
            ]
          },
          "metadata": {},
          "execution_count": 13
        }
      ]
    },
    {
      "cell_type": "code",
      "execution_count": null,
      "id": "5d6b3dd1",
      "metadata": {
        "colab": {
          "base_uri": "https://localhost:8080/"
        },
        "id": "5d6b3dd1",
        "outputId": "5a24d677-7a80-4c24-c19b-2c1ffe797c1f"
      },
      "outputs": [
        {
          "output_type": "execute_result",
          "data": {
            "text/plain": [
              "(48257, 48)"
            ]
          },
          "metadata": {},
          "execution_count": 14
        }
      ],
      "source": [
        "# number of nfts sold and number of collections\n",
        "pd.concat([train, test]).nft_id.nunique(), pd.concat([train, test]).collection_id.nunique()"
      ]
    },
    {
      "cell_type": "code",
      "source": [
        "# if there are duplicate rows\n",
        "collections.drop_duplicates().shape[0] != collections.shape[0]"
      ],
      "metadata": {
        "colab": {
          "base_uri": "https://localhost:8080/"
        },
        "id": "hig4ltD8zJBt",
        "outputId": "cca60e88-5825-434e-acaf-c07297f926a1"
      },
      "id": "hig4ltD8zJBt",
      "execution_count": null,
      "outputs": [
        {
          "output_type": "execute_result",
          "data": {
            "text/plain": [
              "False"
            ]
          },
          "metadata": {},
          "execution_count": 15
        }
      ]
    },
    {
      "cell_type": "code",
      "source": [
        "# missing values\n",
        "train.isna().any().sum(), test.isna().any().sum()"
      ],
      "metadata": {
        "colab": {
          "base_uri": "https://localhost:8080/"
        },
        "id": "A8cPFFtxzpxW",
        "outputId": "1b40abb1-d757-4f8f-c326-a8ae798f3ac9"
      },
      "id": "A8cPFFtxzpxW",
      "execution_count": null,
      "outputs": [
        {
          "output_type": "execute_result",
          "data": {
            "text/plain": [
              "(3, 3)"
            ]
          },
          "metadata": {},
          "execution_count": 16
        }
      ]
    },
    {
      "cell_type": "code",
      "source": [
        "missing = pd.concat([train, test]).isna().sum()\n",
        "missing[missing > 0]"
      ],
      "metadata": {
        "colab": {
          "base_uri": "https://localhost:8080/"
        },
        "id": "pIZdY8Dwzw-O",
        "outputId": "49237e24-2901-4bd9-8d8c-9366f2cd62a9"
      },
      "id": "pIZdY8Dwzw-O",
      "execution_count": null,
      "outputs": [
        {
          "output_type": "execute_result",
          "data": {
            "text/plain": [
              "openrarity_score       372018\n",
              "openrarity_rank        372018\n",
              "openrarity_max_rank    372018\n",
              "last_sale_price        181214\n",
              "dtype: int64"
            ]
          },
          "metadata": {},
          "execution_count": 17
        }
      ]
    },
    {
      "cell_type": "code",
      "source": [
        "collections = collections.sort_values('collection_id').reset_index(drop=True)"
      ],
      "metadata": {
        "id": "WAee3x636rhx"
      },
      "id": "WAee3x636rhx",
      "execution_count": null,
      "outputs": []
    },
    {
      "cell_type": "code",
      "source": [
        "missing = pd.concat([collections, collections_tweet], axis=1).isna().sum()\n",
        "missing[missing > 0]"
      ],
      "metadata": {
        "colab": {
          "base_uri": "https://localhost:8080/"
        },
        "id": "iiHz4sQr0H5V",
        "outputId": "aaf1006a-9ed5-4514-89a9-79003b962313"
      },
      "id": "iiHz4sQr0H5V",
      "execution_count": null,
      "outputs": [
        {
          "output_type": "execute_result",
          "data": {
            "text/plain": [
              "seller_fees    2\n",
              "dtype: int64"
            ]
          },
          "metadata": {},
          "execution_count": 19
        }
      ]
    },
    {
      "cell_type": "code",
      "source": [
        "collections.head()"
      ],
      "metadata": {
        "colab": {
          "base_uri": "https://localhost:8080/",
          "height": 270
        },
        "id": "I7wZnAJ366os",
        "outputId": "8767f9dd-38ed-4d80-d966-56a8dcb49804"
      },
      "id": "I7wZnAJ366os",
      "execution_count": null,
      "outputs": [
        {
          "output_type": "execute_result",
          "data": {
            "text/plain": [
              "   collection_id  total_supply creation_date verification_status  n_of_traits  \\\n",
              "0              0          6501    2022-04-01            verified           31   \n",
              "1              1         15000    2022-04-01            verified           12   \n",
              "2              2         20279    2021-07-01            approved            7   \n",
              "3              3          9124    2021-01-01            approved           26   \n",
              "4              4          9000    2022-02-01            approved            8   \n",
              "\n",
              "  contract_type  seller_fees  platform_fees  openrarity_enabled  has_website  \\\n",
              "0           own        500.0            250               False        False   \n",
              "1           own        500.0            250                True        False   \n",
              "2       default        200.0            250               False        False   \n",
              "3       default       1000.0            250               False        False   \n",
              "4       default        900.0            250               False        False   \n",
              "\n",
              "   has_own_twitter  has_discord  has_medium  \n",
              "0             True         True        True  \n",
              "1             True         True       False  \n",
              "2             True        False       False  \n",
              "3             True         True        True  \n",
              "4             True        False       False  "
            ],
            "text/html": [
              "\n",
              "  <div id=\"df-3f05be62-5ec8-4a9f-8e84-eb3e0e96a791\">\n",
              "    <div class=\"colab-df-container\">\n",
              "      <div>\n",
              "<style scoped>\n",
              "    .dataframe tbody tr th:only-of-type {\n",
              "        vertical-align: middle;\n",
              "    }\n",
              "\n",
              "    .dataframe tbody tr th {\n",
              "        vertical-align: top;\n",
              "    }\n",
              "\n",
              "    .dataframe thead th {\n",
              "        text-align: right;\n",
              "    }\n",
              "</style>\n",
              "<table border=\"1\" class=\"dataframe\">\n",
              "  <thead>\n",
              "    <tr style=\"text-align: right;\">\n",
              "      <th></th>\n",
              "      <th>collection_id</th>\n",
              "      <th>total_supply</th>\n",
              "      <th>creation_date</th>\n",
              "      <th>verification_status</th>\n",
              "      <th>n_of_traits</th>\n",
              "      <th>contract_type</th>\n",
              "      <th>seller_fees</th>\n",
              "      <th>platform_fees</th>\n",
              "      <th>openrarity_enabled</th>\n",
              "      <th>has_website</th>\n",
              "      <th>has_own_twitter</th>\n",
              "      <th>has_discord</th>\n",
              "      <th>has_medium</th>\n",
              "    </tr>\n",
              "  </thead>\n",
              "  <tbody>\n",
              "    <tr>\n",
              "      <th>0</th>\n",
              "      <td>0</td>\n",
              "      <td>6501</td>\n",
              "      <td>2022-04-01</td>\n",
              "      <td>verified</td>\n",
              "      <td>31</td>\n",
              "      <td>own</td>\n",
              "      <td>500.0</td>\n",
              "      <td>250</td>\n",
              "      <td>False</td>\n",
              "      <td>False</td>\n",
              "      <td>True</td>\n",
              "      <td>True</td>\n",
              "      <td>True</td>\n",
              "    </tr>\n",
              "    <tr>\n",
              "      <th>1</th>\n",
              "      <td>1</td>\n",
              "      <td>15000</td>\n",
              "      <td>2022-04-01</td>\n",
              "      <td>verified</td>\n",
              "      <td>12</td>\n",
              "      <td>own</td>\n",
              "      <td>500.0</td>\n",
              "      <td>250</td>\n",
              "      <td>True</td>\n",
              "      <td>False</td>\n",
              "      <td>True</td>\n",
              "      <td>True</td>\n",
              "      <td>False</td>\n",
              "    </tr>\n",
              "    <tr>\n",
              "      <th>2</th>\n",
              "      <td>2</td>\n",
              "      <td>20279</td>\n",
              "      <td>2021-07-01</td>\n",
              "      <td>approved</td>\n",
              "      <td>7</td>\n",
              "      <td>default</td>\n",
              "      <td>200.0</td>\n",
              "      <td>250</td>\n",
              "      <td>False</td>\n",
              "      <td>False</td>\n",
              "      <td>True</td>\n",
              "      <td>False</td>\n",
              "      <td>False</td>\n",
              "    </tr>\n",
              "    <tr>\n",
              "      <th>3</th>\n",
              "      <td>3</td>\n",
              "      <td>9124</td>\n",
              "      <td>2021-01-01</td>\n",
              "      <td>approved</td>\n",
              "      <td>26</td>\n",
              "      <td>default</td>\n",
              "      <td>1000.0</td>\n",
              "      <td>250</td>\n",
              "      <td>False</td>\n",
              "      <td>False</td>\n",
              "      <td>True</td>\n",
              "      <td>True</td>\n",
              "      <td>True</td>\n",
              "    </tr>\n",
              "    <tr>\n",
              "      <th>4</th>\n",
              "      <td>4</td>\n",
              "      <td>9000</td>\n",
              "      <td>2022-02-01</td>\n",
              "      <td>approved</td>\n",
              "      <td>8</td>\n",
              "      <td>default</td>\n",
              "      <td>900.0</td>\n",
              "      <td>250</td>\n",
              "      <td>False</td>\n",
              "      <td>False</td>\n",
              "      <td>True</td>\n",
              "      <td>False</td>\n",
              "      <td>False</td>\n",
              "    </tr>\n",
              "  </tbody>\n",
              "</table>\n",
              "</div>\n",
              "      <button class=\"colab-df-convert\" onclick=\"convertToInteractive('df-3f05be62-5ec8-4a9f-8e84-eb3e0e96a791')\"\n",
              "              title=\"Convert this dataframe to an interactive table.\"\n",
              "              style=\"display:none;\">\n",
              "        \n",
              "  <svg xmlns=\"http://www.w3.org/2000/svg\" height=\"24px\"viewBox=\"0 0 24 24\"\n",
              "       width=\"24px\">\n",
              "    <path d=\"M0 0h24v24H0V0z\" fill=\"none\"/>\n",
              "    <path d=\"M18.56 5.44l.94 2.06.94-2.06 2.06-.94-2.06-.94-.94-2.06-.94 2.06-2.06.94zm-11 1L8.5 8.5l.94-2.06 2.06-.94-2.06-.94L8.5 2.5l-.94 2.06-2.06.94zm10 10l.94 2.06.94-2.06 2.06-.94-2.06-.94-.94-2.06-.94 2.06-2.06.94z\"/><path d=\"M17.41 7.96l-1.37-1.37c-.4-.4-.92-.59-1.43-.59-.52 0-1.04.2-1.43.59L10.3 9.45l-7.72 7.72c-.78.78-.78 2.05 0 2.83L4 21.41c.39.39.9.59 1.41.59.51 0 1.02-.2 1.41-.59l7.78-7.78 2.81-2.81c.8-.78.8-2.07 0-2.86zM5.41 20L4 18.59l7.72-7.72 1.47 1.35L5.41 20z\"/>\n",
              "  </svg>\n",
              "      </button>\n",
              "      \n",
              "  <style>\n",
              "    .colab-df-container {\n",
              "      display:flex;\n",
              "      flex-wrap:wrap;\n",
              "      gap: 12px;\n",
              "    }\n",
              "\n",
              "    .colab-df-convert {\n",
              "      background-color: #E8F0FE;\n",
              "      border: none;\n",
              "      border-radius: 50%;\n",
              "      cursor: pointer;\n",
              "      display: none;\n",
              "      fill: #1967D2;\n",
              "      height: 32px;\n",
              "      padding: 0 0 0 0;\n",
              "      width: 32px;\n",
              "    }\n",
              "\n",
              "    .colab-df-convert:hover {\n",
              "      background-color: #E2EBFA;\n",
              "      box-shadow: 0px 1px 2px rgba(60, 64, 67, 0.3), 0px 1px 3px 1px rgba(60, 64, 67, 0.15);\n",
              "      fill: #174EA6;\n",
              "    }\n",
              "\n",
              "    [theme=dark] .colab-df-convert {\n",
              "      background-color: #3B4455;\n",
              "      fill: #D2E3FC;\n",
              "    }\n",
              "\n",
              "    [theme=dark] .colab-df-convert:hover {\n",
              "      background-color: #434B5C;\n",
              "      box-shadow: 0px 1px 3px 1px rgba(0, 0, 0, 0.15);\n",
              "      filter: drop-shadow(0px 1px 2px rgba(0, 0, 0, 0.3));\n",
              "      fill: #FFFFFF;\n",
              "    }\n",
              "  </style>\n",
              "\n",
              "      <script>\n",
              "        const buttonEl =\n",
              "          document.querySelector('#df-3f05be62-5ec8-4a9f-8e84-eb3e0e96a791 button.colab-df-convert');\n",
              "        buttonEl.style.display =\n",
              "          google.colab.kernel.accessAllowed ? 'block' : 'none';\n",
              "\n",
              "        async function convertToInteractive(key) {\n",
              "          const element = document.querySelector('#df-3f05be62-5ec8-4a9f-8e84-eb3e0e96a791');\n",
              "          const dataTable =\n",
              "            await google.colab.kernel.invokeFunction('convertToInteractive',\n",
              "                                                     [key], {});\n",
              "          if (!dataTable) return;\n",
              "\n",
              "          const docLinkHtml = 'Like what you see? Visit the ' +\n",
              "            '<a target=\"_blank\" href=https://colab.research.google.com/notebooks/data_table.ipynb>data table notebook</a>'\n",
              "            + ' to learn more about interactive tables.';\n",
              "          element.innerHTML = '';\n",
              "          dataTable['output_type'] = 'display_data';\n",
              "          await google.colab.output.renderOutput(dataTable, element);\n",
              "          const docLink = document.createElement('div');\n",
              "          docLink.innerHTML = docLinkHtml;\n",
              "          element.appendChild(docLink);\n",
              "        }\n",
              "      </script>\n",
              "    </div>\n",
              "  </div>\n",
              "  "
            ]
          },
          "metadata": {},
          "execution_count": 20
        }
      ]
    },
    {
      "cell_type": "code",
      "source": [
        "collections.select_dtypes('number').nunique()"
      ],
      "metadata": {
        "colab": {
          "base_uri": "https://localhost:8080/"
        },
        "id": "ns9XgZDt6-6-",
        "outputId": "4b82956f-7299-4cf2-84b0-b23c5ff3ea35"
      },
      "id": "ns9XgZDt6-6-",
      "execution_count": null,
      "outputs": [
        {
          "output_type": "execute_result",
          "data": {
            "text/plain": [
              "collection_id    48\n",
              "total_supply     38\n",
              "n_of_traits      22\n",
              "seller_fees       9\n",
              "platform_fees     1\n",
              "dtype: int64"
            ]
          },
          "metadata": {},
          "execution_count": 21
        }
      ]
    },
    {
      "cell_type": "code",
      "source": [
        "collections.select_dtypes(['object', 'bool']).nunique()"
      ],
      "metadata": {
        "colab": {
          "base_uri": "https://localhost:8080/"
        },
        "id": "5nmuimqm1c5I",
        "outputId": "8045a028-274e-40ad-8648-7c68cfd37b5d"
      },
      "id": "5nmuimqm1c5I",
      "execution_count": null,
      "outputs": [
        {
          "output_type": "execute_result",
          "data": {
            "text/plain": [
              "verification_status    2\n",
              "contract_type          2\n",
              "openrarity_enabled     2\n",
              "has_website            1\n",
              "has_own_twitter        1\n",
              "has_discord            2\n",
              "has_medium             2\n",
              "dtype: int64"
            ]
          },
          "metadata": {},
          "execution_count": 22
        }
      ]
    },
    {
      "cell_type": "markdown",
      "source": [
        "- For both the train and test sets, there are three variables with missing values. They include open_rarity score, rank and max_rank. The missing value in last_sale_price is as a result of joining the train and test sets along the columns since the test set doesn't have such feature name\n",
        "- For collections or their tweet data, only 2 IDs do not have seller fees\n",
        "- There are three features (platform_fees, has_website and has_own_twitter) in collections data with one unique value. We will drop them since they won't be adding any info to our data"
      ],
      "metadata": {
        "id": "w6QNWwaB1vcE"
      },
      "id": "w6QNWwaB1vcE"
    },
    {
      "cell_type": "code",
      "source": [
        "cat_cols = collections.select_dtypes(['object', 'bool']).columns\n",
        "for col in cat_cols:\n",
        "  print(f'{col}: {collections[col].unique()}')"
      ],
      "metadata": {
        "colab": {
          "base_uri": "https://localhost:8080/"
        },
        "outputId": "eac9771a-5ed3-4dd4-9a8b-2b1ab2280cd2",
        "id": "wpSS5tsl3OKV"
      },
      "execution_count": null,
      "outputs": [
        {
          "output_type": "stream",
          "name": "stdout",
          "text": [
            "verification_status: ['verified' 'approved']\n",
            "contract_type: ['own' 'default']\n",
            "openrarity_enabled: [False  True]\n",
            "has_website: [False]\n",
            "has_own_twitter: [ True]\n",
            "has_discord: [ True False]\n",
            "has_medium: [ True False]\n"
          ]
        }
      ],
      "id": "wpSS5tsl3OKV"
    },
    {
      "cell_type": "code",
      "source": [
        "# dropping has_website and has_own_twitter\n",
        "collections = collections.drop(columns=['platform_fees', 'has_website', 'has_own_twitter'])"
      ],
      "metadata": {
        "id": "XBQVdWtl3OKa"
      },
      "execution_count": null,
      "outputs": [],
      "id": "XBQVdWtl3OKa"
    },
    {
      "cell_type": "code",
      "source": [
        "# removing from categorical variables\n",
        "cat_cols = cat_cols.drop(['has_website', 'has_own_twitter'])"
      ],
      "metadata": {
        "id": "WitgnJcL3OKa"
      },
      "execution_count": null,
      "outputs": [],
      "id": "WitgnJcL3OKa"
    },
    {
      "cell_type": "code",
      "source": [
        "# replacing categorical features with  binary numbers\n",
        "collections = collections.replace(['verified', 'own', True], 1).replace(['approved', 'default', False], 0)"
      ],
      "metadata": {
        "id": "EwOJBeH53OKb"
      },
      "execution_count": null,
      "outputs": [],
      "id": "EwOJBeH53OKb"
    },
    {
      "cell_type": "code",
      "source": [
        "collections.head()"
      ],
      "metadata": {
        "colab": {
          "base_uri": "https://localhost:8080/",
          "height": 206
        },
        "outputId": "50a5e320-055b-42a1-a9f5-4b42b2c5ecd6",
        "id": "fGw6UShW3OKb"
      },
      "execution_count": null,
      "outputs": [
        {
          "output_type": "execute_result",
          "data": {
            "text/plain": [
              "   collection_id  total_supply creation_date  verification_status  \\\n",
              "0              0          6501    2022-04-01                    1   \n",
              "1              1         15000    2022-04-01                    1   \n",
              "2              2         20279    2021-07-01                    0   \n",
              "3              3          9124    2021-01-01                    0   \n",
              "4              4          9000    2022-02-01                    0   \n",
              "\n",
              "   n_of_traits  contract_type  seller_fees  openrarity_enabled  has_discord  \\\n",
              "0           31              1        500.0                   0            1   \n",
              "1           12              1        500.0                   1            1   \n",
              "2            7              0        200.0                   0            0   \n",
              "3           26              0       1000.0                   0            1   \n",
              "4            8              0        900.0                   0            0   \n",
              "\n",
              "   has_medium  \n",
              "0           1  \n",
              "1           0  \n",
              "2           0  \n",
              "3           1  \n",
              "4           0  "
            ],
            "text/html": [
              "\n",
              "  <div id=\"df-0fc20e4b-e7b1-4053-a394-b030af97af9e\">\n",
              "    <div class=\"colab-df-container\">\n",
              "      <div>\n",
              "<style scoped>\n",
              "    .dataframe tbody tr th:only-of-type {\n",
              "        vertical-align: middle;\n",
              "    }\n",
              "\n",
              "    .dataframe tbody tr th {\n",
              "        vertical-align: top;\n",
              "    }\n",
              "\n",
              "    .dataframe thead th {\n",
              "        text-align: right;\n",
              "    }\n",
              "</style>\n",
              "<table border=\"1\" class=\"dataframe\">\n",
              "  <thead>\n",
              "    <tr style=\"text-align: right;\">\n",
              "      <th></th>\n",
              "      <th>collection_id</th>\n",
              "      <th>total_supply</th>\n",
              "      <th>creation_date</th>\n",
              "      <th>verification_status</th>\n",
              "      <th>n_of_traits</th>\n",
              "      <th>contract_type</th>\n",
              "      <th>seller_fees</th>\n",
              "      <th>openrarity_enabled</th>\n",
              "      <th>has_discord</th>\n",
              "      <th>has_medium</th>\n",
              "    </tr>\n",
              "  </thead>\n",
              "  <tbody>\n",
              "    <tr>\n",
              "      <th>0</th>\n",
              "      <td>0</td>\n",
              "      <td>6501</td>\n",
              "      <td>2022-04-01</td>\n",
              "      <td>1</td>\n",
              "      <td>31</td>\n",
              "      <td>1</td>\n",
              "      <td>500.0</td>\n",
              "      <td>0</td>\n",
              "      <td>1</td>\n",
              "      <td>1</td>\n",
              "    </tr>\n",
              "    <tr>\n",
              "      <th>1</th>\n",
              "      <td>1</td>\n",
              "      <td>15000</td>\n",
              "      <td>2022-04-01</td>\n",
              "      <td>1</td>\n",
              "      <td>12</td>\n",
              "      <td>1</td>\n",
              "      <td>500.0</td>\n",
              "      <td>1</td>\n",
              "      <td>1</td>\n",
              "      <td>0</td>\n",
              "    </tr>\n",
              "    <tr>\n",
              "      <th>2</th>\n",
              "      <td>2</td>\n",
              "      <td>20279</td>\n",
              "      <td>2021-07-01</td>\n",
              "      <td>0</td>\n",
              "      <td>7</td>\n",
              "      <td>0</td>\n",
              "      <td>200.0</td>\n",
              "      <td>0</td>\n",
              "      <td>0</td>\n",
              "      <td>0</td>\n",
              "    </tr>\n",
              "    <tr>\n",
              "      <th>3</th>\n",
              "      <td>3</td>\n",
              "      <td>9124</td>\n",
              "      <td>2021-01-01</td>\n",
              "      <td>0</td>\n",
              "      <td>26</td>\n",
              "      <td>0</td>\n",
              "      <td>1000.0</td>\n",
              "      <td>0</td>\n",
              "      <td>1</td>\n",
              "      <td>1</td>\n",
              "    </tr>\n",
              "    <tr>\n",
              "      <th>4</th>\n",
              "      <td>4</td>\n",
              "      <td>9000</td>\n",
              "      <td>2022-02-01</td>\n",
              "      <td>0</td>\n",
              "      <td>8</td>\n",
              "      <td>0</td>\n",
              "      <td>900.0</td>\n",
              "      <td>0</td>\n",
              "      <td>0</td>\n",
              "      <td>0</td>\n",
              "    </tr>\n",
              "  </tbody>\n",
              "</table>\n",
              "</div>\n",
              "      <button class=\"colab-df-convert\" onclick=\"convertToInteractive('df-0fc20e4b-e7b1-4053-a394-b030af97af9e')\"\n",
              "              title=\"Convert this dataframe to an interactive table.\"\n",
              "              style=\"display:none;\">\n",
              "        \n",
              "  <svg xmlns=\"http://www.w3.org/2000/svg\" height=\"24px\"viewBox=\"0 0 24 24\"\n",
              "       width=\"24px\">\n",
              "    <path d=\"M0 0h24v24H0V0z\" fill=\"none\"/>\n",
              "    <path d=\"M18.56 5.44l.94 2.06.94-2.06 2.06-.94-2.06-.94-.94-2.06-.94 2.06-2.06.94zm-11 1L8.5 8.5l.94-2.06 2.06-.94-2.06-.94L8.5 2.5l-.94 2.06-2.06.94zm10 10l.94 2.06.94-2.06 2.06-.94-2.06-.94-.94-2.06-.94 2.06-2.06.94z\"/><path d=\"M17.41 7.96l-1.37-1.37c-.4-.4-.92-.59-1.43-.59-.52 0-1.04.2-1.43.59L10.3 9.45l-7.72 7.72c-.78.78-.78 2.05 0 2.83L4 21.41c.39.39.9.59 1.41.59.51 0 1.02-.2 1.41-.59l7.78-7.78 2.81-2.81c.8-.78.8-2.07 0-2.86zM5.41 20L4 18.59l7.72-7.72 1.47 1.35L5.41 20z\"/>\n",
              "  </svg>\n",
              "      </button>\n",
              "      \n",
              "  <style>\n",
              "    .colab-df-container {\n",
              "      display:flex;\n",
              "      flex-wrap:wrap;\n",
              "      gap: 12px;\n",
              "    }\n",
              "\n",
              "    .colab-df-convert {\n",
              "      background-color: #E8F0FE;\n",
              "      border: none;\n",
              "      border-radius: 50%;\n",
              "      cursor: pointer;\n",
              "      display: none;\n",
              "      fill: #1967D2;\n",
              "      height: 32px;\n",
              "      padding: 0 0 0 0;\n",
              "      width: 32px;\n",
              "    }\n",
              "\n",
              "    .colab-df-convert:hover {\n",
              "      background-color: #E2EBFA;\n",
              "      box-shadow: 0px 1px 2px rgba(60, 64, 67, 0.3), 0px 1px 3px 1px rgba(60, 64, 67, 0.15);\n",
              "      fill: #174EA6;\n",
              "    }\n",
              "\n",
              "    [theme=dark] .colab-df-convert {\n",
              "      background-color: #3B4455;\n",
              "      fill: #D2E3FC;\n",
              "    }\n",
              "\n",
              "    [theme=dark] .colab-df-convert:hover {\n",
              "      background-color: #434B5C;\n",
              "      box-shadow: 0px 1px 3px 1px rgba(0, 0, 0, 0.15);\n",
              "      filter: drop-shadow(0px 1px 2px rgba(0, 0, 0, 0.3));\n",
              "      fill: #FFFFFF;\n",
              "    }\n",
              "  </style>\n",
              "\n",
              "      <script>\n",
              "        const buttonEl =\n",
              "          document.querySelector('#df-0fc20e4b-e7b1-4053-a394-b030af97af9e button.colab-df-convert');\n",
              "        buttonEl.style.display =\n",
              "          google.colab.kernel.accessAllowed ? 'block' : 'none';\n",
              "\n",
              "        async function convertToInteractive(key) {\n",
              "          const element = document.querySelector('#df-0fc20e4b-e7b1-4053-a394-b030af97af9e');\n",
              "          const dataTable =\n",
              "            await google.colab.kernel.invokeFunction('convertToInteractive',\n",
              "                                                     [key], {});\n",
              "          if (!dataTable) return;\n",
              "\n",
              "          const docLinkHtml = 'Like what you see? Visit the ' +\n",
              "            '<a target=\"_blank\" href=https://colab.research.google.com/notebooks/data_table.ipynb>data table notebook</a>'\n",
              "            + ' to learn more about interactive tables.';\n",
              "          element.innerHTML = '';\n",
              "          dataTable['output_type'] = 'display_data';\n",
              "          await google.colab.output.renderOutput(dataTable, element);\n",
              "          const docLink = document.createElement('div');\n",
              "          docLink.innerHTML = docLinkHtml;\n",
              "          element.appendChild(docLink);\n",
              "        }\n",
              "      </script>\n",
              "    </div>\n",
              "  </div>\n",
              "  "
            ]
          },
          "metadata": {},
          "execution_count": 27
        }
      ],
      "id": "fGw6UShW3OKb"
    },
    {
      "cell_type": "code",
      "source": [
        "# collections Age (Months since creation)\n",
        "collections['age'] = (pd.to_datetime('2022-12-31') - collections.creation_date)/np.timedelta64(1,'M')"
      ],
      "metadata": {
        "id": "Ox7rMn0G3_r6"
      },
      "id": "Ox7rMn0G3_r6",
      "execution_count": null,
      "outputs": []
    },
    {
      "cell_type": "markdown",
      "source": [
        "## Clustering Collection attributes\n",
        "\n",
        "Here, we will cluster attributes of all collections. Firstly, we will merge the twitter data to the collections dataset"
      ],
      "metadata": {
        "id": "dHNkEsEx5tBZ"
      },
      "id": "dHNkEsEx5tBZ"
    },
    {
      "cell_type": "code",
      "source": [
        "# merging all collections data\n",
        "collections = collections.merge(collections_tweet, on='collection_id', how='inner')\n",
        "del collections_tweet"
      ],
      "metadata": {
        "id": "5xjtawvj5eI_"
      },
      "id": "5xjtawvj5eI_",
      "execution_count": null,
      "outputs": []
    },
    {
      "cell_type": "code",
      "source": [
        "collections.head()"
      ],
      "metadata": {
        "colab": {
          "base_uri": "https://localhost:8080/",
          "height": 270
        },
        "id": "otmWMyhW7vJV",
        "outputId": "aa298517-9d1e-48b0-c22a-8b8b5e206c71"
      },
      "id": "otmWMyhW7vJV",
      "execution_count": null,
      "outputs": [
        {
          "output_type": "execute_result",
          "data": {
            "text/plain": [
              "   collection_id  total_supply creation_date  verification_status  \\\n",
              "0              0          6501    2022-04-01                    1   \n",
              "1              1         15000    2022-04-01                    1   \n",
              "2              2         20279    2021-07-01                    0   \n",
              "3              3          9124    2021-01-01                    0   \n",
              "4              4          9000    2022-02-01                    0   \n",
              "\n",
              "   n_of_traits  contract_type  seller_fees  openrarity_enabled  has_discord  \\\n",
              "0           31              1        500.0                   0            1   \n",
              "1           12              1        500.0                   1            1   \n",
              "2            7              0        200.0                   0            0   \n",
              "3           26              0       1000.0                   0            1   \n",
              "4            8              0        900.0                   0            0   \n",
              "\n",
              "   has_medium        age  n_tweets_in_range   avg_likes  avg_replies  \\\n",
              "0           1   9.002238                  2  183.000000     8.500000   \n",
              "1           0   9.002238                 16   36.375000     3.562500   \n",
              "2           0  18.004476                  1   15.000000     9.000000   \n",
              "3           1  23.951210                526    1.178707     0.306084   \n",
              "4           0  10.940676                 26    8.153846     0.884615   \n",
              "\n",
              "   avg_retweets  min_likes  min_replies  min_retweets  max_likes  max_replies  \\\n",
              "0     41.000000        123            3             6        243           14   \n",
              "1     13.937500          0            0             0        125           21   \n",
              "2      1.000000         15            9             1         15            9   \n",
              "3      2.655894          0            0             0         21            8   \n",
              "4      1.153846          0            0             0         30            6   \n",
              "\n",
              "   max_retweets  \n",
              "0            76  \n",
              "1            34  \n",
              "2             1  \n",
              "3            13  \n",
              "4            12  "
            ],
            "text/html": [
              "\n",
              "  <div id=\"df-68dbff76-7e66-497b-aafa-2467bc18f00d\">\n",
              "    <div class=\"colab-df-container\">\n",
              "      <div>\n",
              "<style scoped>\n",
              "    .dataframe tbody tr th:only-of-type {\n",
              "        vertical-align: middle;\n",
              "    }\n",
              "\n",
              "    .dataframe tbody tr th {\n",
              "        vertical-align: top;\n",
              "    }\n",
              "\n",
              "    .dataframe thead th {\n",
              "        text-align: right;\n",
              "    }\n",
              "</style>\n",
              "<table border=\"1\" class=\"dataframe\">\n",
              "  <thead>\n",
              "    <tr style=\"text-align: right;\">\n",
              "      <th></th>\n",
              "      <th>collection_id</th>\n",
              "      <th>total_supply</th>\n",
              "      <th>creation_date</th>\n",
              "      <th>verification_status</th>\n",
              "      <th>n_of_traits</th>\n",
              "      <th>contract_type</th>\n",
              "      <th>seller_fees</th>\n",
              "      <th>openrarity_enabled</th>\n",
              "      <th>has_discord</th>\n",
              "      <th>has_medium</th>\n",
              "      <th>age</th>\n",
              "      <th>n_tweets_in_range</th>\n",
              "      <th>avg_likes</th>\n",
              "      <th>avg_replies</th>\n",
              "      <th>avg_retweets</th>\n",
              "      <th>min_likes</th>\n",
              "      <th>min_replies</th>\n",
              "      <th>min_retweets</th>\n",
              "      <th>max_likes</th>\n",
              "      <th>max_replies</th>\n",
              "      <th>max_retweets</th>\n",
              "    </tr>\n",
              "  </thead>\n",
              "  <tbody>\n",
              "    <tr>\n",
              "      <th>0</th>\n",
              "      <td>0</td>\n",
              "      <td>6501</td>\n",
              "      <td>2022-04-01</td>\n",
              "      <td>1</td>\n",
              "      <td>31</td>\n",
              "      <td>1</td>\n",
              "      <td>500.0</td>\n",
              "      <td>0</td>\n",
              "      <td>1</td>\n",
              "      <td>1</td>\n",
              "      <td>9.002238</td>\n",
              "      <td>2</td>\n",
              "      <td>183.000000</td>\n",
              "      <td>8.500000</td>\n",
              "      <td>41.000000</td>\n",
              "      <td>123</td>\n",
              "      <td>3</td>\n",
              "      <td>6</td>\n",
              "      <td>243</td>\n",
              "      <td>14</td>\n",
              "      <td>76</td>\n",
              "    </tr>\n",
              "    <tr>\n",
              "      <th>1</th>\n",
              "      <td>1</td>\n",
              "      <td>15000</td>\n",
              "      <td>2022-04-01</td>\n",
              "      <td>1</td>\n",
              "      <td>12</td>\n",
              "      <td>1</td>\n",
              "      <td>500.0</td>\n",
              "      <td>1</td>\n",
              "      <td>1</td>\n",
              "      <td>0</td>\n",
              "      <td>9.002238</td>\n",
              "      <td>16</td>\n",
              "      <td>36.375000</td>\n",
              "      <td>3.562500</td>\n",
              "      <td>13.937500</td>\n",
              "      <td>0</td>\n",
              "      <td>0</td>\n",
              "      <td>0</td>\n",
              "      <td>125</td>\n",
              "      <td>21</td>\n",
              "      <td>34</td>\n",
              "    </tr>\n",
              "    <tr>\n",
              "      <th>2</th>\n",
              "      <td>2</td>\n",
              "      <td>20279</td>\n",
              "      <td>2021-07-01</td>\n",
              "      <td>0</td>\n",
              "      <td>7</td>\n",
              "      <td>0</td>\n",
              "      <td>200.0</td>\n",
              "      <td>0</td>\n",
              "      <td>0</td>\n",
              "      <td>0</td>\n",
              "      <td>18.004476</td>\n",
              "      <td>1</td>\n",
              "      <td>15.000000</td>\n",
              "      <td>9.000000</td>\n",
              "      <td>1.000000</td>\n",
              "      <td>15</td>\n",
              "      <td>9</td>\n",
              "      <td>1</td>\n",
              "      <td>15</td>\n",
              "      <td>9</td>\n",
              "      <td>1</td>\n",
              "    </tr>\n",
              "    <tr>\n",
              "      <th>3</th>\n",
              "      <td>3</td>\n",
              "      <td>9124</td>\n",
              "      <td>2021-01-01</td>\n",
              "      <td>0</td>\n",
              "      <td>26</td>\n",
              "      <td>0</td>\n",
              "      <td>1000.0</td>\n",
              "      <td>0</td>\n",
              "      <td>1</td>\n",
              "      <td>1</td>\n",
              "      <td>23.951210</td>\n",
              "      <td>526</td>\n",
              "      <td>1.178707</td>\n",
              "      <td>0.306084</td>\n",
              "      <td>2.655894</td>\n",
              "      <td>0</td>\n",
              "      <td>0</td>\n",
              "      <td>0</td>\n",
              "      <td>21</td>\n",
              "      <td>8</td>\n",
              "      <td>13</td>\n",
              "    </tr>\n",
              "    <tr>\n",
              "      <th>4</th>\n",
              "      <td>4</td>\n",
              "      <td>9000</td>\n",
              "      <td>2022-02-01</td>\n",
              "      <td>0</td>\n",
              "      <td>8</td>\n",
              "      <td>0</td>\n",
              "      <td>900.0</td>\n",
              "      <td>0</td>\n",
              "      <td>0</td>\n",
              "      <td>0</td>\n",
              "      <td>10.940676</td>\n",
              "      <td>26</td>\n",
              "      <td>8.153846</td>\n",
              "      <td>0.884615</td>\n",
              "      <td>1.153846</td>\n",
              "      <td>0</td>\n",
              "      <td>0</td>\n",
              "      <td>0</td>\n",
              "      <td>30</td>\n",
              "      <td>6</td>\n",
              "      <td>12</td>\n",
              "    </tr>\n",
              "  </tbody>\n",
              "</table>\n",
              "</div>\n",
              "      <button class=\"colab-df-convert\" onclick=\"convertToInteractive('df-68dbff76-7e66-497b-aafa-2467bc18f00d')\"\n",
              "              title=\"Convert this dataframe to an interactive table.\"\n",
              "              style=\"display:none;\">\n",
              "        \n",
              "  <svg xmlns=\"http://www.w3.org/2000/svg\" height=\"24px\"viewBox=\"0 0 24 24\"\n",
              "       width=\"24px\">\n",
              "    <path d=\"M0 0h24v24H0V0z\" fill=\"none\"/>\n",
              "    <path d=\"M18.56 5.44l.94 2.06.94-2.06 2.06-.94-2.06-.94-.94-2.06-.94 2.06-2.06.94zm-11 1L8.5 8.5l.94-2.06 2.06-.94-2.06-.94L8.5 2.5l-.94 2.06-2.06.94zm10 10l.94 2.06.94-2.06 2.06-.94-2.06-.94-.94-2.06-.94 2.06-2.06.94z\"/><path d=\"M17.41 7.96l-1.37-1.37c-.4-.4-.92-.59-1.43-.59-.52 0-1.04.2-1.43.59L10.3 9.45l-7.72 7.72c-.78.78-.78 2.05 0 2.83L4 21.41c.39.39.9.59 1.41.59.51 0 1.02-.2 1.41-.59l7.78-7.78 2.81-2.81c.8-.78.8-2.07 0-2.86zM5.41 20L4 18.59l7.72-7.72 1.47 1.35L5.41 20z\"/>\n",
              "  </svg>\n",
              "      </button>\n",
              "      \n",
              "  <style>\n",
              "    .colab-df-container {\n",
              "      display:flex;\n",
              "      flex-wrap:wrap;\n",
              "      gap: 12px;\n",
              "    }\n",
              "\n",
              "    .colab-df-convert {\n",
              "      background-color: #E8F0FE;\n",
              "      border: none;\n",
              "      border-radius: 50%;\n",
              "      cursor: pointer;\n",
              "      display: none;\n",
              "      fill: #1967D2;\n",
              "      height: 32px;\n",
              "      padding: 0 0 0 0;\n",
              "      width: 32px;\n",
              "    }\n",
              "\n",
              "    .colab-df-convert:hover {\n",
              "      background-color: #E2EBFA;\n",
              "      box-shadow: 0px 1px 2px rgba(60, 64, 67, 0.3), 0px 1px 3px 1px rgba(60, 64, 67, 0.15);\n",
              "      fill: #174EA6;\n",
              "    }\n",
              "\n",
              "    [theme=dark] .colab-df-convert {\n",
              "      background-color: #3B4455;\n",
              "      fill: #D2E3FC;\n",
              "    }\n",
              "\n",
              "    [theme=dark] .colab-df-convert:hover {\n",
              "      background-color: #434B5C;\n",
              "      box-shadow: 0px 1px 3px 1px rgba(0, 0, 0, 0.15);\n",
              "      filter: drop-shadow(0px 1px 2px rgba(0, 0, 0, 0.3));\n",
              "      fill: #FFFFFF;\n",
              "    }\n",
              "  </style>\n",
              "\n",
              "      <script>\n",
              "        const buttonEl =\n",
              "          document.querySelector('#df-68dbff76-7e66-497b-aafa-2467bc18f00d button.colab-df-convert');\n",
              "        buttonEl.style.display =\n",
              "          google.colab.kernel.accessAllowed ? 'block' : 'none';\n",
              "\n",
              "        async function convertToInteractive(key) {\n",
              "          const element = document.querySelector('#df-68dbff76-7e66-497b-aafa-2467bc18f00d');\n",
              "          const dataTable =\n",
              "            await google.colab.kernel.invokeFunction('convertToInteractive',\n",
              "                                                     [key], {});\n",
              "          if (!dataTable) return;\n",
              "\n",
              "          const docLinkHtml = 'Like what you see? Visit the ' +\n",
              "            '<a target=\"_blank\" href=https://colab.research.google.com/notebooks/data_table.ipynb>data table notebook</a>'\n",
              "            + ' to learn more about interactive tables.';\n",
              "          element.innerHTML = '';\n",
              "          dataTable['output_type'] = 'display_data';\n",
              "          await google.colab.output.renderOutput(dataTable, element);\n",
              "          const docLink = document.createElement('div');\n",
              "          docLink.innerHTML = docLinkHtml;\n",
              "          element.appendChild(docLink);\n",
              "        }\n",
              "      </script>\n",
              "    </div>\n",
              "  </div>\n",
              "  "
            ]
          },
          "metadata": {},
          "execution_count": 30
        }
      ]
    },
    {
      "cell_type": "code",
      "source": [
        "cluster_data = collections.drop(columns = ['collection_id', 'creation_date', 'seller_fees'])"
      ],
      "metadata": {
        "id": "IVkzD1Zk79DS"
      },
      "id": "IVkzD1Zk79DS",
      "execution_count": null,
      "outputs": []
    },
    {
      "cell_type": "code",
      "source": [
        "cluster_data.nunique()[cluster_data.nunique() == 2].index.drop(['has_medium'])"
      ],
      "metadata": {
        "colab": {
          "base_uri": "https://localhost:8080/"
        },
        "id": "cV4_57zn_GkM",
        "outputId": "272aafdf-b92f-43d1-8b8a-77ec742607eb"
      },
      "id": "cV4_57zn_GkM",
      "execution_count": null,
      "outputs": [
        {
          "output_type": "execute_result",
          "data": {
            "text/plain": [
              "Index(['verification_status', 'contract_type', 'openrarity_enabled',\n",
              "       'has_discord'],\n",
              "      dtype='object')"
            ]
          },
          "metadata": {},
          "execution_count": 32
        }
      ]
    },
    {
      "cell_type": "code",
      "source": [
        "def clustering(data, n, scaler):\n",
        "  kmeans = KMeans(n_clusters=n, random_state=0, max_iter=1000, n_init=10)\n",
        "  return kmeans.fit(scaler.fit_transform(data))"
      ],
      "metadata": {
        "id": "CUpGzwGW88Jv"
      },
      "id": "CUpGzwGW88Jv",
      "execution_count": null,
      "outputs": []
    },
    {
      "cell_type": "code",
      "source": [
        "scores = []\n",
        "for i in range(2, 26):\n",
        "  kmeans = clustering(cluster_data, n=i, scaler=StandardScaler())\n",
        "  scores.append(kmeans.inertia_)\n",
        "\n",
        "plt.figure(figsize=(8,5))\n",
        "plt.plot(range(2,26), scores, 'r-*')\n",
        "plt.title('Elbow Method')\n",
        "plt.xlabel('Clusters')\n",
        "plt.ylabel('Inertia')\n",
        "plt.xticks(range(2,26), range(2,26));"
      ],
      "metadata": {
        "colab": {
          "base_uri": "https://localhost:8080/",
          "height": 350
        },
        "id": "7cDj7A5b9ZEE",
        "outputId": "2396e26d-7e5d-4ccb-be74-af3976efdbfc"
      },
      "id": "7cDj7A5b9ZEE",
      "execution_count": null,
      "outputs": [
        {
          "output_type": "display_data",
          "data": {
            "text/plain": [
              "<Figure size 576x360 with 1 Axes>"
            ],
            "image/png": "[encoded data removed]"
          },
          "metadata": {
            "needs_background": "light"
          }
        }
      ]
    },
    {
      "cell_type": "markdown",
      "source": [
        "Grouping into 5 clusters"
      ],
      "metadata": {
        "id": "UiQg3W-OBiy9"
      },
      "id": "UiQg3W-OBiy9"
    },
    {
      "cell_type": "code",
      "source": [
        "scaled_data = MinMaxScaler().fit_transform(cluster_data)\n",
        "labels = clustering(cluster_data, 3, MinMaxScaler()).predict(scaled_data)"
      ],
      "metadata": {
        "id": "EmHogGOb-1Gi"
      },
      "id": "EmHogGOb-1Gi",
      "execution_count": null,
      "outputs": []
    },
    {
      "cell_type": "code",
      "source": [
        "np.bincount(labels)"
      ],
      "metadata": {
        "colab": {
          "base_uri": "https://localhost:8080/"
        },
        "id": "H6Qg5wIJB-wL",
        "outputId": "b8b55471-e879-4733-921b-59e43c0053ca"
      },
      "id": "H6Qg5wIJB-wL",
      "execution_count": null,
      "outputs": [
        {
          "output_type": "execute_result",
          "data": {
            "text/plain": [
              "array([17, 13, 18])"
            ]
          },
          "metadata": {},
          "execution_count": 36
        }
      ]
    },
    {
      "cell_type": "markdown",
      "source": [
        "MinMaxScaler was used as scaling method because it gave lower inertia (mean squared scores). Also, 3 clusters was used because the number of samples in each cluster was uniform (that is, almost same in number). Using higher clusters disintegrates them into clusters with smaller number of samples in them."
      ],
      "metadata": {
        "id": "BwZnq_JLDBl7"
      },
      "id": "BwZnq_JLDBl7"
    },
    {
      "cell_type": "code",
      "source": [
        "collections['c_labels'] = labels + 1"
      ],
      "metadata": {
        "id": "xdZmez1vDjrE"
      },
      "id": "xdZmez1vDjrE",
      "execution_count": null,
      "outputs": []
    },
    {
      "cell_type": "markdown",
      "source": [
        "## Feature Engineering"
      ],
      "metadata": {
        "id": "EWzVC5OwKWW7"
      },
      "id": "EWzVC5OwKWW7"
    },
    {
      "cell_type": "code",
      "execution_count": null,
      "id": "8b11068c",
      "metadata": {
        "id": "8b11068c"
      },
      "outputs": [],
      "source": [
        "# target variable\n",
        "TARGET = 'last_sale_price'"
      ]
    },
    {
      "cell_type": "markdown",
      "id": "d4f9a52a",
      "metadata": {
        "id": "d4f9a52a"
      },
      "source": [
        "### Merging Data"
      ]
    },
    {
      "cell_type": "markdown",
      "id": "266f08ab",
      "metadata": {
        "id": "266f08ab"
      },
      "source": [
        "Merging collections data to train and test data. We will use a left join method, that is every collection ID in train and test will be merged from the collections data"
      ]
    },
    {
      "cell_type": "code",
      "execution_count": null,
      "id": "11cff292",
      "metadata": {
        "id": "11cff292"
      },
      "outputs": [],
      "source": [
        "# merge collections to train and test \n",
        "train = train.merge(collections, on='collection_id', how='left')\n",
        "test = test.merge(collections, on='collection_id', how='left')"
      ]
    },
    {
      "cell_type": "code",
      "execution_count": null,
      "id": "34171b7e",
      "metadata": {
        "colab": {
          "base_uri": "https://localhost:8080/",
          "height": 270
        },
        "id": "34171b7e",
        "outputId": "6bfbd2a0-c339-4f90-ebd6-86b032588a70"
      },
      "outputs": [
        {
          "output_type": "execute_result",
          "data": {
            "text/plain": [
              "   global_index  nft_id  collection_id  rarity_score  openrarity_score  \\\n",
              "0         21928       0             49      2.000000               NaN   \n",
              "1         32621       0             45     97.077216               NaN   \n",
              "2         32622       1             45    139.453086               NaN   \n",
              "3         32623       2             45    127.753445               NaN   \n",
              "4         32624       3             45    112.315719               NaN   \n",
              "\n",
              "   openrarity_rank  openrarity_max_rank last_sale_date  last_sale_price  \\\n",
              "0              NaN                  NaN     2022-11-01         1.266732   \n",
              "1              NaN                  NaN     2021-08-01         1.200357   \n",
              "2              NaN                  NaN     2022-08-01         3.180572   \n",
              "3              NaN                  NaN     2021-08-01         3.502910   \n",
              "4              NaN                  NaN     2022-09-01         4.009567   \n",
              "\n",
              "   total_supply creation_date  verification_status  n_of_traits  \\\n",
              "0             1    2022-04-01                    1            2   \n",
              "1          8888    2021-07-01                    1            5   \n",
              "2          8888    2021-07-01                    1            5   \n",
              "3          8888    2021-07-01                    1            5   \n",
              "4          8888    2021-07-01                    1            5   \n",
              "\n",
              "   contract_type  seller_fees  openrarity_enabled  has_discord  has_medium  \\\n",
              "0              1       1000.0                   0            1           0   \n",
              "1              1        500.0                   0            1           0   \n",
              "2              1        500.0                   0            1           0   \n",
              "3              1        500.0                   0            1           0   \n",
              "4              1        500.0                   0            1           0   \n",
              "\n",
              "         age  n_tweets_in_range   avg_likes  avg_replies  avg_retweets  \\\n",
              "0   9.002238                 31  187.967742     8.290323     60.935484   \n",
              "1  18.004476                 11  133.181818    13.454545     55.181818   \n",
              "2  18.004476                 11  133.181818    13.454545     55.181818   \n",
              "3  18.004476                 11  133.181818    13.454545     55.181818   \n",
              "4  18.004476                 11  133.181818    13.454545     55.181818   \n",
              "\n",
              "   min_likes  min_replies  min_retweets  max_likes  max_replies  max_retweets  \\\n",
              "0          0            0             2        591           28           380   \n",
              "1          0            0             7        402           47           239   \n",
              "2          0            0             7        402           47           239   \n",
              "3          0            0             7        402           47           239   \n",
              "4          0            0             7        402           47           239   \n",
              "\n",
              "   c_labels  \n",
              "0         1  \n",
              "1         1  \n",
              "2         1  \n",
              "3         1  \n",
              "4         1  "
            ],
            "text/html": [
              "\n",
              "  <div id=\"df-076a4afa-0a24-4065-bdfa-83ef1c7273cd\">\n",
              "    <div class=\"colab-df-container\">\n",
              "      <div>\n",
              "<style scoped>\n",
              "    .dataframe tbody tr th:only-of-type {\n",
              "        vertical-align: middle;\n",
              "    }\n",
              "\n",
              "    .dataframe tbody tr th {\n",
              "        vertical-align: top;\n",
              "    }\n",
              "\n",
              "    .dataframe thead th {\n",
              "        text-align: right;\n",
              "    }\n",
              "</style>\n",
              "<table border=\"1\" class=\"dataframe\">\n",
              "  <thead>\n",
              "    <tr style=\"text-align: right;\">\n",
              "      <th></th>\n",
              "      <th>global_index</th>\n",
              "      <th>nft_id</th>\n",
              "      <th>collection_id</th>\n",
              "      <th>rarity_score</th>\n",
              "      <th>openrarity_score</th>\n",
              "      <th>openrarity_rank</th>\n",
              "      <th>openrarity_max_rank</th>\n",
              "      <th>last_sale_date</th>\n",
              "      <th>last_sale_price</th>\n",
              "      <th>total_supply</th>\n",
              "      <th>creation_date</th>\n",
              "      <th>verification_status</th>\n",
              "      <th>n_of_traits</th>\n",
              "      <th>contract_type</th>\n",
              "      <th>seller_fees</th>\n",
              "      <th>openrarity_enabled</th>\n",
              "      <th>has_discord</th>\n",
              "      <th>has_medium</th>\n",
              "      <th>age</th>\n",
              "      <th>n_tweets_in_range</th>\n",
              "      <th>avg_likes</th>\n",
              "      <th>avg_replies</th>\n",
              "      <th>avg_retweets</th>\n",
              "      <th>min_likes</th>\n",
              "      <th>min_replies</th>\n",
              "      <th>min_retweets</th>\n",
              "      <th>max_likes</th>\n",
              "      <th>max_replies</th>\n",
              "      <th>max_retweets</th>\n",
              "      <th>c_labels</th>\n",
              "    </tr>\n",
              "  </thead>\n",
              "  <tbody>\n",
              "    <tr>\n",
              "      <th>0</th>\n",
              "      <td>21928</td>\n",
              "      <td>0</td>\n",
              "      <td>49</td>\n",
              "      <td>2.000000</td>\n",
              "      <td>NaN</td>\n",
              "      <td>NaN</td>\n",
              "      <td>NaN</td>\n",
              "      <td>2022-11-01</td>\n",
              "      <td>1.266732</td>\n",
              "      <td>1</td>\n",
              "      <td>2022-04-01</td>\n",
              "      <td>1</td>\n",
              "      <td>2</td>\n",
              "      <td>1</td>\n",
              "      <td>1000.0</td>\n",
              "      <td>0</td>\n",
              "      <td>1</td>\n",
              "      <td>0</td>\n",
              "      <td>9.002238</td>\n",
              "      <td>31</td>\n",
              "      <td>187.967742</td>\n",
              "      <td>8.290323</td>\n",
              "      <td>60.935484</td>\n",
              "      <td>0</td>\n",
              "      <td>0</td>\n",
              "      <td>2</td>\n",
              "      <td>591</td>\n",
              "      <td>28</td>\n",
              "      <td>380</td>\n",
              "      <td>1</td>\n",
              "    </tr>\n",
              "    <tr>\n",
              "      <th>1</th>\n",
              "      <td>32621</td>\n",
              "      <td>0</td>\n",
              "      <td>45</td>\n",
              "      <td>97.077216</td>\n",
              "      <td>NaN</td>\n",
              "      <td>NaN</td>\n",
              "      <td>NaN</td>\n",
              "      <td>2021-08-01</td>\n",
              "      <td>1.200357</td>\n",
              "      <td>8888</td>\n",
              "      <td>2021-07-01</td>\n",
              "      <td>1</td>\n",
              "      <td>5</td>\n",
              "      <td>1</td>\n",
              "      <td>500.0</td>\n",
              "      <td>0</td>\n",
              "      <td>1</td>\n",
              "      <td>0</td>\n",
              "      <td>18.004476</td>\n",
              "      <td>11</td>\n",
              "      <td>133.181818</td>\n",
              "      <td>13.454545</td>\n",
              "      <td>55.181818</td>\n",
              "      <td>0</td>\n",
              "      <td>0</td>\n",
              "      <td>7</td>\n",
              "      <td>402</td>\n",
              "      <td>47</td>\n",
              "      <td>239</td>\n",
              "      <td>1</td>\n",
              "    </tr>\n",
              "    <tr>\n",
              "      <th>2</th>\n",
              "      <td>32622</td>\n",
              "      <td>1</td>\n",
              "      <td>45</td>\n",
              "      <td>139.453086</td>\n",
              "      <td>NaN</td>\n",
              "      <td>NaN</td>\n",
              "      <td>NaN</td>\n",
              "      <td>2022-08-01</td>\n",
              "      <td>3.180572</td>\n",
              "      <td>8888</td>\n",
              "      <td>2021-07-01</td>\n",
              "      <td>1</td>\n",
              "      <td>5</td>\n",
              "      <td>1</td>\n",
              "      <td>500.0</td>\n",
              "      <td>0</td>\n",
              "      <td>1</td>\n",
              "      <td>0</td>\n",
              "      <td>18.004476</td>\n",
              "      <td>11</td>\n",
              "      <td>133.181818</td>\n",
              "      <td>13.454545</td>\n",
              "      <td>55.181818</td>\n",
              "      <td>0</td>\n",
              "      <td>0</td>\n",
              "      <td>7</td>\n",
              "      <td>402</td>\n",
              "      <td>47</td>\n",
              "      <td>239</td>\n",
              "      <td>1</td>\n",
              "    </tr>\n",
              "    <tr>\n",
              "      <th>3</th>\n",
              "      <td>32623</td>\n",
              "      <td>2</td>\n",
              "      <td>45</td>\n",
              "      <td>127.753445</td>\n",
              "      <td>NaN</td>\n",
              "      <td>NaN</td>\n",
              "      <td>NaN</td>\n",
              "      <td>2021-08-01</td>\n",
              "      <td>3.502910</td>\n",
              "      <td>8888</td>\n",
              "      <td>2021-07-01</td>\n",
              "      <td>1</td>\n",
              "      <td>5</td>\n",
              "      <td>1</td>\n",
              "      <td>500.0</td>\n",
              "      <td>0</td>\n",
              "      <td>1</td>\n",
              "      <td>0</td>\n",
              "      <td>18.004476</td>\n",
              "      <td>11</td>\n",
              "      <td>133.181818</td>\n",
              "      <td>13.454545</td>\n",
              "      <td>55.181818</td>\n",
              "      <td>0</td>\n",
              "      <td>0</td>\n",
              "      <td>7</td>\n",
              "      <td>402</td>\n",
              "      <td>47</td>\n",
              "      <td>239</td>\n",
              "      <td>1</td>\n",
              "    </tr>\n",
              "    <tr>\n",
              "      <th>4</th>\n",
              "      <td>32624</td>\n",
              "      <td>3</td>\n",
              "      <td>45</td>\n",
              "      <td>112.315719</td>\n",
              "      <td>NaN</td>\n",
              "      <td>NaN</td>\n",
              "      <td>NaN</td>\n",
              "      <td>2022-09-01</td>\n",
              "      <td>4.009567</td>\n",
              "      <td>8888</td>\n",
              "      <td>2021-07-01</td>\n",
              "      <td>1</td>\n",
              "      <td>5</td>\n",
              "      <td>1</td>\n",
              "      <td>500.0</td>\n",
              "      <td>0</td>\n",
              "      <td>1</td>\n",
              "      <td>0</td>\n",
              "      <td>18.004476</td>\n",
              "      <td>11</td>\n",
              "      <td>133.181818</td>\n",
              "      <td>13.454545</td>\n",
              "      <td>55.181818</td>\n",
              "      <td>0</td>\n",
              "      <td>0</td>\n",
              "      <td>7</td>\n",
              "      <td>402</td>\n",
              "      <td>47</td>\n",
              "      <td>239</td>\n",
              "      <td>1</td>\n",
              "    </tr>\n",
              "  </tbody>\n",
              "</table>\n",
              "</div>\n",
              "      <button class=\"colab-df-convert\" onclick=\"convertToInteractive('df-076a4afa-0a24-4065-bdfa-83ef1c7273cd')\"\n",
              "              title=\"Convert this dataframe to an interactive table.\"\n",
              "              style=\"display:none;\">\n",
              "        \n",
              "  <svg xmlns=\"http://www.w3.org/2000/svg\" height=\"24px\"viewBox=\"0 0 24 24\"\n",
              "       width=\"24px\">\n",
              "    <path d=\"M0 0h24v24H0V0z\" fill=\"none\"/>\n",
              "    <path d=\"M18.56 5.44l.94 2.06.94-2.06 2.06-.94-2.06-.94-.94-2.06-.94 2.06-2.06.94zm-11 1L8.5 8.5l.94-2.06 2.06-.94-2.06-.94L8.5 2.5l-.94 2.06-2.06.94zm10 10l.94 2.06.94-2.06 2.06-.94-2.06-.94-.94-2.06-.94 2.06-2.06.94z\"/><path d=\"M17.41 7.96l-1.37-1.37c-.4-.4-.92-.59-1.43-.59-.52 0-1.04.2-1.43.59L10.3 9.45l-7.72 7.72c-.78.78-.78 2.05 0 2.83L4 21.41c.39.39.9.59 1.41.59.51 0 1.02-.2 1.41-.59l7.78-7.78 2.81-2.81c.8-.78.8-2.07 0-2.86zM5.41 20L4 18.59l7.72-7.72 1.47 1.35L5.41 20z\"/>\n",
              "  </svg>\n",
              "      </button>\n",
              "      \n",
              "  <style>\n",
              "    .colab-df-container {\n",
              "      display:flex;\n",
              "      flex-wrap:wrap;\n",
              "      gap: 12px;\n",
              "    }\n",
              "\n",
              "    .colab-df-convert {\n",
              "      background-color: #E8F0FE;\n",
              "      border: none;\n",
              "      border-radius: 50%;\n",
              "      cursor: pointer;\n",
              "      display: none;\n",
              "      fill: #1967D2;\n",
              "      height: 32px;\n",
              "      padding: 0 0 0 0;\n",
              "      width: 32px;\n",
              "    }\n",
              "\n",
              "    .colab-df-convert:hover {\n",
              "      background-color: #E2EBFA;\n",
              "      box-shadow: 0px 1px 2px rgba(60, 64, 67, 0.3), 0px 1px 3px 1px rgba(60, 64, 67, 0.15);\n",
              "      fill: #174EA6;\n",
              "    }\n",
              "\n",
              "    [theme=dark] .colab-df-convert {\n",
              "      background-color: #3B4455;\n",
              "      fill: #D2E3FC;\n",
              "    }\n",
              "\n",
              "    [theme=dark] .colab-df-convert:hover {\n",
              "      background-color: #434B5C;\n",
              "      box-shadow: 0px 1px 3px 1px rgba(0, 0, 0, 0.15);\n",
              "      filter: drop-shadow(0px 1px 2px rgba(0, 0, 0, 0.3));\n",
              "      fill: #FFFFFF;\n",
              "    }\n",
              "  </style>\n",
              "\n",
              "      <script>\n",
              "        const buttonEl =\n",
              "          document.querySelector('#df-076a4afa-0a24-4065-bdfa-83ef1c7273cd button.colab-df-convert');\n",
              "        buttonEl.style.display =\n",
              "          google.colab.kernel.accessAllowed ? 'block' : 'none';\n",
              "\n",
              "        async function convertToInteractive(key) {\n",
              "          const element = document.querySelector('#df-076a4afa-0a24-4065-bdfa-83ef1c7273cd');\n",
              "          const dataTable =\n",
              "            await google.colab.kernel.invokeFunction('convertToInteractive',\n",
              "                                                     [key], {});\n",
              "          if (!dataTable) return;\n",
              "\n",
              "          const docLinkHtml = 'Like what you see? Visit the ' +\n",
              "            '<a target=\"_blank\" href=https://colab.research.google.com/notebooks/data_table.ipynb>data table notebook</a>'\n",
              "            + ' to learn more about interactive tables.';\n",
              "          element.innerHTML = '';\n",
              "          dataTable['output_type'] = 'display_data';\n",
              "          await google.colab.output.renderOutput(dataTable, element);\n",
              "          const docLink = document.createElement('div');\n",
              "          docLink.innerHTML = docLinkHtml;\n",
              "          element.appendChild(docLink);\n",
              "        }\n",
              "      </script>\n",
              "    </div>\n",
              "  </div>\n",
              "  "
            ]
          },
          "metadata": {},
          "execution_count": 40
        }
      ],
      "source": [
        "train.head()"
      ]
    },
    {
      "cell_type": "code",
      "source": [
        "# collection's age at NFT sale and month of sale\n",
        "train['col_age_at_sale'] = (train.last_sale_date - train.creation_date)/np.timedelta64(1,'M')\n",
        "train['sale_month'] = train.last_sale_date.dt.month\n",
        "train['sale_quarter'] = train.last_sale_date.dt.quarter\n",
        "train['sale_year'] = train.last_sale_date.dt.year\n",
        "\n",
        "\n",
        "test['col_age_at_sale'] = (test.last_sale_date - test.creation_date)/np.timedelta64(1,'M')\n",
        "test['sale_month'] = test.last_sale_date.dt.month\n",
        "test['sale_quarter'] = test.last_sale_date.dt.quarter\n",
        "test['sale_year'] = test.last_sale_date.dt.year"
      ],
      "metadata": {
        "id": "dyp2UnnfWfy2"
      },
      "id": "dyp2UnnfWfy2",
      "execution_count": null,
      "outputs": []
    },
    {
      "cell_type": "code",
      "source": [
        "cluster_stat = train.groupby('c_labels')[TARGET].agg(['min', 'mean', 'max', 'std'])\n",
        "\n",
        "collection_stat = train.groupby('collection_id')[TARGET].agg(['min', 'mean', 'max', 'std'])\n",
        "\n",
        "cluster_stat.columns = [f'clust_targ_{i}' for i in cluster_stat.columns]\n",
        "collection_stat.columns = [f'coll_targ_{i}' for i in collection_stat.columns]"
      ],
      "metadata": {
        "id": "jBmthIyYY2dC"
      },
      "id": "jBmthIyYY2dC",
      "execution_count": null,
      "outputs": []
    },
    {
      "cell_type": "code",
      "source": [
        "print(cluster_stat.head())\n",
        "print()\n",
        "print(collection_stat.head())"
      ],
      "metadata": {
        "colab": {
          "base_uri": "https://localhost:8080/"
        },
        "id": "86uABeouj3Ua",
        "outputId": "351cc8b7-8d0d-447e-e868-155500bf9217"
      },
      "id": "86uABeouj3Ua",
      "execution_count": null,
      "outputs": [
        {
          "output_type": "stream",
          "name": "stdout",
          "text": [
            "          clust_targ_min  clust_targ_mean  clust_targ_max  clust_targ_std\n",
            "c_labels                                                                 \n",
            "1           5.753438e-07         5.914540     1024.001504       22.541674\n",
            "2           3.137229e-07         1.756618      350.006966        6.240145\n",
            "3           6.485360e-08         0.007341        3.484961        0.022429\n",
            "\n",
            "               coll_targ_min  coll_targ_mean  coll_targ_max  coll_targ_std\n",
            "collection_id                                                             \n",
            "0               5.753438e-07        0.319207      18.754642       0.525576\n",
            "1               3.137229e-07        0.588378      40.004320       1.377267\n",
            "4               2.219493e-06        0.005132       0.064771       0.003235\n",
            "6               2.164313e-06        4.231422      75.008824       4.518223\n",
            "7               3.981010e-06       39.836370    1024.001504      54.771641\n"
          ]
        }
      ]
    },
    {
      "cell_type": "code",
      "source": [
        "# number of NFTs sold in sale date\n",
        "collection_num_nft_sdate = pd.concat([train,test]).groupby(['last_sale_date', 'collection_id']).nft_id.count()\n",
        "\n",
        "collection_num_nft_sdate.name = 'n_nft_in_sdate'"
      ],
      "metadata": {
        "id": "Qb7Sqg6_Z5aj"
      },
      "id": "Qb7Sqg6_Z5aj",
      "execution_count": null,
      "outputs": []
    },
    {
      "cell_type": "markdown",
      "id": "2b939f4c",
      "metadata": {
        "id": "2b939f4c"
      },
      "source": [
        "Summary of NFTs sold in each collection that particular month\n",
        "We will create the min, mean, std and max price sold for an NFT in that collection for that month"
      ]
    },
    {
      "cell_type": "code",
      "execution_count": null,
      "id": "7e4d5b57",
      "metadata": {
        "id": "7e4d5b57"
      },
      "outputs": [],
      "source": [
        "# summary stat of collection_id that month/date of sale\n",
        "sale_stats = (\n",
        "    train.dropna(subset=[TARGET])\n",
        "    .groupby(['last_sale_date', 'collection_id'])[TARGET]\n",
        "    .agg(['min', 'mean', 'max', 'std'])\n",
        "    )\n",
        "\n",
        "sale_stats.columns = [f'col_{i}_last_sale_price' for i in sale_stats.columns]"
      ]
    },
    {
      "cell_type": "markdown",
      "source": [
        "## Merging engineered features into train and test"
      ],
      "metadata": {
        "id": "8cdJEurzn5XT"
      },
      "id": "8cdJEurzn5XT"
    },
    {
      "cell_type": "code",
      "source": [
        "test = (\n",
        "    test.merge(collection_stat, on='collection_id', how='left')\n",
        "    .merge(collection_num_nft_sdate, on=['collection_id', 'last_sale_date'], how='left')\n",
        "    .merge(sale_stats, on=['collection_id', 'last_sale_date'], how='left')\n",
        "    )"
      ],
      "metadata": {
        "id": "4d539PeIkeaJ"
      },
      "id": "4d539PeIkeaJ",
      "execution_count": null,
      "outputs": []
    },
    {
      "cell_type": "code",
      "source": [
        "train = (\n",
        "    train.merge(collection_stat, on='collection_id', how='left')\n",
        "    .merge(collection_num_nft_sdate, on=['collection_id', 'last_sale_date'], how='left')\n",
        "    .merge(sale_stats, on=['collection_id', 'last_sale_date'], how='left')\n",
        "    )"
      ],
      "metadata": {
        "id": "ACUFC77ekPAR"
      },
      "id": "ACUFC77ekPAR",
      "execution_count": null,
      "outputs": []
    },
    {
      "cell_type": "code",
      "source": [
        "train.isna().sum()[train.isna().sum() > 0]"
      ],
      "metadata": {
        "colab": {
          "base_uri": "https://localhost:8080/"
        },
        "id": "qfAjVcyh-fY-",
        "outputId": "17fe662e-8a80-4fe5-c29e-5b380bbf5d0a"
      },
      "id": "qfAjVcyh-fY-",
      "execution_count": null,
      "outputs": [
        {
          "output_type": "execute_result",
          "data": {
            "text/plain": [
              "openrarity_score           229430\n",
              "openrarity_rank            229430\n",
              "openrarity_max_rank        229430\n",
              "seller_fees                 32693\n",
              "coll_targ_std                   1\n",
              "col_std_last_sale_price         4\n",
              "dtype: int64"
            ]
          },
          "metadata": {},
          "execution_count": 48
        }
      ]
    },
    {
      "cell_type": "code",
      "source": [
        "test.isna().sum()[test.isna().sum() > 0]"
      ],
      "metadata": {
        "colab": {
          "base_uri": "https://localhost:8080/"
        },
        "id": "jUifqnoY-tev",
        "outputId": "20eae39a-a1b5-4d3c-b89c-2036c0819103"
      },
      "id": "jUifqnoY-tev",
      "execution_count": null,
      "outputs": [
        {
          "output_type": "execute_result",
          "data": {
            "text/plain": [
              "openrarity_score            142588\n",
              "openrarity_rank             142588\n",
              "openrarity_max_rank         142588\n",
              "coll_targ_min               181214\n",
              "coll_targ_mean              181214\n",
              "coll_targ_max               181214\n",
              "coll_targ_std               181214\n",
              "col_min_last_sale_price     181214\n",
              "col_mean_last_sale_price    181214\n",
              "col_max_last_sale_price     181214\n",
              "col_std_last_sale_price     181214\n",
              "dtype: int64"
            ]
          },
          "metadata": {},
          "execution_count": 49
        }
      ]
    },
    {
      "cell_type": "markdown",
      "id": "6af41774",
      "metadata": {
        "id": "6af41774"
      },
      "source": [
        "## Exploratory Data Analysis"
      ]
    },
    {
      "cell_type": "markdown",
      "id": "5c113d0f",
      "metadata": {
        "id": "5c113d0f"
      },
      "source": [
        "__Number of NFTs sold till date__"
      ]
    },
    {
      "cell_type": "code",
      "execution_count": null,
      "id": "cee8a9e4",
      "metadata": {
        "colab": {
          "base_uri": "https://localhost:8080/",
          "height": 361
        },
        "id": "cee8a9e4",
        "outputId": "8a33e670-bb2f-4ab7-836a-daa2a18d2c14"
      },
      "outputs": [
        {
          "output_type": "display_data",
          "data": {
            "text/plain": [
              "<Figure size 576x360 with 1 Axes>"
            ],
            "image/png": "[encoded data removed]"
          },
          "metadata": {
            "needs_background": "light"
          }
        }
      ],
      "source": [
        "# number of nft's sold\n",
        "pd.concat([train, test]).groupby('last_sale_date').nft_id.count().plot(figsize=(8,5), marker='*')\n",
        "plt.title('Number of NFTs sold till date')\n",
        "plt.ylabel('Number of NFts Sold')\n",
        "plt.xlabel('Date');"
      ]
    },
    {
      "cell_type": "markdown",
      "id": "a90c3643",
      "metadata": {
        "id": "a90c3643"
      },
      "source": [
        "The number of NFTs sold per month has seen an increased trend until July when the number of NFTs sold has begun to decrease"
      ]
    },
    {
      "cell_type": "markdown",
      "id": "57a8a2a0",
      "metadata": {
        "id": "57a8a2a0"
      },
      "source": [
        "__Number of NFTs sold per collection per month__"
      ]
    },
    {
      "cell_type": "code",
      "execution_count": null,
      "id": "97f5ffac",
      "metadata": {
        "colab": {
          "base_uri": "https://localhost:8080/",
          "height": 350
        },
        "id": "97f5ffac",
        "outputId": "b047649b-98eb-4558-f6df-63fc709de18e"
      },
      "outputs": [
        {
          "output_type": "display_data",
          "data": {
            "text/plain": [
              "<Figure size 576x360 with 1 Axes>"
            ],
            "image/png": "[encoded data removed]"
          },
          "metadata": {
            "needs_background": "light"
          }
        }
      ],
      "source": [
        "# Number of NFTs in sold each collection\n",
        "(\n",
        "    pd.concat([train, test])\n",
        "    .groupby(['last_sale_date', 'collection_id']).nft_id.count()\n",
        "    .plot.hist(figsize=(8,5), edgecolor='w')\n",
        ")\n",
        "\n",
        "plt.title('Number of NFTs sold per collection per month')\n",
        "plt.xlabel('NFT sold')\n",
        "plt.show()"
      ]
    },
    {
      "cell_type": "markdown",
      "id": "946fddb2",
      "metadata": {
        "id": "946fddb2"
      },
      "source": [
        "Most NFTs cold in each collection per month is less than 2000"
      ]
    },
    {
      "cell_type": "markdown",
      "id": "0e84b64c",
      "metadata": {
        "id": "0e84b64c"
      },
      "source": [
        "__Distribution of the Selling Prices of NFTs__"
      ]
    },
    {
      "cell_type": "code",
      "execution_count": null,
      "id": "b45efb23",
      "metadata": {
        "colab": {
          "base_uri": "https://localhost:8080/"
        },
        "id": "b45efb23",
        "outputId": "0132da56-1931-4f56-8160-20fd8fcd36ec"
      },
      "outputs": [
        {
          "output_type": "execute_result",
          "data": {
            "text/plain": [
              "count    3.099100e+05\n",
              "mean     2.162269e+00\n",
              "std      1.275132e+01\n",
              "min      6.485360e-08\n",
              "25%      4.077085e-03\n",
              "50%      8.103344e-03\n",
              "75%      3.252062e-01\n",
              "max      1.024002e+03\n",
              "Name: last_sale_price, dtype: float64"
            ]
          },
          "metadata": {},
          "execution_count": 52
        }
      ],
      "source": [
        "train.last_sale_price.describe()"
      ]
    },
    {
      "cell_type": "code",
      "execution_count": null,
      "id": "1fd2aac9",
      "metadata": {
        "colab": {
          "base_uri": "https://localhost:8080/",
          "height": 336
        },
        "id": "1fd2aac9",
        "outputId": "5389453e-d523-4edc-acf0-bb0e50bdc9a3"
      },
      "outputs": [
        {
          "output_type": "display_data",
          "data": {
            "text/plain": [
              "<Figure size 576x360 with 1 Axes>"
            ],
            "image/png": "[encoded data removed]"
          },
          "metadata": {
            "needs_background": "light"
          }
        }
      ],
      "source": [
        "# Price Distribution of NFTs sold\n",
        "train[TARGET].plot.hist(figsize=(8,5))\n",
        "plt.title('Price Distribution')\n",
        "plt.show()"
      ]
    },
    {
      "cell_type": "markdown",
      "id": "42b7ff2e",
      "metadata": {
        "id": "42b7ff2e"
      },
      "source": [
        "Most items were sold less than 100"
      ]
    },
    {
      "cell_type": "code",
      "source": [
        "# Price Distribution of NFTs sold\n",
        "np.sqrt(train[TARGET]).plot.hist(figsize=(8,5))\n",
        "plt.title('Price Distribution (Sqrt Transformed')\n",
        "plt.show()"
      ],
      "metadata": {
        "colab": {
          "base_uri": "https://localhost:8080/",
          "height": 336
        },
        "id": "pb8GrVJfNV2x",
        "outputId": "3bae30ff-a9b4-4348-8d65-a02ce8238b59"
      },
      "id": "pb8GrVJfNV2x",
      "execution_count": null,
      "outputs": [
        {
          "output_type": "display_data",
          "data": {
            "text/plain": [
              "<Figure size 576x360 with 1 Axes>"
            ],
            "image/png": "[encoded data removed]"
          },
          "metadata": {
            "needs_background": "light"
          }
        }
      ]
    },
    {
      "cell_type": "markdown",
      "id": "24b22c63",
      "metadata": {
        "id": "24b22c63"
      },
      "source": [
        "__Average price of NFTs sold per month__"
      ]
    },
    {
      "cell_type": "code",
      "execution_count": null,
      "id": "e29f3868",
      "metadata": {
        "colab": {
          "base_uri": "https://localhost:8080/",
          "height": 361
        },
        "id": "e29f3868",
        "outputId": "c2d5b207-296b-4656-90b2-99a6187cd710"
      },
      "outputs": [
        {
          "output_type": "display_data",
          "data": {
            "text/plain": [
              "<Figure size 576x360 with 1 Axes>"
            ],
            "image/png": "[encoded data removed]"
          },
          "metadata": {
            "needs_background": "light"
          }
        }
      ],
      "source": [
        "train.groupby('last_sale_date')[TARGET].mean().plot(figsize=(8,5))\n",
        "plt.title('Monthly Average Price of NFTs')\n",
        "plt.ylabel('Average Price')\n",
        "plt.xlabel('Date')\n",
        "plt.show()"
      ]
    },
    {
      "cell_type": "code",
      "execution_count": null,
      "id": "9a53c792",
      "metadata": {
        "id": "9a53c792"
      },
      "outputs": [],
      "source": [
        "# free memory\n",
        "del collections"
      ]
    },
    {
      "cell_type": "markdown",
      "source": [
        "## Classification\n",
        "\n",
        "Build a classification model to predict if an nft will be sold above the median sale price"
      ],
      "metadata": {
        "id": "XmjlpcyipJg9"
      },
      "id": "XmjlpcyipJg9"
    },
    {
      "cell_type": "code",
      "source": [
        "sns.boxplot(x='c_labels', y=TARGET, data=train);"
      ],
      "metadata": {
        "colab": {
          "base_uri": "https://localhost:8080/",
          "height": 280
        },
        "id": "zb4YdGQgCt0_",
        "outputId": "f889e366-deb4-42f9-dce9-d668abbc223f"
      },
      "id": "zb4YdGQgCt0_",
      "execution_count": null,
      "outputs": [
        {
          "output_type": "display_data",
          "data": {
            "text/plain": [
              "<Figure size 432x288 with 1 Axes>"
            ],
            "image/png": "[encoded data removed]"
          },
          "metadata": {
            "needs_background": "light"
          }
        }
      ]
    },
    {
      "cell_type": "markdown",
      "source": [
        "There's an ordinal structure in the sale price of NFTs in each cluster. Here, collections in cluster 3 have lower sale price."
      ],
      "metadata": {
        "id": "qNFB_FLkF4Km"
      },
      "id": "qNFB_FLkF4Km"
    },
    {
      "cell_type": "code",
      "source": [
        "train[TARGET].describe()"
      ],
      "metadata": {
        "colab": {
          "base_uri": "https://localhost:8080/"
        },
        "id": "huRu1aPdqFCy",
        "outputId": "686a06df-6c53-4dbe-a7c7-37db440b7ad6"
      },
      "id": "huRu1aPdqFCy",
      "execution_count": null,
      "outputs": [
        {
          "output_type": "execute_result",
          "data": {
            "text/plain": [
              "count    3.099100e+05\n",
              "mean     2.162269e+00\n",
              "std      1.275132e+01\n",
              "min      6.485360e-08\n",
              "25%      4.077085e-03\n",
              "50%      8.103344e-03\n",
              "75%      3.252062e-01\n",
              "max      1.024002e+03\n",
              "Name: last_sale_price, dtype: float64"
            ]
          },
          "metadata": {},
          "execution_count": 58
        }
      ]
    },
    {
      "cell_type": "code",
      "source": [
        "train['labels'] = (train[TARGET] > train[TARGET].median()).astype(int)"
      ],
      "metadata": {
        "id": "yqUpN0c4WPV_"
      },
      "id": "yqUpN0c4WPV_",
      "execution_count": null,
      "outputs": []
    },
    {
      "cell_type": "code",
      "source": [
        "train.labels.value_counts(True)"
      ],
      "metadata": {
        "colab": {
          "base_uri": "https://localhost:8080/"
        },
        "id": "e-xiz4SkqdNN",
        "outputId": "dfe23e68-defb-4393-c9f8-c8b88a7c0a15"
      },
      "id": "e-xiz4SkqdNN",
      "execution_count": null,
      "outputs": [
        {
          "output_type": "execute_result",
          "data": {
            "text/plain": [
              "1    0.5\n",
              "0    0.5\n",
              "Name: labels, dtype: float64"
            ]
          },
          "metadata": {},
          "execution_count": 60
        }
      ]
    },
    {
      "cell_type": "code",
      "source": [
        "train.shape, test.shape"
      ],
      "metadata": {
        "colab": {
          "base_uri": "https://localhost:8080/"
        },
        "id": "Kwp7qfvHtlOu",
        "outputId": "29df0eff-4434-4f9f-9bd6-e1af81cd7561"
      },
      "id": "Kwp7qfvHtlOu",
      "execution_count": null,
      "outputs": [
        {
          "output_type": "execute_result",
          "data": {
            "text/plain": [
              "((309910, 44), (181214, 42))"
            ]
          },
          "metadata": {},
          "execution_count": 61
        }
      ]
    },
    {
      "cell_type": "code",
      "source": [
        "plt.figure(figsize=(8,5))\n",
        "sns.countplot(x='labels', hue='c_labels', data=train, edgecolor='white')\n",
        "plt.legend(title='Cluster');"
      ],
      "metadata": {
        "colab": {
          "base_uri": "https://localhost:8080/",
          "height": 334
        },
        "id": "dk0u2RfSFbxO",
        "outputId": "16bf8026-46e9-44cd-db96-9f183f8fa348"
      },
      "id": "dk0u2RfSFbxO",
      "execution_count": null,
      "outputs": [
        {
          "output_type": "display_data",
          "data": {
            "text/plain": [
              "<Figure size 576x360 with 1 Axes>"
            ],
            "image/png": "[encoded data removed]"
          },
          "metadata": {
            "needs_background": "light"
          }
        }
      ]
    },
    {
      "cell_type": "markdown",
      "source": [
        "This mirrors the boxplot above. Many of NFTs in cluster 3 have sale prices below the median sale price"
      ],
      "metadata": {
        "id": "rph5__5aGMMM"
      },
      "id": "rph5__5aGMMM"
    },
    {
      "cell_type": "code",
      "source": [
        "# one-hot encoding cluster labels\n",
        "train = pd.get_dummies(train, columns=['c_labels'])\n",
        "test = pd.get_dummies(test, columns=['c_labels'])"
      ],
      "metadata": {
        "id": "Bb_ZkGddqwxx"
      },
      "id": "Bb_ZkGddqwxx",
      "execution_count": null,
      "outputs": []
    },
    {
      "cell_type": "code",
      "source": [
        "remove_cols = ['global_index', 'nft_id', 'collection_id', 'last_sale_date', 'creation_date', TARGET, 'labels']"
      ],
      "metadata": {
        "id": "2ZxISelktwwK"
      },
      "id": "2ZxISelktwwK",
      "execution_count": null,
      "outputs": []
    },
    {
      "cell_type": "code",
      "source": [
        "X = train.drop(columns=remove_cols)\n",
        "y = train['labels']"
      ],
      "metadata": {
        "id": "4N5Ecq6buKcr"
      },
      "id": "4N5Ecq6buKcr",
      "execution_count": null,
      "outputs": []
    },
    {
      "cell_type": "code",
      "source": [
        "X.head()"
      ],
      "metadata": {
        "colab": {
          "base_uri": "https://localhost:8080/",
          "height": 270
        },
        "id": "WdgXMWPxttR8",
        "outputId": "74ab705d-8822-4b3f-90be-f3b17c2221bb"
      },
      "id": "WdgXMWPxttR8",
      "execution_count": null,
      "outputs": [
        {
          "output_type": "execute_result",
          "data": {
            "text/plain": [
              "   rarity_score  openrarity_score  openrarity_rank  openrarity_max_rank  \\\n",
              "0      2.000000               NaN              NaN                  NaN   \n",
              "1     97.077216               NaN              NaN                  NaN   \n",
              "2    139.453086               NaN              NaN                  NaN   \n",
              "3    127.753445               NaN              NaN                  NaN   \n",
              "4    112.315719               NaN              NaN                  NaN   \n",
              "\n",
              "   total_supply  verification_status  n_of_traits  contract_type  seller_fees  \\\n",
              "0             1                    1            2              1       1000.0   \n",
              "1          8888                    1            5              1        500.0   \n",
              "2          8888                    1            5              1        500.0   \n",
              "3          8888                    1            5              1        500.0   \n",
              "4          8888                    1            5              1        500.0   \n",
              "\n",
              "   openrarity_enabled  has_discord  has_medium        age  n_tweets_in_range  \\\n",
              "0                   0            1           0   9.002238                 31   \n",
              "1                   0            1           0  18.004476                 11   \n",
              "2                   0            1           0  18.004476                 11   \n",
              "3                   0            1           0  18.004476                 11   \n",
              "4                   0            1           0  18.004476                 11   \n",
              "\n",
              "    avg_likes  avg_replies  avg_retweets  min_likes  min_replies  \\\n",
              "0  187.967742     8.290323     60.935484          0            0   \n",
              "1  133.181818    13.454545     55.181818          0            0   \n",
              "2  133.181818    13.454545     55.181818          0            0   \n",
              "3  133.181818    13.454545     55.181818          0            0   \n",
              "4  133.181818    13.454545     55.181818          0            0   \n",
              "\n",
              "   min_retweets  max_likes  max_replies  max_retweets  col_age_at_sale  \\\n",
              "0             2        591           28           380         7.030945   \n",
              "1             7        402           47           239         1.018501   \n",
              "2             7        402           47           239        13.010534   \n",
              "3             7        402           47           239         1.018501   \n",
              "4             7        402           47           239        14.029036   \n",
              "\n",
              "   sale_month  sale_quarter  sale_year  coll_targ_min  coll_targ_mean  \\\n",
              "0          11             4       2022       1.266732        1.266732   \n",
              "1           8             3       2021       0.000037        2.559610   \n",
              "2           8             3       2022       0.000037        2.559610   \n",
              "3           8             3       2021       0.000037        2.559610   \n",
              "4           9             3       2022       0.000037        2.559610   \n",
              "\n",
              "   coll_targ_max  coll_targ_std  n_nft_in_sdate  col_min_last_sale_price  \\\n",
              "0       1.266732            NaN               1                 1.266732   \n",
              "1     400.001379       5.344588            3143                 0.000182   \n",
              "2     400.001379       5.344588             750                 0.000064   \n",
              "3     400.001379       5.344588            3143                 0.000182   \n",
              "4     400.001379       5.344588             276                 0.000441   \n",
              "\n",
              "   col_mean_last_sale_price  col_max_last_sale_price  col_std_last_sale_price  \\\n",
              "0                  1.266732                 1.266732                      NaN   \n",
              "1                  2.662060               130.005079                 4.641399   \n",
              "2                  4.059408               400.001379                14.646178   \n",
              "3                  2.662060               130.005079                 4.641399   \n",
              "4                  3.782424                24.005621                 1.869985   \n",
              "\n",
              "   c_labels_1  c_labels_2  c_labels_3  \n",
              "0           1           0           0  \n",
              "1           1           0           0  \n",
              "2           1           0           0  \n",
              "3           1           0           0  \n",
              "4           1           0           0  "
            ],
            "text/html": [
              "\n",
              "  <div id=\"df-860bdd75-7eac-45e4-ad46-59b1a30b9869\">\n",
              "    <div class=\"colab-df-container\">\n",
              "      <div>\n",
              "<style scoped>\n",
              "    .dataframe tbody tr th:only-of-type {\n",
              "        vertical-align: middle;\n",
              "    }\n",
              "\n",
              "    .dataframe tbody tr th {\n",
              "        vertical-align: top;\n",
              "    }\n",
              "\n",
              "    .dataframe thead th {\n",
              "        text-align: right;\n",
              "    }\n",
              "</style>\n",
              "<table border=\"1\" class=\"dataframe\">\n",
              "  <thead>\n",
              "    <tr style=\"text-align: right;\">\n",
              "      <th></th>\n",
              "      <th>rarity_score</th>\n",
              "      <th>openrarity_score</th>\n",
              "      <th>openrarity_rank</th>\n",
              "      <th>openrarity_max_rank</th>\n",
              "      <th>total_supply</th>\n",
              "      <th>verification_status</th>\n",
              "      <th>n_of_traits</th>\n",
              "      <th>contract_type</th>\n",
              "      <th>seller_fees</th>\n",
              "      <th>openrarity_enabled</th>\n",
              "      <th>has_discord</th>\n",
              "      <th>has_medium</th>\n",
              "      <th>age</th>\n",
              "      <th>n_tweets_in_range</th>\n",
              "      <th>avg_likes</th>\n",
              "      <th>avg_replies</th>\n",
              "      <th>avg_retweets</th>\n",
              "      <th>min_likes</th>\n",
              "      <th>min_replies</th>\n",
              "      <th>min_retweets</th>\n",
              "      <th>max_likes</th>\n",
              "      <th>max_replies</th>\n",
              "      <th>max_retweets</th>\n",
              "      <th>col_age_at_sale</th>\n",
              "      <th>sale_month</th>\n",
              "      <th>sale_quarter</th>\n",
              "      <th>sale_year</th>\n",
              "      <th>coll_targ_min</th>\n",
              "      <th>coll_targ_mean</th>\n",
              "      <th>coll_targ_max</th>\n",
              "      <th>coll_targ_std</th>\n",
              "      <th>n_nft_in_sdate</th>\n",
              "      <th>col_min_last_sale_price</th>\n",
              "      <th>col_mean_last_sale_price</th>\n",
              "      <th>col_max_last_sale_price</th>\n",
              "      <th>col_std_last_sale_price</th>\n",
              "      <th>c_labels_1</th>\n",
              "      <th>c_labels_2</th>\n",
              "      <th>c_labels_3</th>\n",
              "    </tr>\n",
              "  </thead>\n",
              "  <tbody>\n",
              "    <tr>\n",
              "      <th>0</th>\n",
              "      <td>2.000000</td>\n",
              "      <td>NaN</td>\n",
              "      <td>NaN</td>\n",
              "      <td>NaN</td>\n",
              "      <td>1</td>\n",
              "      <td>1</td>\n",
              "      <td>2</td>\n",
              "      <td>1</td>\n",
              "      <td>1000.0</td>\n",
              "      <td>0</td>\n",
              "      <td>1</td>\n",
              "      <td>0</td>\n",
              "      <td>9.002238</td>\n",
              "      <td>31</td>\n",
              "      <td>187.967742</td>\n",
              "      <td>8.290323</td>\n",
              "      <td>60.935484</td>\n",
              "      <td>0</td>\n",
              "      <td>0</td>\n",
              "      <td>2</td>\n",
              "      <td>591</td>\n",
              "      <td>28</td>\n",
              "      <td>380</td>\n",
              "      <td>7.030945</td>\n",
              "      <td>11</td>\n",
              "      <td>4</td>\n",
              "      <td>2022</td>\n",
              "      <td>1.266732</td>\n",
              "      <td>1.266732</td>\n",
              "      <td>1.266732</td>\n",
              "      <td>NaN</td>\n",
              "      <td>1</td>\n",
              "      <td>1.266732</td>\n",
              "      <td>1.266732</td>\n",
              "      <td>1.266732</td>\n",
              "      <td>NaN</td>\n",
              "      <td>1</td>\n",
              "      <td>0</td>\n",
              "      <td>0</td>\n",
              "    </tr>\n",
              "    <tr>\n",
              "      <th>1</th>\n",
              "      <td>97.077216</td>\n",
              "      <td>NaN</td>\n",
              "      <td>NaN</td>\n",
              "      <td>NaN</td>\n",
              "      <td>8888</td>\n",
              "      <td>1</td>\n",
              "      <td>5</td>\n",
              "      <td>1</td>\n",
              "      <td>500.0</td>\n",
              "      <td>0</td>\n",
              "      <td>1</td>\n",
              "      <td>0</td>\n",
              "      <td>18.004476</td>\n",
              "      <td>11</td>\n",
              "      <td>133.181818</td>\n",
              "      <td>13.454545</td>\n",
              "      <td>55.181818</td>\n",
              "      <td>0</td>\n",
              "      <td>0</td>\n",
              "      <td>7</td>\n",
              "      <td>402</td>\n",
              "      <td>47</td>\n",
              "      <td>239</td>\n",
              "      <td>1.018501</td>\n",
              "      <td>8</td>\n",
              "      <td>3</td>\n",
              "      <td>2021</td>\n",
              "      <td>0.000037</td>\n",
              "      <td>2.559610</td>\n",
              "      <td>400.001379</td>\n",
              "      <td>5.344588</td>\n",
              "      <td>3143</td>\n",
              "      <td>0.000182</td>\n",
              "      <td>2.662060</td>\n",
              "      <td>130.005079</td>\n",
              "      <td>4.641399</td>\n",
              "      <td>1</td>\n",
              "      <td>0</td>\n",
              "      <td>0</td>\n",
              "    </tr>\n",
              "    <tr>\n",
              "      <th>2</th>\n",
              "      <td>139.453086</td>\n",
              "      <td>NaN</td>\n",
              "      <td>NaN</td>\n",
              "      <td>NaN</td>\n",
              "      <td>8888</td>\n",
              "      <td>1</td>\n",
              "      <td>5</td>\n",
              "      <td>1</td>\n",
              "      <td>500.0</td>\n",
              "      <td>0</td>\n",
              "      <td>1</td>\n",
              "      <td>0</td>\n",
              "      <td>18.004476</td>\n",
              "      <td>11</td>\n",
              "      <td>133.181818</td>\n",
              "      <td>13.454545</td>\n",
              "      <td>55.181818</td>\n",
              "      <td>0</td>\n",
              "      <td>0</td>\n",
              "      <td>7</td>\n",
              "      <td>402</td>\n",
              "      <td>47</td>\n",
              "      <td>239</td>\n",
              "      <td>13.010534</td>\n",
              "      <td>8</td>\n",
              "      <td>3</td>\n",
              "      <td>2022</td>\n",
              "      <td>0.000037</td>\n",
              "      <td>2.559610</td>\n",
              "      <td>400.001379</td>\n",
              "      <td>5.344588</td>\n",
              "      <td>750</td>\n",
              "      <td>0.000064</td>\n",
              "      <td>4.059408</td>\n",
              "      <td>400.001379</td>\n",
              "      <td>14.646178</td>\n",
              "      <td>1</td>\n",
              "      <td>0</td>\n",
              "      <td>0</td>\n",
              "    </tr>\n",
              "    <tr>\n",
              "      <th>3</th>\n",
              "      <td>127.753445</td>\n",
              "      <td>NaN</td>\n",
              "      <td>NaN</td>\n",
              "      <td>NaN</td>\n",
              "      <td>8888</td>\n",
              "      <td>1</td>\n",
              "      <td>5</td>\n",
              "      <td>1</td>\n",
              "      <td>500.0</td>\n",
              "      <td>0</td>\n",
              "      <td>1</td>\n",
              "      <td>0</td>\n",
              "      <td>18.004476</td>\n",
              "      <td>11</td>\n",
              "      <td>133.181818</td>\n",
              "      <td>13.454545</td>\n",
              "      <td>55.181818</td>\n",
              "      <td>0</td>\n",
              "      <td>0</td>\n",
              "      <td>7</td>\n",
              "      <td>402</td>\n",
              "      <td>47</td>\n",
              "      <td>239</td>\n",
              "      <td>1.018501</td>\n",
              "      <td>8</td>\n",
              "      <td>3</td>\n",
              "      <td>2021</td>\n",
              "      <td>0.000037</td>\n",
              "      <td>2.559610</td>\n",
              "      <td>400.001379</td>\n",
              "      <td>5.344588</td>\n",
              "      <td>3143</td>\n",
              "      <td>0.000182</td>\n",
              "      <td>2.662060</td>\n",
              "      <td>130.005079</td>\n",
              "      <td>4.641399</td>\n",
              "      <td>1</td>\n",
              "      <td>0</td>\n",
              "      <td>0</td>\n",
              "    </tr>\n",
              "    <tr>\n",
              "      <th>4</th>\n",
              "      <td>112.315719</td>\n",
              "      <td>NaN</td>\n",
              "      <td>NaN</td>\n",
              "      <td>NaN</td>\n",
              "      <td>8888</td>\n",
              "      <td>1</td>\n",
              "      <td>5</td>\n",
              "      <td>1</td>\n",
              "      <td>500.0</td>\n",
              "      <td>0</td>\n",
              "      <td>1</td>\n",
              "      <td>0</td>\n",
              "      <td>18.004476</td>\n",
              "      <td>11</td>\n",
              "      <td>133.181818</td>\n",
              "      <td>13.454545</td>\n",
              "      <td>55.181818</td>\n",
              "      <td>0</td>\n",
              "      <td>0</td>\n",
              "      <td>7</td>\n",
              "      <td>402</td>\n",
              "      <td>47</td>\n",
              "      <td>239</td>\n",
              "      <td>14.029036</td>\n",
              "      <td>9</td>\n",
              "      <td>3</td>\n",
              "      <td>2022</td>\n",
              "      <td>0.000037</td>\n",
              "      <td>2.559610</td>\n",
              "      <td>400.001379</td>\n",
              "      <td>5.344588</td>\n",
              "      <td>276</td>\n",
              "      <td>0.000441</td>\n",
              "      <td>3.782424</td>\n",
              "      <td>24.005621</td>\n",
              "      <td>1.869985</td>\n",
              "      <td>1</td>\n",
              "      <td>0</td>\n",
              "      <td>0</td>\n",
              "    </tr>\n",
              "  </tbody>\n",
              "</table>\n",
              "</div>\n",
              "      <button class=\"colab-df-convert\" onclick=\"convertToInteractive('df-860bdd75-7eac-45e4-ad46-59b1a30b9869')\"\n",
              "              title=\"Convert this dataframe to an interactive table.\"\n",
              "              style=\"display:none;\">\n",
              "        \n",
              "  <svg xmlns=\"http://www.w3.org/2000/svg\" height=\"24px\"viewBox=\"0 0 24 24\"\n",
              "       width=\"24px\">\n",
              "    <path d=\"M0 0h24v24H0V0z\" fill=\"none\"/>\n",
              "    <path d=\"M18.56 5.44l.94 2.06.94-2.06 2.06-.94-2.06-.94-.94-2.06-.94 2.06-2.06.94zm-11 1L8.5 8.5l.94-2.06 2.06-.94-2.06-.94L8.5 2.5l-.94 2.06-2.06.94zm10 10l.94 2.06.94-2.06 2.06-.94-2.06-.94-.94-2.06-.94 2.06-2.06.94z\"/><path d=\"M17.41 7.96l-1.37-1.37c-.4-.4-.92-.59-1.43-.59-.52 0-1.04.2-1.43.59L10.3 9.45l-7.72 7.72c-.78.78-.78 2.05 0 2.83L4 21.41c.39.39.9.59 1.41.59.51 0 1.02-.2 1.41-.59l7.78-7.78 2.81-2.81c.8-.78.8-2.07 0-2.86zM5.41 20L4 18.59l7.72-7.72 1.47 1.35L5.41 20z\"/>\n",
              "  </svg>\n",
              "      </button>\n",
              "      \n",
              "  <style>\n",
              "    .colab-df-container {\n",
              "      display:flex;\n",
              "      flex-wrap:wrap;\n",
              "      gap: 12px;\n",
              "    }\n",
              "\n",
              "    .colab-df-convert {\n",
              "      background-color: #E8F0FE;\n",
              "      border: none;\n",
              "      border-radius: 50%;\n",
              "      cursor: pointer;\n",
              "      display: none;\n",
              "      fill: #1967D2;\n",
              "      height: 32px;\n",
              "      padding: 0 0 0 0;\n",
              "      width: 32px;\n",
              "    }\n",
              "\n",
              "    .colab-df-convert:hover {\n",
              "      background-color: #E2EBFA;\n",
              "      box-shadow: 0px 1px 2px rgba(60, 64, 67, 0.3), 0px 1px 3px 1px rgba(60, 64, 67, 0.15);\n",
              "      fill: #174EA6;\n",
              "    }\n",
              "\n",
              "    [theme=dark] .colab-df-convert {\n",
              "      background-color: #3B4455;\n",
              "      fill: #D2E3FC;\n",
              "    }\n",
              "\n",
              "    [theme=dark] .colab-df-convert:hover {\n",
              "      background-color: #434B5C;\n",
              "      box-shadow: 0px 1px 3px 1px rgba(0, 0, 0, 0.15);\n",
              "      filter: drop-shadow(0px 1px 2px rgba(0, 0, 0, 0.3));\n",
              "      fill: #FFFFFF;\n",
              "    }\n",
              "  </style>\n",
              "\n",
              "      <script>\n",
              "        const buttonEl =\n",
              "          document.querySelector('#df-860bdd75-7eac-45e4-ad46-59b1a30b9869 button.colab-df-convert');\n",
              "        buttonEl.style.display =\n",
              "          google.colab.kernel.accessAllowed ? 'block' : 'none';\n",
              "\n",
              "        async function convertToInteractive(key) {\n",
              "          const element = document.querySelector('#df-860bdd75-7eac-45e4-ad46-59b1a30b9869');\n",
              "          const dataTable =\n",
              "            await google.colab.kernel.invokeFunction('convertToInteractive',\n",
              "                                                     [key], {});\n",
              "          if (!dataTable) return;\n",
              "\n",
              "          const docLinkHtml = 'Like what you see? Visit the ' +\n",
              "            '<a target=\"_blank\" href=https://colab.research.google.com/notebooks/data_table.ipynb>data table notebook</a>'\n",
              "            + ' to learn more about interactive tables.';\n",
              "          element.innerHTML = '';\n",
              "          dataTable['output_type'] = 'display_data';\n",
              "          await google.colab.output.renderOutput(dataTable, element);\n",
              "          const docLink = document.createElement('div');\n",
              "          docLink.innerHTML = docLinkHtml;\n",
              "          element.appendChild(docLink);\n",
              "        }\n",
              "      </script>\n",
              "    </div>\n",
              "  </div>\n",
              "  "
            ]
          },
          "metadata": {},
          "execution_count": 67
        }
      ]
    },
    {
      "cell_type": "code",
      "source": [
        "# splitting into train and validation data\n",
        "xtrain, xval, ytrain, yval = train_test_split(X, y, random_state=0)"
      ],
      "metadata": {
        "id": "NwtqL1JgVyPq"
      },
      "id": "NwtqL1JgVyPq",
      "execution_count": null,
      "outputs": []
    },
    {
      "cell_type": "code",
      "source": [
        "xtrain.shape, xval.shape"
      ],
      "metadata": {
        "colab": {
          "base_uri": "https://localhost:8080/"
        },
        "id": "BMZv19emv4Op",
        "outputId": "1dc5612a-bf17-4755-ae74-97b1fe19320e"
      },
      "id": "BMZv19emv4Op",
      "execution_count": null,
      "outputs": [
        {
          "output_type": "execute_result",
          "data": {
            "text/plain": [
              "((232432, 39), (77478, 39))"
            ]
          },
          "metadata": {},
          "execution_count": 69
        }
      ]
    },
    {
      "cell_type": "markdown",
      "source": [
        "__Classification Model__"
      ],
      "metadata": {
        "id": "lrj_yvVwv90s"
      },
      "id": "lrj_yvVwv90s"
    },
    {
      "cell_type": "code",
      "source": [
        "def metric(clf, x, y):\n",
        "  ypred = clf.predict(x)\n",
        "  proba = clf.predict_proba(x)[:,1]\n",
        "  acc = accuracy_score(y, ypred)\n",
        "  auc = roc_auc_score(y, proba)\n",
        "  print(f'Accuracy: {acc:.5f}\\tAUC: {auc:.5f}')"
      ],
      "metadata": {
        "id": "l80JuMI5v84T"
      },
      "id": "l80JuMI5v84T",
      "execution_count": null,
      "outputs": []
    },
    {
      "cell_type": "code",
      "source": [
        "lgbm = lgb.LGBMClassifier(n_estimators=1500,subsample=0.6, colsample_bytree=0.5, \n",
        "                          learning_rate=0.05,random_state=0, importance_type='gain')"
      ],
      "metadata": {
        "id": "rjtAef7oxEW_"
      },
      "id": "rjtAef7oxEW_",
      "execution_count": null,
      "outputs": []
    },
    {
      "cell_type": "code",
      "source": [
        "lgbm.fit(xtrain, ytrain);"
      ],
      "metadata": {
        "id": "MXS9TLfwxcp4"
      },
      "id": "MXS9TLfwxcp4",
      "execution_count": null,
      "outputs": []
    },
    {
      "cell_type": "code",
      "source": [
        "# Train\n",
        "metric(lgbm, xtrain, ytrain)"
      ],
      "metadata": {
        "colab": {
          "base_uri": "https://localhost:8080/"
        },
        "id": "GjeavyVBxhE7",
        "outputId": "3dc95339-841a-4a40-947c-5be6c2cb1b43"
      },
      "id": "GjeavyVBxhE7",
      "execution_count": null,
      "outputs": [
        {
          "output_type": "stream",
          "name": "stdout",
          "text": [
            "Accuracy: 0.78288\tAUC: 0.84133\n"
          ]
        }
      ]
    },
    {
      "cell_type": "code",
      "source": [
        "# Validation\n",
        "metric(lgbm, xval, yval)"
      ],
      "metadata": {
        "colab": {
          "base_uri": "https://localhost:8080/"
        },
        "id": "J3ndJLPAx9LH",
        "outputId": "994b19a3-6397-439e-fabe-3a299dc9260f"
      },
      "id": "J3ndJLPAx9LH",
      "execution_count": null,
      "outputs": [
        {
          "output_type": "stream",
          "name": "stdout",
          "text": [
            "Accuracy: 0.76986\tAUC: 0.82204\n"
          ]
        }
      ]
    },
    {
      "cell_type": "markdown",
      "source": [
        "__Important Features__"
      ],
      "metadata": {
        "id": "vFDn8LBK6LYM"
      },
      "id": "vFDn8LBK6LYM"
    },
    {
      "cell_type": "code",
      "source": [
        "imp = pd.Series(lgbm.feature_importances_, index=xtrain.columns).sort_values(ascending=False)\n",
        "imp = imp/imp.sum()"
      ],
      "metadata": {
        "id": "AcfDbgyCyZD8"
      },
      "id": "AcfDbgyCyZD8",
      "execution_count": null,
      "outputs": []
    },
    {
      "cell_type": "code",
      "source": [
        "imp"
      ],
      "metadata": {
        "colab": {
          "base_uri": "https://localhost:8080/"
        },
        "id": "kAxFVx12ypv4",
        "outputId": "d6eee84c-286a-4db7-b597-f785645c4a42"
      },
      "id": "kAxFVx12ypv4",
      "execution_count": null,
      "outputs": [
        {
          "output_type": "execute_result",
          "data": {
            "text/plain": [
              "col_mean_last_sale_price    0.301451\n",
              "coll_targ_mean              0.146372\n",
              "coll_targ_min               0.087014\n",
              "contract_type               0.083048\n",
              "c_labels_3                  0.069925\n",
              "coll_targ_std               0.051743\n",
              "avg_retweets                0.037049\n",
              "rarity_score                0.031954\n",
              "openrarity_max_rank         0.026513\n",
              "n_tweets_in_range           0.016407\n",
              "openrarity_score            0.015316\n",
              "openrarity_rank             0.014514\n",
              "total_supply                0.014300\n",
              "max_retweets                0.010619\n",
              "col_age_at_sale             0.009968\n",
              "col_min_last_sale_price     0.009508\n",
              "n_nft_in_sdate              0.009145\n",
              "col_std_last_sale_price     0.008504\n",
              "col_max_last_sale_price     0.008057\n",
              "n_of_traits                 0.007553\n",
              "age                         0.006279\n",
              "sale_month                  0.005736\n",
              "max_likes                   0.004838\n",
              "seller_fees                 0.004283\n",
              "coll_targ_max               0.003348\n",
              "min_replies                 0.002673\n",
              "avg_likes                   0.002584\n",
              "max_replies                 0.002352\n",
              "verification_status         0.001902\n",
              "avg_replies                 0.001856\n",
              "min_retweets                0.001505\n",
              "min_likes                   0.001274\n",
              "sale_quarter                0.001146\n",
              "has_medium                  0.000554\n",
              "sale_year                   0.000506\n",
              "has_discord                 0.000094\n",
              "c_labels_1                  0.000081\n",
              "openrarity_enabled          0.000031\n",
              "c_labels_2                  0.000000\n",
              "dtype: float64"
            ]
          },
          "metadata": {},
          "execution_count": 76
        }
      ]
    },
    {
      "cell_type": "code",
      "source": [
        "confusion_matrix(ytrain, lgbm.predict(xtrain))"
      ],
      "metadata": {
        "colab": {
          "base_uri": "https://localhost:8080/"
        },
        "id": "bJb9f1bo7cNZ",
        "outputId": "3f344958-89b6-4d01-e5d1-5c70d9f66b37"
      },
      "id": "bJb9f1bo7cNZ",
      "execution_count": null,
      "outputs": [
        {
          "output_type": "execute_result",
          "data": {
            "text/plain": [
              "array([[94402, 21643],\n",
              "       [28823, 87564]])"
            ]
          },
          "metadata": {},
          "execution_count": 77
        }
      ]
    },
    {
      "cell_type": "code",
      "source": [
        "confusion_matrix(yval, lgbm.predict(xval))"
      ],
      "metadata": {
        "colab": {
          "base_uri": "https://localhost:8080/"
        },
        "id": "Yoj7B8jA8Y3g",
        "outputId": "83574a6c-b403-4544-ab67-033d4e2efd72"
      },
      "id": "Yoj7B8jA8Y3g",
      "execution_count": null,
      "outputs": [
        {
          "output_type": "execute_result",
          "data": {
            "text/plain": [
              "array([[31063,  7847],\n",
              "       [ 9984, 28584]])"
            ]
          },
          "metadata": {},
          "execution_count": 78
        }
      ]
    },
    {
      "cell_type": "markdown",
      "source": [
        "Prediction"
      ],
      "metadata": {
        "id": "Q5AWHtLG6Fgq"
      },
      "id": "Q5AWHtLG6Fgq"
    },
    {
      "cell_type": "code",
      "source": [
        "# probability that NFT will have last sale price above the median value\n",
        "train['targ_proba'] = lgbm.predict_proba(train[xtrain.columns])[:,1]\n",
        "test['targ_proba'] = lgbm.predict_proba(test[xtrain.columns])[:,1]"
      ],
      "metadata": {
        "id": "N0Gcwo8e6Qt2"
      },
      "id": "N0Gcwo8e6Qt2",
      "execution_count": null,
      "outputs": []
    },
    {
      "cell_type": "code",
      "source": [
        "# remove labels from train\n",
        "train = train.drop('labels', axis=1)"
      ],
      "metadata": {
        "id": "C_e1-4o3AUjP"
      },
      "id": "C_e1-4o3AUjP",
      "execution_count": null,
      "outputs": []
    },
    {
      "cell_type": "code",
      "source": [
        "train.shape, test.shape"
      ],
      "metadata": {
        "colab": {
          "base_uri": "https://localhost:8080/"
        },
        "id": "K0bP3dbiAqo5",
        "outputId": "85fa892a-f103-41fb-ed0d-35334f56f9cd"
      },
      "id": "K0bP3dbiAqo5",
      "execution_count": null,
      "outputs": [
        {
          "output_type": "execute_result",
          "data": {
            "text/plain": [
              "((309910, 46), (181214, 45))"
            ]
          },
          "metadata": {},
          "execution_count": 81
        }
      ]
    },
    {
      "cell_type": "code",
      "source": [
        "# saving data sets\n",
        "train.to_parquet('data/train_cleaned.parquet', index=False)\n",
        "test.to_parquet('data/test_cleaned.parquet', index=False)"
      ],
      "metadata": {
        "id": "M0gB9GU7ISDG"
      },
      "id": "M0gB9GU7ISDG",
      "execution_count": null,
      "outputs": []
    },
    {
      "cell_type": "code",
      "source": [
        "train.head()"
      ],
      "metadata": {
        "colab": {
          "base_uri": "https://localhost:8080/",
          "height": 270
        },
        "id": "o6vZ7LAjAwQF",
        "outputId": "a200c99c-41c3-452b-f126-b79a66d8b30d"
      },
      "id": "o6vZ7LAjAwQF",
      "execution_count": null,
      "outputs": [
        {
          "output_type": "execute_result",
          "data": {
            "text/plain": [
              "   global_index  nft_id  collection_id  rarity_score  openrarity_score  \\\n",
              "0         21928       0             49      2.000000               NaN   \n",
              "1         32621       0             45     97.077216               NaN   \n",
              "2         32622       1             45    139.453086               NaN   \n",
              "3         32623       2             45    127.753445               NaN   \n",
              "4         32624       3             45    112.315719               NaN   \n",
              "\n",
              "   openrarity_rank  openrarity_max_rank last_sale_date  last_sale_price  \\\n",
              "0              NaN                  NaN     2022-11-01         1.266732   \n",
              "1              NaN                  NaN     2021-08-01         1.200357   \n",
              "2              NaN                  NaN     2022-08-01         3.180572   \n",
              "3              NaN                  NaN     2021-08-01         3.502910   \n",
              "4              NaN                  NaN     2022-09-01         4.009567   \n",
              "\n",
              "   total_supply creation_date  verification_status  n_of_traits  \\\n",
              "0             1    2022-04-01                    1            2   \n",
              "1          8888    2021-07-01                    1            5   \n",
              "2          8888    2021-07-01                    1            5   \n",
              "3          8888    2021-07-01                    1            5   \n",
              "4          8888    2021-07-01                    1            5   \n",
              "\n",
              "   contract_type  seller_fees  openrarity_enabled  has_discord  has_medium  \\\n",
              "0              1       1000.0                   0            1           0   \n",
              "1              1        500.0                   0            1           0   \n",
              "2              1        500.0                   0            1           0   \n",
              "3              1        500.0                   0            1           0   \n",
              "4              1        500.0                   0            1           0   \n",
              "\n",
              "         age  n_tweets_in_range   avg_likes  avg_replies  avg_retweets  \\\n",
              "0   9.002238                 31  187.967742     8.290323     60.935484   \n",
              "1  18.004476                 11  133.181818    13.454545     55.181818   \n",
              "2  18.004476                 11  133.181818    13.454545     55.181818   \n",
              "3  18.004476                 11  133.181818    13.454545     55.181818   \n",
              "4  18.004476                 11  133.181818    13.454545     55.181818   \n",
              "\n",
              "   min_likes  min_replies  min_retweets  max_likes  max_replies  max_retweets  \\\n",
              "0          0            0             2        591           28           380   \n",
              "1          0            0             7        402           47           239   \n",
              "2          0            0             7        402           47           239   \n",
              "3          0            0             7        402           47           239   \n",
              "4          0            0             7        402           47           239   \n",
              "\n",
              "   col_age_at_sale  sale_month  sale_quarter  sale_year  coll_targ_min  \\\n",
              "0         7.030945          11             4       2022       1.266732   \n",
              "1         1.018501           8             3       2021       0.000037   \n",
              "2        13.010534           8             3       2022       0.000037   \n",
              "3         1.018501           8             3       2021       0.000037   \n",
              "4        14.029036           9             3       2022       0.000037   \n",
              "\n",
              "   coll_targ_mean  coll_targ_max  coll_targ_std  n_nft_in_sdate  \\\n",
              "0        1.266732       1.266732            NaN               1   \n",
              "1        2.559610     400.001379       5.344588            3143   \n",
              "2        2.559610     400.001379       5.344588             750   \n",
              "3        2.559610     400.001379       5.344588            3143   \n",
              "4        2.559610     400.001379       5.344588             276   \n",
              "\n",
              "   col_min_last_sale_price  col_mean_last_sale_price  col_max_last_sale_price  \\\n",
              "0                 1.266732                  1.266732                 1.266732   \n",
              "1                 0.000182                  2.662060               130.005079   \n",
              "2                 0.000064                  4.059408               400.001379   \n",
              "3                 0.000182                  2.662060               130.005079   \n",
              "4                 0.000441                  3.782424                24.005621   \n",
              "\n",
              "   col_std_last_sale_price  c_labels_1  c_labels_2  c_labels_3  targ_proba  \n",
              "0                      NaN           1           0           0    0.968786  \n",
              "1                 4.641399           1           0           0    0.982246  \n",
              "2                14.646178           1           0           0    0.987769  \n",
              "3                 4.641399           1           0           0    0.978075  \n",
              "4                 1.869985           1           0           0    0.971822  "
            ],
            "text/html": [
              "\n",
              "  <div id=\"df-082ab5a0-e558-487c-8565-7e82a030366f\">\n",
              "    <div class=\"colab-df-container\">\n",
              "      <div>\n",
              "<style scoped>\n",
              "    .dataframe tbody tr th:only-of-type {\n",
              "        vertical-align: middle;\n",
              "    }\n",
              "\n",
              "    .dataframe tbody tr th {\n",
              "        vertical-align: top;\n",
              "    }\n",
              "\n",
              "    .dataframe thead th {\n",
              "        text-align: right;\n",
              "    }\n",
              "</style>\n",
              "<table border=\"1\" class=\"dataframe\">\n",
              "  <thead>\n",
              "    <tr style=\"text-align: right;\">\n",
              "      <th></th>\n",
              "      <th>global_index</th>\n",
              "      <th>nft_id</th>\n",
              "      <th>collection_id</th>\n",
              "      <th>rarity_score</th>\n",
              "      <th>openrarity_score</th>\n",
              "      <th>openrarity_rank</th>\n",
              "      <th>openrarity_max_rank</th>\n",
              "      <th>last_sale_date</th>\n",
              "      <th>last_sale_price</th>\n",
              "      <th>total_supply</th>\n",
              "      <th>creation_date</th>\n",
              "      <th>verification_status</th>\n",
              "      <th>n_of_traits</th>\n",
              "      <th>contract_type</th>\n",
              "      <th>seller_fees</th>\n",
              "      <th>openrarity_enabled</th>\n",
              "      <th>has_discord</th>\n",
              "      <th>has_medium</th>\n",
              "      <th>age</th>\n",
              "      <th>n_tweets_in_range</th>\n",
              "      <th>avg_likes</th>\n",
              "      <th>avg_replies</th>\n",
              "      <th>avg_retweets</th>\n",
              "      <th>min_likes</th>\n",
              "      <th>min_replies</th>\n",
              "      <th>min_retweets</th>\n",
              "      <th>max_likes</th>\n",
              "      <th>max_replies</th>\n",
              "      <th>max_retweets</th>\n",
              "      <th>col_age_at_sale</th>\n",
              "      <th>sale_month</th>\n",
              "      <th>sale_quarter</th>\n",
              "      <th>sale_year</th>\n",
              "      <th>coll_targ_min</th>\n",
              "      <th>coll_targ_mean</th>\n",
              "      <th>coll_targ_max</th>\n",
              "      <th>coll_targ_std</th>\n",
              "      <th>n_nft_in_sdate</th>\n",
              "      <th>col_min_last_sale_price</th>\n",
              "      <th>col_mean_last_sale_price</th>\n",
              "      <th>col_max_last_sale_price</th>\n",
              "      <th>col_std_last_sale_price</th>\n",
              "      <th>c_labels_1</th>\n",
              "      <th>c_labels_2</th>\n",
              "      <th>c_labels_3</th>\n",
              "      <th>targ_proba</th>\n",
              "    </tr>\n",
              "  </thead>\n",
              "  <tbody>\n",
              "    <tr>\n",
              "      <th>0</th>\n",
              "      <td>21928</td>\n",
              "      <td>0</td>\n",
              "      <td>49</td>\n",
              "      <td>2.000000</td>\n",
              "      <td>NaN</td>\n",
              "      <td>NaN</td>\n",
              "      <td>NaN</td>\n",
              "      <td>2022-11-01</td>\n",
              "      <td>1.266732</td>\n",
              "      <td>1</td>\n",
              "      <td>2022-04-01</td>\n",
              "      <td>1</td>\n",
              "      <td>2</td>\n",
              "      <td>1</td>\n",
              "      <td>1000.0</td>\n",
              "      <td>0</td>\n",
              "      <td>1</td>\n",
              "      <td>0</td>\n",
              "      <td>9.002238</td>\n",
              "      <td>31</td>\n",
              "      <td>187.967742</td>\n",
              "      <td>8.290323</td>\n",
              "      <td>60.935484</td>\n",
              "      <td>0</td>\n",
              "      <td>0</td>\n",
              "      <td>2</td>\n",
              "      <td>591</td>\n",
              "      <td>28</td>\n",
              "      <td>380</td>\n",
              "      <td>7.030945</td>\n",
              "      <td>11</td>\n",
              "      <td>4</td>\n",
              "      <td>2022</td>\n",
              "      <td>1.266732</td>\n",
              "      <td>1.266732</td>\n",
              "      <td>1.266732</td>\n",
              "      <td>NaN</td>\n",
              "      <td>1</td>\n",
              "      <td>1.266732</td>\n",
              "      <td>1.266732</td>\n",
              "      <td>1.266732</td>\n",
              "      <td>NaN</td>\n",
              "      <td>1</td>\n",
              "      <td>0</td>\n",
              "      <td>0</td>\n",
              "      <td>0.968786</td>\n",
              "    </tr>\n",
              "    <tr>\n",
              "      <th>1</th>\n",
              "      <td>32621</td>\n",
              "      <td>0</td>\n",
              "      <td>45</td>\n",
              "      <td>97.077216</td>\n",
              "      <td>NaN</td>\n",
              "      <td>NaN</td>\n",
              "      <td>NaN</td>\n",
              "      <td>2021-08-01</td>\n",
              "      <td>1.200357</td>\n",
              "      <td>8888</td>\n",
              "      <td>2021-07-01</td>\n",
              "      <td>1</td>\n",
              "      <td>5</td>\n",
              "      <td>1</td>\n",
              "      <td>500.0</td>\n",
              "      <td>0</td>\n",
              "      <td>1</td>\n",
              "      <td>0</td>\n",
              "      <td>18.004476</td>\n",
              "      <td>11</td>\n",
              "      <td>133.181818</td>\n",
              "      <td>13.454545</td>\n",
              "      <td>55.181818</td>\n",
              "      <td>0</td>\n",
              "      <td>0</td>\n",
              "      <td>7</td>\n",
              "      <td>402</td>\n",
              "      <td>47</td>\n",
              "      <td>239</td>\n",
              "      <td>1.018501</td>\n",
              "      <td>8</td>\n",
              "      <td>3</td>\n",
              "      <td>2021</td>\n",
              "      <td>0.000037</td>\n",
              "      <td>2.559610</td>\n",
              "      <td>400.001379</td>\n",
              "      <td>5.344588</td>\n",
              "      <td>3143</td>\n",
              "      <td>0.000182</td>\n",
              "      <td>2.662060</td>\n",
              "      <td>130.005079</td>\n",
              "      <td>4.641399</td>\n",
              "      <td>1</td>\n",
              "      <td>0</td>\n",
              "      <td>0</td>\n",
              "      <td>0.982246</td>\n",
              "    </tr>\n",
              "    <tr>\n",
              "      <th>2</th>\n",
              "      <td>32622</td>\n",
              "      <td>1</td>\n",
              "      <td>45</td>\n",
              "      <td>139.453086</td>\n",
              "      <td>NaN</td>\n",
              "      <td>NaN</td>\n",
              "      <td>NaN</td>\n",
              "      <td>2022-08-01</td>\n",
              "      <td>3.180572</td>\n",
              "      <td>8888</td>\n",
              "      <td>2021-07-01</td>\n",
              "      <td>1</td>\n",
              "      <td>5</td>\n",
              "      <td>1</td>\n",
              "      <td>500.0</td>\n",
              "      <td>0</td>\n",
              "      <td>1</td>\n",
              "      <td>0</td>\n",
              "      <td>18.004476</td>\n",
              "      <td>11</td>\n",
              "      <td>133.181818</td>\n",
              "      <td>13.454545</td>\n",
              "      <td>55.181818</td>\n",
              "      <td>0</td>\n",
              "      <td>0</td>\n",
              "      <td>7</td>\n",
              "      <td>402</td>\n",
              "      <td>47</td>\n",
              "      <td>239</td>\n",
              "      <td>13.010534</td>\n",
              "      <td>8</td>\n",
              "      <td>3</td>\n",
              "      <td>2022</td>\n",
              "      <td>0.000037</td>\n",
              "      <td>2.559610</td>\n",
              "      <td>400.001379</td>\n",
              "      <td>5.344588</td>\n",
              "      <td>750</td>\n",
              "      <td>0.000064</td>\n",
              "      <td>4.059408</td>\n",
              "      <td>400.001379</td>\n",
              "      <td>14.646178</td>\n",
              "      <td>1</td>\n",
              "      <td>0</td>\n",
              "      <td>0</td>\n",
              "      <td>0.987769</td>\n",
              "    </tr>\n",
              "    <tr>\n",
              "      <th>3</th>\n",
              "      <td>32623</td>\n",
              "      <td>2</td>\n",
              "      <td>45</td>\n",
              "      <td>127.753445</td>\n",
              "      <td>NaN</td>\n",
              "      <td>NaN</td>\n",
              "      <td>NaN</td>\n",
              "      <td>2021-08-01</td>\n",
              "      <td>3.502910</td>\n",
              "      <td>8888</td>\n",
              "      <td>2021-07-01</td>\n",
              "      <td>1</td>\n",
              "      <td>5</td>\n",
              "      <td>1</td>\n",
              "      <td>500.0</td>\n",
              "      <td>0</td>\n",
              "      <td>1</td>\n",
              "      <td>0</td>\n",
              "      <td>18.004476</td>\n",
              "      <td>11</td>\n",
              "      <td>133.181818</td>\n",
              "      <td>13.454545</td>\n",
              "      <td>55.181818</td>\n",
              "      <td>0</td>\n",
              "      <td>0</td>\n",
              "      <td>7</td>\n",
              "      <td>402</td>\n",
              "      <td>47</td>\n",
              "      <td>239</td>\n",
              "      <td>1.018501</td>\n",
              "      <td>8</td>\n",
              "      <td>3</td>\n",
              "      <td>2021</td>\n",
              "      <td>0.000037</td>\n",
              "      <td>2.559610</td>\n",
              "      <td>400.001379</td>\n",
              "      <td>5.344588</td>\n",
              "      <td>3143</td>\n",
              "      <td>0.000182</td>\n",
              "      <td>2.662060</td>\n",
              "      <td>130.005079</td>\n",
              "      <td>4.641399</td>\n",
              "      <td>1</td>\n",
              "      <td>0</td>\n",
              "      <td>0</td>\n",
              "      <td>0.978075</td>\n",
              "    </tr>\n",
              "    <tr>\n",
              "      <th>4</th>\n",
              "      <td>32624</td>\n",
              "      <td>3</td>\n",
              "      <td>45</td>\n",
              "      <td>112.315719</td>\n",
              "      <td>NaN</td>\n",
              "      <td>NaN</td>\n",
              "      <td>NaN</td>\n",
              "      <td>2022-09-01</td>\n",
              "      <td>4.009567</td>\n",
              "      <td>8888</td>\n",
              "      <td>2021-07-01</td>\n",
              "      <td>1</td>\n",
              "      <td>5</td>\n",
              "      <td>1</td>\n",
              "      <td>500.0</td>\n",
              "      <td>0</td>\n",
              "      <td>1</td>\n",
              "      <td>0</td>\n",
              "      <td>18.004476</td>\n",
              "      <td>11</td>\n",
              "      <td>133.181818</td>\n",
              "      <td>13.454545</td>\n",
              "      <td>55.181818</td>\n",
              "      <td>0</td>\n",
              "      <td>0</td>\n",
              "      <td>7</td>\n",
              "      <td>402</td>\n",
              "      <td>47</td>\n",
              "      <td>239</td>\n",
              "      <td>14.029036</td>\n",
              "      <td>9</td>\n",
              "      <td>3</td>\n",
              "      <td>2022</td>\n",
              "      <td>0.000037</td>\n",
              "      <td>2.559610</td>\n",
              "      <td>400.001379</td>\n",
              "      <td>5.344588</td>\n",
              "      <td>276</td>\n",
              "      <td>0.000441</td>\n",
              "      <td>3.782424</td>\n",
              "      <td>24.005621</td>\n",
              "      <td>1.869985</td>\n",
              "      <td>1</td>\n",
              "      <td>0</td>\n",
              "      <td>0</td>\n",
              "      <td>0.971822</td>\n",
              "    </tr>\n",
              "  </tbody>\n",
              "</table>\n",
              "</div>\n",
              "      <button class=\"colab-df-convert\" onclick=\"convertToInteractive('df-082ab5a0-e558-487c-8565-7e82a030366f')\"\n",
              "              title=\"Convert this dataframe to an interactive table.\"\n",
              "              style=\"display:none;\">\n",
              "        \n",
              "  <svg xmlns=\"http://www.w3.org/2000/svg\" height=\"24px\"viewBox=\"0 0 24 24\"\n",
              "       width=\"24px\">\n",
              "    <path d=\"M0 0h24v24H0V0z\" fill=\"none\"/>\n",
              "    <path d=\"M18.56 5.44l.94 2.06.94-2.06 2.06-.94-2.06-.94-.94-2.06-.94 2.06-2.06.94zm-11 1L8.5 8.5l.94-2.06 2.06-.94-2.06-.94L8.5 2.5l-.94 2.06-2.06.94zm10 10l.94 2.06.94-2.06 2.06-.94-2.06-.94-.94-2.06-.94 2.06-2.06.94z\"/><path d=\"M17.41 7.96l-1.37-1.37c-.4-.4-.92-.59-1.43-.59-.52 0-1.04.2-1.43.59L10.3 9.45l-7.72 7.72c-.78.78-.78 2.05 0 2.83L4 21.41c.39.39.9.59 1.41.59.51 0 1.02-.2 1.41-.59l7.78-7.78 2.81-2.81c.8-.78.8-2.07 0-2.86zM5.41 20L4 18.59l7.72-7.72 1.47 1.35L5.41 20z\"/>\n",
              "  </svg>\n",
              "      </button>\n",
              "      \n",
              "  <style>\n",
              "    .colab-df-container {\n",
              "      display:flex;\n",
              "      flex-wrap:wrap;\n",
              "      gap: 12px;\n",
              "    }\n",
              "\n",
              "    .colab-df-convert {\n",
              "      background-color: #E8F0FE;\n",
              "      border: none;\n",
              "      border-radius: 50%;\n",
              "      cursor: pointer;\n",
              "      display: none;\n",
              "      fill: #1967D2;\n",
              "      height: 32px;\n",
              "      padding: 0 0 0 0;\n",
              "      width: 32px;\n",
              "    }\n",
              "\n",
              "    .colab-df-convert:hover {\n",
              "      background-color: #E2EBFA;\n",
              "      box-shadow: 0px 1px 2px rgba(60, 64, 67, 0.3), 0px 1px 3px 1px rgba(60, 64, 67, 0.15);\n",
              "      fill: #174EA6;\n",
              "    }\n",
              "\n",
              "    [theme=dark] .colab-df-convert {\n",
              "      background-color: #3B4455;\n",
              "      fill: #D2E3FC;\n",
              "    }\n",
              "\n",
              "    [theme=dark] .colab-df-convert:hover {\n",
              "      background-color: #434B5C;\n",
              "      box-shadow: 0px 1px 3px 1px rgba(0, 0, 0, 0.15);\n",
              "      filter: drop-shadow(0px 1px 2px rgba(0, 0, 0, 0.3));\n",
              "      fill: #FFFFFF;\n",
              "    }\n",
              "  </style>\n",
              "\n",
              "      <script>\n",
              "        const buttonEl =\n",
              "          document.querySelector('#df-082ab5a0-e558-487c-8565-7e82a030366f button.colab-df-convert');\n",
              "        buttonEl.style.display =\n",
              "          google.colab.kernel.accessAllowed ? 'block' : 'none';\n",
              "\n",
              "        async function convertToInteractive(key) {\n",
              "          const element = document.querySelector('#df-082ab5a0-e558-487c-8565-7e82a030366f');\n",
              "          const dataTable =\n",
              "            await google.colab.kernel.invokeFunction('convertToInteractive',\n",
              "                                                     [key], {});\n",
              "          if (!dataTable) return;\n",
              "\n",
              "          const docLinkHtml = 'Like what you see? Visit the ' +\n",
              "            '<a target=\"_blank\" href=https://colab.research.google.com/notebooks/data_table.ipynb>data table notebook</a>'\n",
              "            + ' to learn more about interactive tables.';\n",
              "          element.innerHTML = '';\n",
              "          dataTable['output_type'] = 'display_data';\n",
              "          await google.colab.output.renderOutput(dataTable, element);\n",
              "          const docLink = document.createElement('div');\n",
              "          docLink.innerHTML = docLinkHtml;\n",
              "          element.appendChild(docLink);\n",
              "        }\n",
              "      </script>\n",
              "    </div>\n",
              "  </div>\n",
              "  "
            ]
          },
          "metadata": {},
          "execution_count": 83
        }
      ]
    }
  ],
  "metadata": {
    "kernelspec": {
      "display_name": "Python 3 (ipykernel)",
      "language": "python",
      "name": "python3"
    },
    "language_info": {
      "codemirror_mode": {
        "name": "ipython",
        "version": 3
      },
      "file_extension": ".py",
      "mimetype": "text/x-python",
      "name": "python",
      "nbconvert_exporter": "python",
      "pygments_lexer": "ipython3",
      "version": "3.10.0"
    },
    "colab": {
      "provenance": [],
      "include_colab_link": true
    },
    "accelerator": "GPU",
    "gpuClass": "standard"
  },
  "nbformat": 4,
  "nbformat_minor": 5
}