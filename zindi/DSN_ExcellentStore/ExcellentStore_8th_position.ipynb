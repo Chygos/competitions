{
 "cells": [
  {
   "cell_type": "code",
   "execution_count": 2,
   "metadata": {},
   "outputs": [],
   "source": [
    "import os, gc, warnings\n",
    "warnings.filterwarnings('ignore')"
   ]
  },
  {
   "cell_type": "code",
   "execution_count": 3,
   "metadata": {},
   "outputs": [],
   "source": [
    "import pandas as pd\n",
    "import numpy as np\n",
    "import seaborn as sns\n",
    "import scipy.stats as stats\n",
    "import matplotlib.pyplot as plt\n",
    "import random"
   ]
  },
  {
   "cell_type": "code",
   "execution_count": 4,
   "metadata": {},
   "outputs": [],
   "source": [
    "import catboost as cat\n",
    "import lightgbm as lgb\n",
    "import xgboost as xgb\n",
    "from sklearn.ensemble import RandomForestRegressor\n",
    "from sklearn.model_selection import train_test_split, KFold, cross_val_score\n",
    "from sklearn.metrics import mean_squared_error as MSE"
   ]
  },
  {
   "cell_type": "code",
   "execution_count": 5,
   "metadata": {},
   "outputs": [],
   "source": [
    "#for reproducibility\n",
    "seed = 39283\n",
    "np.random.seed(seed)\n",
    "random.seed(seed)"
   ]
  },
  {
   "cell_type": "code",
   "execution_count": 6,
   "metadata": {},
   "outputs": [],
   "source": [
    "def kfoldCrossVal(model):\n",
    "    tr_avg, val_avg = 0, 0\n",
    "    \n",
    "    for fold, (tr_idx, val_idx) in enumerate(kfold.split(xtrain, ytrain), start=1):\n",
    "        x_train, y_train = xtrain.iloc[tr_idx], ytrain.iloc[tr_idx]\n",
    "        x_val, y_val = xtrain.iloc[val_idx], ytrain.iloc[val_idx]\n",
    "        \n",
    "        if model.__class__.__name__ == 'RandomForestRegressor':\n",
    "            model.fit(x_train, y_train)\n",
    "        else:\n",
    "            model.fit(x_train, y_train, eval_set=[(x_val, y_val)], \n",
    "                          verbose=False, early_stopping_rounds=200)\n",
    "    \n",
    "        #predictions\n",
    "        tr_rmse = MSE(y_train**2, model.predict(x_train)**2, squared=False)\n",
    "        val_rmse = MSE(y_val**2, model.predict(x_val)**2, squared=False)\n",
    "        \n",
    "        tr_avg += tr_rmse\n",
    "        val_avg += val_rmse\n",
    "        \n",
    "        print('Train RMSE: {:.4f}\\tVal RMSE: {:.4f}'.format(tr_rmse, val_rmse))\n",
    "        \n",
    "    print('AVG. Train RMSE: {:.4f}\\t AVG. Val RMSE: {:.4f}'.format(tr_avg/fold, val_avg/fold))"
   ]
  },
  {
   "cell_type": "code",
   "execution_count": 7,
   "metadata": {},
   "outputs": [],
   "source": [
    "def kfoldCrossValPred(model):\n",
    "    tr_avg, val_avg = 0, 0\n",
    "    test_scores = []\n",
    "    \n",
    "    for fold, (tr_idx, val_idx) in enumerate(kfold.split(X, y), start=1):\n",
    "        x_train, y_train = X.iloc[tr_idx], y.iloc[tr_idx]\n",
    "        x_val, y_val = X.iloc[val_idx], y.iloc[val_idx]\n",
    "        \n",
    "        if model.__class__.__name__ == 'RandomForestRegressor':\n",
    "            model.fit(x_train, y_train)\n",
    "        else:\n",
    "            model.fit(x_train, y_train, eval_set=[(x_val, y_val)], \n",
    "                          verbose=False, early_stopping_rounds=200)\n",
    "    \n",
    "        #predictions\n",
    "        tr_rmse = MSE(y_train**2, model.predict(x_train)**2, squared=False)\n",
    "        val_rmse = MSE(y_val**2, model.predict(x_val)**2, squared=False)\n",
    "        \n",
    "        tr_avg += tr_rmse\n",
    "        val_avg += val_rmse        \n",
    "        print('Train RMSE: {:.4f}\\tVal RMSE: {:.4f}'.format(tr_rmse, val_rmse))\n",
    "        \n",
    "        pred = model.predict(test_c)\n",
    "        test_scores.append(pred)\n",
    "        \n",
    "    print('AVG. Train RMSE: {:.4f}\\t AVG. Val RMSE: {:.4f}'.format(tr_avg/fold, val_avg/fold))\n",
    "    return np.mean(test_scores, 0)"
   ]
  },
  {
   "cell_type": "code",
   "execution_count": 8,
   "metadata": {},
   "outputs": [],
   "source": [
    "pd.set_option('display.max_columns', 100)\n",
    "%matplotlib inline\n",
    "plt.style.use('ggplot')"
   ]
  },
  {
   "cell_type": "code",
   "execution_count": 9,
   "metadata": {},
   "outputs": [],
   "source": [
    "train = pd.read_csv(path+'/train.csv')\n",
    "test = pd.read_csv(path+'/test.csv')\n",
    "subfile = pd.read_csv(path+'/SampleSubmission.csv')"
   ]
  },
  {
   "cell_type": "code",
   "execution_count": 10,
   "metadata": {},
   "outputs": [],
   "source": [
    "test_id = test.Item_Store_ID"
   ]
  },
  {
   "cell_type": "code",
   "execution_count": 11,
   "metadata": {},
   "outputs": [
    {
     "data": {
      "text/html": [
       "<div>\n",
       "<style scoped>\n",
       "    .dataframe tbody tr th:only-of-type {\n",
       "        vertical-align: middle;\n",
       "    }\n",
       "\n",
       "    .dataframe tbody tr th {\n",
       "        vertical-align: top;\n",
       "    }\n",
       "\n",
       "    .dataframe thead th {\n",
       "        text-align: right;\n",
       "    }\n",
       "</style>\n",
       "<table border=\"1\" class=\"dataframe\">\n",
       "  <thead>\n",
       "    <tr style=\"text-align: right;\">\n",
       "      <th></th>\n",
       "      <th>Item_ID</th>\n",
       "      <th>Store_ID</th>\n",
       "      <th>Item_Store_ID</th>\n",
       "      <th>Item_Weight</th>\n",
       "      <th>Item_Sugar_Content</th>\n",
       "      <th>Item_Visibility</th>\n",
       "      <th>Item_Type</th>\n",
       "      <th>Item_Price</th>\n",
       "      <th>Store_Start_Year</th>\n",
       "      <th>Store_Size</th>\n",
       "      <th>Store_Location_Type</th>\n",
       "      <th>Store_Type</th>\n",
       "      <th>Item_Store_Returns</th>\n",
       "    </tr>\n",
       "  </thead>\n",
       "  <tbody>\n",
       "    <tr>\n",
       "      <th>0</th>\n",
       "      <td>DRA12</td>\n",
       "      <td>BABATUNJI010</td>\n",
       "      <td>DRA12_BABATUNJI010</td>\n",
       "      <td>11.6</td>\n",
       "      <td>Low Sugar</td>\n",
       "      <td>0.068535</td>\n",
       "      <td>Soft Drinks</td>\n",
       "      <td>357.54</td>\n",
       "      <td>2005</td>\n",
       "      <td>NaN</td>\n",
       "      <td>Cluster 3</td>\n",
       "      <td>Grocery Store</td>\n",
       "      <td>709.08</td>\n",
       "    </tr>\n",
       "    <tr>\n",
       "      <th>1</th>\n",
       "      <td>DRA12</td>\n",
       "      <td>BABATUNJI013</td>\n",
       "      <td>DRA12_BABATUNJI013</td>\n",
       "      <td>11.6</td>\n",
       "      <td>Low Sugar</td>\n",
       "      <td>0.040912</td>\n",
       "      <td>Soft Drinks</td>\n",
       "      <td>355.79</td>\n",
       "      <td>1994</td>\n",
       "      <td>High</td>\n",
       "      <td>Cluster 3</td>\n",
       "      <td>Supermarket Type1</td>\n",
       "      <td>6381.69</td>\n",
       "    </tr>\n",
       "    <tr>\n",
       "      <th>2</th>\n",
       "      <td>DRA12</td>\n",
       "      <td>BABATUNJI017</td>\n",
       "      <td>DRA12_BABATUNJI017</td>\n",
       "      <td>11.6</td>\n",
       "      <td>Low Sugar</td>\n",
       "      <td>0.041178</td>\n",
       "      <td>Soft Drinks</td>\n",
       "      <td>350.79</td>\n",
       "      <td>2014</td>\n",
       "      <td>NaN</td>\n",
       "      <td>Cluster 2</td>\n",
       "      <td>Supermarket Type1</td>\n",
       "      <td>6381.69</td>\n",
       "    </tr>\n",
       "  </tbody>\n",
       "</table>\n",
       "</div>"
      ],
      "text/plain": [
       "  Item_ID      Store_ID       Item_Store_ID  Item_Weight Item_Sugar_Content  \\\n",
       "0   DRA12  BABATUNJI010  DRA12_BABATUNJI010         11.6          Low Sugar   \n",
       "1   DRA12  BABATUNJI013  DRA12_BABATUNJI013         11.6          Low Sugar   \n",
       "2   DRA12  BABATUNJI017  DRA12_BABATUNJI017         11.6          Low Sugar   \n",
       "\n",
       "   Item_Visibility    Item_Type  Item_Price  Store_Start_Year Store_Size  \\\n",
       "0         0.068535  Soft Drinks      357.54              2005        NaN   \n",
       "1         0.040912  Soft Drinks      355.79              1994       High   \n",
       "2         0.041178  Soft Drinks      350.79              2014        NaN   \n",
       "\n",
       "  Store_Location_Type         Store_Type  Item_Store_Returns  \n",
       "0           Cluster 3      Grocery Store              709.08  \n",
       "1           Cluster 3  Supermarket Type1             6381.69  \n",
       "2           Cluster 2  Supermarket Type1             6381.69  "
      ]
     },
     "execution_count": 11,
     "metadata": {},
     "output_type": "execute_result"
    }
   ],
   "source": [
    "train.head(3)"
   ]
  },
  {
   "cell_type": "code",
   "execution_count": 12,
   "metadata": {},
   "outputs": [
    {
     "data": {
      "text/html": [
       "<div>\n",
       "<style scoped>\n",
       "    .dataframe tbody tr th:only-of-type {\n",
       "        vertical-align: middle;\n",
       "    }\n",
       "\n",
       "    .dataframe tbody tr th {\n",
       "        vertical-align: top;\n",
       "    }\n",
       "\n",
       "    .dataframe thead th {\n",
       "        text-align: right;\n",
       "    }\n",
       "</style>\n",
       "<table border=\"1\" class=\"dataframe\">\n",
       "  <thead>\n",
       "    <tr style=\"text-align: right;\">\n",
       "      <th></th>\n",
       "      <th>Item_ID</th>\n",
       "      <th>Store_ID</th>\n",
       "      <th>Item_Store_ID</th>\n",
       "      <th>Item_Weight</th>\n",
       "      <th>Item_Sugar_Content</th>\n",
       "      <th>Item_Visibility</th>\n",
       "      <th>Item_Type</th>\n",
       "      <th>Item_Price</th>\n",
       "      <th>Store_Start_Year</th>\n",
       "      <th>Store_Size</th>\n",
       "      <th>Store_Location_Type</th>\n",
       "      <th>Store_Type</th>\n",
       "    </tr>\n",
       "  </thead>\n",
       "  <tbody>\n",
       "    <tr>\n",
       "      <th>0</th>\n",
       "      <td>DRA59</td>\n",
       "      <td>BABATUNJI010</td>\n",
       "      <td>DRA59_BABATUNJI010</td>\n",
       "      <td>8.27</td>\n",
       "      <td>Normal Sugar</td>\n",
       "      <td>0.214125</td>\n",
       "      <td>Soft Drinks</td>\n",
       "      <td>459.98</td>\n",
       "      <td>2005</td>\n",
       "      <td>NaN</td>\n",
       "      <td>Cluster 3</td>\n",
       "      <td>Grocery Store</td>\n",
       "    </tr>\n",
       "    <tr>\n",
       "      <th>1</th>\n",
       "      <td>DRA59</td>\n",
       "      <td>BABATUNJI013</td>\n",
       "      <td>DRA59_BABATUNJI013</td>\n",
       "      <td>8.27</td>\n",
       "      <td>Normal Sugar</td>\n",
       "      <td>0.127821</td>\n",
       "      <td>Soft Drinks</td>\n",
       "      <td>464.98</td>\n",
       "      <td>1994</td>\n",
       "      <td>High</td>\n",
       "      <td>Cluster 3</td>\n",
       "      <td>Supermarket Type1</td>\n",
       "    </tr>\n",
       "    <tr>\n",
       "      <th>2</th>\n",
       "      <td>DRB01</td>\n",
       "      <td>BABATUNJI013</td>\n",
       "      <td>DRB01_BABATUNJI013</td>\n",
       "      <td>7.39</td>\n",
       "      <td>Low Sugar</td>\n",
       "      <td>0.082171</td>\n",
       "      <td>Soft Drinks</td>\n",
       "      <td>477.38</td>\n",
       "      <td>1994</td>\n",
       "      <td>High</td>\n",
       "      <td>Cluster 3</td>\n",
       "      <td>Supermarket Type1</td>\n",
       "    </tr>\n",
       "  </tbody>\n",
       "</table>\n",
       "</div>"
      ],
      "text/plain": [
       "  Item_ID      Store_ID       Item_Store_ID  Item_Weight Item_Sugar_Content  \\\n",
       "0   DRA59  BABATUNJI010  DRA59_BABATUNJI010         8.27       Normal Sugar   \n",
       "1   DRA59  BABATUNJI013  DRA59_BABATUNJI013         8.27       Normal Sugar   \n",
       "2   DRB01  BABATUNJI013  DRB01_BABATUNJI013         7.39          Low Sugar   \n",
       "\n",
       "   Item_Visibility    Item_Type  Item_Price  Store_Start_Year Store_Size  \\\n",
       "0         0.214125  Soft Drinks      459.98              2005        NaN   \n",
       "1         0.127821  Soft Drinks      464.98              1994       High   \n",
       "2         0.082171  Soft Drinks      477.38              1994       High   \n",
       "\n",
       "  Store_Location_Type         Store_Type  \n",
       "0           Cluster 3      Grocery Store  \n",
       "1           Cluster 3  Supermarket Type1  \n",
       "2           Cluster 3  Supermarket Type1  "
      ]
     },
     "execution_count": 12,
     "metadata": {},
     "output_type": "execute_result"
    }
   ],
   "source": [
    "test.head(3)"
   ]
  },
  {
   "cell_type": "code",
   "execution_count": 13,
   "metadata": {},
   "outputs": [
    {
     "data": {
      "text/plain": [
       "((4990, 13), (3532, 12))"
      ]
     },
     "execution_count": 13,
     "metadata": {},
     "output_type": "execute_result"
    }
   ],
   "source": [
    "train.shape, test.shape"
   ]
  },
  {
   "cell_type": "code",
   "execution_count": 14,
   "metadata": {},
   "outputs": [
    {
     "data": {
      "text/plain": [
       "Item_Weight     802\n",
       "Store_Size     1450\n",
       "dtype: int64"
      ]
     },
     "execution_count": 14,
     "metadata": {},
     "output_type": "execute_result"
    }
   ],
   "source": [
    "train.isna().sum()[(train.isna().sum() > 0)]"
   ]
  },
  {
   "cell_type": "code",
   "execution_count": 15,
   "metadata": {},
   "outputs": [
    {
     "data": {
      "text/plain": [
       "Item_Weight    661\n",
       "Store_Size     959\n",
       "dtype: int64"
      ]
     },
     "execution_count": 15,
     "metadata": {},
     "output_type": "execute_result"
    }
   ],
   "source": [
    "test.isna().sum()[(test.isna().sum() > 0)]"
   ]
  },
  {
   "cell_type": "markdown",
   "metadata": {},
   "source": [
    "Filling missing Item weight with mean weight for an item"
   ]
  },
  {
   "cell_type": "code",
   "execution_count": 16,
   "metadata": {},
   "outputs": [],
   "source": [
    "df = train.append(test)[train.columns]"
   ]
  },
  {
   "cell_type": "code",
   "execution_count": 17,
   "metadata": {},
   "outputs": [],
   "source": [
    "df['mean_ItemWt'] = df.groupby(['Item_ID']).Item_Weight.transform('mean')"
   ]
  },
  {
   "cell_type": "code",
   "execution_count": 18,
   "metadata": {},
   "outputs": [],
   "source": [
    "df.loc[df.Item_Weight.isna(), 'Item_Weight'] = df.loc[df.Item_Weight.isna(), 'mean_ItemWt']"
   ]
  },
  {
   "cell_type": "code",
   "execution_count": 19,
   "metadata": {},
   "outputs": [],
   "source": [
    "df.Item_Weight.fillna(df.Item_Weight.median(), inplace=True)"
   ]
  },
  {
   "cell_type": "code",
   "execution_count": 20,
   "metadata": {},
   "outputs": [],
   "source": [
    "for col in df.select_dtypes('object').columns:\n",
    "    df[col] = df[col].factorize(sort=True)[0]"
   ]
  },
  {
   "cell_type": "code",
   "execution_count": 21,
   "metadata": {},
   "outputs": [
    {
     "data": {
      "text/plain": [
       "Index(['Item_ID', 'Store_ID', 'Item_Store_ID', 'Item_Sugar_Content',\n",
       "       'Item_Type', 'Store_Location_Type', 'Store_Type'],\n",
       "      dtype='object')"
      ]
     },
     "execution_count": 21,
     "metadata": {},
     "output_type": "execute_result"
    }
   ],
   "source": [
    "cat_cols = train.select_dtypes('object').columns.drop('Store_Size')\n",
    "cat_cols"
   ]
  },
  {
   "cell_type": "code",
   "execution_count": 22,
   "metadata": {},
   "outputs": [],
   "source": [
    "train = df[df.Item_Store_Returns.notna()]\n",
    "test = df[df.Item_Store_Returns.isna()].drop('Item_Store_Returns', 1)"
   ]
  },
  {
   "cell_type": "code",
   "execution_count": 23,
   "metadata": {},
   "outputs": [
    {
     "data": {
      "text/plain": [
       "((4990, 14), (3532, 13))"
      ]
     },
     "execution_count": 23,
     "metadata": {},
     "output_type": "execute_result"
    }
   ],
   "source": [
    "train.shape, test.shape"
   ]
  },
  {
   "cell_type": "code",
   "execution_count": 24,
   "metadata": {},
   "outputs": [],
   "source": [
    "train.fillna(-999, inplace=True)\n",
    "test.fillna(-999, inplace=True)"
   ]
  },
  {
   "cell_type": "markdown",
   "metadata": {},
   "source": [
    "#### Modelling"
   ]
  },
  {
   "cell_type": "code",
   "execution_count": 26,
   "metadata": {},
   "outputs": [
    {
     "data": {
      "text/plain": [
       "Index(['Item_ID', 'Store_ID', 'Item_Store_ID', 'Item_Weight',\n",
       "       'Item_Sugar_Content', 'Item_Visibility', 'Item_Type', 'Item_Price',\n",
       "       'Store_Start_Year', 'Store_Size', 'Store_Location_Type', 'Store_Type',\n",
       "       'Item_Store_Returns', 'mean_ItemWt'],\n",
       "      dtype='object')"
      ]
     },
     "execution_count": 26,
     "metadata": {},
     "output_type": "execute_result"
    }
   ],
   "source": [
    "train.columns"
   ]
  },
  {
   "cell_type": "code",
   "execution_count": 25,
   "metadata": {},
   "outputs": [],
   "source": [
    "kfold = KFold(n_splits=10, random_state=seed, shuffle=True)"
   ]
  },
  {
   "cell_type": "code",
   "execution_count": 27,
   "metadata": {},
   "outputs": [],
   "source": [
    "def crossvalscore(model):\n",
    "    cvs = cross_val_score(model, xtrain, ytrain, scoring='neg_mean_squared_error', cv=5)\n",
    "    rmse = np.sqrt(-cvs.mean())\n",
    "    std = cvs.std()\n",
    "    print('RMSE: {0:.4f}+-{1:.4f}'.format(rmse, std))"
   ]
  },
  {
   "cell_type": "code",
   "execution_count": 28,
   "metadata": {},
   "outputs": [],
   "source": [
    "X = train.drop(['Item_Store_Returns', 'mean_ItemWt'], 1)\n",
    "y = np.sqrt(train.Item_Store_Returns)\n",
    "test_c = test.drop('mean_ItemWt', 1)"
   ]
  },
  {
   "cell_type": "code",
   "execution_count": 29,
   "metadata": {},
   "outputs": [],
   "source": [
    "xtrain, xval, ytrain, yval = train_test_split(X,y,test_size=0.18, random_state=seed)"
   ]
  },
  {
   "cell_type": "code",
   "execution_count": 36,
   "metadata": {},
   "outputs": [],
   "source": [
    "catm = cat.CatBoostRegressor(random_seed=seed, iterations=800, eval_metric='RMSE', silent=True, max_depth=3,\n",
    "                             bootstrap_type='Bernoulli', od_wait=200, rsm=0.8, cat_features=cat_cols, reg_lambda=7)\n",
    "lgbm = lgb.LGBMRegressor(random_state=seed, n_estimators=500, learning_rate=0.03, metrics='rmse', reg_lambda=5,\n",
    "                         subsample_freq=2, subsample=0.7, colsample_bytree=0.8, max_depth=3, min_child_samples=10, \n",
    "                         num_leaves=40, reg_alpha=4)\n",
    "xgbm = xgb.XGBRegressor(random_state=seed, n_estimators=800, learning_rate=0.05, eval_metric='rmse', max_depth=3,\n",
    "                        n_jobs=-1, min_child_weight=10, colsample_bytree=0.8, reg_lambda=5,\n",
    "                        subsample=0.9, missing=-999)"
   ]
  },
  {
   "cell_type": "markdown",
   "metadata": {},
   "source": [
    "I did a quick Random grid search of the parameters, getting the optimal parameters: below"
   ]
  },
  {
   "cell_type": "code",
   "execution_count": null,
   "metadata": {},
   "outputs": [],
   "source": [
    "xgb_params = {'subsample': 1, 'reg_lambda': 5,'n_estimators': 600, 'min_child_weight': 10,\n",
    "              'max_depth': 3,'learning_rate': 0.05, 'colsample_bytree': 0.8, 'n_jobs':-1}\n",
    "\n",
    "lgb_params= {'subsample': 1,'reg_lambda': 7, 'num_leaves': 40, 'n_estimators': 800, 'min_child_weight': 15,\n",
    "             'min_child_samples': 1, 'max_depth': 3, 'learning_rate': 0.07, 'colsample_bytree': 0.7}\n",
    "\n",
    "cat_params = {'subsample': 0.7,'rsm': 1,'reg_lambda': 5,'min_child_samples': 5, 'max_depth': 4, 'iterations': 700,\n",
    "              'grow_policy': 'Depthwise', 'bootstrap_type': 'Bernoulli'}"
   ]
  },
  {
   "cell_type": "code",
   "execution_count": null,
   "metadata": {},
   "outputs": [],
   "source": [
    "catm = cat.CatBoostRegressor(**cat_params, random_seed=seed, eval_metric='RMSE', silent=True, od_wait=200,)\n",
    "lgbm = lgb.LGBMRegressor(**lgb_params, random_state=seed, subsample_freq=2, metric='rmse')\n",
    "xgbm = xgb.XGBRegressor(**xgb_params, random_state=seed, eval_metric='rmse', missing=-999)"
   ]
  },
  {
   "cell_type": "code",
   "execution_count": 67,
   "metadata": {},
   "outputs": [
    {
     "name": "stdout",
     "output_type": "stream",
     "text": [
      "Train RMSE: 2922.6171\tVal RMSE: 2647.7969\n",
      "Train RMSE: 2796.5668\tVal RMSE: 3150.9272\n",
      "Train RMSE: 2830.2300\tVal RMSE: 3177.2198\n",
      "Train RMSE: 2886.7062\tVal RMSE: 2951.5127\n",
      "Train RMSE: 2857.8406\tVal RMSE: 2866.8962\n",
      "Train RMSE: 2735.4747\tVal RMSE: 2705.6834\n",
      "Train RMSE: 2869.8309\tVal RMSE: 2606.7636\n",
      "Train RMSE: 2888.1034\tVal RMSE: 2987.4723\n",
      "Train RMSE: 2834.6566\tVal RMSE: 3300.2369\n",
      "Train RMSE: 2836.2588\tVal RMSE: 2911.5744\n",
      "AVG. Train RMSE: 2845.8285\t AVG. Val RMSE: 2930.6083\n"
     ]
    }
   ],
   "source": [
    "kfoldCrossVal(catm)"
   ]
  },
  {
   "cell_type": "code",
   "execution_count": 68,
   "metadata": {},
   "outputs": [
    {
     "name": "stdout",
     "output_type": "stream",
     "text": [
      "Train RMSE: 2980.0773\tVal RMSE: 2693.5094\n",
      "Train RMSE: 2703.4750\tVal RMSE: 3142.7600\n",
      "Train RMSE: 2821.4494\tVal RMSE: 3185.1628\n",
      "Train RMSE: 2859.8950\tVal RMSE: 2961.3174\n",
      "Train RMSE: 2799.6617\tVal RMSE: 2888.5705\n",
      "Train RMSE: 2703.6360\tVal RMSE: 2703.9018\n",
      "Train RMSE: 2845.8356\tVal RMSE: 2640.4148\n",
      "Train RMSE: 2818.6146\tVal RMSE: 2949.5038\n",
      "Train RMSE: 2772.0999\tVal RMSE: 3354.3755\n",
      "Train RMSE: 2838.5416\tVal RMSE: 2894.5658\n",
      "AVG. Train RMSE: 2814.3286\t AVG. Val RMSE: 2941.4082\n"
     ]
    }
   ],
   "source": [
    "kfoldCrossVal(xgbm)"
   ]
  },
  {
   "cell_type": "code",
   "execution_count": 93,
   "metadata": {},
   "outputs": [
    {
     "name": "stdout",
     "output_type": "stream",
     "text": [
      "Train RMSE: 2922.4271\tVal RMSE: 2643.0835\n",
      "Train RMSE: 2840.0942\tVal RMSE: 3158.3190\n",
      "Train RMSE: 2864.6148\tVal RMSE: 3175.3265\n",
      "Train RMSE: 2875.7540\tVal RMSE: 2962.3000\n",
      "Train RMSE: 2840.5244\tVal RMSE: 2867.3857\n",
      "Train RMSE: 2840.9133\tVal RMSE: 2744.1487\n",
      "Train RMSE: 2837.1890\tVal RMSE: 2642.7754\n",
      "Train RMSE: 2845.1726\tVal RMSE: 2954.0453\n",
      "Train RMSE: 2809.8497\tVal RMSE: 3341.1053\n",
      "Train RMSE: 2859.3604\tVal RMSE: 2900.6548\n",
      "AVG. Train RMSE: 2853.5900\t AVG. Val RMSE: 2938.9144\n"
     ]
    }
   ],
   "source": [
    "kfoldCrossVal(lgbm)"
   ]
  },
  {
   "cell_type": "markdown",
   "metadata": {},
   "source": [
    "#### Predictions"
   ]
  },
  {
   "cell_type": "code",
   "execution_count": 70,
   "metadata": {},
   "outputs": [
    {
     "name": "stdout",
     "output_type": "stream",
     "text": [
      "Train RMSE: 2875.7325\tVal RMSE: 2898.9720\n",
      "Train RMSE: 2840.6168\tVal RMSE: 3084.6984\n",
      "Train RMSE: 2803.5812\tVal RMSE: 3249.4355\n",
      "Train RMSE: 2739.3863\tVal RMSE: 2884.1308\n",
      "Train RMSE: 2917.3684\tVal RMSE: 2777.5222\n",
      "Train RMSE: 2852.3630\tVal RMSE: 2785.8679\n",
      "Train RMSE: 2918.3108\tVal RMSE: 2979.2235\n",
      "Train RMSE: 2904.4052\tVal RMSE: 2762.0267\n",
      "Train RMSE: 2891.3756\tVal RMSE: 2905.0445\n",
      "Train RMSE: 2862.4490\tVal RMSE: 2965.3211\n",
      "AVG. Train RMSE: 2860.5589\t AVG. Val RMSE: 2929.2243\n"
     ]
    }
   ],
   "source": [
    "cat_pred = kfoldCrossValPred(catm)"
   ]
  },
  {
   "cell_type": "code",
   "execution_count": 71,
   "metadata": {},
   "outputs": [
    {
     "name": "stdout",
     "output_type": "stream",
     "text": [
      "Train RMSE: 2893.6380\tVal RMSE: 2933.7915\n",
      "Train RMSE: 2811.6781\tVal RMSE: 3069.5796\n",
      "Train RMSE: 2762.1107\tVal RMSE: 3278.1193\n",
      "Train RMSE: 2786.0911\tVal RMSE: 2898.7056\n",
      "Train RMSE: 2860.6253\tVal RMSE: 2791.0177\n",
      "Train RMSE: 2856.8719\tVal RMSE: 2811.6777\n",
      "Train RMSE: 2739.9198\tVal RMSE: 2978.8419\n",
      "Train RMSE: 2764.9371\tVal RMSE: 2737.4791\n",
      "Train RMSE: 2884.1194\tVal RMSE: 2904.5078\n",
      "Train RMSE: 2767.6642\tVal RMSE: 2952.4627\n",
      "AVG. Train RMSE: 2812.7656\t AVG. Val RMSE: 2935.6183\n"
     ]
    }
   ],
   "source": [
    "xgb_pred = kfoldCrossValPred(xgbm)"
   ]
  },
  {
   "cell_type": "code",
   "execution_count": 94,
   "metadata": {},
   "outputs": [
    {
     "name": "stdout",
     "output_type": "stream",
     "text": [
      "Train RMSE: 2896.9823\tVal RMSE: 2912.4423\n",
      "Train RMSE: 2843.4677\tVal RMSE: 3059.0423\n",
      "Train RMSE: 2818.9535\tVal RMSE: 3273.5575\n",
      "Train RMSE: 2819.4405\tVal RMSE: 2890.0307\n",
      "Train RMSE: 2843.6241\tVal RMSE: 2775.1065\n",
      "Train RMSE: 2866.8088\tVal RMSE: 2807.7189\n",
      "Train RMSE: 2881.2585\tVal RMSE: 2997.4564\n",
      "Train RMSE: 2883.7064\tVal RMSE: 2767.3973\n",
      "Train RMSE: 2853.6232\tVal RMSE: 2900.8766\n",
      "Train RMSE: 2856.6132\tVal RMSE: 2968.6090\n",
      "AVG. Train RMSE: 2856.4478\t AVG. Val RMSE: 2935.2237\n"
     ]
    }
   ],
   "source": [
    "lgb_pred = kfoldCrossValPred(lgbm)"
   ]
  },
  {
   "cell_type": "code",
   "execution_count": 95,
   "metadata": {},
   "outputs": [],
   "source": [
    "blend = (0.3 * cat_pred ) + (0.4 * ((xgb_pred + lgb_pred) /2) + (0.3 * xgb_pred)) "
   ]
  },
  {
   "cell_type": "markdown",
   "metadata": {},
   "source": [
    "### Submissions"
   ]
  },
  {
   "cell_type": "code",
   "execution_count": 96,
   "metadata": {},
   "outputs": [],
   "source": [
    "lgb_df = pd.DataFrame({'Item_Store_ID' : test_id, 'Item_Store_Returns' : lgb_pred **2})\n",
    "cat_df = pd.DataFrame({'Item_Store_ID' : test_id, 'Item_Store_Returns' : cat_pred **2})\n",
    "xgb_df = pd.DataFrame({'Item_Store_ID' : test_id, 'Item_Store_Returns' : xgb_pred **2})\n",
    "blend_df = pd.DataFrame({'Item_Store_ID' : test_id, 'Item_Store_Returns' : blend **2})"
   ]
  },
  {
   "cell_type": "code",
   "execution_count": 97,
   "metadata": {},
   "outputs": [
    {
     "data": {
      "text/html": [
       "<div>\n",
       "<style scoped>\n",
       "    .dataframe tbody tr th:only-of-type {\n",
       "        vertical-align: middle;\n",
       "    }\n",
       "\n",
       "    .dataframe tbody tr th {\n",
       "        vertical-align: top;\n",
       "    }\n",
       "\n",
       "    .dataframe thead th {\n",
       "        text-align: right;\n",
       "    }\n",
       "</style>\n",
       "<table border=\"1\" class=\"dataframe\">\n",
       "  <thead>\n",
       "    <tr style=\"text-align: right;\">\n",
       "      <th></th>\n",
       "      <th>CAT</th>\n",
       "      <th>LGB</th>\n",
       "      <th>XGB</th>\n",
       "      <th>BLEND</th>\n",
       "    </tr>\n",
       "  </thead>\n",
       "  <tbody>\n",
       "    <tr>\n",
       "      <th>0</th>\n",
       "      <td>1096.727595</td>\n",
       "      <td>1257.937599</td>\n",
       "      <td>1058.945752</td>\n",
       "      <td>1108.841375</td>\n",
       "    </tr>\n",
       "    <tr>\n",
       "      <th>1</th>\n",
       "      <td>7371.548490</td>\n",
       "      <td>6592.750303</td>\n",
       "      <td>6795.131345</td>\n",
       "      <td>6924.363597</td>\n",
       "    </tr>\n",
       "    <tr>\n",
       "      <th>2</th>\n",
       "      <td>7025.799442</td>\n",
       "      <td>6503.309898</td>\n",
       "      <td>6280.200937</td>\n",
       "      <td>6544.566259</td>\n",
       "    </tr>\n",
       "    <tr>\n",
       "      <th>3</th>\n",
       "      <td>1057.786822</td>\n",
       "      <td>1296.698736</td>\n",
       "      <td>1038.483226</td>\n",
       "      <td>1093.742924</td>\n",
       "    </tr>\n",
       "    <tr>\n",
       "      <th>4</th>\n",
       "      <td>7199.696193</td>\n",
       "      <td>6454.828147</td>\n",
       "      <td>6283.486829</td>\n",
       "      <td>6586.608044</td>\n",
       "    </tr>\n",
       "    <tr>\n",
       "      <th>...</th>\n",
       "      <td>...</td>\n",
       "      <td>...</td>\n",
       "      <td>...</td>\n",
       "      <td>...</td>\n",
       "    </tr>\n",
       "    <tr>\n",
       "      <th>3527</th>\n",
       "      <td>1375.985238</td>\n",
       "      <td>1912.711582</td>\n",
       "      <td>2021.344234</td>\n",
       "      <td>1793.935498</td>\n",
       "    </tr>\n",
       "    <tr>\n",
       "      <th>3528</th>\n",
       "      <td>9311.617376</td>\n",
       "      <td>8294.310955</td>\n",
       "      <td>8920.931631</td>\n",
       "      <td>8909.279901</td>\n",
       "    </tr>\n",
       "    <tr>\n",
       "      <th>3529</th>\n",
       "      <td>9273.000748</td>\n",
       "      <td>8815.379108</td>\n",
       "      <td>8981.842490</td>\n",
       "      <td>9035.123966</td>\n",
       "    </tr>\n",
       "    <tr>\n",
       "      <th>3530</th>\n",
       "      <td>1065.670995</td>\n",
       "      <td>1578.578255</td>\n",
       "      <td>1517.477902</td>\n",
       "      <td>1385.109562</td>\n",
       "    </tr>\n",
       "    <tr>\n",
       "      <th>3531</th>\n",
       "      <td>7238.726361</td>\n",
       "      <td>6857.097145</td>\n",
       "      <td>7303.318859</td>\n",
       "      <td>7193.662181</td>\n",
       "    </tr>\n",
       "  </tbody>\n",
       "</table>\n",
       "<p>3532 rows × 4 columns</p>\n",
       "</div>"
      ],
      "text/plain": [
       "              CAT          LGB          XGB        BLEND\n",
       "0     1096.727595  1257.937599  1058.945752  1108.841375\n",
       "1     7371.548490  6592.750303  6795.131345  6924.363597\n",
       "2     7025.799442  6503.309898  6280.200937  6544.566259\n",
       "3     1057.786822  1296.698736  1038.483226  1093.742924\n",
       "4     7199.696193  6454.828147  6283.486829  6586.608044\n",
       "...           ...          ...          ...          ...\n",
       "3527  1375.985238  1912.711582  2021.344234  1793.935498\n",
       "3528  9311.617376  8294.310955  8920.931631  8909.279901\n",
       "3529  9273.000748  8815.379108  8981.842490  9035.123966\n",
       "3530  1065.670995  1578.578255  1517.477902  1385.109562\n",
       "3531  7238.726361  6857.097145  7303.318859  7193.662181\n",
       "\n",
       "[3532 rows x 4 columns]"
      ]
     },
     "execution_count": 97,
     "metadata": {},
     "output_type": "execute_result"
    }
   ],
   "source": [
    "pd.DataFrame(np.c_[cat_pred, lgb_pred, xgb_pred, blend]**2, columns=['CAT', 'LGB', 'XGB', 'BLEND'])"
   ]
  },
  {
   "cell_type": "code",
   "execution_count": 98,
   "metadata": {},
   "outputs": [
    {
     "data": {
      "image/png": "[encoded data removed]",
      "text/plain": [
       "<Figure size 432x288 with 2 Axes>"
      ]
     },
     "metadata": {},
     "output_type": "display_data"
    }
   ],
   "source": [
    "sns.heatmap(pd.DataFrame(np.c_[cat_pred, lgb_pred, xgb_pred, blend]**2, \n",
    "                         columns=['CAT', 'LGB', 'XGB', 'BLEND']).corr(), \n",
    "            annot=True, fmt='.2g');"
   ]
  },
  {
   "cell_type": "raw",
   "metadata": {},
   "source": [
    "os.mkdir(path+'/predictions')"
   ]
  },
  {
   "cell_type": "code",
   "execution_count": 99,
   "metadata": {},
   "outputs": [],
   "source": [
    "xgb_df.to_csv(path+'/predictions/xgb3a.csv', index=False)\n",
    "lgb_df.to_csv(path+'/predictions/lgb3a.csv', index=False)\n",
    "cat_df.to_csv(path+'/predictions/cat3a.csv', index=False)\n",
    "blend_df.to_csv(path+'/predictions/blend3a.csv', index=False)"
   ]
  },
  {
   "cell_type": "code",
   "execution_count": 135,
   "metadata": {},
   "outputs": [
    {
     "data": {
      "text/plain": [
       "10948"
      ]
     },
     "execution_count": 135,
     "metadata": {},
     "output_type": "execute_result"
    }
   ],
   "source": [
    "gc.collect()"
   ]
  },
  {
   "cell_type": "markdown",
   "metadata": {},
   "source": [
    "<strong>Best Model: CatBoost\n",
    "\n",
    "Private LB: 2382.99567372251</strong>\n",
    "\n",
    "Blend: 2397.86844124498\n",
    "\n",
    "LGB: 2411.87977251514\n",
    "\n",
    "XGB: 2422.57939853213"
   ]
  }
 ],
 "metadata": {
  "kernelspec": {
   "display_name": "Python 3",
   "language": "python",
   "name": "python3"
  },
  "language_info": {
   "codemirror_mode": {
    "name": "ipython",
    "version": 3
   },
   "file_extension": ".py",
   "mimetype": "text/x-python",
   "name": "python",
   "nbconvert_exporter": "python",
   "pygments_lexer": "ipython3",
   "version": "3.7.4"
  }
 },
 "nbformat": 4,
 "nbformat_minor": 2
}
