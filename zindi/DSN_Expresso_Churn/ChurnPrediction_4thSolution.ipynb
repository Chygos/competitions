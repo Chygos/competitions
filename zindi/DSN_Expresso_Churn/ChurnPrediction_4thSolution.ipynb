{
 "cells": [
  {
   "cell_type": "code",
   "execution_count": 1,
   "metadata": {},
   "outputs": [],
   "source": [
    "path = \"C:/Machine_learning_datafiles/DSN/Expresso Churn\""
   ]
  },
  {
   "cell_type": "code",
   "execution_count": 2,
   "metadata": {},
   "outputs": [],
   "source": [
    "import os, gc, warnings\n",
    "warnings.filterwarnings('ignore')"
   ]
  },
  {
   "cell_type": "code",
   "execution_count": 3,
   "metadata": {},
   "outputs": [],
   "source": [
    "import matplotlib.pyplot as plt\n",
    "import  numpy as np\n",
    "import pandas as pd\n",
    "import random\n",
    "import seaborn as sns"
   ]
  },
  {
   "cell_type": "code",
   "execution_count": 4,
   "metadata": {},
   "outputs": [],
   "source": [
    "import catboost as cat\n",
    "import lightgbm as lgb\n",
    "from sklearn.model_selection import train_test_split, StratifiedKFold\n",
    "from sklearn.metrics import log_loss, plot_confusion_matrix, plot_roc_curve"
   ]
  },
  {
   "cell_type": "code",
   "execution_count": 31,
   "metadata": {},
   "outputs": [],
   "source": [
    "%matplotlib inline\n",
    "pd.set_option('display.max_columns', 150)\n",
    "plt.style.use('seaborn-darkgrid')\n",
    "plt.rcParams['font.size'] = 12\n",
    "pd.set_option('display.max_colwidth', 2000)"
   ]
  },
  {
   "cell_type": "code",
   "execution_count": 6,
   "metadata": {},
   "outputs": [],
   "source": [
    "train = pd.read_csv(path+'/Train.csv')\n",
    "test = pd.read_csv(path+'/Test.csv')\n",
    "subfile = pd.read_csv(path+'/sample_submission.csv')\n",
    "vardefs = pd.read_csv(path+'/VariableDefinitions.csv')"
   ]
  },
  {
   "cell_type": "code",
   "execution_count": 7,
   "metadata": {},
   "outputs": [
    {
     "data": {
      "text/html": [
       "<div>\n",
       "<style scoped>\n",
       "    .dataframe tbody tr th:only-of-type {\n",
       "        vertical-align: middle;\n",
       "    }\n",
       "\n",
       "    .dataframe tbody tr th {\n",
       "        vertical-align: top;\n",
       "    }\n",
       "\n",
       "    .dataframe thead th {\n",
       "        text-align: right;\n",
       "    }\n",
       "</style>\n",
       "<table border=\"1\" class=\"dataframe\">\n",
       "  <thead>\n",
       "    <tr style=\"text-align: right;\">\n",
       "      <th></th>\n",
       "      <th>user_id</th>\n",
       "      <th>REGION</th>\n",
       "      <th>TENURE</th>\n",
       "      <th>MONTANT</th>\n",
       "      <th>FREQUENCE_RECH</th>\n",
       "      <th>REVENUE</th>\n",
       "      <th>ARPU_SEGMENT</th>\n",
       "      <th>FREQUENCE</th>\n",
       "      <th>DATA_VOLUME</th>\n",
       "      <th>ON_NET</th>\n",
       "      <th>ORANGE</th>\n",
       "      <th>TIGO</th>\n",
       "      <th>ZONE1</th>\n",
       "      <th>ZONE2</th>\n",
       "      <th>MRG</th>\n",
       "      <th>REGULARITY</th>\n",
       "      <th>TOP_PACK</th>\n",
       "      <th>FREQ_TOP_PACK</th>\n",
       "      <th>CHURN</th>\n",
       "    </tr>\n",
       "  </thead>\n",
       "  <tbody>\n",
       "    <tr>\n",
       "      <th>0</th>\n",
       "      <td>dcf68cc2fb515ccad7d8b9b3bd80ee2a4b270063</td>\n",
       "      <td>SAINT-LOUIS</td>\n",
       "      <td>K &gt; 24 month</td>\n",
       "      <td>17000.0</td>\n",
       "      <td>32.0</td>\n",
       "      <td>18000.0</td>\n",
       "      <td>6000.0</td>\n",
       "      <td>34.0</td>\n",
       "      <td>NaN</td>\n",
       "      <td>97.0</td>\n",
       "      <td>355.0</td>\n",
       "      <td>6.0</td>\n",
       "      <td>NaN</td>\n",
       "      <td>NaN</td>\n",
       "      <td>NO</td>\n",
       "      <td>62</td>\n",
       "      <td>All-net 500F=2000F;5d</td>\n",
       "      <td>35.0</td>\n",
       "      <td>0</td>\n",
       "    </tr>\n",
       "    <tr>\n",
       "      <th>1</th>\n",
       "      <td>71c44b5ba328db5c4192a80f7cf8f244d9350ed0</td>\n",
       "      <td>NaN</td>\n",
       "      <td>K &gt; 24 month</td>\n",
       "      <td>4300.0</td>\n",
       "      <td>29.0</td>\n",
       "      <td>4427.0</td>\n",
       "      <td>1476.0</td>\n",
       "      <td>37.0</td>\n",
       "      <td>1764.0</td>\n",
       "      <td>8.0</td>\n",
       "      <td>3.0</td>\n",
       "      <td>0.0</td>\n",
       "      <td>NaN</td>\n",
       "      <td>2.0</td>\n",
       "      <td>NO</td>\n",
       "      <td>40</td>\n",
       "      <td>Data: 100 F=40MB,24H</td>\n",
       "      <td>22.0</td>\n",
       "      <td>0</td>\n",
       "    </tr>\n",
       "    <tr>\n",
       "      <th>2</th>\n",
       "      <td>ce46411b1526c94f20a383b8cb188f8d27f82a0a</td>\n",
       "      <td>TAMBACOUNDA</td>\n",
       "      <td>K &gt; 24 month</td>\n",
       "      <td>1500.0</td>\n",
       "      <td>3.0</td>\n",
       "      <td>1500.0</td>\n",
       "      <td>500.0</td>\n",
       "      <td>3.0</td>\n",
       "      <td>NaN</td>\n",
       "      <td>30.0</td>\n",
       "      <td>30.0</td>\n",
       "      <td>NaN</td>\n",
       "      <td>NaN</td>\n",
       "      <td>NaN</td>\n",
       "      <td>NO</td>\n",
       "      <td>32</td>\n",
       "      <td>All-net 500F=2000F;5d</td>\n",
       "      <td>3.0</td>\n",
       "      <td>0</td>\n",
       "    </tr>\n",
       "    <tr>\n",
       "      <th>3</th>\n",
       "      <td>f467cdb6669818373c26c2bad44e01ba66f97d21</td>\n",
       "      <td>FATICK</td>\n",
       "      <td>K &gt; 24 month</td>\n",
       "      <td>1500.0</td>\n",
       "      <td>3.0</td>\n",
       "      <td>2497.0</td>\n",
       "      <td>832.0</td>\n",
       "      <td>4.0</td>\n",
       "      <td>0.0</td>\n",
       "      <td>159.0</td>\n",
       "      <td>45.0</td>\n",
       "      <td>19.0</td>\n",
       "      <td>NaN</td>\n",
       "      <td>NaN</td>\n",
       "      <td>NO</td>\n",
       "      <td>18</td>\n",
       "      <td>On net 200F=Unlimited _call24H</td>\n",
       "      <td>3.0</td>\n",
       "      <td>0</td>\n",
       "    </tr>\n",
       "    <tr>\n",
       "      <th>4</th>\n",
       "      <td>ec45e1a1888a32b5dcce0954cfec20c6e037db31</td>\n",
       "      <td>FATICK</td>\n",
       "      <td>K &gt; 24 month</td>\n",
       "      <td>NaN</td>\n",
       "      <td>NaN</td>\n",
       "      <td>498.0</td>\n",
       "      <td>166.0</td>\n",
       "      <td>3.0</td>\n",
       "      <td>1.0</td>\n",
       "      <td>1.0</td>\n",
       "      <td>3.0</td>\n",
       "      <td>NaN</td>\n",
       "      <td>NaN</td>\n",
       "      <td>NaN</td>\n",
       "      <td>NO</td>\n",
       "      <td>50</td>\n",
       "      <td>NaN</td>\n",
       "      <td>NaN</td>\n",
       "      <td>0</td>\n",
       "    </tr>\n",
       "  </tbody>\n",
       "</table>\n",
       "</div>"
      ],
      "text/plain": [
       "                                    user_id       REGION        TENURE  \\\n",
       "0  dcf68cc2fb515ccad7d8b9b3bd80ee2a4b270063  SAINT-LOUIS  K > 24 month   \n",
       "1  71c44b5ba328db5c4192a80f7cf8f244d9350ed0          NaN  K > 24 month   \n",
       "2  ce46411b1526c94f20a383b8cb188f8d27f82a0a  TAMBACOUNDA  K > 24 month   \n",
       "3  f467cdb6669818373c26c2bad44e01ba66f97d21       FATICK  K > 24 month   \n",
       "4  ec45e1a1888a32b5dcce0954cfec20c6e037db31       FATICK  K > 24 month   \n",
       "\n",
       "   MONTANT  FREQUENCE_RECH  REVENUE  ARPU_SEGMENT  FREQUENCE  DATA_VOLUME  \\\n",
       "0  17000.0            32.0  18000.0        6000.0       34.0          NaN   \n",
       "1   4300.0            29.0   4427.0        1476.0       37.0       1764.0   \n",
       "2   1500.0             3.0   1500.0         500.0        3.0          NaN   \n",
       "3   1500.0             3.0   2497.0         832.0        4.0          0.0   \n",
       "4      NaN             NaN    498.0         166.0        3.0          1.0   \n",
       "\n",
       "   ON_NET  ORANGE  TIGO  ZONE1  ZONE2 MRG  REGULARITY  \\\n",
       "0    97.0   355.0   6.0    NaN    NaN  NO          62   \n",
       "1     8.0     3.0   0.0    NaN    2.0  NO          40   \n",
       "2    30.0    30.0   NaN    NaN    NaN  NO          32   \n",
       "3   159.0    45.0  19.0    NaN    NaN  NO          18   \n",
       "4     1.0     3.0   NaN    NaN    NaN  NO          50   \n",
       "\n",
       "                         TOP_PACK  FREQ_TOP_PACK  CHURN  \n",
       "0           All-net 500F=2000F;5d           35.0      0  \n",
       "1            Data: 100 F=40MB,24H           22.0      0  \n",
       "2           All-net 500F=2000F;5d            3.0      0  \n",
       "3  On net 200F=Unlimited _call24H            3.0      0  \n",
       "4                             NaN            NaN      0  "
      ]
     },
     "execution_count": 7,
     "metadata": {},
     "output_type": "execute_result"
    }
   ],
   "source": [
    "train.head()"
   ]
  },
  {
   "cell_type": "code",
   "execution_count": 8,
   "metadata": {},
   "outputs": [
    {
     "data": {
      "text/html": [
       "<div>\n",
       "<style scoped>\n",
       "    .dataframe tbody tr th:only-of-type {\n",
       "        vertical-align: middle;\n",
       "    }\n",
       "\n",
       "    .dataframe tbody tr th {\n",
       "        vertical-align: top;\n",
       "    }\n",
       "\n",
       "    .dataframe thead th {\n",
       "        text-align: right;\n",
       "    }\n",
       "</style>\n",
       "<table border=\"1\" class=\"dataframe\">\n",
       "  <thead>\n",
       "    <tr style=\"text-align: right;\">\n",
       "      <th></th>\n",
       "      <th>Variable Definitions</th>\n",
       "      <th>Unnamed: 1</th>\n",
       "      <th>Unnamed: 2</th>\n",
       "    </tr>\n",
       "  </thead>\n",
       "  <tbody>\n",
       "    <tr>\n",
       "      <th>0</th>\n",
       "      <td>NaN</td>\n",
       "      <td>French</td>\n",
       "      <td>English</td>\n",
       "    </tr>\n",
       "    <tr>\n",
       "      <th>1</th>\n",
       "      <td>NaN</td>\n",
       "      <td>Le dataset churn comprend 19 variables dont 15 variables numeriques et 04 variables categoriques.</td>\n",
       "      <td>The churn dataset includes 19 variables including 15 numeric variables and 04 categorical variables.</td>\n",
       "    </tr>\n",
       "    <tr>\n",
       "      <th>2</th>\n",
       "      <td>user_id</td>\n",
       "      <td>NaN</td>\n",
       "      <td>NaN</td>\n",
       "    </tr>\n",
       "    <tr>\n",
       "      <th>3</th>\n",
       "      <td>REGION</td>\n",
       "      <td>la localité de chaque client</td>\n",
       "      <td>the location of each client</td>\n",
       "    </tr>\n",
       "    <tr>\n",
       "      <th>4</th>\n",
       "      <td>TENURE</td>\n",
       "      <td>la durée dans le reseau</td>\n",
       "      <td>duration in the network</td>\n",
       "    </tr>\n",
       "    <tr>\n",
       "      <th>5</th>\n",
       "      <td>MONTANT</td>\n",
       "      <td>montant de recharge</td>\n",
       "      <td>top-up amount</td>\n",
       "    </tr>\n",
       "    <tr>\n",
       "      <th>6</th>\n",
       "      <td>FREQUENCE_RECH</td>\n",
       "      <td>nombre de fois que le client a fait une recharge</td>\n",
       "      <td>number of times the customer refilled</td>\n",
       "    </tr>\n",
       "    <tr>\n",
       "      <th>7</th>\n",
       "      <td>REVENUE</td>\n",
       "      <td>revenu mensuel de chaque client</td>\n",
       "      <td>monthly income of each client</td>\n",
       "    </tr>\n",
       "    <tr>\n",
       "      <th>8</th>\n",
       "      <td>ARPU_SEGMENT</td>\n",
       "      <td>revenu sur 90 jours/3</td>\n",
       "      <td>income over 90 days / 3</td>\n",
       "    </tr>\n",
       "    <tr>\n",
       "      <th>9</th>\n",
       "      <td>FREQUENCE</td>\n",
       "      <td>nombre de fois que client à fait un revenu</td>\n",
       "      <td>number of times the client has made an income</td>\n",
       "    </tr>\n",
       "    <tr>\n",
       "      <th>10</th>\n",
       "      <td>DATA_VOLUME</td>\n",
       "      <td>nombre de connexions</td>\n",
       "      <td>number of connections</td>\n",
       "    </tr>\n",
       "    <tr>\n",
       "      <th>11</th>\n",
       "      <td>ON_NET</td>\n",
       "      <td>appel inter expresso</td>\n",
       "      <td>inter expresso call</td>\n",
       "    </tr>\n",
       "    <tr>\n",
       "      <th>12</th>\n",
       "      <td>ORANGE</td>\n",
       "      <td>appel vers orange</td>\n",
       "      <td>call to orange</td>\n",
       "    </tr>\n",
       "    <tr>\n",
       "      <th>13</th>\n",
       "      <td>TIGO</td>\n",
       "      <td>appel vers Tigo</td>\n",
       "      <td>call to Tigo</td>\n",
       "    </tr>\n",
       "    <tr>\n",
       "      <th>14</th>\n",
       "      <td>ZONE1</td>\n",
       "      <td>appel vers les zone1</td>\n",
       "      <td>call to zones1</td>\n",
       "    </tr>\n",
       "    <tr>\n",
       "      <th>15</th>\n",
       "      <td>ZONE2</td>\n",
       "      <td>appel vers les zone2</td>\n",
       "      <td>call to zones2</td>\n",
       "    </tr>\n",
       "    <tr>\n",
       "      <th>16</th>\n",
       "      <td>MRG</td>\n",
       "      <td>un client qui fait du vas</td>\n",
       "      <td>a client who is going</td>\n",
       "    </tr>\n",
       "    <tr>\n",
       "      <th>17</th>\n",
       "      <td>REGULARITY</td>\n",
       "      <td>nombre de fois que le client est actif pendant 90 jours</td>\n",
       "      <td>number of times the client is active for 90 days</td>\n",
       "    </tr>\n",
       "    <tr>\n",
       "      <th>18</th>\n",
       "      <td>TOP_PACK</td>\n",
       "      <td>les pack les plus activés</td>\n",
       "      <td>the most active packs</td>\n",
       "    </tr>\n",
       "    <tr>\n",
       "      <th>19</th>\n",
       "      <td>FREQ_TOP_PACK</td>\n",
       "      <td>nombre de fois que le client a activé les packages top pack</td>\n",
       "      <td>number of times the client has activated the top pack packages</td>\n",
       "    </tr>\n",
       "    <tr>\n",
       "      <th>20</th>\n",
       "      <td>CHURN</td>\n",
       "      <td>variable à predire - Target</td>\n",
       "      <td>variable to predict - Target</td>\n",
       "    </tr>\n",
       "  </tbody>\n",
       "</table>\n",
       "</div>"
      ],
      "text/plain": [
       "   Variable Definitions  \\\n",
       "0                   NaN   \n",
       "1                   NaN   \n",
       "2               user_id   \n",
       "3                REGION   \n",
       "4                TENURE   \n",
       "5               MONTANT   \n",
       "6        FREQUENCE_RECH   \n",
       "7               REVENUE   \n",
       "8          ARPU_SEGMENT   \n",
       "9             FREQUENCE   \n",
       "10          DATA_VOLUME   \n",
       "11               ON_NET   \n",
       "12               ORANGE   \n",
       "13                 TIGO   \n",
       "14                ZONE1   \n",
       "15                ZONE2   \n",
       "16                  MRG   \n",
       "17           REGULARITY   \n",
       "18             TOP_PACK   \n",
       "19        FREQ_TOP_PACK   \n",
       "20                CHURN   \n",
       "\n",
       "                                                                                           Unnamed: 1  \\\n",
       "0                                                                                              French   \n",
       "1   Le dataset churn comprend 19 variables dont 15 variables numeriques et 04 variables categoriques.   \n",
       "2                                                                                                 NaN   \n",
       "3                                                                        la localité de chaque client   \n",
       "4                                                                             la durée dans le reseau   \n",
       "5                                                                                 montant de recharge   \n",
       "6                                                    nombre de fois que le client a fait une recharge   \n",
       "7                                                                     revenu mensuel de chaque client   \n",
       "8                                                                               revenu sur 90 jours/3   \n",
       "9                                                          nombre de fois que client à fait un revenu   \n",
       "10                                                                               nombre de connexions   \n",
       "11                                                                               appel inter expresso   \n",
       "12                                                                                  appel vers orange   \n",
       "13                                                                                    appel vers Tigo   \n",
       "14                                                                               appel vers les zone1   \n",
       "15                                                                               appel vers les zone2   \n",
       "16                                                                          un client qui fait du vas   \n",
       "17                                            nombre de fois que le client est actif pendant 90 jours   \n",
       "18                                                                          les pack les plus activés   \n",
       "19                                        nombre de fois que le client a activé les packages top pack   \n",
       "20                                                                        variable à predire - Target   \n",
       "\n",
       "                                                                                              Unnamed: 2  \n",
       "0                                                                                                English  \n",
       "1   The churn dataset includes 19 variables including 15 numeric variables and 04 categorical variables.  \n",
       "2                                                                                                    NaN  \n",
       "3                                                                            the location of each client  \n",
       "4                                                                                duration in the network  \n",
       "5                                                                                          top-up amount  \n",
       "6                                                                  number of times the customer refilled  \n",
       "7                                                                          monthly income of each client  \n",
       "8                                                                                income over 90 days / 3  \n",
       "9                                                          number of times the client has made an income  \n",
       "10                                                                                 number of connections  \n",
       "11                                                                                   inter expresso call  \n",
       "12                                                                                        call to orange  \n",
       "13                                                                                          call to Tigo  \n",
       "14                                                                                        call to zones1  \n",
       "15                                                                                        call to zones2  \n",
       "16                                                                                 a client who is going  \n",
       "17                                                      number of times the client is active for 90 days  \n",
       "18                                                                                 the most active packs  \n",
       "19                                        number of times the client has activated the top pack packages  \n",
       "20                                                                          variable to predict - Target  "
      ]
     },
     "execution_count": 8,
     "metadata": {},
     "output_type": "execute_result"
    }
   ],
   "source": [
    "vardefs"
   ]
  },
  {
   "cell_type": "code",
   "execution_count": 9,
   "metadata": {},
   "outputs": [],
   "source": [
    "test_id = test.user_id"
   ]
  },
  {
   "cell_type": "code",
   "execution_count": 10,
   "metadata": {},
   "outputs": [
    {
     "data": {
      "text/plain": [
       "MONTANT            3.914305\n",
       "FREQUENCE_RECH     2.122098\n",
       "REVENUE            3.684768\n",
       "ARPU_SEGMENT       3.684781\n",
       "FREQUENCE          1.776179\n",
       "DATA_VOLUME       27.727228\n",
       "ON_NET             8.513781\n",
       "ORANGE             7.225839\n",
       "TIGO              11.539107\n",
       "ZONE1             15.985402\n",
       "ZONE2             14.310807\n",
       "REGULARITY         0.247978\n",
       "FREQ_TOP_PACK      4.205884\n",
       "CHURN              1.604571\n",
       "dtype: float64"
      ]
     },
     "execution_count": 10,
     "metadata": {},
     "output_type": "execute_result"
    }
   ],
   "source": [
    "train.skew()"
   ]
  },
  {
   "cell_type": "code",
   "execution_count": 32,
   "metadata": {},
   "outputs": [
    {
     "data": {
      "image/png": "[encoded data removed]",
      "text/plain": [
       "<Figure size 432x288 with 1 Axes>"
      ]
     },
     "metadata": {},
     "output_type": "display_data"
    }
   ],
   "source": [
    "sns.countplot(train.CHURN)\n",
    "plt.title('CHURN (Target) Distribution');"
   ]
  },
  {
   "cell_type": "code",
   "execution_count": 50,
   "metadata": {},
   "outputs": [
    {
     "data": {
      "text/plain": [
       "user_id           0.000000\n",
       "REGION            0.393800\n",
       "TENURE            0.000000\n",
       "MONTANT           0.350693\n",
       "FREQUENCE_RECH    0.350693\n",
       "REVENUE           0.336657\n",
       "ARPU_SEGMENT      0.336657\n",
       "FREQUENCE         0.336657\n",
       "DATA_VOLUME       0.492135\n",
       "ON_NET            0.364548\n",
       "ORANGE            0.415793\n",
       "TIGO              0.598465\n",
       "ZONE1             0.920775\n",
       "ZONE2             0.936218\n",
       "MRG               0.000000\n",
       "REGULARITY        0.000000\n",
       "TOP_PACK          0.418322\n",
       "FREQ_TOP_PACK     0.418322\n",
       "CHURN             0.000000\n",
       "dtype: float64"
      ]
     },
     "execution_count": 50,
     "metadata": {},
     "output_type": "execute_result"
    }
   ],
   "source": [
    "train.isna().sum()/train.shape[0]"
   ]
  },
  {
   "cell_type": "markdown",
   "metadata": {},
   "source": [
    "As we can see the train data has a lot of missing values, and filling in these values with the mean, median or mode could add some noise to the data, hence I resorted to not filling them with an arbitrarily high value (-999)."
   ]
  },
  {
   "cell_type": "code",
   "execution_count": 33,
   "metadata": {},
   "outputs": [
    {
     "data": {
      "image/png": "[encoded data removed]",
      "text/plain": [
       "<Figure size 936x360 with 2 Axes>"
      ]
     },
     "metadata": {},
     "output_type": "display_data"
    }
   ],
   "source": [
    "plt.figure(figsize=(13,5))\n",
    "for i,col in enumerate(['REGION', 'TENURE'], start=1):\n",
    "    plt.subplot(1,2, i)\n",
    "    sns.countplot(y=train[col])\n",
    "    plt.title(col + ' Distribution')\n",
    "    plt.xticks()\n",
    "plt.tight_layout(pad=1.);"
   ]
  },
  {
   "cell_type": "code",
   "execution_count": 41,
   "metadata": {},
   "outputs": [
    {
     "data": {
      "image/png": "[encoded data removed]",
      "text/plain": [
       "<Figure size 432x288 with 1 Axes>"
      ]
     },
     "metadata": {},
     "output_type": "display_data"
    }
   ],
   "source": [
    "train.TOP_PACK.value_counts()[:10].sort_values().plot.barh(title='Ten (10) most used Active Packs');"
   ]
  },
  {
   "cell_type": "code",
   "execution_count": 46,
   "metadata": {},
   "outputs": [
    {
     "data": {
      "image/png": "[encoded data removed]",
      "text/plain": [
       "<Figure size 576x360 with 1 Axes>"
      ]
     },
     "metadata": {},
     "output_type": "display_data"
    }
   ],
   "source": [
    "train.corr('spearman')['CHURN'][:-1].plot.barh(figsize=(8,5), \n",
    "                                          title='Correlation of Numerical Features with the Target variable');"
   ]
  },
  {
   "cell_type": "markdown",
   "metadata": {},
   "source": [
    "Only Zones 1 and 2 are postitvely(weakly) correlated with the Target, while others are negatively correlated."
   ]
  },
  {
   "cell_type": "markdown",
   "metadata": {},
   "source": [
    "From the baseline model I found out that REGULARITY is one of the important features so I created combinations of it from other features."
   ]
  },
  {
   "cell_type": "markdown",
   "metadata": {},
   "source": [
    "#### Feature Engineering"
   ]
  },
  {
   "cell_type": "code",
   "execution_count": 11,
   "metadata": {},
   "outputs": [],
   "source": [
    "df = train.append(test)[train.columns]"
   ]
  },
  {
   "cell_type": "code",
   "execution_count": 12,
   "metadata": {},
   "outputs": [],
   "source": [
    "df['Total_Calls'] = df[['ON_NET', 'ORANGE', 'TIGO', 'ZONE1', 'ZONE2']].sum(axis=1)"
   ]
  },
  {
   "cell_type": "code",
   "execution_count": 13,
   "metadata": {},
   "outputs": [],
   "source": [
    "adds = pd.DataFrame()\n",
    "adds['Income_Rech_Freq'] = df.FREQUENCE / df.FREQUENCE_RECH\n",
    "adds['Income_Active_freq'] = df.FREQUENCE / df.REGULARITY\n",
    "adds['Refill_Active_freq'] = df.FREQUENCE_RECH / df.REGULARITY"
   ]
  },
  {
   "cell_type": "code",
   "execution_count": 14,
   "metadata": {},
   "outputs": [],
   "source": [
    "df = pd.concat([df, adds], 1)"
   ]
  },
  {
   "cell_type": "code",
   "execution_count": 15,
   "metadata": {},
   "outputs": [
    {
     "data": {
      "text/html": [
       "<div>\n",
       "<style scoped>\n",
       "    .dataframe tbody tr th:only-of-type {\n",
       "        vertical-align: middle;\n",
       "    }\n",
       "\n",
       "    .dataframe tbody tr th {\n",
       "        vertical-align: top;\n",
       "    }\n",
       "\n",
       "    .dataframe thead th {\n",
       "        text-align: right;\n",
       "    }\n",
       "</style>\n",
       "<table border=\"1\" class=\"dataframe\">\n",
       "  <thead>\n",
       "    <tr style=\"text-align: right;\">\n",
       "      <th></th>\n",
       "      <th>user_id</th>\n",
       "      <th>REGION</th>\n",
       "      <th>TENURE</th>\n",
       "      <th>MONTANT</th>\n",
       "      <th>FREQUENCE_RECH</th>\n",
       "      <th>REVENUE</th>\n",
       "      <th>ARPU_SEGMENT</th>\n",
       "      <th>FREQUENCE</th>\n",
       "      <th>DATA_VOLUME</th>\n",
       "      <th>ON_NET</th>\n",
       "      <th>ORANGE</th>\n",
       "      <th>TIGO</th>\n",
       "      <th>ZONE1</th>\n",
       "      <th>ZONE2</th>\n",
       "      <th>MRG</th>\n",
       "      <th>REGULARITY</th>\n",
       "      <th>TOP_PACK</th>\n",
       "      <th>FREQ_TOP_PACK</th>\n",
       "      <th>CHURN</th>\n",
       "      <th>Total_Calls</th>\n",
       "      <th>Income_Rech_Freq</th>\n",
       "      <th>Income_Active_freq</th>\n",
       "      <th>Refill_Active_freq</th>\n",
       "    </tr>\n",
       "  </thead>\n",
       "  <tbody>\n",
       "    <tr>\n",
       "      <th>0</th>\n",
       "      <td>dcf68cc2fb515ccad7d8b9b3bd80ee2a4b270063</td>\n",
       "      <td>SAINT-LOUIS</td>\n",
       "      <td>K &gt; 24 month</td>\n",
       "      <td>17000.0</td>\n",
       "      <td>32.0</td>\n",
       "      <td>18000.0</td>\n",
       "      <td>6000.0</td>\n",
       "      <td>34.0</td>\n",
       "      <td>NaN</td>\n",
       "      <td>97.0</td>\n",
       "      <td>355.0</td>\n",
       "      <td>6.0</td>\n",
       "      <td>NaN</td>\n",
       "      <td>NaN</td>\n",
       "      <td>NO</td>\n",
       "      <td>62</td>\n",
       "      <td>All-net 500F=2000F;5d</td>\n",
       "      <td>35.0</td>\n",
       "      <td>0.0</td>\n",
       "      <td>458.0</td>\n",
       "      <td>1.062500</td>\n",
       "      <td>0.548387</td>\n",
       "      <td>0.516129</td>\n",
       "    </tr>\n",
       "    <tr>\n",
       "      <th>1</th>\n",
       "      <td>71c44b5ba328db5c4192a80f7cf8f244d9350ed0</td>\n",
       "      <td>NaN</td>\n",
       "      <td>K &gt; 24 month</td>\n",
       "      <td>4300.0</td>\n",
       "      <td>29.0</td>\n",
       "      <td>4427.0</td>\n",
       "      <td>1476.0</td>\n",
       "      <td>37.0</td>\n",
       "      <td>1764.0</td>\n",
       "      <td>8.0</td>\n",
       "      <td>3.0</td>\n",
       "      <td>0.0</td>\n",
       "      <td>NaN</td>\n",
       "      <td>2.0</td>\n",
       "      <td>NO</td>\n",
       "      <td>40</td>\n",
       "      <td>Data: 100 F=40MB,24H</td>\n",
       "      <td>22.0</td>\n",
       "      <td>0.0</td>\n",
       "      <td>13.0</td>\n",
       "      <td>1.275862</td>\n",
       "      <td>0.925000</td>\n",
       "      <td>0.725000</td>\n",
       "    </tr>\n",
       "    <tr>\n",
       "      <th>2</th>\n",
       "      <td>ce46411b1526c94f20a383b8cb188f8d27f82a0a</td>\n",
       "      <td>TAMBACOUNDA</td>\n",
       "      <td>K &gt; 24 month</td>\n",
       "      <td>1500.0</td>\n",
       "      <td>3.0</td>\n",
       "      <td>1500.0</td>\n",
       "      <td>500.0</td>\n",
       "      <td>3.0</td>\n",
       "      <td>NaN</td>\n",
       "      <td>30.0</td>\n",
       "      <td>30.0</td>\n",
       "      <td>NaN</td>\n",
       "      <td>NaN</td>\n",
       "      <td>NaN</td>\n",
       "      <td>NO</td>\n",
       "      <td>32</td>\n",
       "      <td>All-net 500F=2000F;5d</td>\n",
       "      <td>3.0</td>\n",
       "      <td>0.0</td>\n",
       "      <td>60.0</td>\n",
       "      <td>1.000000</td>\n",
       "      <td>0.093750</td>\n",
       "      <td>0.093750</td>\n",
       "    </tr>\n",
       "    <tr>\n",
       "      <th>3</th>\n",
       "      <td>f467cdb6669818373c26c2bad44e01ba66f97d21</td>\n",
       "      <td>FATICK</td>\n",
       "      <td>K &gt; 24 month</td>\n",
       "      <td>1500.0</td>\n",
       "      <td>3.0</td>\n",
       "      <td>2497.0</td>\n",
       "      <td>832.0</td>\n",
       "      <td>4.0</td>\n",
       "      <td>0.0</td>\n",
       "      <td>159.0</td>\n",
       "      <td>45.0</td>\n",
       "      <td>19.0</td>\n",
       "      <td>NaN</td>\n",
       "      <td>NaN</td>\n",
       "      <td>NO</td>\n",
       "      <td>18</td>\n",
       "      <td>On net 200F=Unlimited _call24H</td>\n",
       "      <td>3.0</td>\n",
       "      <td>0.0</td>\n",
       "      <td>223.0</td>\n",
       "      <td>1.333333</td>\n",
       "      <td>0.222222</td>\n",
       "      <td>0.166667</td>\n",
       "    </tr>\n",
       "    <tr>\n",
       "      <th>4</th>\n",
       "      <td>ec45e1a1888a32b5dcce0954cfec20c6e037db31</td>\n",
       "      <td>FATICK</td>\n",
       "      <td>K &gt; 24 month</td>\n",
       "      <td>NaN</td>\n",
       "      <td>NaN</td>\n",
       "      <td>498.0</td>\n",
       "      <td>166.0</td>\n",
       "      <td>3.0</td>\n",
       "      <td>1.0</td>\n",
       "      <td>1.0</td>\n",
       "      <td>3.0</td>\n",
       "      <td>NaN</td>\n",
       "      <td>NaN</td>\n",
       "      <td>NaN</td>\n",
       "      <td>NO</td>\n",
       "      <td>50</td>\n",
       "      <td>NaN</td>\n",
       "      <td>NaN</td>\n",
       "      <td>0.0</td>\n",
       "      <td>4.0</td>\n",
       "      <td>NaN</td>\n",
       "      <td>0.060000</td>\n",
       "      <td>NaN</td>\n",
       "    </tr>\n",
       "  </tbody>\n",
       "</table>\n",
       "</div>"
      ],
      "text/plain": [
       "                                    user_id       REGION        TENURE  \\\n",
       "0  dcf68cc2fb515ccad7d8b9b3bd80ee2a4b270063  SAINT-LOUIS  K > 24 month   \n",
       "1  71c44b5ba328db5c4192a80f7cf8f244d9350ed0          NaN  K > 24 month   \n",
       "2  ce46411b1526c94f20a383b8cb188f8d27f82a0a  TAMBACOUNDA  K > 24 month   \n",
       "3  f467cdb6669818373c26c2bad44e01ba66f97d21       FATICK  K > 24 month   \n",
       "4  ec45e1a1888a32b5dcce0954cfec20c6e037db31       FATICK  K > 24 month   \n",
       "\n",
       "   MONTANT  FREQUENCE_RECH  REVENUE  ARPU_SEGMENT  FREQUENCE  DATA_VOLUME  \\\n",
       "0  17000.0            32.0  18000.0        6000.0       34.0          NaN   \n",
       "1   4300.0            29.0   4427.0        1476.0       37.0       1764.0   \n",
       "2   1500.0             3.0   1500.0         500.0        3.0          NaN   \n",
       "3   1500.0             3.0   2497.0         832.0        4.0          0.0   \n",
       "4      NaN             NaN    498.0         166.0        3.0          1.0   \n",
       "\n",
       "   ON_NET  ORANGE  TIGO  ZONE1  ZONE2 MRG  REGULARITY  \\\n",
       "0    97.0   355.0   6.0    NaN    NaN  NO          62   \n",
       "1     8.0     3.0   0.0    NaN    2.0  NO          40   \n",
       "2    30.0    30.0   NaN    NaN    NaN  NO          32   \n",
       "3   159.0    45.0  19.0    NaN    NaN  NO          18   \n",
       "4     1.0     3.0   NaN    NaN    NaN  NO          50   \n",
       "\n",
       "                         TOP_PACK  FREQ_TOP_PACK  CHURN  Total_Calls  \\\n",
       "0           All-net 500F=2000F;5d           35.0    0.0        458.0   \n",
       "1            Data: 100 F=40MB,24H           22.0    0.0         13.0   \n",
       "2           All-net 500F=2000F;5d            3.0    0.0         60.0   \n",
       "3  On net 200F=Unlimited _call24H            3.0    0.0        223.0   \n",
       "4                             NaN            NaN    0.0          4.0   \n",
       "\n",
       "   Income_Rech_Freq  Income_Active_freq  Refill_Active_freq  \n",
       "0          1.062500            0.548387            0.516129  \n",
       "1          1.275862            0.925000            0.725000  \n",
       "2          1.000000            0.093750            0.093750  \n",
       "3          1.333333            0.222222            0.166667  \n",
       "4               NaN            0.060000                 NaN  "
      ]
     },
     "execution_count": 15,
     "metadata": {},
     "output_type": "execute_result"
    }
   ],
   "source": [
    "df.head()"
   ]
  },
  {
   "cell_type": "code",
   "execution_count": 16,
   "metadata": {},
   "outputs": [],
   "source": [
    "train = df[df.CHURN.notna()]\n",
    "test = df[df.CHURN.isna()].drop('CHURN', 1)"
   ]
  },
  {
   "cell_type": "code",
   "execution_count": 17,
   "metadata": {},
   "outputs": [
    {
     "data": {
      "text/plain": [
       "((400000, 23), (100000, 22))"
      ]
     },
     "execution_count": 17,
     "metadata": {},
     "output_type": "execute_result"
    }
   ],
   "source": [
    "train.shape, test.shape"
   ]
  },
  {
   "cell_type": "markdown",
   "metadata": {},
   "source": [
    "#### Modelling"
   ]
  },
  {
   "cell_type": "code",
   "execution_count": 18,
   "metadata": {},
   "outputs": [],
   "source": [
    "#reproducibility\n",
    "seed = 1994\n",
    "random.seed(seed)\n",
    "np.random.seed(seed)"
   ]
  },
  {
   "cell_type": "code",
   "execution_count": 19,
   "metadata": {},
   "outputs": [],
   "source": [
    "def crossVal(model):\n",
    "    avg = 0\n",
    "    for fold, (tr, te) in enumerate(skfolds.split(xtrainval, ytrainval), 1):\n",
    "        train_x, test_x = xtrainval.iloc[tr], xtrainval.iloc[te]\n",
    "        train_y, test_y = ytrainval.iloc[tr], ytrainval.iloc[te]\n",
    "        \n",
    "        model.fit(train_x, train_y, eval_set=[(train_x, train_y), (test_x, test_y)], \n",
    "                  early_stopping_rounds=200, verbose=False)\n",
    "        preds = model.predict_proba(test_x)[:,1]\n",
    "        logloss = log_loss(test_y, preds)\n",
    "        print(f'Fold {fold}: Logloss: {logloss}')\n",
    "        avg += logloss\n",
    "    free = gc.collect()\n",
    "    print(f'Avg Logloss: {avg/fold}')"
   ]
  },
  {
   "cell_type": "code",
   "execution_count": 20,
   "metadata": {},
   "outputs": [],
   "source": [
    "def crossValPred(model):\n",
    "    avg = 0\n",
    "    test_scores = []\n",
    "    for fold, (tr, te) in enumerate(skfolds.split(X, y), 1):\n",
    "        train_x, test_x = X.iloc[tr], X.iloc[te]\n",
    "        train_y, test_y = y.iloc[tr], y.iloc[te]\n",
    "        \n",
    "        model.fit(train_x, train_y, eval_set=[(train_x, train_y), (test_x, test_y)], \n",
    "                  early_stopping_rounds=200, verbose=False)\n",
    "        \n",
    "        preds = model.predict_proba(test_x)[:, 1]\n",
    "        logloss = log_loss(test_y, preds)\n",
    "        print(f'Fold {fold}: Logloss: {logloss}')\n",
    "        avg += logloss\n",
    "        \n",
    "        \n",
    "        test_pred = model.predict_proba(test_c)[:,1]\n",
    "        test_scores.append(test_pred)\n",
    "    print(f'Avg Logloss: {avg/fold}')\n",
    "    free = gc.collect()\n",
    "    return np.mean(test_scores, 0)"
   ]
  },
  {
   "cell_type": "code",
   "execution_count": 21,
   "metadata": {},
   "outputs": [],
   "source": [
    "def plot_graph(model, xtr, ytr, ax=None):\n",
    "    fig, ax = plt.subplots(1,2,figsize=(10,4))\n",
    "    plot_confusion_matrix(model, xtr, ytr, ax=ax[0])\n",
    "    ax[0].grid(False)\n",
    "    plot_roc_curve(model, xtr, ytr, ax=ax[1])"
   ]
  },
  {
   "cell_type": "code",
   "execution_count": 22,
   "metadata": {},
   "outputs": [],
   "source": [
    "cat_cols = train.select_dtypes('object').columns.drop(['user_id', 'MRG'], 1)"
   ]
  },
  {
   "cell_type": "code",
   "execution_count": 23,
   "metadata": {},
   "outputs": [],
   "source": [
    "train.fillna(-999, inplace=True)\n",
    "test.fillna(-999, inplace=True)"
   ]
  },
  {
   "cell_type": "code",
   "execution_count": 24,
   "metadata": {},
   "outputs": [],
   "source": [
    "skfolds= StratifiedKFold(n_splits=5, random_state=seed, shuffle=True)"
   ]
  },
  {
   "cell_type": "markdown",
   "metadata": {},
   "source": [
    "I dropped one of ARPU_SEGMENT and REVENUE because ARPU_SEGMENT is just one-third of REVENUE"
   ]
  },
  {
   "cell_type": "code",
   "execution_count": 78,
   "metadata": {},
   "outputs": [],
   "source": [
    "X = train.drop(['user_id', 'CHURN', 'MRG', 'ARPU_SEGMENT'], 1)\n",
    "y = train.CHURN\n",
    "test_c = test.drop(['user_id', 'MRG', 'ARPU_SEGMENT'], 1)"
   ]
  },
  {
   "cell_type": "code",
   "execution_count": 79,
   "metadata": {},
   "outputs": [],
   "source": [
    "xtrainval, xtest, ytrainval, ytest = train_test_split(X, y, test_size=0.18, stratify=y, random_state=seed)\n",
    "xtrain, xval, ytrain, yval = train_test_split(xtrainval, ytrainval, test_size=0.25, stratify=ytrainval, random_state=seed)"
   ]
  },
  {
   "cell_type": "code",
   "execution_count": 28,
   "metadata": {},
   "outputs": [
    {
     "data": {
      "text/plain": [
       "((246000, 17), (82000, 17), (72000, 17))"
      ]
     },
     "execution_count": 28,
     "metadata": {},
     "output_type": "execute_result"
    }
   ],
   "source": [
    "xtrain.shape, xval.shape, xtest.shape"
   ]
  },
  {
   "cell_type": "markdown",
   "metadata": {},
   "source": [
    "#### CatBoost"
   ]
  },
  {
   "cell_type": "code",
   "execution_count": 60,
   "metadata": {},
   "outputs": [],
   "source": [
    "catm = cat.CatBoostClassifier(random_seed=seed, cat_features=cat_cols, bootstrap_type='Bernoulli', \n",
    "                              iterations=1000, silent=True, eval_metric='Logloss')"
   ]
  },
  {
   "cell_type": "code",
   "execution_count": 61,
   "metadata": {},
   "outputs": [
    {
     "name": "stdout",
     "output_type": "stream",
     "text": [
      "Learning rate set to 0.123444\n",
      "0:\tlearn: 0.5286133\ttest: 0.5279042\tbest: 0.5279042 (0)\ttotal: 501ms\tremaining: 8m 20s\n",
      "200:\tlearn: 0.2497789\ttest: 0.2498093\tbest: 0.2497959 (186)\ttotal: 1m 15s\tremaining: 4m 59s\n",
      "400:\tlearn: 0.2464206\ttest: 0.2496201\tbest: 0.2495561 (343)\ttotal: 2m 29s\tremaining: 3m 43s\n",
      "600:\tlearn: 0.2436605\ttest: 0.2498151\tbest: 0.2495561 (343)\ttotal: 3m 44s\tremaining: 2m 29s\n",
      "Stopped by overfitting detector  (350 iterations wait)\n",
      "\n",
      "bestTest = 0.2495560793\n",
      "bestIteration = 343\n",
      "\n",
      "Shrink model to first 344 iterations.\n",
      "Wall time: 4min 23s\n"
     ]
    },
    {
     "data": {
      "text/plain": [
       "<catboost.core.CatBoostClassifier at 0x2673528b8c8>"
      ]
     },
     "execution_count": 61,
     "metadata": {},
     "output_type": "execute_result"
    }
   ],
   "source": [
    "%%time\n",
    "catm.fit(xtrain, ytrain, eval_set=[(xval,yval)], early_stopping_rounds=350, verbose=200);"
   ]
  },
  {
   "cell_type": "code",
   "execution_count": 62,
   "metadata": {},
   "outputs": [
    {
     "data": {
      "image/png": "[encoded data removed]",
      "text/plain": [
       "<Figure size 720x288 with 3 Axes>"
      ]
     },
     "metadata": {},
     "output_type": "display_data"
    }
   ],
   "source": [
    "plot_graph(catm, xval, yval)"
   ]
  },
  {
   "cell_type": "markdown",
   "metadata": {},
   "source": [
    "#### CV"
   ]
  },
  {
   "cell_type": "code",
   "execution_count": 82,
   "metadata": {
    "scrolled": false
   },
   "outputs": [
    {
     "name": "stdout",
     "output_type": "stream",
     "text": [
      "Fold 1: Logloss: 0.25307148516806727\n",
      "Fold 2: Logloss: 0.251988481128665\n",
      "Fold 3: Logloss: 0.2533965629861095\n",
      "Fold 4: Logloss: 0.2521398830248521\n",
      "Fold 5: Logloss: 0.2527115383380484\n",
      "Avg Logloss: 0.25266159012914846\n"
     ]
    }
   ],
   "source": [
    "crossVal(catm)"
   ]
  },
  {
   "cell_type": "code",
   "execution_count": 83,
   "metadata": {},
   "outputs": [
    {
     "data": {
      "text/plain": [
       "20"
      ]
     },
     "execution_count": 83,
     "metadata": {},
     "output_type": "execute_result"
    }
   ],
   "source": [
    "gc.collect()"
   ]
  },
  {
   "cell_type": "code",
   "execution_count": 84,
   "metadata": {},
   "outputs": [
    {
     "name": "stdout",
     "output_type": "stream",
     "text": [
      "Fold 1: Logloss: 0.25125230759570166\n",
      "Fold 2: Logloss: 0.2524235163015819\n",
      "Fold 3: Logloss: 0.2520917499575824\n",
      "Fold 4: Logloss: 0.2530892336314724\n",
      "Fold 5: Logloss: 0.2522065534517045\n",
      "Avg Logloss: 0.2522126721876086\n"
     ]
    }
   ],
   "source": [
    "cat_pred = crossValPred(catm)"
   ]
  },
  {
   "cell_type": "code",
   "execution_count": 85,
   "metadata": {},
   "outputs": [
    {
     "data": {
      "image/png": "[encoded data removed]",
      "text/plain": [
       "<Figure size 576x360 with 1 Axes>"
      ]
     },
     "metadata": {},
     "output_type": "display_data"
    }
   ],
   "source": [
    "pd.Series(catm.feature_importances_, index=catm.feature_names_).sort_values().plot.barh(figsize=(8,5));"
   ]
  },
  {
   "cell_type": "markdown",
   "metadata": {},
   "source": [
    "#### LGB"
   ]
  },
  {
   "cell_type": "code",
   "execution_count": 86,
   "metadata": {},
   "outputs": [],
   "source": [
    "X[cat_cols] = X[cat_cols].astype('category')\n",
    "test_c[cat_cols] = test_c[cat_cols].astype('category')"
   ]
  },
  {
   "cell_type": "code",
   "execution_count": 87,
   "metadata": {},
   "outputs": [],
   "source": [
    "xtrainval, xtest, ytrainval, ytest = train_test_split(X, y, test_size=0.18, stratify=y, random_state=seed)\n",
    "xtrain, xval, ytrain, yval = train_test_split(xtrainval, ytrainval, test_size=0.25, stratify=ytrainval, random_state=seed)"
   ]
  },
  {
   "cell_type": "code",
   "execution_count": 88,
   "metadata": {},
   "outputs": [],
   "source": [
    "lgbm = lgb.LGBMClassifier(random_state=seed, n_estimators=1000, metric='binary_logloss', learning_rate=0.04, subsample=0.7,\n",
    "                         colsample_bytree=0.8, num_leaves=64, reg_alpha=4, min_child_samples=5,subsample_freq=2)"
   ]
  },
  {
   "cell_type": "code",
   "execution_count": 73,
   "metadata": {},
   "outputs": [
    {
     "name": "stdout",
     "output_type": "stream",
     "text": [
      "Training until validation scores don't improve for 200 rounds\n",
      "[200]\ttraining's binary_logloss: 0.245082\tvalid_1's binary_logloss: 0.249841\n",
      "[400]\ttraining's binary_logloss: 0.238758\tvalid_1's binary_logloss: 0.25012\n",
      "Early stopping, best iteration is:\n",
      "[261]\ttraining's binary_logloss: 0.242893\tvalid_1's binary_logloss: 0.249795\n"
     ]
    }
   ],
   "source": [
    "lgbm.fit(xtrain, ytrain, eval_set=[(xtrain, ytrain), (xval,yval)], verbose=200, early_stopping_rounds=200);"
   ]
  },
  {
   "cell_type": "code",
   "execution_count": 74,
   "metadata": {},
   "outputs": [
    {
     "data": {
      "image/png": "[encoded data removed]",
      "text/plain": [
       "<Figure size 720x288 with 3 Axes>"
      ]
     },
     "metadata": {},
     "output_type": "display_data"
    }
   ],
   "source": [
    "plot_graph(lgbm, xval, yval)"
   ]
  },
  {
   "cell_type": "markdown",
   "metadata": {},
   "source": [
    "#### CV"
   ]
  },
  {
   "cell_type": "code",
   "execution_count": 89,
   "metadata": {
    "scrolled": false
   },
   "outputs": [
    {
     "name": "stdout",
     "output_type": "stream",
     "text": [
      "Fold 1: Logloss: 0.25307871704066154\n",
      "Fold 2: Logloss: 0.2518664324403173\n",
      "Fold 3: Logloss: 0.2535552092999488\n",
      "Fold 4: Logloss: 0.25190849165036583\n",
      "Fold 5: Logloss: 0.2528454713187494\n",
      "Avg Logloss: 0.2526508643500086\n"
     ]
    }
   ],
   "source": [
    "crossVal(lgbm)"
   ]
  },
  {
   "cell_type": "code",
   "execution_count": 90,
   "metadata": {},
   "outputs": [
    {
     "data": {
      "text/plain": [
       "20"
      ]
     },
     "execution_count": 90,
     "metadata": {},
     "output_type": "execute_result"
    }
   ],
   "source": [
    "gc.collect()"
   ]
  },
  {
   "cell_type": "code",
   "execution_count": 91,
   "metadata": {},
   "outputs": [
    {
     "name": "stdout",
     "output_type": "stream",
     "text": [
      "Fold 1: Logloss: 0.2511611055314104\n",
      "Fold 2: Logloss: 0.2525740541546433\n",
      "Fold 3: Logloss: 0.2521570099379862\n",
      "Fold 4: Logloss: 0.25295391231782244\n",
      "Fold 5: Logloss: 0.2525333587873361\n",
      "Avg Logloss: 0.2522758881458397\n"
     ]
    }
   ],
   "source": [
    "lgb_pred = crossValPred(lgbm)"
   ]
  },
  {
   "cell_type": "code",
   "execution_count": 76,
   "metadata": {},
   "outputs": [
    {
     "data": {
      "image/png": "[encoded data removed]",
      "text/plain": [
       "<Figure size 576x288 with 1 Axes>"
      ]
     },
     "metadata": {},
     "output_type": "display_data"
    }
   ],
   "source": [
    "lgb.plot_importance(lgbm, figsize=(8,4), importance_type='split');"
   ]
  },
  {
   "cell_type": "markdown",
   "metadata": {},
   "source": [
    "#### Submissions"
   ]
  },
  {
   "cell_type": "code",
   "execution_count": 92,
   "metadata": {},
   "outputs": [],
   "source": [
    "blend = ((0.4 * lgb_pred + 0.6 * cat_pred) + (0.6 * lgb_pred + 0.4 * cat_pred))/2"
   ]
  },
  {
   "cell_type": "code",
   "execution_count": 93,
   "metadata": {},
   "outputs": [],
   "source": [
    "lgb_df =  pd.DataFrame({'user_id' : test_id, 'CHURN' : lgb_pred})\n",
    "cat_df =  pd.DataFrame({'user_id' : test_id, 'CHURN' : cat_pred})\n",
    "blend_df =  pd.DataFrame({'user_id' : test_id, 'CHURN' : blend})"
   ]
  },
  {
   "cell_type": "code",
   "execution_count": 94,
   "metadata": {},
   "outputs": [
    {
     "data": {
      "text/html": [
       "<div>\n",
       "<style scoped>\n",
       "    .dataframe tbody tr th:only-of-type {\n",
       "        vertical-align: middle;\n",
       "    }\n",
       "\n",
       "    .dataframe tbody tr th {\n",
       "        vertical-align: top;\n",
       "    }\n",
       "\n",
       "    .dataframe thead th {\n",
       "        text-align: right;\n",
       "    }\n",
       "</style>\n",
       "<table border=\"1\" class=\"dataframe\">\n",
       "  <thead>\n",
       "    <tr style=\"text-align: right;\">\n",
       "      <th></th>\n",
       "      <th>LGB</th>\n",
       "      <th>CAT</th>\n",
       "      <th>BLEND</th>\n",
       "    </tr>\n",
       "  </thead>\n",
       "  <tbody>\n",
       "    <tr>\n",
       "      <th>0</th>\n",
       "      <td>0.781410</td>\n",
       "      <td>0.783321</td>\n",
       "      <td>0.782365</td>\n",
       "    </tr>\n",
       "    <tr>\n",
       "      <th>1</th>\n",
       "      <td>0.658634</td>\n",
       "      <td>0.657301</td>\n",
       "      <td>0.657967</td>\n",
       "    </tr>\n",
       "    <tr>\n",
       "      <th>2</th>\n",
       "      <td>0.109815</td>\n",
       "      <td>0.133594</td>\n",
       "      <td>0.121704</td>\n",
       "    </tr>\n",
       "    <tr>\n",
       "      <th>3</th>\n",
       "      <td>0.001442</td>\n",
       "      <td>0.000915</td>\n",
       "      <td>0.001178</td>\n",
       "    </tr>\n",
       "    <tr>\n",
       "      <th>4</th>\n",
       "      <td>0.000614</td>\n",
       "      <td>0.000220</td>\n",
       "      <td>0.000417</td>\n",
       "    </tr>\n",
       "    <tr>\n",
       "      <th>...</th>\n",
       "      <td>...</td>\n",
       "      <td>...</td>\n",
       "      <td>...</td>\n",
       "    </tr>\n",
       "    <tr>\n",
       "      <th>99995</th>\n",
       "      <td>0.001730</td>\n",
       "      <td>0.000907</td>\n",
       "      <td>0.001319</td>\n",
       "    </tr>\n",
       "    <tr>\n",
       "      <th>99996</th>\n",
       "      <td>0.006878</td>\n",
       "      <td>0.006759</td>\n",
       "      <td>0.006818</td>\n",
       "    </tr>\n",
       "    <tr>\n",
       "      <th>99997</th>\n",
       "      <td>0.039092</td>\n",
       "      <td>0.038501</td>\n",
       "      <td>0.038797</td>\n",
       "    </tr>\n",
       "    <tr>\n",
       "      <th>99998</th>\n",
       "      <td>0.007470</td>\n",
       "      <td>0.007723</td>\n",
       "      <td>0.007596</td>\n",
       "    </tr>\n",
       "    <tr>\n",
       "      <th>99999</th>\n",
       "      <td>0.050883</td>\n",
       "      <td>0.051575</td>\n",
       "      <td>0.051229</td>\n",
       "    </tr>\n",
       "  </tbody>\n",
       "</table>\n",
       "<p>100000 rows × 3 columns</p>\n",
       "</div>"
      ],
      "text/plain": [
       "            LGB       CAT     BLEND\n",
       "0      0.781410  0.783321  0.782365\n",
       "1      0.658634  0.657301  0.657967\n",
       "2      0.109815  0.133594  0.121704\n",
       "3      0.001442  0.000915  0.001178\n",
       "4      0.000614  0.000220  0.000417\n",
       "...         ...       ...       ...\n",
       "99995  0.001730  0.000907  0.001319\n",
       "99996  0.006878  0.006759  0.006818\n",
       "99997  0.039092  0.038501  0.038797\n",
       "99998  0.007470  0.007723  0.007596\n",
       "99999  0.050883  0.051575  0.051229\n",
       "\n",
       "[100000 rows x 3 columns]"
      ]
     },
     "execution_count": 94,
     "metadata": {},
     "output_type": "execute_result"
    }
   ],
   "source": [
    "pd.DataFrame(np.c_[lgb_pred, cat_pred, blend], columns=['LGB', 'CAT', 'BLEND'])"
   ]
  },
  {
   "cell_type": "code",
   "execution_count": 95,
   "metadata": {},
   "outputs": [
    {
     "data": {
      "image/png": "[encoded data removed]",
      "text/plain": [
       "<Figure size 432x288 with 2 Axes>"
      ]
     },
     "metadata": {},
     "output_type": "display_data"
    }
   ],
   "source": [
    "sns.heatmap(pd.DataFrame(np.c_[lgb_pred, cat_pred, blend], columns=['LGB', 'CAT', 'BLEND']).corr(), annot=True, fmt='.3f');"
   ]
  },
  {
   "cell_type": "raw",
   "metadata": {},
   "source": [
    "os.mkdir(path+'/predictions')"
   ]
  },
  {
   "cell_type": "code",
   "execution_count": 96,
   "metadata": {},
   "outputs": [],
   "source": [
    "lgb_df.to_csv(path+'/predictions/lgb2a.csv', index=False)\n",
    "cat_df.to_csv(path+'/predictions/cat2a.csv', index=False)\n",
    "blend_df.to_csv(path+'/predictions/blend2a.csv', index=False)"
   ]
  },
  {
   "cell_type": "code",
   "execution_count": 97,
   "metadata": {},
   "outputs": [
    {
     "data": {
      "text/plain": [
       "4070"
      ]
     },
     "execution_count": 97,
     "metadata": {},
     "output_type": "execute_result"
    }
   ],
   "source": [
    "gc.collect()"
   ]
  },
  {
   "cell_type": "markdown",
   "metadata": {},
   "source": [
    "Best Model: Blend\n",
    "Private LB - 0.246702xxx\n",
    "\n",
    "CAT (Private LB) - ~0.24697\n",
    "\n",
    "LGB (Private LB) - ~0.24682"
   ]
  }
 ],
 "metadata": {
  "kernelspec": {
   "display_name": "Python 3",
   "language": "python",
   "name": "python3"
  },
  "language_info": {
   "codemirror_mode": {
    "name": "ipython",
    "version": 3
   },
   "file_extension": ".py",
   "mimetype": "text/x-python",
   "name": "python",
   "nbconvert_exporter": "python",
   "pygments_lexer": "ipython3",
   "version": "3.7.4"
  }
 },
 "nbformat": 4,
 "nbformat_minor": 2
}
